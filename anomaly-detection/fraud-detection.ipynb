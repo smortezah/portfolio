{
 "cells": [
  {
   "cell_type": "markdown",
   "metadata": {},
   "source": [
    "Click [here]() to access the associated Medium article."
   ]
  },
  {
   "cell_type": "markdown",
   "metadata": {},
   "source": [
    "# Setup"
   ]
  },
  {
   "cell_type": "code",
   "execution_count": 30,
   "metadata": {},
   "outputs": [
    {
     "name": "stdout",
     "output_type": "stream",
     "text": [
      "\u001b[33mDEPRECATION: textract 1.6.5 has a non-standard dependency specifier extract-msg<=0.29.*. pip 23.3 will enforce this behaviour change. A possible replacement is to upgrade to a newer version of textract or contact the author to suggest that they release a version with a conforming dependency specifiers. Discussion can be found at https://github.com/pypa/pip/issues/12063\u001b[0m\u001b[33m\n",
      "\u001b[0m"
     ]
    }
   ],
   "source": [
    "!pip install -q scipy pandas matplotlib scikit-learn tensorflow keras"
   ]
  },
  {
   "cell_type": "markdown",
   "metadata": {},
   "source": [
    "# Data"
   ]
  },
  {
   "cell_type": "code",
   "execution_count": 2,
   "metadata": {},
   "outputs": [
    {
     "data": {
      "text/plain": [
       "('credit_card.arff', <http.client.HTTPMessage at 0x10674d490>)"
      ]
     },
     "execution_count": 2,
     "metadata": {},
     "output_type": "execute_result"
    }
   ],
   "source": [
    "from urllib.request import urlretrieve\n",
    "\n",
    "# Download the dataset to the current directory (149 MB)\n",
    "# Source: https://www.openml.org/search?type=data&id=43627\n",
    "url = \"https://www.openml.org/data/download/22102452\"\n",
    "file_name = \"credit_card.arff\"\n",
    "urlretrieve(url, file_name)"
   ]
  },
  {
   "cell_type": "code",
   "execution_count": 7,
   "metadata": {},
   "outputs": [
    {
     "data": {
      "text/html": [
       "<div>\n",
       "<style scoped>\n",
       "    .dataframe tbody tr th:only-of-type {\n",
       "        vertical-align: middle;\n",
       "    }\n",
       "\n",
       "    .dataframe tbody tr th {\n",
       "        vertical-align: top;\n",
       "    }\n",
       "\n",
       "    .dataframe thead th {\n",
       "        text-align: right;\n",
       "    }\n",
       "</style>\n",
       "<table border=\"1\" class=\"dataframe\">\n",
       "  <thead>\n",
       "    <tr style=\"text-align: right;\">\n",
       "      <th></th>\n",
       "      <th>Time</th>\n",
       "      <th>V1</th>\n",
       "      <th>V2</th>\n",
       "      <th>V3</th>\n",
       "      <th>V4</th>\n",
       "      <th>V5</th>\n",
       "      <th>V6</th>\n",
       "      <th>V7</th>\n",
       "      <th>V8</th>\n",
       "      <th>V9</th>\n",
       "      <th>...</th>\n",
       "      <th>V21</th>\n",
       "      <th>V22</th>\n",
       "      <th>V23</th>\n",
       "      <th>V24</th>\n",
       "      <th>V25</th>\n",
       "      <th>V26</th>\n",
       "      <th>V27</th>\n",
       "      <th>V28</th>\n",
       "      <th>Amount</th>\n",
       "      <th>Class</th>\n",
       "    </tr>\n",
       "  </thead>\n",
       "  <tbody>\n",
       "    <tr>\n",
       "      <th>0</th>\n",
       "      <td>0.0</td>\n",
       "      <td>-1.359807</td>\n",
       "      <td>-0.072781</td>\n",
       "      <td>2.536347</td>\n",
       "      <td>1.378155</td>\n",
       "      <td>-0.338321</td>\n",
       "      <td>0.462388</td>\n",
       "      <td>0.239599</td>\n",
       "      <td>0.098698</td>\n",
       "      <td>0.363787</td>\n",
       "      <td>...</td>\n",
       "      <td>-0.018307</td>\n",
       "      <td>0.277838</td>\n",
       "      <td>-0.110474</td>\n",
       "      <td>0.066928</td>\n",
       "      <td>0.128539</td>\n",
       "      <td>-0.189115</td>\n",
       "      <td>0.133558</td>\n",
       "      <td>-0.021053</td>\n",
       "      <td>149.62</td>\n",
       "      <td>0.0</td>\n",
       "    </tr>\n",
       "    <tr>\n",
       "      <th>1</th>\n",
       "      <td>0.0</td>\n",
       "      <td>1.191857</td>\n",
       "      <td>0.266151</td>\n",
       "      <td>0.166480</td>\n",
       "      <td>0.448154</td>\n",
       "      <td>0.060018</td>\n",
       "      <td>-0.082361</td>\n",
       "      <td>-0.078803</td>\n",
       "      <td>0.085102</td>\n",
       "      <td>-0.255425</td>\n",
       "      <td>...</td>\n",
       "      <td>-0.225775</td>\n",
       "      <td>-0.638672</td>\n",
       "      <td>0.101288</td>\n",
       "      <td>-0.339846</td>\n",
       "      <td>0.167170</td>\n",
       "      <td>0.125895</td>\n",
       "      <td>-0.008983</td>\n",
       "      <td>0.014724</td>\n",
       "      <td>2.69</td>\n",
       "      <td>0.0</td>\n",
       "    </tr>\n",
       "    <tr>\n",
       "      <th>2</th>\n",
       "      <td>1.0</td>\n",
       "      <td>-1.358354</td>\n",
       "      <td>-1.340163</td>\n",
       "      <td>1.773209</td>\n",
       "      <td>0.379780</td>\n",
       "      <td>-0.503198</td>\n",
       "      <td>1.800499</td>\n",
       "      <td>0.791461</td>\n",
       "      <td>0.247676</td>\n",
       "      <td>-1.514654</td>\n",
       "      <td>...</td>\n",
       "      <td>0.247998</td>\n",
       "      <td>0.771679</td>\n",
       "      <td>0.909412</td>\n",
       "      <td>-0.689281</td>\n",
       "      <td>-0.327642</td>\n",
       "      <td>-0.139097</td>\n",
       "      <td>-0.055353</td>\n",
       "      <td>-0.059752</td>\n",
       "      <td>378.66</td>\n",
       "      <td>0.0</td>\n",
       "    </tr>\n",
       "  </tbody>\n",
       "</table>\n",
       "<p>3 rows × 31 columns</p>\n",
       "</div>"
      ],
      "text/plain": [
       "   Time        V1        V2        V3        V4        V5        V6        V7  \\\n",
       "0   0.0 -1.359807 -0.072781  2.536347  1.378155 -0.338321  0.462388  0.239599   \n",
       "1   0.0  1.191857  0.266151  0.166480  0.448154  0.060018 -0.082361 -0.078803   \n",
       "2   1.0 -1.358354 -1.340163  1.773209  0.379780 -0.503198  1.800499  0.791461   \n",
       "\n",
       "         V8        V9  ...       V21       V22       V23       V24       V25  \\\n",
       "0  0.098698  0.363787  ... -0.018307  0.277838 -0.110474  0.066928  0.128539   \n",
       "1  0.085102 -0.255425  ... -0.225775 -0.638672  0.101288 -0.339846  0.167170   \n",
       "2  0.247676 -1.514654  ...  0.247998  0.771679  0.909412 -0.689281 -0.327642   \n",
       "\n",
       "        V26       V27       V28  Amount  Class  \n",
       "0 -0.189115  0.133558 -0.021053  149.62    0.0  \n",
       "1  0.125895 -0.008983  0.014724    2.69    0.0  \n",
       "2 -0.139097 -0.055353 -0.059752  378.66    0.0  \n",
       "\n",
       "[3 rows x 31 columns]"
      ]
     },
     "execution_count": 7,
     "metadata": {},
     "output_type": "execute_result"
    }
   ],
   "source": [
    "from scipy.io import arff\n",
    "import pandas as pd\n",
    "\n",
    "# Convert the dataset in arff format into a pandas dataframe\n",
    "data_arff = arff.loadarff(\"credit_card.arff\")\n",
    "data = pd.DataFrame(data_arff[0])\n",
    "\n",
    "data.head(3)"
   ]
  },
  {
   "cell_type": "code",
   "execution_count": 4,
   "metadata": {},
   "outputs": [
    {
     "name": "stdout",
     "output_type": "stream",
     "text": [
      "Number of rows: 284807\n",
      "Number of columns: 31\n",
      "\n",
      "Column names:\n",
      "['Time', 'V1', 'V2', 'V3', 'V4', 'V5', 'V6', 'V7', 'V8',\n",
      " 'V9', 'V10', 'V11', 'V12', 'V13', 'V14', 'V15', 'V16',\n",
      " 'V17', 'V18', 'V19', 'V20', 'V21', 'V22', 'V23', 'V24',\n",
      " 'V25', 'V26', 'V27', 'V28', 'Amount', 'Class']\n",
      "\n",
      "Target distribution:\n",
      "Class\n",
      "0.0    284315\n",
      "1.0       492\n",
      "Name: count, dtype: int64\n",
      "\n",
      "Summary statistics:\n",
      "             Time          V1          V2          V3          V4          V5  \\\n",
      "count   284807.00   284807.00   284807.00   284807.00   284807.00   284807.00   \n",
      "mean     94813.86        0.00        0.00       -0.00        0.00        0.00   \n",
      "std      47488.15        1.96        1.65        1.52        1.42        1.38   \n",
      "min          0.00      -56.41      -72.72      -48.33       -5.68     -113.74   \n",
      "25%      54201.50       -0.92       -0.60       -0.89       -0.85       -0.69   \n",
      "50%      84692.00        0.02        0.07        0.18       -0.02       -0.05   \n",
      "75%     139320.50        1.32        0.80        1.03        0.74        0.61   \n",
      "max     172792.00        2.45       22.06        9.38       16.88       34.80   \n",
      "\n",
      "               V6          V7          V8          V9  ...         V21  \\\n",
      "count   284807.00   284807.00   284807.00   284807.00  ...   284807.00   \n",
      "mean         0.00       -0.00        0.00       -0.00  ...        0.00   \n",
      "std          1.33        1.24        1.19        1.10  ...        0.73   \n",
      "min        -26.16      -43.56      -73.22      -13.43  ...      -34.83   \n",
      "25%         -0.77       -0.55       -0.21       -0.64  ...       -0.23   \n",
      "50%         -0.27        0.04        0.02       -0.05  ...       -0.03   \n",
      "75%          0.40        0.57        0.33        0.60  ...        0.19   \n",
      "max         73.30      120.59       20.01       15.59  ...       27.20   \n",
      "\n",
      "              V22         V23         V24         V25         V26         V27  \\\n",
      "count   284807.00   284807.00   284807.00   284807.00   284807.00   284807.00   \n",
      "mean        -0.00        0.00        0.00        0.00        0.00       -0.00   \n",
      "std          0.73        0.62        0.61        0.52        0.48        0.40   \n",
      "min        -10.93      -44.81       -2.84      -10.30       -2.60      -22.57   \n",
      "25%         -0.54       -0.16       -0.35       -0.32       -0.33       -0.07   \n",
      "50%          0.01       -0.01        0.04        0.02       -0.05        0.00   \n",
      "75%          0.53        0.15        0.44        0.35        0.24        0.09   \n",
      "max         10.50       22.53        4.58        7.52        3.52       31.61   \n",
      "\n",
      "              V28      Amount       Class  \n",
      "count   284807.00   284807.00   284807.00  \n",
      "mean        -0.00       88.35        0.00  \n",
      "std          0.33      250.12        0.04  \n",
      "min        -15.43        0.00        0.00  \n",
      "25%         -0.05        5.60        0.00  \n",
      "50%          0.01       22.00        0.00  \n",
      "75%          0.08       77.16        0.00  \n",
      "max         33.85    25691.16        1.00  \n",
      "\n",
      "[8 rows x 31 columns]\n"
     ]
    }
   ],
   "source": [
    "from pprint import pprint\n",
    "\n",
    "# Display basic information about the dataset\n",
    "print(\"Number of rows:\", data.shape[0])\n",
    "print(\"Number of columns:\", data.shape[1])\n",
    "\n",
    "print(\"\\nColumn names:\")\n",
    "pprint(data.columns.values.tolist(), compact=True, width=60)\n",
    "\n",
    "print(\"\\nTarget distribution:\")\n",
    "print(data[\"Class\"].value_counts())\n",
    "\n",
    "print(\"\\nSummary statistics:\")\n",
    "print(data.describe().applymap(lambda x: f\"{x: 0.2f}\"))"
   ]
  },
  {
   "cell_type": "code",
   "execution_count": 5,
   "metadata": {},
   "outputs": [
    {
     "data": {
      "image/png": "[encoded data removed]",
      "text/plain": [
       "<Figure size 600x200 with 1 Axes>"
      ]
     },
     "metadata": {},
     "output_type": "display_data"
    }
   ],
   "source": [
    "import matplotlib.pyplot as plt\n",
    "\n",
    "# Plot the distribution of the target variable\n",
    "class_counts = data[\"Class\"].value_counts()\n",
    "\n",
    "ax = class_counts.plot(\n",
    "    kind=\"barh\",\n",
    "    figsize=(6, 2),\n",
    "    title=\"Class Distribution\",\n",
    "    xlabel=\"Count\",\n",
    "    ylabel=\"\",\n",
    ")\n",
    "ax.set_yticklabels([\"Legitimate\", \"Fraudulent\"])\n",
    "ax.spines[[\"right\", \"top\"]].set_visible(False)\n",
    "\n",
    "# Print the count of each class\n",
    "for index, value in enumerate(class_counts):\n",
    "    plt.text(\n",
    "        value + int(class_counts[0] / 50),\n",
    "        index,\n",
    "        str(value),\n",
    "        color=\"blue\",\n",
    "    )"
   ]
  },
  {
   "cell_type": "markdown",
   "metadata": {},
   "source": [
    "# Preprocessing"
   ]
  },
  {
   "cell_type": "markdown",
   "metadata": {},
   "source": [
    "## Handling Missing Values"
   ]
  },
  {
   "cell_type": "code",
   "execution_count": 6,
   "metadata": {},
   "outputs": [
    {
     "name": "stdout",
     "output_type": "stream",
     "text": [
      "Columns with missing values:\n",
      "Series([], dtype: int64)\n"
     ]
    }
   ],
   "source": [
    "# Check for missing values in the dataset\n",
    "missing_values = data.isnull().sum()\n",
    "\n",
    "# Display columns with missing values\n",
    "print(f\"Columns with missing values:\\n{missing_values[missing_values > 0]}\")"
   ]
  },
  {
   "cell_type": "markdown",
   "metadata": {},
   "source": [
    "## Train-Test Splitting"
   ]
  },
  {
   "cell_type": "code",
   "execution_count": 8,
   "metadata": {},
   "outputs": [],
   "source": [
    "from sklearn.model_selection import train_test_split\n",
    "\n",
    "# Separate features and target variable\n",
    "X = data.drop(\"Class\", axis=1)\n",
    "y = data[\"Class\"]\n",
    "\n",
    "# Split the data into training and testing sets\n",
    "X_train, X_test, y_train, y_test = train_test_split(\n",
    "    X, y, test_size=0.2, random_state=42\n",
    ")"
   ]
  },
  {
   "cell_type": "markdown",
   "metadata": {},
   "source": [
    "## Class Weights"
   ]
  },
  {
   "cell_type": "code",
   "execution_count": 23,
   "metadata": {},
   "outputs": [
    {
     "name": "stdout",
     "output_type": "stream",
     "text": [
      "Class weights: {0.0: 0.5008661206149896, 1.0: 289.14340101522845}\n"
     ]
    }
   ],
   "source": [
    "from sklearn.utils.class_weight import compute_class_weight\n",
    "import numpy as np\n",
    "\n",
    "# Get the unique classes\n",
    "unique_classes = np.unique(y_train)\n",
    "\n",
    "# Calculate class weights\n",
    "class_weights_array = compute_class_weight(\n",
    "    class_weight=\"balanced\", classes=unique_classes, y=y_train\n",
    ")\n",
    "\n",
    "# Convert class weights to a dictionary for model training\n",
    "class_weights = dict(zip(unique_classes, class_weights_array))\n",
    "print(f\"Class weights: {class_weights}\")"
   ]
  },
  {
   "cell_type": "markdown",
   "metadata": {},
   "source": [
    "## Standard Scaling"
   ]
  },
  {
   "cell_type": "code",
   "execution_count": 26,
   "metadata": {},
   "outputs": [],
   "source": [
    "from sklearn.preprocessing import StandardScaler\n",
    "\n",
    "# Initialize the scaler\n",
    "scaler = StandardScaler()\n",
    "\n",
    "# Fit and transform the scaler on training data\n",
    "X_train_scaled = scaler.fit_transform(X_train)\n",
    "\n",
    "# Transform the test data using the same scaler\n",
    "X_test_scaled = scaler.transform(X_test)"
   ]
  },
  {
   "cell_type": "markdown",
   "metadata": {},
   "source": [
    "# Building a Binary Classification Model"
   ]
  },
  {
   "cell_type": "code",
   "execution_count": 29,
   "metadata": {},
   "outputs": [
    {
     "name": "stdout",
     "output_type": "stream",
     "text": [
      "Model: \"sequential\"\n",
      "_________________________________________________________________\n",
      " Layer (type)                Output Shape              Param #   \n",
      "=================================================================\n",
      " dense (Dense)               (None, 256)               7936      \n",
      "                                                                 \n",
      " dense_1 (Dense)             (None, 256)               65792     \n",
      "                                                                 \n",
      " dropout (Dropout)           (None, 256)               0         \n",
      "                                                                 \n",
      " dense_2 (Dense)             (None, 256)               65792     \n",
      "                                                                 \n",
      " dropout_1 (Dropout)         (None, 256)               0         \n",
      "                                                                 \n",
      " dense_3 (Dense)             (None, 1)                 257       \n",
      "                                                                 \n",
      "=================================================================\n",
      "Total params: 139777 (546.00 KB)\n",
      "Trainable params: 139777 (546.00 KB)\n",
      "Non-trainable params: 0 (0.00 Byte)\n",
      "_________________________________________________________________\n"
     ]
    }
   ],
   "source": [
    "from tensorflow.keras import Sequential\n",
    "from tensorflow.keras.layers import Dense, Dropout\n",
    "\n",
    "dropout_rate = 0.25\n",
    "\n",
    "# Define the model\n",
    "model = Sequential(\n",
    "    [\n",
    "        Dense(256, activation=\"relu\", input_shape=(X_train.shape[-1],)),\n",
    "        Dense(256, activation=\"relu\"),\n",
    "        Dropout(dropout_rate),\n",
    "        Dense(256, activation=\"relu\"),\n",
    "        Dropout(dropout_rate),\n",
    "        Dense(1, activation=\"sigmoid\"),\n",
    "    ]\n",
    ")\n",
    "\n",
    "# Summarize the model\n",
    "model.summary()"
   ]
  }
 ],
 "metadata": {
  "kernelspec": {
   "display_name": ".venv",
   "language": "python",
   "name": "python3"
  },
  "language_info": {
   "codemirror_mode": {
    "name": "ipython",
    "version": 3
   },
   "file_extension": ".py",
   "mimetype": "text/x-python",
   "name": "python",
   "nbconvert_exporter": "python",
   "pygments_lexer": "ipython3",
   "version": "3.11.2"
  },
  "orig_nbformat": 4
 },
 "nbformat": 4,
 "nbformat_minor": 2
}
