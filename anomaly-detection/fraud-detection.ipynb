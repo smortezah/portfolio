{
 "cells": [
  {
   "cell_type": "markdown",
   "metadata": {},
   "source": [
    "Click [here](https://morihosseini.medium.com/detecting-credit-card-fraud-with-keras-a-comprehensive-guide-8034f1330483) to access the associated Medium article."
   ]
  },
  {
   "cell_type": "markdown",
   "metadata": {},
   "source": [
    "# Setup"
   ]
  },
  {
   "cell_type": "code",
   "execution_count": 30,
   "metadata": {},
   "outputs": [
    {
     "name": "stdout",
     "output_type": "stream",
     "text": [
      "\u001b[33mDEPRECATION: textract 1.6.5 has a non-standard dependency specifier extract-msg<=0.29.*. pip 23.3 will enforce this behaviour change. A possible replacement is to upgrade to a newer version of textract or contact the author to suggest that they release a version with a conforming dependency specifiers. Discussion can be found at https://github.com/pypa/pip/issues/12063\u001b[0m\u001b[33m\n",
      "\u001b[0m"
     ]
    }
   ],
   "source": [
    "!pip install -q scipy pandas matplotlib scikit-learn tensorflow keras"
   ]
  },
  {
   "cell_type": "code",
   "execution_count": 1,
   "metadata": {},
   "outputs": [],
   "source": [
    "def set_seed(seed=42):\n",
    "    \"\"\"Set random seed for reproducibility.\"\"\"\n",
    "    import random\n",
    "    import numpy\n",
    "    import tensorflow\n",
    "\n",
    "    random.seed(seed)\n",
    "    numpy.random.seed(seed)\n",
    "    tensorflow.random.set_seed(seed)\n",
    "    tensorflow.keras.utils.set_random_seed(seed)"
   ]
  },
  {
   "cell_type": "code",
   "execution_count": 51,
   "metadata": {},
   "outputs": [],
   "source": [
    "SEED = 42\n",
    "\n",
    "set_seed(SEED)"
   ]
  },
  {
   "cell_type": "markdown",
   "metadata": {},
   "source": [
    "# Data"
   ]
  },
  {
   "cell_type": "code",
   "execution_count": 3,
   "metadata": {},
   "outputs": [],
   "source": [
    "from urllib.request import urlretrieve\n",
    "\n",
    "# Download the dataset to the current directory (149 MB)\n",
    "# Source: https://www.openml.org/search?type=data&id=43627\n",
    "url = \"https://www.openml.org/data/download/22102452\"\n",
    "file_name = \"credit_card.arff\"\n",
    "urlretrieve(url, file_name)"
   ]
  },
  {
   "cell_type": "code",
   "execution_count": 4,
   "metadata": {},
   "outputs": [
    {
     "data": {
      "text/html": [
       "<div>\n",
       "<style scoped>\n",
       "    .dataframe tbody tr th:only-of-type {\n",
       "        vertical-align: middle;\n",
       "    }\n",
       "\n",
       "    .dataframe tbody tr th {\n",
       "        vertical-align: top;\n",
       "    }\n",
       "\n",
       "    .dataframe thead th {\n",
       "        text-align: right;\n",
       "    }\n",
       "</style>\n",
       "<table border=\"1\" class=\"dataframe\">\n",
       "  <thead>\n",
       "    <tr style=\"text-align: right;\">\n",
       "      <th></th>\n",
       "      <th>Time</th>\n",
       "      <th>V1</th>\n",
       "      <th>V2</th>\n",
       "      <th>V3</th>\n",
       "      <th>V4</th>\n",
       "      <th>V5</th>\n",
       "      <th>V6</th>\n",
       "      <th>V7</th>\n",
       "      <th>V8</th>\n",
       "      <th>V9</th>\n",
       "      <th>...</th>\n",
       "      <th>V21</th>\n",
       "      <th>V22</th>\n",
       "      <th>V23</th>\n",
       "      <th>V24</th>\n",
       "      <th>V25</th>\n",
       "      <th>V26</th>\n",
       "      <th>V27</th>\n",
       "      <th>V28</th>\n",
       "      <th>Amount</th>\n",
       "      <th>Class</th>\n",
       "    </tr>\n",
       "  </thead>\n",
       "  <tbody>\n",
       "    <tr>\n",
       "      <th>0</th>\n",
       "      <td>0.0</td>\n",
       "      <td>-1.359807</td>\n",
       "      <td>-0.072781</td>\n",
       "      <td>2.536347</td>\n",
       "      <td>1.378155</td>\n",
       "      <td>-0.338321</td>\n",
       "      <td>0.462388</td>\n",
       "      <td>0.239599</td>\n",
       "      <td>0.098698</td>\n",
       "      <td>0.363787</td>\n",
       "      <td>...</td>\n",
       "      <td>-0.018307</td>\n",
       "      <td>0.277838</td>\n",
       "      <td>-0.110474</td>\n",
       "      <td>0.066928</td>\n",
       "      <td>0.128539</td>\n",
       "      <td>-0.189115</td>\n",
       "      <td>0.133558</td>\n",
       "      <td>-0.021053</td>\n",
       "      <td>149.62</td>\n",
       "      <td>0.0</td>\n",
       "    </tr>\n",
       "    <tr>\n",
       "      <th>1</th>\n",
       "      <td>0.0</td>\n",
       "      <td>1.191857</td>\n",
       "      <td>0.266151</td>\n",
       "      <td>0.166480</td>\n",
       "      <td>0.448154</td>\n",
       "      <td>0.060018</td>\n",
       "      <td>-0.082361</td>\n",
       "      <td>-0.078803</td>\n",
       "      <td>0.085102</td>\n",
       "      <td>-0.255425</td>\n",
       "      <td>...</td>\n",
       "      <td>-0.225775</td>\n",
       "      <td>-0.638672</td>\n",
       "      <td>0.101288</td>\n",
       "      <td>-0.339846</td>\n",
       "      <td>0.167170</td>\n",
       "      <td>0.125895</td>\n",
       "      <td>-0.008983</td>\n",
       "      <td>0.014724</td>\n",
       "      <td>2.69</td>\n",
       "      <td>0.0</td>\n",
       "    </tr>\n",
       "    <tr>\n",
       "      <th>2</th>\n",
       "      <td>1.0</td>\n",
       "      <td>-1.358354</td>\n",
       "      <td>-1.340163</td>\n",
       "      <td>1.773209</td>\n",
       "      <td>0.379780</td>\n",
       "      <td>-0.503198</td>\n",
       "      <td>1.800499</td>\n",
       "      <td>0.791461</td>\n",
       "      <td>0.247676</td>\n",
       "      <td>-1.514654</td>\n",
       "      <td>...</td>\n",
       "      <td>0.247998</td>\n",
       "      <td>0.771679</td>\n",
       "      <td>0.909412</td>\n",
       "      <td>-0.689281</td>\n",
       "      <td>-0.327642</td>\n",
       "      <td>-0.139097</td>\n",
       "      <td>-0.055353</td>\n",
       "      <td>-0.059752</td>\n",
       "      <td>378.66</td>\n",
       "      <td>0.0</td>\n",
       "    </tr>\n",
       "  </tbody>\n",
       "</table>\n",
       "<p>3 rows × 31 columns</p>\n",
       "</div>"
      ],
      "text/plain": [
       "   Time        V1        V2        V3        V4        V5        V6        V7  \\\n",
       "0   0.0 -1.359807 -0.072781  2.536347  1.378155 -0.338321  0.462388  0.239599   \n",
       "1   0.0  1.191857  0.266151  0.166480  0.448154  0.060018 -0.082361 -0.078803   \n",
       "2   1.0 -1.358354 -1.340163  1.773209  0.379780 -0.503198  1.800499  0.791461   \n",
       "\n",
       "         V8        V9  ...       V21       V22       V23       V24       V25  \\\n",
       "0  0.098698  0.363787  ... -0.018307  0.277838 -0.110474  0.066928  0.128539   \n",
       "1  0.085102 -0.255425  ... -0.225775 -0.638672  0.101288 -0.339846  0.167170   \n",
       "2  0.247676 -1.514654  ...  0.247998  0.771679  0.909412 -0.689281 -0.327642   \n",
       "\n",
       "        V26       V27       V28  Amount  Class  \n",
       "0 -0.189115  0.133558 -0.021053  149.62    0.0  \n",
       "1  0.125895 -0.008983  0.014724    2.69    0.0  \n",
       "2 -0.139097 -0.055353 -0.059752  378.66    0.0  \n",
       "\n",
       "[3 rows x 31 columns]"
      ]
     },
     "execution_count": 4,
     "metadata": {},
     "output_type": "execute_result"
    }
   ],
   "source": [
    "from scipy.io import arff\n",
    "import pandas as pd\n",
    "\n",
    "# Convert the dataset in arff format into a pandas dataframe\n",
    "data_arff = arff.loadarff(\"credit_card.arff\")\n",
    "data = pd.DataFrame(data_arff[0])\n",
    "\n",
    "data.head(3)"
   ]
  },
  {
   "cell_type": "code",
   "execution_count": 5,
   "metadata": {},
   "outputs": [
    {
     "name": "stdout",
     "output_type": "stream",
     "text": [
      "Number of rows: 284807\n",
      "Number of columns: 31\n",
      "\n",
      "Column names:\n",
      "['Time', 'V1', 'V2', 'V3', 'V4', 'V5', 'V6', 'V7', 'V8',\n",
      " 'V9', 'V10', 'V11', 'V12', 'V13', 'V14', 'V15', 'V16',\n",
      " 'V17', 'V18', 'V19', 'V20', 'V21', 'V22', 'V23', 'V24',\n",
      " 'V25', 'V26', 'V27', 'V28', 'Amount', 'Class']\n",
      "\n",
      "Target distribution:\n",
      "Class\n",
      "0.0    284315\n",
      "1.0       492\n",
      "Name: count, dtype: int64\n",
      "\n",
      "Summary statistics:\n",
      "             Time          V1          V2          V3          V4          V5  \\\n",
      "count   284807.00   284807.00   284807.00   284807.00   284807.00   284807.00   \n",
      "mean     94813.86        0.00        0.00       -0.00        0.00        0.00   \n",
      "std      47488.15        1.96        1.65        1.52        1.42        1.38   \n",
      "min          0.00      -56.41      -72.72      -48.33       -5.68     -113.74   \n",
      "25%      54201.50       -0.92       -0.60       -0.89       -0.85       -0.69   \n",
      "50%      84692.00        0.02        0.07        0.18       -0.02       -0.05   \n",
      "75%     139320.50        1.32        0.80        1.03        0.74        0.61   \n",
      "max     172792.00        2.45       22.06        9.38       16.88       34.80   \n",
      "\n",
      "               V6          V7          V8          V9  ...         V21  \\\n",
      "count   284807.00   284807.00   284807.00   284807.00  ...   284807.00   \n",
      "mean         0.00       -0.00        0.00       -0.00  ...        0.00   \n",
      "std          1.33        1.24        1.19        1.10  ...        0.73   \n",
      "min        -26.16      -43.56      -73.22      -13.43  ...      -34.83   \n",
      "25%         -0.77       -0.55       -0.21       -0.64  ...       -0.23   \n",
      "50%         -0.27        0.04        0.02       -0.05  ...       -0.03   \n",
      "75%          0.40        0.57        0.33        0.60  ...        0.19   \n",
      "max         73.30      120.59       20.01       15.59  ...       27.20   \n",
      "\n",
      "              V22         V23         V24         V25         V26         V27  \\\n",
      "count   284807.00   284807.00   284807.00   284807.00   284807.00   284807.00   \n",
      "mean        -0.00        0.00        0.00        0.00        0.00       -0.00   \n",
      "std          0.73        0.62        0.61        0.52        0.48        0.40   \n",
      "min        -10.93      -44.81       -2.84      -10.30       -2.60      -22.57   \n",
      "25%         -0.54       -0.16       -0.35       -0.32       -0.33       -0.07   \n",
      "50%          0.01       -0.01        0.04        0.02       -0.05        0.00   \n",
      "75%          0.53        0.15        0.44        0.35        0.24        0.09   \n",
      "max         10.50       22.53        4.58        7.52        3.52       31.61   \n",
      "\n",
      "              V28      Amount       Class  \n",
      "count   284807.00   284807.00   284807.00  \n",
      "mean        -0.00       88.35        0.00  \n",
      "std          0.33      250.12        0.04  \n",
      "min        -15.43        0.00        0.00  \n",
      "25%         -0.05        5.60        0.00  \n",
      "50%          0.01       22.00        0.00  \n",
      "75%          0.08       77.16        0.00  \n",
      "max         33.85    25691.16        1.00  \n",
      "\n",
      "[8 rows x 31 columns]\n"
     ]
    }
   ],
   "source": [
    "from pprint import pprint\n",
    "\n",
    "# Display basic information about the dataset\n",
    "print(\"Number of rows:\", data.shape[0])\n",
    "print(\"Number of columns:\", data.shape[1])\n",
    "\n",
    "print(\"\\nColumn names:\")\n",
    "pprint(data.columns.values.tolist(), compact=True, width=60)\n",
    "\n",
    "print(\"\\nTarget distribution:\")\n",
    "print(data[\"Class\"].value_counts())\n",
    "\n",
    "print(\"\\nSummary statistics:\")\n",
    "print(data.describe().applymap(lambda x: f\"{x: 0.2f}\"))"
   ]
  },
  {
   "cell_type": "code",
   "execution_count": 6,
   "metadata": {},
   "outputs": [
    {
     "data": {
      "image/png": "[encoded data removed]",
      "text/plain": [
       "<Figure size 600x200 with 1 Axes>"
      ]
     },
     "metadata": {},
     "output_type": "display_data"
    }
   ],
   "source": [
    "import matplotlib.pyplot as plt\n",
    "\n",
    "# Plot the distribution of the target variable\n",
    "class_counts = data[\"Class\"].value_counts()\n",
    "\n",
    "ax = class_counts.plot(\n",
    "    kind=\"barh\",\n",
    "    figsize=(6, 2),\n",
    "    title=\"Class Distribution\",\n",
    "    xlabel=\"Count\",\n",
    "    ylabel=\"\",\n",
    ")\n",
    "ax.set_yticklabels([\"Legitimate\", \"Fraudulent\"])\n",
    "ax.spines[[\"right\", \"top\"]].set_visible(False)\n",
    "\n",
    "# Print the count of each class\n",
    "for index, value in enumerate(class_counts):\n",
    "    plt.text(\n",
    "        value + int(class_counts[0] / 50),\n",
    "        index,\n",
    "        str(value),\n",
    "        color=\"blue\",\n",
    "    )"
   ]
  },
  {
   "cell_type": "markdown",
   "metadata": {},
   "source": [
    "# Preprocessing"
   ]
  },
  {
   "cell_type": "markdown",
   "metadata": {},
   "source": [
    "## Handling Missing Values"
   ]
  },
  {
   "cell_type": "code",
   "execution_count": 7,
   "metadata": {},
   "outputs": [
    {
     "name": "stdout",
     "output_type": "stream",
     "text": [
      "Columns with missing values:\n",
      "Series([], dtype: int64)\n"
     ]
    }
   ],
   "source": [
    "# Check for missing values in the dataset\n",
    "missing_values = data.isnull().sum()\n",
    "\n",
    "# Display columns with missing values\n",
    "print(f\"Columns with missing values:\\n{missing_values[missing_values > 0]}\")"
   ]
  },
  {
   "cell_type": "markdown",
   "metadata": {},
   "source": [
    "## Train-Validation-Test Splitting"
   ]
  },
  {
   "cell_type": "code",
   "execution_count": 8,
   "metadata": {},
   "outputs": [],
   "source": [
    "from sklearn.model_selection import train_test_split\n",
    "\n",
    "# Separate features and target variable\n",
    "X = data.drop(\"Class\", axis=1)\n",
    "y = data[\"Class\"]\n",
    "\n",
    "# Split the data into training, validation and testing sets\n",
    "X_train, X_test, y_train, y_test = train_test_split(\n",
    "    X, y, test_size=0.2, random_state=SEED\n",
    ")\n",
    "X_train, X_val, y_train, y_val = train_test_split(\n",
    "    X_train, y_train, test_size=0.2, random_state=SEED\n",
    ")"
   ]
  },
  {
   "cell_type": "markdown",
   "metadata": {},
   "source": [
    "## Class Weights"
   ]
  },
  {
   "cell_type": "code",
   "execution_count": 9,
   "metadata": {},
   "outputs": [
    {
     "name": "stdout",
     "output_type": "stream",
     "text": [
      "Class weights: {0.0: 0.5009068624756796, 1.0: 276.1757575757576}\n"
     ]
    }
   ],
   "source": [
    "from sklearn.utils.class_weight import compute_class_weight\n",
    "import numpy as np\n",
    "\n",
    "# Get the unique classes\n",
    "unique_classes = np.unique(y_train)\n",
    "\n",
    "# Calculate class weights\n",
    "class_weights_array = compute_class_weight(\n",
    "    class_weight=\"balanced\", classes=unique_classes, y=y_train\n",
    ")\n",
    "\n",
    "# Convert class weights to a dictionary for model training\n",
    "class_weights = dict(zip(unique_classes, class_weights_array))\n",
    "print(f\"Class weights: {class_weights}\")"
   ]
  },
  {
   "cell_type": "markdown",
   "metadata": {},
   "source": [
    "## Standard Scaling"
   ]
  },
  {
   "cell_type": "code",
   "execution_count": 10,
   "metadata": {},
   "outputs": [],
   "source": [
    "from sklearn.preprocessing import StandardScaler\n",
    "\n",
    "# Initialize the scaler\n",
    "scaler = StandardScaler()\n",
    "\n",
    "# Fit and transform the scaler on training data\n",
    "X_train_scaled = scaler.fit_transform(X_train)\n",
    "\n",
    "# Transform the validation and test data using the same scaler\n",
    "X_val_scaled = scaler.transform(X_val)\n",
    "X_test_scaled = scaler.transform(X_test)"
   ]
  },
  {
   "cell_type": "markdown",
   "metadata": {},
   "source": [
    "# Building a Binary Classification Model"
   ]
  },
  {
   "cell_type": "code",
   "execution_count": 476,
   "metadata": {},
   "outputs": [
    {
     "name": "stdout",
     "output_type": "stream",
     "text": [
      "Model: \"sequential_108\"\n",
      "_________________________________________________________________\n",
      " Layer (type)                Output Shape              Param #   \n",
      "=================================================================\n",
      " dense_436 (Dense)           (None, 256)               7936      \n",
      "                                                                 \n",
      " dense_437 (Dense)           (None, 256)               65792     \n",
      "                                                                 \n",
      " dropout_284 (Dropout)       (None, 256)               0         \n",
      "                                                                 \n",
      " dense_438 (Dense)           (None, 256)               65792     \n",
      "                                                                 \n",
      " dropout_285 (Dropout)       (None, 256)               0         \n",
      "                                                                 \n",
      " dense_439 (Dense)           (None, 1)                 257       \n",
      "                                                                 \n",
      "=================================================================\n",
      "Total params: 139777 (546.00 KB)\n",
      "Trainable params: 139777 (546.00 KB)\n",
      "Non-trainable params: 0 (0.00 Byte)\n",
      "_________________________________________________________________\n"
     ]
    }
   ],
   "source": [
    "from tensorflow.keras import Sequential, layers, activations, initializers\n",
    "\n",
    "dropout_rate = 0.3\n",
    "\n",
    "# Define the model\n",
    "model = Sequential(\n",
    "    [\n",
    "        layers.Dense(\n",
    "            256,\n",
    "            activation=activations.relu,\n",
    "            input_shape=(X_train_scaled.shape[-1],),\n",
    "        ),\n",
    "        layers.Dense(256, activation=activations.relu),\n",
    "        layers.Dropout(dropout_rate),\n",
    "        layers.Dense(256, activation=activations.relu),\n",
    "        layers.Dropout(dropout_rate),\n",
    "        layers.Dense(1, activation=activations.sigmoid),\n",
    "    ]\n",
    ")\n",
    "\n",
    "# Summarize the model\n",
    "model.summary()"
   ]
  },
  {
   "cell_type": "markdown",
   "metadata": {},
   "source": [
    "# Training the Model"
   ]
  },
  {
   "cell_type": "code",
   "execution_count": 477,
   "metadata": {},
   "outputs": [
    {
     "name": "stderr",
     "output_type": "stream",
     "text": [
      "WARNING:absl:At this time, the v2.11+ optimizer `tf.keras.optimizers.Adam` runs slowly on M1/M2 Macs, please use the legacy Keras optimizer instead, located at `tf.keras.optimizers.legacy.Adam`.\n",
      "WARNING:absl:There is a known slowdown when using v2.11+ Keras optimizers on M1/M2 Macs. Falling back to the legacy Keras optimizer, i.e., `tf.keras.optimizers.legacy.Adam`.\n"
     ]
    },
    {
     "name": "stdout",
     "output_type": "stream",
     "text": [
      "Epoch 1/50\n",
      "90/90 [==============================] - 1s 12ms/step - loss: 0.4623 - fn: 30.0000 - fp: 80148.0000 - tn: 101798.0000 - tp: 300.0000 - val_loss: 0.3945 - val_fn: 10.0000 - val_fp: 265.0000 - val_tn: 45240.0000 - val_tp: 54.0000\n",
      "Epoch 2/50\n",
      "90/90 [==============================] - 1s 10ms/step - loss: 0.2687 - fn: 44.0000 - fp: 1939.0000 - tn: 180007.0000 - tp: 286.0000 - val_loss: 0.1977 - val_fn: 9.0000 - val_fp: 363.0000 - val_tn: 45142.0000 - val_tp: 55.0000\n",
      "Epoch 3/50\n",
      "90/90 [==============================] - 1s 10ms/step - loss: 0.2096 - fn: 39.0000 - fp: 2854.0000 - tn: 179092.0000 - tp: 291.0000 - val_loss: 0.1433 - val_fn: 7.0000 - val_fp: 631.0000 - val_tn: 44874.0000 - val_tp: 57.0000\n",
      "Epoch 4/50\n",
      "90/90 [==============================] - 1s 10ms/step - loss: 0.1700 - fn: 33.0000 - fp: 3758.0000 - tn: 178188.0000 - tp: 297.0000 - val_loss: 0.1228 - val_fn: 7.0000 - val_fp: 767.0000 - val_tn: 44738.0000 - val_tp: 57.0000\n",
      "Epoch 5/50\n",
      "90/90 [==============================] - 1s 10ms/step - loss: 0.1481 - fn: 30.0000 - fp: 3532.0000 - tn: 178414.0000 - tp: 300.0000 - val_loss: 0.1047 - val_fn: 7.0000 - val_fp: 754.0000 - val_tn: 44751.0000 - val_tp: 57.0000\n",
      "Epoch 6/50\n",
      "90/90 [==============================] - 1s 11ms/step - loss: 0.1412 - fn: 31.0000 - fp: 3817.0000 - tn: 178129.0000 - tp: 299.0000 - val_loss: 0.0969 - val_fn: 6.0000 - val_fp: 763.0000 - val_tn: 44742.0000 - val_tp: 58.0000\n",
      "Epoch 7/50\n",
      "90/90 [==============================] - 1s 10ms/step - loss: 0.1303 - fn: 29.0000 - fp: 4000.0000 - tn: 177946.0000 - tp: 301.0000 - val_loss: 0.0928 - val_fn: 5.0000 - val_fp: 830.0000 - val_tn: 44675.0000 - val_tp: 59.0000\n",
      "Epoch 8/50\n",
      "90/90 [==============================] - 1s 11ms/step - loss: 0.1273 - fn: 27.0000 - fp: 3693.0000 - tn: 178253.0000 - tp: 303.0000 - val_loss: 0.0968 - val_fn: 5.0000 - val_fp: 999.0000 - val_tn: 44506.0000 - val_tp: 59.0000\n",
      "Epoch 9/50\n",
      "90/90 [==============================] - 1s 10ms/step - loss: 0.1216 - fn: 23.0000 - fp: 5245.0000 - tn: 176701.0000 - tp: 307.0000 - val_loss: 0.0801 - val_fn: 5.0000 - val_fp: 762.0000 - val_tn: 44743.0000 - val_tp: 59.0000\n",
      "Epoch 10/50\n",
      "90/90 [==============================] - 1s 11ms/step - loss: 0.1157 - fn: 23.0000 - fp: 3389.0000 - tn: 178557.0000 - tp: 307.0000 - val_loss: 0.0973 - val_fn: 5.0000 - val_fp: 1150.0000 - val_tn: 44355.0000 - val_tp: 59.0000\n",
      "Epoch 11/50\n",
      "90/90 [==============================] - 1s 10ms/step - loss: 0.1081 - fn: 17.0000 - fp: 4386.0000 - tn: 177560.0000 - tp: 313.0000 - val_loss: 0.0776 - val_fn: 5.0000 - val_fp: 796.0000 - val_tn: 44709.0000 - val_tp: 59.0000\n",
      "Epoch 12/50\n",
      "90/90 [==============================] - 1s 11ms/step - loss: 0.1041 - fn: 18.0000 - fp: 3864.0000 - tn: 178082.0000 - tp: 312.0000 - val_loss: 0.0734 - val_fn: 5.0000 - val_fp: 793.0000 - val_tn: 44712.0000 - val_tp: 59.0000\n",
      "Epoch 13/50\n",
      "90/90 [==============================] - 1s 10ms/step - loss: 0.0996 - fn: 18.0000 - fp: 3734.0000 - tn: 178212.0000 - tp: 312.0000 - val_loss: 0.0734 - val_fn: 5.0000 - val_fp: 851.0000 - val_tn: 44654.0000 - val_tp: 59.0000\n",
      "Epoch 14/50\n",
      "90/90 [==============================] - 1s 11ms/step - loss: 0.0976 - fn: 18.0000 - fp: 4003.0000 - tn: 177943.0000 - tp: 312.0000 - val_loss: 0.0592 - val_fn: 5.0000 - val_fp: 605.0000 - val_tn: 44900.0000 - val_tp: 59.0000\n",
      "Epoch 15/50\n",
      "90/90 [==============================] - 1s 10ms/step - loss: 0.0930 - fn: 14.0000 - fp: 3617.0000 - tn: 178329.0000 - tp: 316.0000 - val_loss: 0.0631 - val_fn: 5.0000 - val_fp: 695.0000 - val_tn: 44810.0000 - val_tp: 59.0000\n",
      "Epoch 16/50\n",
      "90/90 [==============================] - 1s 11ms/step - loss: 0.0947 - fn: 19.0000 - fp: 4118.0000 - tn: 177828.0000 - tp: 311.0000 - val_loss: 0.0566 - val_fn: 5.0000 - val_fp: 605.0000 - val_tn: 44900.0000 - val_tp: 59.0000\n",
      "Epoch 17/50\n",
      "90/90 [==============================] - 1s 11ms/step - loss: 0.0902 - fn: 16.0000 - fp: 4010.0000 - tn: 177936.0000 - tp: 314.0000 - val_loss: 0.0549 - val_fn: 6.0000 - val_fp: 577.0000 - val_tn: 44928.0000 - val_tp: 58.0000\n",
      "Epoch 18/50\n",
      "90/90 [==============================] - 1s 11ms/step - loss: 0.0768 - fn: 13.0000 - fp: 3215.0000 - tn: 178731.0000 - tp: 317.0000 - val_loss: 0.0583 - val_fn: 5.0000 - val_fp: 668.0000 - val_tn: 44837.0000 - val_tp: 59.0000\n",
      "Epoch 19/50\n",
      "90/90 [==============================] - 1s 11ms/step - loss: 0.0790 - fn: 13.0000 - fp: 3279.0000 - tn: 178667.0000 - tp: 317.0000 - val_loss: 0.0534 - val_fn: 6.0000 - val_fp: 613.0000 - val_tn: 44892.0000 - val_tp: 58.0000\n",
      "Epoch 20/50\n",
      "90/90 [==============================] - 1s 10ms/step - loss: 0.0798 - fn: 15.0000 - fp: 3428.0000 - tn: 178518.0000 - tp: 315.0000 - val_loss: 0.0637 - val_fn: 5.0000 - val_fp: 870.0000 - val_tn: 44635.0000 - val_tp: 59.0000\n",
      "Epoch 21/50\n",
      "90/90 [==============================] - 1s 11ms/step - loss: 0.0724 - fn: 11.0000 - fp: 3740.0000 - tn: 178206.0000 - tp: 319.0000 - val_loss: 0.0530 - val_fn: 6.0000 - val_fp: 644.0000 - val_tn: 44861.0000 - val_tp: 58.0000\n",
      "Epoch 22/50\n",
      "90/90 [==============================] - 1s 11ms/step - loss: 0.0664 - fn: 13.0000 - fp: 3694.0000 - tn: 178252.0000 - tp: 317.0000 - val_loss: 0.0374 - val_fn: 6.0000 - val_fp: 394.0000 - val_tn: 45111.0000 - val_tp: 58.0000\n",
      "Epoch 23/50\n",
      "90/90 [==============================] - 1s 11ms/step - loss: 0.0647 - fn: 11.0000 - fp: 3093.0000 - tn: 178853.0000 - tp: 319.0000 - val_loss: 0.0586 - val_fn: 5.0000 - val_fp: 752.0000 - val_tn: 44753.0000 - val_tp: 59.0000\n",
      "Epoch 24/50\n",
      "90/90 [==============================] - 1s 11ms/step - loss: 0.0612 - fn: 7.0000 - fp: 3285.0000 - tn: 178661.0000 - tp: 323.0000 - val_loss: 0.0481 - val_fn: 6.0000 - val_fp: 576.0000 - val_tn: 44929.0000 - val_tp: 58.0000\n",
      "Epoch 25/50\n",
      "90/90 [==============================] - 1s 11ms/step - loss: 0.0588 - fn: 6.0000 - fp: 2998.0000 - tn: 178948.0000 - tp: 324.0000 - val_loss: 0.0489 - val_fn: 6.0000 - val_fp: 630.0000 - val_tn: 44875.0000 - val_tp: 58.0000\n",
      "Epoch 26/50\n",
      "90/90 [==============================] - 1s 10ms/step - loss: 0.0566 - fn: 8.0000 - fp: 2850.0000 - tn: 179096.0000 - tp: 322.0000 - val_loss: 0.0513 - val_fn: 6.0000 - val_fp: 713.0000 - val_tn: 44792.0000 - val_tp: 58.0000\n",
      "Epoch 27/50\n",
      "90/90 [==============================] - 1s 11ms/step - loss: 0.0566 - fn: 9.0000 - fp: 3436.0000 - tn: 178510.0000 - tp: 321.0000 - val_loss: 0.0393 - val_fn: 6.0000 - val_fp: 469.0000 - val_tn: 45036.0000 - val_tp: 58.0000\n",
      "Epoch 28/50\n",
      "90/90 [==============================] - 1s 10ms/step - loss: 0.0522 - fn: 9.0000 - fp: 2549.0000 - tn: 179397.0000 - tp: 321.0000 - val_loss: 0.0416 - val_fn: 6.0000 - val_fp: 540.0000 - val_tn: 44965.0000 - val_tp: 58.0000\n",
      "Epoch 29/50\n",
      "90/90 [==============================] - 1s 11ms/step - loss: 0.0512 - fn: 6.0000 - fp: 2831.0000 - tn: 179115.0000 - tp: 324.0000 - val_loss: 0.0408 - val_fn: 6.0000 - val_fp: 541.0000 - val_tn: 44964.0000 - val_tp: 58.0000\n",
      "Epoch 30/50\n",
      "90/90 [==============================] - 1s 10ms/step - loss: 0.0494 - fn: 7.0000 - fp: 2858.0000 - tn: 179088.0000 - tp: 323.0000 - val_loss: 0.0384 - val_fn: 6.0000 - val_fp: 500.0000 - val_tn: 45005.0000 - val_tp: 58.0000\n",
      "Epoch 31/50\n",
      "90/90 [==============================] - 1s 11ms/step - loss: 0.0448 - fn: 3.0000 - fp: 2810.0000 - tn: 179136.0000 - tp: 327.0000 - val_loss: 0.0344 - val_fn: 6.0000 - val_fp: 442.0000 - val_tn: 45063.0000 - val_tp: 58.0000\n",
      "Epoch 32/50\n",
      "90/90 [==============================] - 1s 10ms/step - loss: 0.0397 - fn: 3.0000 - fp: 2450.0000 - tn: 179496.0000 - tp: 327.0000 - val_loss: 0.0288 - val_fn: 6.0000 - val_fp: 345.0000 - val_tn: 45160.0000 - val_tp: 58.0000\n",
      "Epoch 33/50\n",
      "90/90 [==============================] - 1s 11ms/step - loss: 0.0398 - fn: 5.0000 - fp: 2045.0000 - tn: 179901.0000 - tp: 325.0000 - val_loss: 0.0371 - val_fn: 6.0000 - val_fp: 519.0000 - val_tn: 44986.0000 - val_tp: 58.0000\n",
      "Epoch 34/50\n",
      "90/90 [==============================] - 1s 10ms/step - loss: 0.0381 - fn: 3.0000 - fp: 2204.0000 - tn: 179742.0000 - tp: 327.0000 - val_loss: 0.0429 - val_fn: 6.0000 - val_fp: 610.0000 - val_tn: 44895.0000 - val_tp: 58.0000\n",
      "Epoch 35/50\n",
      "90/90 [==============================] - 1s 11ms/step - loss: 0.0368 - fn: 1.0000 - fp: 2505.0000 - tn: 179441.0000 - tp: 329.0000 - val_loss: 0.0292 - val_fn: 6.0000 - val_fp: 392.0000 - val_tn: 45113.0000 - val_tp: 58.0000\n",
      "Epoch 36/50\n",
      "90/90 [==============================] - 1s 11ms/step - loss: 0.0343 - fn: 1.0000 - fp: 2256.0000 - tn: 179690.0000 - tp: 329.0000 - val_loss: 0.0349 - val_fn: 6.0000 - val_fp: 502.0000 - val_tn: 45003.0000 - val_tp: 58.0000\n",
      "Epoch 37/50\n",
      "90/90 [==============================] - 1s 10ms/step - loss: 0.0337 - fn: 1.0000 - fp: 2099.0000 - tn: 179847.0000 - tp: 329.0000 - val_loss: 0.0329 - val_fn: 6.0000 - val_fp: 468.0000 - val_tn: 45037.0000 - val_tp: 58.0000\n",
      "Epoch 38/50\n",
      "90/90 [==============================] - 1s 11ms/step - loss: 0.0330 - fn: 2.0000 - fp: 2325.0000 - tn: 179621.0000 - tp: 328.0000 - val_loss: 0.0206 - val_fn: 7.0000 - val_fp: 256.0000 - val_tn: 45249.0000 - val_tp: 57.0000\n",
      "Epoch 39/50\n",
      "90/90 [==============================] - 1s 10ms/step - loss: 0.0321 - fn: 1.0000 - fp: 1959.0000 - tn: 179987.0000 - tp: 329.0000 - val_loss: 0.0342 - val_fn: 6.0000 - val_fp: 494.0000 - val_tn: 45011.0000 - val_tp: 58.0000\n",
      "Epoch 40/50\n",
      "90/90 [==============================] - 1s 11ms/step - loss: 0.0310 - fn: 2.0000 - fp: 2167.0000 - tn: 179779.0000 - tp: 328.0000 - val_loss: 0.0249 - val_fn: 6.0000 - val_fp: 324.0000 - val_tn: 45181.0000 - val_tp: 58.0000\n",
      "Epoch 41/50\n",
      "90/90 [==============================] - 1s 10ms/step - loss: 0.0283 - fn: 3.0000 - fp: 1800.0000 - tn: 180146.0000 - tp: 327.0000 - val_loss: 0.0224 - val_fn: 6.0000 - val_fp: 290.0000 - val_tn: 45215.0000 - val_tp: 58.0000\n",
      "Epoch 42/50\n",
      "90/90 [==============================] - 1s 11ms/step - loss: 0.0259 - fn: 1.0000 - fp: 1676.0000 - tn: 180270.0000 - tp: 329.0000 - val_loss: 0.0244 - val_fn: 7.0000 - val_fp: 339.0000 - val_tn: 45166.0000 - val_tp: 57.0000\n",
      "Epoch 43/50\n",
      "90/90 [==============================] - 1s 10ms/step - loss: 0.0253 - fn: 1.0000 - fp: 1713.0000 - tn: 180233.0000 - tp: 329.0000 - val_loss: 0.0233 - val_fn: 6.0000 - val_fp: 325.0000 - val_tn: 45180.0000 - val_tp: 58.0000\n",
      "Epoch 44/50\n",
      "90/90 [==============================] - 1s 11ms/step - loss: 0.0250 - fn: 2.0000 - fp: 1641.0000 - tn: 180305.0000 - tp: 328.0000 - val_loss: 0.0217 - val_fn: 7.0000 - val_fp: 277.0000 - val_tn: 45228.0000 - val_tp: 57.0000\n",
      "Epoch 45/50\n",
      "90/90 [==============================] - 1s 11ms/step - loss: 0.0255 - fn: 1.0000 - fp: 1781.0000 - tn: 180165.0000 - tp: 329.0000 - val_loss: 0.0233 - val_fn: 6.0000 - val_fp: 320.0000 - val_tn: 45185.0000 - val_tp: 58.0000\n",
      "Epoch 46/50\n",
      "90/90 [==============================] - 1s 11ms/step - loss: 0.0244 - fn: 0.0000e+00 - fp: 1652.0000 - tn: 180294.0000 - tp: 330.0000 - val_loss: 0.0194 - val_fn: 7.0000 - val_fp: 261.0000 - val_tn: 45244.0000 - val_tp: 57.0000\n",
      "Epoch 47/50\n",
      "90/90 [==============================] - 1s 11ms/step - loss: 0.0340 - fn: 3.0000 - fp: 2167.0000 - tn: 179779.0000 - tp: 327.0000 - val_loss: 0.0251 - val_fn: 6.0000 - val_fp: 338.0000 - val_tn: 45167.0000 - val_tp: 58.0000\n",
      "Epoch 48/50\n",
      "90/90 [==============================] - 1s 10ms/step - loss: 0.0259 - fn: 1.0000 - fp: 1718.0000 - tn: 180228.0000 - tp: 329.0000 - val_loss: 0.0288 - val_fn: 7.0000 - val_fp: 405.0000 - val_tn: 45100.0000 - val_tp: 57.0000\n",
      "Epoch 49/50\n",
      "90/90 [==============================] - 1s 11ms/step - loss: 0.0233 - fn: 1.0000 - fp: 1560.0000 - tn: 180386.0000 - tp: 329.0000 - val_loss: 0.0276 - val_fn: 7.0000 - val_fp: 396.0000 - val_tn: 45109.0000 - val_tp: 57.0000\n",
      "Epoch 50/50\n",
      "90/90 [==============================] - 1s 10ms/step - loss: 0.0269 - fn: 2.0000 - fp: 1954.0000 - tn: 179992.0000 - tp: 328.0000 - val_loss: 0.0253 - val_fn: 7.0000 - val_fp: 350.0000 - val_tn: 45155.0000 - val_tp: 57.0000\n"
     ]
    }
   ],
   "source": [
    "from tensorflow.keras import metrics, optimizers, losses, callbacks\n",
    "\n",
    "# Define the metrics to be used for model evaluation\n",
    "metrics_ = [\n",
    "    metrics.FalseNegatives(name=\"fn\"),\n",
    "    metrics.FalsePositives(name=\"fp\"),\n",
    "    metrics.TrueNegatives(name=\"tn\"),\n",
    "    metrics.TruePositives(name=\"tp\"),\n",
    "]\n",
    "\n",
    "# Compile the model\n",
    "model.compile(\n",
    "    optimizer=optimizers.Adam(1e-4),\n",
    "    loss=losses.binary_crossentropy,\n",
    "    metrics=metrics_,\n",
    ")\n",
    "\n",
    "# Define callbacks\n",
    "callbacks_ = [\n",
    "    callbacks.ModelCheckpoint(\n",
    "        filepath=\"fraud_model.h5\",\n",
    "        save_best_only=True,\n",
    "        save_weights_only=True,\n",
    "    )\n",
    "]\n",
    "\n",
    "# Train the model\n",
    "history = model.fit(\n",
    "    x=X_train_scaled,\n",
    "    y=y_train,\n",
    "    validation_data=(X_val_scaled, y_val),\n",
    "    batch_size=2048,\n",
    "    epochs=50,\n",
    "    callbacks=callbacks_,\n",
    "    class_weight=class_weights,\n",
    ")"
   ]
  },
  {
   "cell_type": "markdown",
   "metadata": {},
   "source": [
    "## Visualizing Training Progress"
   ]
  },
  {
   "cell_type": "code",
   "execution_count": 488,
   "metadata": {},
   "outputs": [
    {
     "data": {
      "image/png": "[encoded data removed]",
      "text/plain": [
       "<Figure size 640x480 with 1 Axes>"
      ]
     },
     "metadata": {},
     "output_type": "display_data"
    }
   ],
   "source": [
    "import matplotlib.pyplot as plt\n",
    "\n",
    "plt.plot(history.history[\"loss\"], label=\"Training\")\n",
    "plt.plot(history.history[\"val_loss\"], label=\"Validation\")\n",
    "plt.ylabel(\"Loss\")\n",
    "plt.xlabel(\"Epoch\")\n",
    "plt.legend()\n",
    "# plt.savefig(\"loss.png\", bbox_inches=\"tight\")"
   ]
  },
  {
   "cell_type": "markdown",
   "metadata": {},
   "source": [
    "# Evaluating the Model"
   ]
  },
  {
   "cell_type": "code",
   "execution_count": 501,
   "metadata": {},
   "outputs": [
    {
     "name": "stdout",
     "output_type": "stream",
     "text": [
      "1781/1781 [==============================] - 1s 411us/step\n"
     ]
    }
   ],
   "source": [
    "# Predict on the test data\n",
    "y_pred = model.predict(X_test_scaled)\n",
    "\n",
    "# Convert predictions to binary values\n",
    "y_pred = np.where(y_pred >= 0.5, 1, 0)"
   ]
  },
  {
   "cell_type": "code",
   "execution_count": 546,
   "metadata": {},
   "outputs": [
    {
     "name": "stdout",
     "output_type": "stream",
     "text": [
      "Recall score: 0.90\n",
      "Precision score: 0.16\n",
      "\n",
      "True Negatives: 56403\n",
      "False Positives: 461\n",
      "False Negatives: 10\n",
      "True Positives: 88\n",
      "\n",
      "Confusion matrix:\n"
     ]
    },
    {
     "data": {
      "image/png": "[encoded data removed]",
      "text/plain": [
       "<Figure size 640x480 with 1 Axes>"
      ]
     },
     "metadata": {},
     "output_type": "display_data"
    }
   ],
   "source": [
    "from sklearn.metrics import recall_score, precision_score, confusion_matrix\n",
    "\n",
    "# Recall score\n",
    "recall = recall_score(y_test, y_pred)\n",
    "print(f\"Recall score: {recall:.2f}\")\n",
    "\n",
    "# Precision score\n",
    "precision = precision_score(y_test, y_pred)\n",
    "print(f\"Precision score: {precision:.2f}\")\n",
    "\n",
    "# Confusion matrix\n",
    "conf_matrix = confusion_matrix(y_test, y_pred)\n",
    "\n",
    "# True negatives, false positives, false negatives, true positives\n",
    "tn, fp, fn, tp = conf_matrix.ravel()\n",
    "print(f\"\\nTrue Negatives: {tn}\")\n",
    "print(f\"False Positives: {fp}\")\n",
    "print(f\"False Negatives: {fn}\")\n",
    "print(f\"True Positives: {tp}\")\n",
    "\n",
    "# Plot the confusion matrix\n",
    "disp = ConfusionMatrixDisplay(\n",
    "    confusion_matrix=conf_matrix, display_labels=[\"Legitimate\", \"Fraudulent\"]\n",
    ")\n",
    "print(\"\\nConfusion matrix:\")\n",
    "disp.plot(cmap=\"Blues\", values_format=\"d\", ax=None, colorbar=False)\n",
    "plt.savefig(\"confusion_matrix.png\", bbox_inches=\"tight\")"
   ]
  }
 ],
 "metadata": {
  "kernelspec": {
   "display_name": ".venv",
   "language": "python",
   "name": "python3"
  },
  "language_info": {
   "codemirror_mode": {
    "name": "ipython",
    "version": 3
   },
   "file_extension": ".py",
   "mimetype": "text/x-python",
   "name": "python",
   "nbconvert_exporter": "python",
   "pygments_lexer": "ipython3",
   "version": "3.11.4"
  },
  "orig_nbformat": 4
 },
 "nbformat": 4,
 "nbformat_minor": 2
}
