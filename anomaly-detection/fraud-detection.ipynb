{
 "cells": [
  {
   "cell_type": "markdown",
   "metadata": {},
   "source": [
    "Click [here]() to access the associated Medium article."
   ]
  },
  {
   "cell_type": "markdown",
   "metadata": {},
   "source": [
    "# Setup"
   ]
  },
  {
   "cell_type": "code",
   "execution_count": 30,
   "metadata": {},
   "outputs": [
    {
     "name": "stdout",
     "output_type": "stream",
     "text": [
      "\u001b[33mDEPRECATION: textract 1.6.5 has a non-standard dependency specifier extract-msg<=0.29.*. pip 23.3 will enforce this behaviour change. A possible replacement is to upgrade to a newer version of textract or contact the author to suggest that they release a version with a conforming dependency specifiers. Discussion can be found at https://github.com/pypa/pip/issues/12063\u001b[0m\u001b[33m\n",
      "\u001b[0m"
     ]
    }
   ],
   "source": [
    "!pip install -q scipy pandas matplotlib scikit-learn tensorflow keras"
   ]
  },
  {
   "cell_type": "markdown",
   "metadata": {},
   "source": [
    "# Data"
   ]
  },
  {
   "cell_type": "code",
   "execution_count": 2,
   "metadata": {},
   "outputs": [
    {
     "data": {
      "text/plain": [
       "('credit_card.arff', <http.client.HTTPMessage at 0x10674d490>)"
      ]
     },
     "execution_count": 2,
     "metadata": {},
     "output_type": "execute_result"
    }
   ],
   "source": [
    "from urllib.request import urlretrieve\n",
    "\n",
    "# Download the dataset to the current directory (149 MB)\n",
    "# Source: https://www.openml.org/search?type=data&id=43627\n",
    "url = \"https://www.openml.org/data/download/22102452\"\n",
    "file_name = \"credit_card.arff\"\n",
    "urlretrieve(url, file_name)"
   ]
  },
  {
   "cell_type": "code",
   "execution_count": 97,
   "metadata": {},
   "outputs": [
    {
     "data": {
      "text/html": [
       "<div>\n",
       "<style scoped>\n",
       "    .dataframe tbody tr th:only-of-type {\n",
       "        vertical-align: middle;\n",
       "    }\n",
       "\n",
       "    .dataframe tbody tr th {\n",
       "        vertical-align: top;\n",
       "    }\n",
       "\n",
       "    .dataframe thead th {\n",
       "        text-align: right;\n",
       "    }\n",
       "</style>\n",
       "<table border=\"1\" class=\"dataframe\">\n",
       "  <thead>\n",
       "    <tr style=\"text-align: right;\">\n",
       "      <th></th>\n",
       "      <th>Time</th>\n",
       "      <th>V1</th>\n",
       "      <th>V2</th>\n",
       "      <th>V3</th>\n",
       "      <th>V4</th>\n",
       "      <th>V5</th>\n",
       "      <th>V6</th>\n",
       "      <th>V7</th>\n",
       "      <th>V8</th>\n",
       "      <th>V9</th>\n",
       "      <th>...</th>\n",
       "      <th>V21</th>\n",
       "      <th>V22</th>\n",
       "      <th>V23</th>\n",
       "      <th>V24</th>\n",
       "      <th>V25</th>\n",
       "      <th>V26</th>\n",
       "      <th>V27</th>\n",
       "      <th>V28</th>\n",
       "      <th>Amount</th>\n",
       "      <th>Class</th>\n",
       "    </tr>\n",
       "  </thead>\n",
       "  <tbody>\n",
       "    <tr>\n",
       "      <th>0</th>\n",
       "      <td>0.0</td>\n",
       "      <td>-1.359807</td>\n",
       "      <td>-0.072781</td>\n",
       "      <td>2.536347</td>\n",
       "      <td>1.378155</td>\n",
       "      <td>-0.338321</td>\n",
       "      <td>0.462388</td>\n",
       "      <td>0.239599</td>\n",
       "      <td>0.098698</td>\n",
       "      <td>0.363787</td>\n",
       "      <td>...</td>\n",
       "      <td>-0.018307</td>\n",
       "      <td>0.277838</td>\n",
       "      <td>-0.110474</td>\n",
       "      <td>0.066928</td>\n",
       "      <td>0.128539</td>\n",
       "      <td>-0.189115</td>\n",
       "      <td>0.133558</td>\n",
       "      <td>-0.021053</td>\n",
       "      <td>149.62</td>\n",
       "      <td>0.0</td>\n",
       "    </tr>\n",
       "    <tr>\n",
       "      <th>1</th>\n",
       "      <td>0.0</td>\n",
       "      <td>1.191857</td>\n",
       "      <td>0.266151</td>\n",
       "      <td>0.166480</td>\n",
       "      <td>0.448154</td>\n",
       "      <td>0.060018</td>\n",
       "      <td>-0.082361</td>\n",
       "      <td>-0.078803</td>\n",
       "      <td>0.085102</td>\n",
       "      <td>-0.255425</td>\n",
       "      <td>...</td>\n",
       "      <td>-0.225775</td>\n",
       "      <td>-0.638672</td>\n",
       "      <td>0.101288</td>\n",
       "      <td>-0.339846</td>\n",
       "      <td>0.167170</td>\n",
       "      <td>0.125895</td>\n",
       "      <td>-0.008983</td>\n",
       "      <td>0.014724</td>\n",
       "      <td>2.69</td>\n",
       "      <td>0.0</td>\n",
       "    </tr>\n",
       "    <tr>\n",
       "      <th>2</th>\n",
       "      <td>1.0</td>\n",
       "      <td>-1.358354</td>\n",
       "      <td>-1.340163</td>\n",
       "      <td>1.773209</td>\n",
       "      <td>0.379780</td>\n",
       "      <td>-0.503198</td>\n",
       "      <td>1.800499</td>\n",
       "      <td>0.791461</td>\n",
       "      <td>0.247676</td>\n",
       "      <td>-1.514654</td>\n",
       "      <td>...</td>\n",
       "      <td>0.247998</td>\n",
       "      <td>0.771679</td>\n",
       "      <td>0.909412</td>\n",
       "      <td>-0.689281</td>\n",
       "      <td>-0.327642</td>\n",
       "      <td>-0.139097</td>\n",
       "      <td>-0.055353</td>\n",
       "      <td>-0.059752</td>\n",
       "      <td>378.66</td>\n",
       "      <td>0.0</td>\n",
       "    </tr>\n",
       "  </tbody>\n",
       "</table>\n",
       "<p>3 rows × 31 columns</p>\n",
       "</div>"
      ],
      "text/plain": [
       "   Time        V1        V2        V3        V4        V5        V6        V7  \\\n",
       "0   0.0 -1.359807 -0.072781  2.536347  1.378155 -0.338321  0.462388  0.239599   \n",
       "1   0.0  1.191857  0.266151  0.166480  0.448154  0.060018 -0.082361 -0.078803   \n",
       "2   1.0 -1.358354 -1.340163  1.773209  0.379780 -0.503198  1.800499  0.791461   \n",
       "\n",
       "         V8        V9  ...       V21       V22       V23       V24       V25  \\\n",
       "0  0.098698  0.363787  ... -0.018307  0.277838 -0.110474  0.066928  0.128539   \n",
       "1  0.085102 -0.255425  ... -0.225775 -0.638672  0.101288 -0.339846  0.167170   \n",
       "2  0.247676 -1.514654  ...  0.247998  0.771679  0.909412 -0.689281 -0.327642   \n",
       "\n",
       "        V26       V27       V28  Amount  Class  \n",
       "0 -0.189115  0.133558 -0.021053  149.62    0.0  \n",
       "1  0.125895 -0.008983  0.014724    2.69    0.0  \n",
       "2 -0.139097 -0.055353 -0.059752  378.66    0.0  \n",
       "\n",
       "[3 rows x 31 columns]"
      ]
     },
     "execution_count": 97,
     "metadata": {},
     "output_type": "execute_result"
    }
   ],
   "source": [
    "from scipy.io import arff\n",
    "import pandas as pd\n",
    "\n",
    "# Convert the dataset in arff format into a pandas dataframe\n",
    "data_arff = arff.loadarff(\"credit_card.arff\")\n",
    "data = pd.DataFrame(data_arff[0])\n",
    "\n",
    "data.head(3)"
   ]
  },
  {
   "cell_type": "code",
   "execution_count": 98,
   "metadata": {},
   "outputs": [
    {
     "name": "stdout",
     "output_type": "stream",
     "text": [
      "Number of rows: 284807\n",
      "Number of columns: 31\n",
      "\n",
      "Column names:\n",
      "['Time', 'V1', 'V2', 'V3', 'V4', 'V5', 'V6', 'V7', 'V8',\n",
      " 'V9', 'V10', 'V11', 'V12', 'V13', 'V14', 'V15', 'V16',\n",
      " 'V17', 'V18', 'V19', 'V20', 'V21', 'V22', 'V23', 'V24',\n",
      " 'V25', 'V26', 'V27', 'V28', 'Amount', 'Class']\n",
      "\n",
      "Target distribution:\n",
      "Class\n",
      "0.0    284315\n",
      "1.0       492\n",
      "Name: count, dtype: int64\n",
      "\n",
      "Summary statistics:\n",
      "             Time          V1          V2          V3          V4          V5  \\\n",
      "count   284807.00   284807.00   284807.00   284807.00   284807.00   284807.00   \n",
      "mean     94813.86        0.00        0.00       -0.00        0.00        0.00   \n",
      "std      47488.15        1.96        1.65        1.52        1.42        1.38   \n",
      "min          0.00      -56.41      -72.72      -48.33       -5.68     -113.74   \n",
      "25%      54201.50       -0.92       -0.60       -0.89       -0.85       -0.69   \n",
      "50%      84692.00        0.02        0.07        0.18       -0.02       -0.05   \n",
      "75%     139320.50        1.32        0.80        1.03        0.74        0.61   \n",
      "max     172792.00        2.45       22.06        9.38       16.88       34.80   \n",
      "\n",
      "               V6          V7          V8          V9  ...         V21  \\\n",
      "count   284807.00   284807.00   284807.00   284807.00  ...   284807.00   \n",
      "mean         0.00       -0.00        0.00       -0.00  ...        0.00   \n",
      "std          1.33        1.24        1.19        1.10  ...        0.73   \n",
      "min        -26.16      -43.56      -73.22      -13.43  ...      -34.83   \n",
      "25%         -0.77       -0.55       -0.21       -0.64  ...       -0.23   \n",
      "50%         -0.27        0.04        0.02       -0.05  ...       -0.03   \n",
      "75%          0.40        0.57        0.33        0.60  ...        0.19   \n",
      "max         73.30      120.59       20.01       15.59  ...       27.20   \n",
      "\n",
      "              V22         V23         V24         V25         V26         V27  \\\n",
      "count   284807.00   284807.00   284807.00   284807.00   284807.00   284807.00   \n",
      "mean        -0.00        0.00        0.00        0.00        0.00       -0.00   \n",
      "std          0.73        0.62        0.61        0.52        0.48        0.40   \n",
      "min        -10.93      -44.81       -2.84      -10.30       -2.60      -22.57   \n",
      "25%         -0.54       -0.16       -0.35       -0.32       -0.33       -0.07   \n",
      "50%          0.01       -0.01        0.04        0.02       -0.05        0.00   \n",
      "75%          0.53        0.15        0.44        0.35        0.24        0.09   \n",
      "max         10.50       22.53        4.58        7.52        3.52       31.61   \n",
      "\n",
      "              V28      Amount       Class  \n",
      "count   284807.00   284807.00   284807.00  \n",
      "mean        -0.00       88.35        0.00  \n",
      "std          0.33      250.12        0.04  \n",
      "min        -15.43        0.00        0.00  \n",
      "25%         -0.05        5.60        0.00  \n",
      "50%          0.01       22.00        0.00  \n",
      "75%          0.08       77.16        0.00  \n",
      "max         33.85    25691.16        1.00  \n",
      "\n",
      "[8 rows x 31 columns]\n"
     ]
    }
   ],
   "source": [
    "from pprint import pprint\n",
    "\n",
    "# Display basic information about the dataset\n",
    "print(\"Number of rows:\", data.shape[0])\n",
    "print(\"Number of columns:\", data.shape[1])\n",
    "\n",
    "print(\"\\nColumn names:\")\n",
    "pprint(data.columns.values.tolist(), compact=True, width=60)\n",
    "\n",
    "print(\"\\nTarget distribution:\")\n",
    "print(data[\"Class\"].value_counts())\n",
    "\n",
    "print(\"\\nSummary statistics:\")\n",
    "print(data.describe().applymap(lambda x: f\"{x: 0.2f}\"))"
   ]
  },
  {
   "cell_type": "code",
   "execution_count": 99,
   "metadata": {},
   "outputs": [
    {
     "data": {
      "image/png": "[encoded data removed]",
      "text/plain": [
       "<Figure size 600x200 with 1 Axes>"
      ]
     },
     "metadata": {},
     "output_type": "display_data"
    }
   ],
   "source": [
    "import matplotlib.pyplot as plt\n",
    "\n",
    "# Plot the distribution of the target variable\n",
    "class_counts = data[\"Class\"].value_counts()\n",
    "\n",
    "ax = class_counts.plot(\n",
    "    kind=\"barh\",\n",
    "    figsize=(6, 2),\n",
    "    title=\"Class Distribution\",\n",
    "    xlabel=\"Count\",\n",
    "    ylabel=\"\",\n",
    ")\n",
    "ax.set_yticklabels([\"Legitimate\", \"Fraudulent\"])\n",
    "ax.spines[[\"right\", \"top\"]].set_visible(False)\n",
    "\n",
    "# Print the count of each class\n",
    "for index, value in enumerate(class_counts):\n",
    "    plt.text(\n",
    "        value + int(class_counts[0] / 50),\n",
    "        index,\n",
    "        str(value),\n",
    "        color=\"blue\",\n",
    "    )"
   ]
  },
  {
   "cell_type": "markdown",
   "metadata": {},
   "source": [
    "# Preprocessing"
   ]
  },
  {
   "cell_type": "markdown",
   "metadata": {},
   "source": [
    "## Handling Missing Values"
   ]
  },
  {
   "cell_type": "code",
   "execution_count": 100,
   "metadata": {},
   "outputs": [
    {
     "name": "stdout",
     "output_type": "stream",
     "text": [
      "Columns with missing values:\n",
      "Series([], dtype: int64)\n"
     ]
    }
   ],
   "source": [
    "# Check for missing values in the dataset\n",
    "missing_values = data.isnull().sum()\n",
    "\n",
    "# Display columns with missing values\n",
    "print(f\"Columns with missing values:\\n{missing_values[missing_values > 0]}\")"
   ]
  },
  {
   "cell_type": "markdown",
   "metadata": {},
   "source": [
    "## Train-Validation-Test Splitting"
   ]
  },
  {
   "cell_type": "code",
   "execution_count": 157,
   "metadata": {},
   "outputs": [],
   "source": [
    "from sklearn.model_selection import train_test_split\n",
    "\n",
    "# Separate features and target variable\n",
    "X = data.drop(\"Class\", axis=1)\n",
    "y = data[\"Class\"]\n",
    "\n",
    "# Split the data into training, validation and testing sets\n",
    "X_train, X_test, y_train, y_test = train_test_split(\n",
    "    X, y, test_size=0.2, random_state=42\n",
    ")\n",
    "X_train, X_val, y_train, y_val = train_test_split(\n",
    "    X_train, y_train, test_size=0.2, random_state=42\n",
    ")"
   ]
  },
  {
   "cell_type": "markdown",
   "metadata": {},
   "source": [
    "## Class Weights"
   ]
  },
  {
   "cell_type": "code",
   "execution_count": 158,
   "metadata": {},
   "outputs": [
    {
     "name": "stdout",
     "output_type": "stream",
     "text": [
      "Class weights: {0.0: 0.5009068624756796, 1.0: 276.1757575757576}\n"
     ]
    }
   ],
   "source": [
    "from sklearn.utils.class_weight import compute_class_weight\n",
    "import numpy as np\n",
    "\n",
    "# Get the unique classes\n",
    "unique_classes = np.unique(y_train)\n",
    "\n",
    "# Calculate class weights\n",
    "class_weights_array = compute_class_weight(\n",
    "    class_weight=\"balanced\", classes=unique_classes, y=y_train\n",
    ")\n",
    "\n",
    "# Convert class weights to a dictionary for model training\n",
    "class_weights = dict(zip(unique_classes, class_weights_array))\n",
    "print(f\"Class weights: {class_weights}\")"
   ]
  },
  {
   "cell_type": "markdown",
   "metadata": {},
   "source": [
    "## Standard Scaling"
   ]
  },
  {
   "cell_type": "code",
   "execution_count": 159,
   "metadata": {},
   "outputs": [],
   "source": [
    "from sklearn.preprocessing import StandardScaler\n",
    "\n",
    "# Initialize the scaler\n",
    "scaler = StandardScaler()\n",
    "\n",
    "# Fit and transform the scaler on training data\n",
    "X_train_scaled = scaler.fit_transform(X_train)\n",
    "\n",
    "# Transform the validation and test data using the same scaler\n",
    "X_val_scaled = scaler.transform(X_val)\n",
    "X_test_scaled = scaler.transform(X_test)"
   ]
  },
  {
   "cell_type": "markdown",
   "metadata": {},
   "source": [
    "# Building a Binary Classification Model"
   ]
  },
  {
   "cell_type": "code",
   "execution_count": 261,
   "metadata": {},
   "outputs": [
    {
     "name": "stdout",
     "output_type": "stream",
     "text": [
      "Model: \"sequential_21\"\n",
      "_________________________________________________________________\n",
      " Layer (type)                Output Shape              Param #   \n",
      "=================================================================\n",
      " dense_63 (Dense)            (None, 256)               7936      \n",
      "                                                                 \n",
      " dropout_24 (Dropout)        (None, 256)               0         \n",
      "                                                                 \n",
      " dense_64 (Dense)            (None, 256)               65792     \n",
      "                                                                 \n",
      " dropout_25 (Dropout)        (None, 256)               0         \n",
      "                                                                 \n",
      " dense_65 (Dense)            (None, 256)               65792     \n",
      "                                                                 \n",
      " dropout_26 (Dropout)        (None, 256)               0         \n",
      "                                                                 \n",
      " dense_66 (Dense)            (None, 1)                 257       \n",
      "                                                                 \n",
      "=================================================================\n",
      "Total params: 139777 (546.00 KB)\n",
      "Trainable params: 139777 (546.00 KB)\n",
      "Non-trainable params: 0 (0.00 Byte)\n",
      "_________________________________________________________________\n"
     ]
    }
   ],
   "source": [
    "from tensorflow.keras import Sequential, layers, activations\n",
    "\n",
    "dropout_rate = 0.3\n",
    "n_neurons = 256\n",
    "\n",
    "# Define the model\n",
    "model = Sequential(\n",
    "    [\n",
    "        layers.Dense(\n",
    "            n_neurons,\n",
    "            # activation=activations.relu,\n",
    "            input_shape=(X_train.shape[-1],),\n",
    "        ),\n",
    "        layers.Activation(activations.relu),\n",
    "        # layers.BatchNormalization(),\n",
    "        layers.Dropout(dropout_rate),\n",
    "        layers.Dense(n_neurons),\n",
    "        layers.Activation(activations.relu),\n",
    "        # layers.BatchNormalization(),\n",
    "        layers.Dropout(dropout_rate),\n",
    "        layers.Dense(n_neurons),\n",
    "        layers.Activation(activations.relu),\n",
    "        # layers.BatchNormalization(),\n",
    "        layers.Dropout(dropout_rate),\n",
    "        layers.Dense(1, activation=activations.sigmoid),\n",
    "    ]\n",
    ")\n",
    "model = Sequential(\n",
    "    [\n",
    "        layers.Dense(\n",
    "            n_neurons,\n",
    "            activation=activations.relu,\n",
    "            input_shape=(X_train.shape[-1],),\n",
    "        ),\n",
    "        layers.Dropout(dropout_rate),\n",
    "        layers.Dense(n_neurons, activation=activations.relu),\n",
    "        layers.Dropout(dropout_rate),\n",
    "        layers.Dense(n_neurons, activation=activations.relu),\n",
    "        layers.Dropout(dropout_rate),\n",
    "        layers.Dense(1, activation=activations.sigmoid),\n",
    "    ]\n",
    ")\n",
    "\n",
    "# Summarize the model\n",
    "model.summary()"
   ]
  },
  {
   "cell_type": "markdown",
   "metadata": {},
   "source": [
    "# Training the Model"
   ]
  },
  {
   "cell_type": "code",
   "execution_count": 265,
   "metadata": {},
   "outputs": [
    {
     "name": "stdout",
     "output_type": "stream",
     "text": [
      "Epoch 1/30\n",
      "90/90 [==============================] - 2s 14ms/step - loss: 0.7941 - fn: 55.0000 - fp: 12654.0000 - tn: 169292.0000 - tp: 275.0000 - recall: 0.8333 - val_loss: 0.0659 - val_fn: 7.0000 - val_fp: 725.0000 - val_tn: 44780.0000 - val_tp: 57.0000 - val_recall: 0.8906\n",
      "Epoch 2/30\n",
      "90/90 [==============================] - 1s 11ms/step - loss: 0.4502 - fn: 33.0000 - fp: 14225.0000 - tn: 167721.0000 - tp: 297.0000 - recall: 0.9000 - val_loss: 0.0310 - val_fn: 7.0000 - val_fp: 405.0000 - val_tn: 45100.0000 - val_tp: 57.0000 - val_recall: 0.8906\n",
      "Epoch 3/30\n",
      "90/90 [==============================] - 1s 11ms/step - loss: 0.4155 - fn: 35.0000 - fp: 15323.0000 - tn: 166623.0000 - tp: 295.0000 - recall: 0.8939 - val_loss: 0.4598 - val_fn: 3.0000 - val_fp: 3425.0000 - val_tn: 42080.0000 - val_tp: 61.0000 - val_recall: 0.9531\n",
      "Epoch 4/30\n",
      "90/90 [==============================] - 1s 12ms/step - loss: 0.9102 - fn: 40.0000 - fp: 13002.0000 - tn: 168944.0000 - tp: 290.0000 - recall: 0.8788 - val_loss: 0.1433 - val_fn: 6.0000 - val_fp: 2211.0000 - val_tn: 43294.0000 - val_tp: 58.0000 - val_recall: 0.9062\n",
      "Epoch 5/30\n",
      "90/90 [==============================] - 1s 12ms/step - loss: 1.9597 - fn: 34.0000 - fp: 20193.0000 - tn: 161753.0000 - tp: 296.0000 - recall: 0.8970 - val_loss: 0.1255 - val_fn: 9.0000 - val_fp: 2177.0000 - val_tn: 43328.0000 - val_tp: 55.0000 - val_recall: 0.8594\n",
      "Epoch 6/30\n",
      "90/90 [==============================] - 1s 11ms/step - loss: 1.6163 - fn: 32.0000 - fp: 35725.0000 - tn: 146221.0000 - tp: 298.0000 - recall: 0.9030 - val_loss: 0.2152 - val_fn: 5.0000 - val_fp: 1853.0000 - val_tn: 43652.0000 - val_tp: 59.0000 - val_recall: 0.9219\n",
      "Epoch 7/30\n",
      "90/90 [==============================] - 1s 11ms/step - loss: 0.9663 - fn: 30.0000 - fp: 31048.0000 - tn: 150898.0000 - tp: 300.0000 - recall: 0.9091 - val_loss: 0.3935 - val_fn: 11.0000 - val_fp: 25.0000 - val_tn: 45480.0000 - val_tp: 53.0000 - val_recall: 0.8281\n",
      "Epoch 8/30\n",
      "90/90 [==============================] - 1s 11ms/step - loss: 0.6621 - fn: 63.0000 - fp: 6835.0000 - tn: 175111.0000 - tp: 267.0000 - recall: 0.8091 - val_loss: 0.3799 - val_fn: 11.0000 - val_fp: 10.0000 - val_tn: 45495.0000 - val_tp: 53.0000 - val_recall: 0.8281\n",
      "Epoch 9/30\n",
      "90/90 [==============================] - 1s 11ms/step - loss: 1.3158 - fn: 68.0000 - fp: 5269.0000 - tn: 176677.0000 - tp: 262.0000 - recall: 0.7939 - val_loss: 0.3753 - val_fn: 11.0000 - val_fp: 9.0000 - val_tn: 45496.0000 - val_tp: 53.0000 - val_recall: 0.8281\n",
      "Epoch 10/30\n",
      "90/90 [==============================] - 1s 11ms/step - loss: 0.6955 - fn: 67.0000 - fp: 3359.0000 - tn: 178587.0000 - tp: 263.0000 - recall: 0.7970 - val_loss: 0.2068 - val_fn: 11.0000 - val_fp: 9.0000 - val_tn: 45496.0000 - val_tp: 53.0000 - val_recall: 0.8281\n",
      "Epoch 11/30\n",
      "90/90 [==============================] - 1s 11ms/step - loss: 0.9821 - fn: 63.0000 - fp: 10186.0000 - tn: 171760.0000 - tp: 267.0000 - recall: 0.8091 - val_loss: 0.1562 - val_fn: 11.0000 - val_fp: 9.0000 - val_tn: 45496.0000 - val_tp: 53.0000 - val_recall: 0.8281\n",
      "Epoch 12/30\n",
      "90/90 [==============================] - 1s 11ms/step - loss: 0.6947 - fn: 47.0000 - fp: 18461.0000 - tn: 163485.0000 - tp: 283.0000 - recall: 0.8576 - val_loss: 0.3877 - val_fn: 11.0000 - val_fp: 14.0000 - val_tn: 45491.0000 - val_tp: 53.0000 - val_recall: 0.8281\n",
      "Epoch 13/30\n",
      "90/90 [==============================] - 1s 12ms/step - loss: 0.4497 - fn: 65.0000 - fp: 2402.0000 - tn: 179544.0000 - tp: 265.0000 - recall: 0.8030 - val_loss: 0.3194 - val_fn: 11.0000 - val_fp: 9.0000 - val_tn: 45496.0000 - val_tp: 53.0000 - val_recall: 0.8281\n",
      "Epoch 14/30\n",
      "90/90 [==============================] - 1s 11ms/step - loss: 0.3397 - fn: 66.0000 - fp: 6395.0000 - tn: 175551.0000 - tp: 264.0000 - recall: 0.8000 - val_loss: 0.2678 - val_fn: 11.0000 - val_fp: 9.0000 - val_tn: 45496.0000 - val_tp: 53.0000 - val_recall: 0.8281\n",
      "Epoch 15/30\n",
      "90/90 [==============================] - 1s 11ms/step - loss: 0.4321 - fn: 64.0000 - fp: 10160.0000 - tn: 171786.0000 - tp: 266.0000 - recall: 0.8061 - val_loss: 0.2520 - val_fn: 5.0000 - val_fp: 6884.0000 - val_tn: 38621.0000 - val_tp: 59.0000 - val_recall: 0.9219\n",
      "Epoch 16/30\n",
      "90/90 [==============================] - 1s 11ms/step - loss: 0.3511 - fn: 23.0000 - fp: 27724.0000 - tn: 154222.0000 - tp: 307.0000 - recall: 0.9303 - val_loss: 0.2605 - val_fn: 4.0000 - val_fp: 5062.0000 - val_tn: 40443.0000 - val_tp: 60.0000 - val_recall: 0.9375\n",
      "Epoch 17/30\n",
      "90/90 [==============================] - 1s 12ms/step - loss: 0.2671 - fn: 19.0000 - fp: 21627.0000 - tn: 160319.0000 - tp: 311.0000 - recall: 0.9424 - val_loss: 0.1923 - val_fn: 5.0000 - val_fp: 4018.0000 - val_tn: 41487.0000 - val_tp: 59.0000 - val_recall: 0.9219\n",
      "Epoch 18/30\n",
      "90/90 [==============================] - 1s 11ms/step - loss: 0.3035 - fn: 26.0000 - fp: 18973.0000 - tn: 162973.0000 - tp: 304.0000 - recall: 0.9212 - val_loss: 0.1959 - val_fn: 4.0000 - val_fp: 4349.0000 - val_tn: 41156.0000 - val_tp: 60.0000 - val_recall: 0.9375\n",
      "Epoch 19/30\n",
      "90/90 [==============================] - 1s 11ms/step - loss: 0.2180 - fn: 14.0000 - fp: 16266.0000 - tn: 165680.0000 - tp: 316.0000 - recall: 0.9576 - val_loss: 0.1432 - val_fn: 6.0000 - val_fp: 1488.0000 - val_tn: 44017.0000 - val_tp: 58.0000 - val_recall: 0.9062\n",
      "Epoch 20/30\n",
      "90/90 [==============================] - 1s 11ms/step - loss: 0.2126 - fn: 22.0000 - fp: 10509.0000 - tn: 171437.0000 - tp: 308.0000 - recall: 0.9333 - val_loss: 0.1064 - val_fn: 6.0000 - val_fp: 1492.0000 - val_tn: 44013.0000 - val_tp: 58.0000 - val_recall: 0.9062\n",
      "Epoch 21/30\n",
      "90/90 [==============================] - 1s 12ms/step - loss: 0.2165 - fn: 18.0000 - fp: 12485.0000 - tn: 169461.0000 - tp: 312.0000 - recall: 0.9455 - val_loss: 0.1642 - val_fn: 5.0000 - val_fp: 3299.0000 - val_tn: 42206.0000 - val_tp: 59.0000 - val_recall: 0.9219\n",
      "Epoch 22/30\n",
      "90/90 [==============================] - 1s 11ms/step - loss: 0.2304 - fn: 16.0000 - fp: 15739.0000 - tn: 166207.0000 - tp: 314.0000 - recall: 0.9515 - val_loss: 0.1485 - val_fn: 5.0000 - val_fp: 2953.0000 - val_tn: 42552.0000 - val_tp: 59.0000 - val_recall: 0.9219\n",
      "Epoch 23/30\n",
      "90/90 [==============================] - 1s 11ms/step - loss: 0.1735 - fn: 12.0000 - fp: 13609.0000 - tn: 168337.0000 - tp: 318.0000 - recall: 0.9636 - val_loss: 0.1285 - val_fn: 5.0000 - val_fp: 2291.0000 - val_tn: 43214.0000 - val_tp: 59.0000 - val_recall: 0.9219\n",
      "Epoch 24/30\n",
      "90/90 [==============================] - 1s 11ms/step - loss: 0.2188 - fn: 11.0000 - fp: 16483.0000 - tn: 165463.0000 - tp: 319.0000 - recall: 0.9667 - val_loss: 0.1698 - val_fn: 5.0000 - val_fp: 2278.0000 - val_tn: 43227.0000 - val_tp: 59.0000 - val_recall: 0.9219\n",
      "Epoch 25/30\n",
      "90/90 [==============================] - 1s 12ms/step - loss: 0.2854 - fn: 16.0000 - fp: 15072.0000 - tn: 166874.0000 - tp: 314.0000 - recall: 0.9515 - val_loss: 0.1578 - val_fn: 5.0000 - val_fp: 2720.0000 - val_tn: 42785.0000 - val_tp: 59.0000 - val_recall: 0.9219\n",
      "Epoch 26/30\n",
      "90/90 [==============================] - 1s 11ms/step - loss: 0.8972 - fn: 13.0000 - fp: 17345.0000 - tn: 164601.0000 - tp: 317.0000 - recall: 0.9606 - val_loss: 0.3000 - val_fn: 5.0000 - val_fp: 2458.0000 - val_tn: 43047.0000 - val_tp: 59.0000 - val_recall: 0.9219\n",
      "Epoch 27/30\n",
      "90/90 [==============================] - 1s 11ms/step - loss: 0.3464 - fn: 23.0000 - fp: 18042.0000 - tn: 163904.0000 - tp: 307.0000 - recall: 0.9303 - val_loss: 0.1951 - val_fn: 5.0000 - val_fp: 2142.0000 - val_tn: 43363.0000 - val_tp: 59.0000 - val_recall: 0.9219\n",
      "Epoch 28/30\n",
      "90/90 [==============================] - 1s 11ms/step - loss: 0.2559 - fn: 20.0000 - fp: 16254.0000 - tn: 165692.0000 - tp: 310.0000 - recall: 0.9394 - val_loss: 0.1837 - val_fn: 5.0000 - val_fp: 2778.0000 - val_tn: 42727.0000 - val_tp: 59.0000 - val_recall: 0.9219\n",
      "Epoch 29/30\n",
      "90/90 [==============================] - 1s 12ms/step - loss: 0.3060 - fn: 15.0000 - fp: 15503.0000 - tn: 166443.0000 - tp: 315.0000 - recall: 0.9545 - val_loss: 0.2037 - val_fn: 5.0000 - val_fp: 1923.0000 - val_tn: 43582.0000 - val_tp: 59.0000 - val_recall: 0.9219\n",
      "Epoch 30/30\n",
      "90/90 [==============================] - 1s 11ms/step - loss: 0.2482 - fn: 16.0000 - fp: 13157.0000 - tn: 168789.0000 - tp: 314.0000 - recall: 0.9515 - val_loss: 0.1403 - val_fn: 5.0000 - val_fp: 1888.0000 - val_tn: 43617.0000 - val_tp: 59.0000 - val_recall: 0.9219\n"
     ]
    },
    {
     "data": {
      "text/plain": [
       "Text(0.5, 0, 'Epoch')"
      ]
     },
     "execution_count": 265,
     "metadata": {},
     "output_type": "execute_result"
    },
    {
     "data": {
      "image/png": "[encoded data removed]",
      "text/plain": [
       "<Figure size 600x500 with 2 Axes>"
      ]
     },
     "metadata": {},
     "output_type": "display_data"
    }
   ],
   "source": [
    "from tensorflow.keras import metrics, optimizers, losses, callbacks\n",
    "\n",
    "# Define the metrics to be used for model evaluation\n",
    "metrics_ = [\n",
    "    metrics.FalseNegatives(name=\"fn\"),\n",
    "    metrics.FalsePositives(name=\"fp\"),\n",
    "    metrics.TrueNegatives(name=\"tn\"),\n",
    "    metrics.TruePositives(name=\"tp\"),\n",
    "    metrics.Recall(name=\"recall\"),\n",
    "]\n",
    "\n",
    "# Compile the model\n",
    "model.compile(\n",
    "    optimizer=optimizers.Adam(1e-2),\n",
    "    loss=losses.binary_crossentropy,\n",
    "    metrics=metrics_,\n",
    ")\n",
    "\n",
    "# Define callbacks\n",
    "callbacks_ = [\n",
    "    callbacks.ModelCheckpoint(\n",
    "        filepath=\"fraud_model.h5\",\n",
    "        save_best_only=True,\n",
    "        save_weights_only=True,\n",
    "    ),\n",
    "    # callbacks.EarlyStopping(\n",
    "    #     monitor=\"val_loss\",\n",
    "    #     patience=5,\n",
    "    #     restore_best_weights=True,\n",
    "    # ),\n",
    "]\n",
    "\n",
    "# Train the model\n",
    "history = model.fit(\n",
    "    # x=X_train,\n",
    "    x=X_train_scaled,\n",
    "    y=y_train,\n",
    "    # validation_data=(X_val, y_val),\n",
    "    validation_data=(X_val_scaled, y_val),\n",
    "    batch_size=2048,\n",
    "    epochs=30,\n",
    "    callbacks=callbacks_,\n",
    "    class_weight=class_weights,\n",
    ")\n",
    "\n",
    "\n",
    "import matplotlib.pyplot as plt\n",
    "\n",
    "fig, ax = plt.subplots(nrows=2, ncols=1, figsize=(6, 5))\n",
    "\n",
    "# loss\n",
    "ax[0].plot(history.history[\"loss\"], label=\"loss\")\n",
    "ax[0].plot(history.history[\"val_loss\"], label=\"val_loss\")\n",
    "ax[0].set_ylabel(\"loss\")\n",
    "# ax[0].set_ylim(0, 1)\n",
    "ax[0].legend()\n",
    "\n",
    "# recall\n",
    "ax[1].plot(history.history[\"recall\"], label=\"recall\")\n",
    "ax[1].plot(history.history[\"val_recall\"], label=\"val_recall\")\n",
    "ax[1].set_ylabel(\"recall\")\n",
    "# ax[1].set_ylim(0, 1.05)\n",
    "ax[1].legend()\n",
    "\n",
    "plt.xlabel(\"Epoch\")"
   ]
  },
  {
   "cell_type": "markdown",
   "metadata": {},
   "source": []
  },
  {
   "cell_type": "code",
   "execution_count": 263,
   "metadata": {},
   "outputs": [],
   "source": [
    "# import matplotlib.pyplot as plt\n",
    "\n",
    "# fig, axes = plt.subplots(nrows=2, ncols=1, sharex=True, figsize=(6, 5))\n",
    "\n",
    "# for ax, m in zip(axes, ['loss', 'recall']):\n",
    "#     ax.plot(history.history[m], label=m)\n",
    "#     ax.plot(history.history[\"val_\" + m], label=\"val_\" + m)\n",
    "#     plt.ylim(0,)\n",
    "#     # ax.set_xlabel(\"Epoch\")\n",
    "#     ax.set_ylabel(m)\n",
    "#     ax.legend()\n",
    "# # plt.xlabel(\"Epoch\")"
   ]
  },
  {
   "cell_type": "code",
   "execution_count": 264,
   "metadata": {},
   "outputs": [],
   "source": [
    "# results_list = model.evaluate(X_test_scaled, y_test, batch_size=1024)\n",
    "\n",
    "# results = dict(zip(model.metrics_names, results))\n",
    "# results"
   ]
  }
 ],
 "metadata": {
  "kernelspec": {
   "display_name": ".venv",
   "language": "python",
   "name": "python3"
  },
  "language_info": {
   "codemirror_mode": {
    "name": "ipython",
    "version": 3
   },
   "file_extension": ".py",
   "mimetype": "text/x-python",
   "name": "python",
   "nbconvert_exporter": "python",
   "pygments_lexer": "ipython3",
   "version": "3.11.4"
  },
  "orig_nbformat": 4
 },
 "nbformat": 4,
 "nbformat_minor": 2
}
