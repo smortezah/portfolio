{
 "cells": [
  {
   "cell_type": "markdown",
   "metadata": {},
   "source": [
    "Click [here](https://medium.com/@morihosseini/mastering-advanced-python-built-ins-5f82ae82a5db) to access the associated Medium article."
   ]
  },
  {
   "cell_type": "markdown",
   "metadata": {},
   "source": [
    "# 11. `iter`"
   ]
  },
  {
   "cell_type": "markdown",
   "metadata": {},
   "source": [
    "## Example 1: Creating an Iterator from an Iterable"
   ]
  },
  {
   "cell_type": "code",
   "execution_count": 71,
   "metadata": {},
   "outputs": [
    {
     "name": "stdout",
     "output_type": "stream",
     "text": [
      "Apple\n",
      "Banana\n",
      "Cherry\n"
     ]
    }
   ],
   "source": [
    "fruits = [\"Apple\", \"Banana\", \"Cherry\"]\n",
    "\n",
    "# Create an iterator\n",
    "fruit_iterator = iter(fruits)\n",
    "\n",
    "# Manually iterate using next()\n",
    "print(next(fruit_iterator))\n",
    "print(next(fruit_iterator))\n",
    "print(next(fruit_iterator))\n",
    "# next(fruit_iterator)      # Raises StopIteration"
   ]
  },
  {
   "cell_type": "markdown",
   "metadata": {},
   "source": [
    "## Example 2: Usage with a Sentinel Value"
   ]
  },
  {
   "cell_type": "code",
   "execution_count": 72,
   "metadata": {},
   "outputs": [
    {
     "name": "stdout",
     "output_type": "stream",
     "text": [
      "You entered: hello\n"
     ]
    }
   ],
   "source": [
    "# Define a generator function\n",
    "def get_input():\n",
    "    return input(\"Enter a word (type 'quit' to stop): \")\n",
    "\n",
    "# Create an iterator that stops when 'quit' is entered\n",
    "input_iterator = iter(get_input, \"quit\")\n",
    "\n",
    "for word in input_iterator:\n",
    "    print(f\"You entered: {word}\")"
   ]
  },
  {
   "cell_type": "markdown",
   "metadata": {},
   "source": [
    "## Example 3: Infinite Iterators with Callables"
   ]
  },
  {
   "cell_type": "code",
   "execution_count": 73,
   "metadata": {},
   "outputs": [
    {
     "name": "stdout",
     "output_type": "stream",
     "text": [
      "41\n",
      "40\n",
      "75\n",
      "39\n",
      "51\n"
     ]
    }
   ],
   "source": [
    "import random\n",
    "\n",
    "# Create an infinite iterator that generates random numbers\n",
    "random_iterator = iter(lambda: random.randint(1, 100), None)  # Sentinel is None, which will never be returned\n",
    "\n",
    "# Fetch the first 5 random numbers\n",
    "for _ in range(5):\n",
    "    print(next(random_iterator))"
   ]
  },
  {
   "cell_type": "markdown",
   "metadata": {},
   "source": [
    "## Example 4: Custom Iterator Classes"
   ]
  },
  {
   "cell_type": "code",
   "execution_count": 74,
   "metadata": {},
   "outputs": [
    {
     "name": "stdout",
     "output_type": "stream",
     "text": [
      "5\n",
      "4\n",
      "3\n",
      "2\n",
      "1\n"
     ]
    }
   ],
   "source": [
    "class Countdown:\n",
    "    def __init__(self, start):\n",
    "        self.current = start\n",
    "\n",
    "    def __iter__(self):\n",
    "        return self\n",
    "\n",
    "    def __next__(self):\n",
    "        if self.current <= 0:\n",
    "            raise StopIteration\n",
    "        self.current -= 1\n",
    "        return self.current + 1\n",
    "\n",
    "\n",
    "# Create a countdown iterator\n",
    "countdown = Countdown(5)\n",
    "countdown_iterator = iter(countdown)\n",
    "\n",
    "for number in countdown_iterator:\n",
    "    print(number)"
   ]
  },
  {
   "cell_type": "markdown",
   "metadata": {},
   "source": [
    "## Combining `iter` with `next` for Safe Iteration"
   ]
  },
  {
   "cell_type": "code",
   "execution_count": 75,
   "metadata": {},
   "outputs": [
    {
     "name": "stdout",
     "output_type": "stream",
     "text": [
      "10\n",
      "20\n",
      "30\n",
      "No more elements\n"
     ]
    }
   ],
   "source": [
    "numbers = [10, 20, 30]\n",
    "iterator = iter(numbers)\n",
    "\n",
    "print(next(iterator, \"No more elements\"))\n",
    "print(next(iterator, \"No more elements\"))\n",
    "print(next(iterator, \"No more elements\"))\n",
    "print(next(iterator, \"No more elements\"))"
   ]
  },
  {
   "cell_type": "markdown",
   "metadata": {},
   "source": [
    "## Advanced Example: Implementing a Sentinel-Based Event Listener"
   ]
  },
  {
   "cell_type": "code",
   "execution_count": 76,
   "metadata": {},
   "outputs": [
    {
     "name": "stdout",
     "output_type": "stream",
     "text": [
      "Processing event: hello\n",
      "Processing event: world\n",
      "Processing event: world\n",
      "Processing event: stop\n"
     ]
    }
   ],
   "source": [
    "def get_event():\n",
    "    # Simulate event retrieval\n",
    "    event = input(\"Enter event (type 'shutdown' to stop): \")\n",
    "    return event\n",
    "\n",
    "# Create an iterator that stops when 'shutdown' is entered\n",
    "event_iterator = iter(get_event, \"shutdown\")\n",
    "\n",
    "for event in event_iterator:\n",
    "    print(f\"Processing event: {event}\")"
   ]
  },
  {
   "cell_type": "markdown",
   "metadata": {},
   "source": [
    "# 12. `vars`"
   ]
  },
  {
   "cell_type": "markdown",
   "metadata": {},
   "source": [
    "## Example 1: Inspecting Attributes of a Custom Object"
   ]
  },
  {
   "cell_type": "code",
   "execution_count": 77,
   "metadata": {},
   "outputs": [
    {
     "name": "stdout",
     "output_type": "stream",
     "text": [
      "{'name': 'Alice', 'age': 30}\n"
     ]
    }
   ],
   "source": [
    "class Person:\n",
    "    def __init__(self, name, age):\n",
    "        self.name = name\n",
    "        self.age = age\n",
    "\n",
    "# Create an instance\n",
    "person = Person(\"Alice\", 30)\n",
    "\n",
    "# Use vars() to inspect attributes\n",
    "print(vars(person))"
   ]
  },
  {
   "cell_type": "markdown",
   "metadata": {},
   "source": [
    "## Example 2: Dynamically Add or Modify Attributes"
   ]
  },
  {
   "cell_type": "code",
   "execution_count": 78,
   "metadata": {},
   "outputs": [
    {
     "name": "stdout",
     "output_type": "stream",
     "text": [
      "{'name': 'Alice', 'age': 31, 'city': 'New York'}\n"
     ]
    }
   ],
   "source": [
    "# Modify attributes dynamically\n",
    "vars(person)[\"age\"] = 31\n",
    "vars(person)[\"city\"] = \"New York\"\n",
    "\n",
    "print(vars(person))"
   ]
  },
  {
   "cell_type": "markdown",
   "metadata": {},
   "source": [
    "# 13. `exec`"
   ]
  },
  {
   "cell_type": "markdown",
   "metadata": {},
   "source": [
    "## Example 1: Dynamically Define Functions"
   ]
  },
  {
   "cell_type": "code",
   "execution_count": 79,
   "metadata": {},
   "outputs": [
    {
     "name": "stdout",
     "output_type": "stream",
     "text": [
      "15\n"
     ]
    }
   ],
   "source": [
    "# Define a function dynamically\n",
    "func_name = \"add_numbers\"\n",
    "func_code = \"\"\"\n",
    "def {name}(a, b):\n",
    "    return a + b\n",
    "\"\"\".format(name=func_name)\n",
    "\n",
    "# Execute the code to define the function\n",
    "exec(func_code)\n",
    "\n",
    "# Use the dynamically created function\n",
    "print(add_numbers(5, 10))"
   ]
  },
  {
   "cell_type": "markdown",
   "metadata": {},
   "source": [
    "## Example 2: Dynamically Modify Classes"
   ]
  },
  {
   "cell_type": "code",
   "execution_count": 80,
   "metadata": {},
   "outputs": [
    {
     "name": "stdout",
     "output_type": "stream",
     "text": [
      "DynamicClass instance with value: 42\n"
     ]
    }
   ],
   "source": [
    "class_template = \"\"\"\n",
    "class {name}:\n",
    "    def __init__(self, value):\n",
    "        self.value = value\n",
    "\n",
    "    def display(self):\n",
    "        print(f\"{name} instance with value: {{self.value}}\")\n",
    "\"\"\"\n",
    "\n",
    "class_name = \"DynamicClass\"\n",
    "exec(class_template.format(name=class_name))\n",
    "\n",
    "# Instantiate the dynamically created class\n",
    "instance = DynamicClass(42)\n",
    "instance.display()"
   ]
  },
  {
   "cell_type": "markdown",
   "metadata": {},
   "source": [
    "# 14. `eval`"
   ]
  },
  {
   "cell_type": "markdown",
   "metadata": {},
   "source": [
    "## Example 1: Building a Simple Calculator"
   ]
  },
  {
   "cell_type": "code",
   "execution_count": 81,
   "metadata": {},
   "outputs": [
    {
     "name": "stdout",
     "output_type": "stream",
     "text": [
      "The result is: 21\n"
     ]
    }
   ],
   "source": [
    "expression = input(\"Enter a mathematical expression: \")  # Example: \"3 * (2 + 5)\"\n",
    "try:\n",
    "    result = eval(expression)\n",
    "    print(f\"The result is: {result}\")\n",
    "except Exception as e:\n",
    "    print(f\"Invalid expression: {e}\")"
   ]
  },
  {
   "cell_type": "markdown",
   "metadata": {},
   "source": [
    "## Example 2: Dynamic Variable Evaluation"
   ]
  },
  {
   "cell_type": "code",
   "execution_count": 82,
   "metadata": {},
   "outputs": [
    {
     "name": "stdout",
     "output_type": "stream",
     "text": [
      "The result of 'x * y + 5' is: 205\n"
     ]
    }
   ],
   "source": [
    "x = 10\n",
    "y = 20\n",
    "expression = \"x * y + 5\"\n",
    "result = eval(expression)\n",
    "print(f\"The result of '{expression}' is: {result}\")"
   ]
  },
  {
   "cell_type": "markdown",
   "metadata": {},
   "source": [
    "## Example 3: Configuration Parsing"
   ]
  },
  {
   "cell_type": "code",
   "execution_count": 83,
   "metadata": {},
   "outputs": [
    {
     "name": "stdout",
     "output_type": "stream",
     "text": [
      "{'threshold': 15, 'scale_factor': 6.28}\n"
     ]
    }
   ],
   "source": [
    "config = {\"threshold\": \"10 + 5\", \"scale_factor\": \"2 * 3.14\"}\n",
    "\n",
    "# Evaluate the configuration dynamically\n",
    "evaluated_config = {key: eval(value) for key, value in config.items()}\n",
    "print(evaluated_config)"
   ]
  },
  {
   "cell_type": "markdown",
   "metadata": {},
   "source": [
    "## Restrict Globals and Locals"
   ]
  },
  {
   "cell_type": "code",
   "execution_count": 84,
   "metadata": {},
   "outputs": [
    {
     "name": "stdout",
     "output_type": "stream",
     "text": [
      "4.0\n"
     ]
    }
   ],
   "source": [
    "safe_globals = {\"__builtins__\": None, \"math\": __import__(\"math\")}\n",
    "print(eval(\"math.sqrt(16)\", safe_globals))  # Output: 4.0"
   ]
  },
  {
   "cell_type": "markdown",
   "metadata": {},
   "source": [
    "# 15. `memoryview`"
   ]
  },
  {
   "cell_type": "markdown",
   "metadata": {},
   "source": [
    "## Example 1: Basic Usage"
   ]
  },
  {
   "cell_type": "code",
   "execution_count": 85,
   "metadata": {},
   "outputs": [
    {
     "name": "stdout",
     "output_type": "stream",
     "text": [
      "1\n",
      "<memory at 0x10368bd00>\n"
     ]
    }
   ],
   "source": [
    "data = bytearray([1, 2, 3, 4, 5])\n",
    "view = memoryview(data)\n",
    "\n",
    "# Access the data as a memory view\n",
    "print(view[0])\n",
    "print(view[1:3])"
   ]
  },
  {
   "cell_type": "markdown",
   "metadata": {},
   "source": [
    "## Example 2: Modifying Data"
   ]
  },
  {
   "cell_type": "code",
   "execution_count": 86,
   "metadata": {},
   "outputs": [
    {
     "name": "stdout",
     "output_type": "stream",
     "text": [
      "[10, 20, 30, 4, 5]\n"
     ]
    }
   ],
   "source": [
    "data = bytearray([1, 2, 3, 4, 5])\n",
    "view = memoryview(data)\n",
    "\n",
    "# Modify the data through the memoryview\n",
    "view[0] = 10\n",
    "view[1:3] = bytearray([20, 30])\n",
    "\n",
    "print(list(data))"
   ]
  },
  {
   "cell_type": "markdown",
   "metadata": {},
   "source": [
    "## Example 3: Memory Efficiency"
   ]
  },
  {
   "cell_type": "code",
   "execution_count": 87,
   "metadata": {},
   "outputs": [
    {
     "name": "stdout",
     "output_type": "stream",
     "text": [
      "[100, 101, 102, 103, 104]\n"
     ]
    }
   ],
   "source": [
    "import array\n",
    "\n",
    "# Create a large array of integers\n",
    "arr = array.array('i', range(1000000))\n",
    "\n",
    "# Create a memoryview\n",
    "view = memoryview(arr)\n",
    "\n",
    "# Slicing the memoryview without copying data\n",
    "sub_view = view[100:105]\n",
    "\n",
    "print(sub_view.tolist())  # Efficient slice access without copying the original data"
   ]
  },
  {
   "cell_type": "markdown",
   "metadata": {},
   "source": [
    "## Example 4: Working with Multiple Buffers"
   ]
  },
  {
   "cell_type": "code",
   "execution_count": 88,
   "metadata": {},
   "outputs": [
    {
     "name": "stdout",
     "output_type": "stream",
     "text": [
      "1\n",
      "5\n"
     ]
    }
   ],
   "source": [
    "# Create two separate bytearrays\n",
    "data1 = bytearray([1, 2, 3, 4])\n",
    "data2 = bytearray([5, 6, 7, 8])\n",
    "\n",
    "# Create memoryviews for each bytearray\n",
    "view1 = memoryview(data1)\n",
    "view2 = memoryview(data2)\n",
    "\n",
    "# Access data through memoryviews\n",
    "print(view1[0])\n",
    "print(view2[0])"
   ]
  },
  {
   "cell_type": "markdown",
   "metadata": {},
   "source": [
    "## Example 5: `memoryview` with Slicing and Reshaping"
   ]
  },
  {
   "cell_type": "code",
   "execution_count": null,
   "metadata": {},
   "outputs": [],
   "source": [
    "!pip install numpy"
   ]
  },
  {
   "cell_type": "code",
   "execution_count": null,
   "metadata": {},
   "outputs": [],
   "source": [
    "import numpy as np\n",
    "\n",
    "# Create a NumPy array\n",
    "arr = np.array([[1, 2, 3], [4, 5, 6]])\n",
    "\n",
    "# Create a memoryview of the array\n",
    "view = memoryview(arr)\n",
    "\n",
    "# Slice the memoryview\n",
    "sub_view = view[0, 1:]\n",
    "\n",
    "print(sub_view.tolist())"
   ]
  }
 ],
 "metadata": {
  "kernelspec": {
   "display_name": ".venv3.13",
   "language": "python",
   "name": "python3"
  },
  "language_info": {
   "codemirror_mode": {
    "name": "ipython",
    "version": 3
   },
   "file_extension": ".py",
   "mimetype": "text/x-python",
   "name": "python",
   "nbconvert_exporter": "python",
   "pygments_lexer": "ipython3",
   "version": "3.13.0"
  }
 },
 "nbformat": 4,
 "nbformat_minor": 2
}
