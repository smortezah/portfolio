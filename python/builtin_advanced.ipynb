{
 "cells": [
  {
   "cell_type": "markdown",
   "metadata": {},
   "source": [
    "Click [here]() to access the associated Medium article."
   ]
  },
  {
   "cell_type": "markdown",
   "metadata": {},
   "source": [
    "# 1. `zip`"
   ]
  },
  {
   "cell_type": "markdown",
   "metadata": {},
   "source": [
    "## Example 1: Basic Pairing"
   ]
  },
  {
   "cell_type": "code",
   "execution_count": 1,
   "metadata": {},
   "outputs": [
    {
     "name": "stdout",
     "output_type": "stream",
     "text": [
      "[('Alice', 85), ('Bob', 92), ('Charlie', 78)]\n"
     ]
    }
   ],
   "source": [
    "names = [\"Alice\", \"Bob\", \"Charlie\"]\n",
    "scores = [85, 92, 78]\n",
    "\n",
    "# Pair names with scores\n",
    "paired = zip(names, scores)\n",
    "\n",
    "print(list(paired))"
   ]
  },
  {
   "cell_type": "markdown",
   "metadata": {},
   "source": [
    "## Example 2: Transposing Data"
   ]
  },
  {
   "cell_type": "code",
   "execution_count": 2,
   "metadata": {},
   "outputs": [
    {
     "name": "stdout",
     "output_type": "stream",
     "text": [
      "('Alice', 'Bob', 'Charlie')\n",
      "(85, 92, 78)\n"
     ]
    }
   ],
   "source": [
    "data = [('Alice', 85), ('Bob', 92), ('Charlie', 78)]\n",
    "\n",
    "# Unzip the data into two separate lists\n",
    "names, scores = zip(*data)\n",
    "\n",
    "print(names)\n",
    "print(scores)"
   ]
  },
  {
   "cell_type": "markdown",
   "metadata": {},
   "source": [
    "## Example 3: Handling Iterables of Uneven Length"
   ]
  },
  {
   "cell_type": "code",
   "execution_count": 3,
   "metadata": {},
   "outputs": [
    {
     "name": "stdout",
     "output_type": "stream",
     "text": [
      "[(1, 'x'), (2, 'y')]\n"
     ]
    }
   ],
   "source": [
    "a = [1, 2, 3]\n",
    "b = [\"x\", \"y\"]\n",
    "\n",
    "# Combine uneven lists\n",
    "print(list(zip(a, b)))"
   ]
  },
  {
   "cell_type": "code",
   "execution_count": 4,
   "metadata": {},
   "outputs": [
    {
     "name": "stdout",
     "output_type": "stream",
     "text": [
      "[(1, 'x'), (2, 'y'), (3, 'z')]\n"
     ]
    }
   ],
   "source": [
    "from itertools import zip_longest\n",
    "\n",
    "print(list(zip_longest(a, b, fillvalue=\"z\")))"
   ]
  },
  {
   "cell_type": "markdown",
   "metadata": {},
   "source": [
    "## Example 4: Iterating Over Multiple Lists Simultaneously"
   ]
  },
  {
   "cell_type": "code",
   "execution_count": 5,
   "metadata": {},
   "outputs": [
    {
     "name": "stdout",
     "output_type": "stream",
     "text": [
      "2 Apples\n",
      "3 Bananas\n",
      "5 Cherries\n"
     ]
    }
   ],
   "source": [
    "quantities = [2, 3, 5]\n",
    "items = [\"Apples\", \"Bananas\", \"Cherries\"]\n",
    "\n",
    "for item, quantity in zip(items, quantities):\n",
    "    print(f\"{quantity} {item}\")"
   ]
  },
  {
   "cell_type": "markdown",
   "metadata": {},
   "source": [
    "## Example 5: Advanced Use Case - Creating Dictionaries"
   ]
  },
  {
   "cell_type": "code",
   "execution_count": 6,
   "metadata": {},
   "outputs": [
    {
     "name": "stdout",
     "output_type": "stream",
     "text": [
      "{'name': 'Alice', 'age': 30, 'city': 'New York'}\n"
     ]
    }
   ],
   "source": [
    "keys = [\"name\", \"age\", \"city\"]\n",
    "values = [\"Alice\", 30, \"New York\"]\n",
    "\n",
    "data = dict(zip(keys, values))\n",
    "print(data)"
   ]
  },
  {
   "cell_type": "markdown",
   "metadata": {},
   "source": [
    "## Example 6: Transposing a Matrix"
   ]
  },
  {
   "cell_type": "code",
   "execution_count": 7,
   "metadata": {},
   "outputs": [
    {
     "name": "stdout",
     "output_type": "stream",
     "text": [
      "[(1, 4, 7), (2, 5, 8), (3, 6, 9)]\n"
     ]
    }
   ],
   "source": [
    "matrix = [\n",
    "    [1, 2, 3],\n",
    "    [4, 5, 6],\n",
    "    [7, 8, 9]\n",
    "]\n",
    "\n",
    "transposed = list(zip(*matrix))\n",
    "print(transposed)"
   ]
  },
  {
   "cell_type": "markdown",
   "metadata": {},
   "source": [
    "## Combine with List Comprehensions"
   ]
  },
  {
   "cell_type": "code",
   "execution_count": 8,
   "metadata": {},
   "outputs": [
    {
     "name": "stdout",
     "output_type": "stream",
     "text": [
      "['Alice: 85', 'Bob: 92', 'Charlie: 78']\n"
     ]
    }
   ],
   "source": [
    "# Combine and format strings dynamically\n",
    "names = [\"Alice\", \"Bob\", \"Charlie\"]\n",
    "scores = [85, 92, 78]\n",
    "formatted = [f\"{name}: {score}\" for name, score in zip(names, scores)]\n",
    "\n",
    "print(formatted)"
   ]
  },
  {
   "cell_type": "markdown",
   "metadata": {},
   "source": [
    "# 2. `enumerate`"
   ]
  },
  {
   "cell_type": "markdown",
   "metadata": {},
   "source": [
    "## Example 1: Basic Usage"
   ]
  },
  {
   "cell_type": "code",
   "execution_count": 9,
   "metadata": {},
   "outputs": [
    {
     "name": "stdout",
     "output_type": "stream",
     "text": [
      "0: Apple\n",
      "1: Banana\n",
      "2: Cherry\n"
     ]
    }
   ],
   "source": [
    "fruits = [\"Apple\", \"Banana\", \"Cherry\"]\n",
    "\n",
    "# Enumerate the list\n",
    "for index, fruit in enumerate(fruits):\n",
    "    print(f\"{index}: {fruit}\")"
   ]
  },
  {
   "cell_type": "markdown",
   "metadata": {},
   "source": [
    "## Example 2: Customizing the Starting Index"
   ]
  },
  {
   "cell_type": "code",
   "execution_count": 10,
   "metadata": {},
   "outputs": [
    {
     "name": "stdout",
     "output_type": "stream",
     "text": [
      "1: Apple\n",
      "2: Banana\n",
      "3: Cherry\n"
     ]
    }
   ],
   "source": [
    "for index, fruit in enumerate(fruits, start=1):\n",
    "    print(f\"{index}: {fruit}\")"
   ]
  },
  {
   "cell_type": "markdown",
   "metadata": {},
   "source": [
    "## Example 3: Enumerating Strings"
   ]
  },
  {
   "cell_type": "code",
   "execution_count": 11,
   "metadata": {},
   "outputs": [
    {
     "name": "stdout",
     "output_type": "stream",
     "text": [
      "Character at index 0: P\n",
      "Character at index 1: y\n",
      "Character at index 2: t\n",
      "Character at index 3: h\n",
      "Character at index 4: o\n",
      "Character at index 5: n\n"
     ]
    }
   ],
   "source": [
    "word = \"Python\"\n",
    "\n",
    "for index, char in enumerate(word):\n",
    "    print(f\"Character at index {index}: {char}\")"
   ]
  },
  {
   "cell_type": "markdown",
   "metadata": {},
   "source": [
    "## Example 4: Building Dictionaries with Indices"
   ]
  },
  {
   "cell_type": "code",
   "execution_count": 12,
   "metadata": {},
   "outputs": [
    {
     "name": "stdout",
     "output_type": "stream",
     "text": [
      "{0: 'Apple', 1: 'Banana', 2: 'Cherry'}\n"
     ]
    }
   ],
   "source": [
    "fruit_dict = {index: fruit for index, fruit in enumerate(fruits)}\n",
    "print(fruit_dict)"
   ]
  },
  {
   "cell_type": "markdown",
   "metadata": {},
   "source": [
    "## Example 5: Enumerating with Multiple Iterables"
   ]
  },
  {
   "cell_type": "code",
   "execution_count": 13,
   "metadata": {},
   "outputs": [
    {
     "name": "stdout",
     "output_type": "stream",
     "text": [
      "0: Apple - 10\n",
      "1: Banana - 5\n",
      "2: Cherry - 8\n"
     ]
    }
   ],
   "source": [
    "quantities = [10, 5, 8]\n",
    "\n",
    "for index, (fruit, quantity) in enumerate(zip(fruits, quantities)):\n",
    "    print(f\"{index}: {fruit} - {quantity}\")"
   ]
  },
  {
   "cell_type": "markdown",
   "metadata": {},
   "source": [
    "## Example 6: Enumerating with Conditionals"
   ]
  },
  {
   "cell_type": "code",
   "execution_count": 14,
   "metadata": {},
   "outputs": [
    {
     "name": "stdout",
     "output_type": "stream",
     "text": [
      "Even index 0: Apple\n",
      "Even index 2: Cherry\n"
     ]
    }
   ],
   "source": [
    "# Identify and process even-indexed fruits\n",
    "for index, fruit in enumerate(fruits):\n",
    "    if index % 2 == 0:\n",
    "        print(f\"Even index {index}: {fruit}\")"
   ]
  },
  {
   "cell_type": "markdown",
   "metadata": {},
   "source": [
    "## Nest for Multidimensional Structures"
   ]
  },
  {
   "cell_type": "code",
   "execution_count": 15,
   "metadata": {},
   "outputs": [
    {
     "name": "stdout",
     "output_type": "stream",
     "text": [
      "Matrix[0][0] = 1\n",
      "Matrix[0][1] = 2\n",
      "Matrix[0][2] = 3\n",
      "Matrix[1][0] = 4\n",
      "Matrix[1][1] = 5\n",
      "Matrix[1][2] = 6\n",
      "Matrix[2][0] = 7\n",
      "Matrix[2][1] = 8\n",
      "Matrix[2][2] = 9\n"
     ]
    }
   ],
   "source": [
    "matrix = [\n",
    "    [1, 2, 3],\n",
    "    [4, 5, 6],\n",
    "    [7, 8, 9]\n",
    "]\n",
    "\n",
    "for row_idx, row in enumerate(matrix):\n",
    "    for col_idx, value in enumerate(row):\n",
    "        print(f\"Matrix[{row_idx}][{col_idx}] = {value}\")"
   ]
  },
  {
   "cell_type": "markdown",
   "metadata": {},
   "source": [
    "# 3. `partial`"
   ]
  },
  {
   "cell_type": "markdown",
   "metadata": {},
   "source": [
    "## Example 1: Fixing Arguments for Reusability"
   ]
  },
  {
   "cell_type": "code",
   "execution_count": 16,
   "metadata": {},
   "outputs": [
    {
     "name": "stdout",
     "output_type": "stream",
     "text": [
      "10\n",
      "15\n"
     ]
    }
   ],
   "source": [
    "from functools import partial\n",
    "\n",
    "# Partially apply the int function to work with base 2\n",
    "binary_to_int = partial(int, base=2)\n",
    "\n",
    "# Now you can easily convert binary strings to integers\n",
    "print(binary_to_int(\"1010\"))\n",
    "print(binary_to_int(\"1111\"))"
   ]
  },
  {
   "cell_type": "markdown",
   "metadata": {},
   "source": [
    "## Example 2: Preconfigured Callbacks"
   ]
  },
  {
   "cell_type": "code",
   "execution_count": 17,
   "metadata": {},
   "outputs": [
    {
     "name": "stdout",
     "output_type": "stream",
     "text": [
      "Hello, Alice!\n",
      "Goodbye, Bob!\n"
     ]
    }
   ],
   "source": [
    "from functools import partial\n",
    "\n",
    "def greet(greeting, name):\n",
    "    print(f\"{greeting}, {name}!\")\n",
    "\n",
    "# Create a partial function for a fixed greeting\n",
    "say_hello = partial(greet, \"Hello\")\n",
    "say_goodbye = partial(greet, \"Goodbye\")\n",
    "\n",
    "say_hello(\"Alice\")\n",
    "say_goodbye(\"Bob\")"
   ]
  },
  {
   "cell_type": "markdown",
   "metadata": {},
   "source": [
    "## Example 3: Simplifying Repeated Calculations"
   ]
  },
  {
   "cell_type": "code",
   "execution_count": 18,
   "metadata": {},
   "outputs": [
    {
     "name": "stdout",
     "output_type": "stream",
     "text": [
      "16.0\n",
      "9.0\n"
     ]
    }
   ],
   "source": [
    "from functools import partial\n",
    "from math import pow\n",
    "\n",
    "# Create a function to calculate square and cube\n",
    "square = partial(pow, 2)\n",
    "cube = partial(pow, 3)\n",
    "\n",
    "print(square(4))\n",
    "print(cube(2))"
   ]
  },
  {
   "cell_type": "markdown",
   "metadata": {},
   "source": [
    "## Example 4: Combining with Higher-Order Functions"
   ]
  },
  {
   "cell_type": "code",
   "execution_count": 19,
   "metadata": {},
   "outputs": [
    {
     "name": "stdout",
     "output_type": "stream",
     "text": [
      "[10, 20, 30, 40]\n"
     ]
    }
   ],
   "source": [
    "from functools import partial\n",
    "\n",
    "def multiply(x, y):\n",
    "    return x * y\n",
    "\n",
    "# Create a partial function to always multiply by 10\n",
    "multiply_by_10 = partial(multiply, 10)\n",
    "\n",
    "# Use it in map\n",
    "numbers = [1, 2, 3, 4]\n",
    "result = map(multiply_by_10, numbers)\n",
    "print(list(result))"
   ]
  },
  {
   "cell_type": "markdown",
   "metadata": {},
   "source": [
    "## Example 5: Partial with Default Keyword Arguments"
   ]
  },
  {
   "cell_type": "code",
   "execution_count": 20,
   "metadata": {},
   "outputs": [
    {
     "name": "stdout",
     "output_type": "stream",
     "text": [
      "Ordering a medium pizza with thin crust and toppings: pepperoni, mushrooms.\n",
      "Ordering a large pizza with stuffed crust and toppings: cheese, ham.\n"
     ]
    }
   ],
   "source": [
    "from functools import partial\n",
    "\n",
    "def order_pizza(size, crust, toppings=[]):\n",
    "    print(f\"Ordering a {size} pizza with {crust} crust and toppings: {', '.join(toppings)}.\")\n",
    "\n",
    "# Create partial functions for specific pizza preferences\n",
    "thin_crust = partial(order_pizza, crust=\"thin\")\n",
    "large_pizza = partial(order_pizza, size=\"large\")\n",
    "\n",
    "thin_crust(size=\"medium\", toppings=[\"pepperoni\", \"mushrooms\"])\n",
    "\n",
    "large_pizza(crust=\"stuffed\", toppings=[\"cheese\", \"ham\"])"
   ]
  },
  {
   "cell_type": "markdown",
   "metadata": {},
   "source": [
    "# 4. `all` and `any`"
   ]
  },
  {
   "cell_type": "markdown",
   "metadata": {},
   "source": [
    "## Example 1: Validating Conditions"
   ]
  },
  {
   "cell_type": "code",
   "execution_count": 21,
   "metadata": {},
   "outputs": [
    {
     "name": "stdout",
     "output_type": "stream",
     "text": [
      "All passwords meet the length requirement.\n"
     ]
    }
   ],
   "source": [
    "passwords = [\"secure123\", \"adminpass\", \"myp@ssword\"]\n",
    "\n",
    "# Check if all passwords are at least 8 characters long\n",
    "if all(len(p) >= 8 for p in passwords):\n",
    "    print(\"All passwords meet the length requirement.\")\n",
    "else:\n",
    "    print(\"Some passwords are too short.\")"
   ]
  },
  {
   "cell_type": "markdown",
   "metadata": {},
   "source": [
    "## Example 2: Checking for Any Matches"
   ]
  },
  {
   "cell_type": "code",
   "execution_count": 22,
   "metadata": {},
   "outputs": [
    {
     "name": "stdout",
     "output_type": "stream",
     "text": [
      "No passwords contain spaces.\n"
     ]
    }
   ],
   "source": [
    "# Check if any password contains a space\n",
    "if any(\" \" in p for p in passwords):\n",
    "    print(\"Some passwords contain spaces.\")\n",
    "else:\n",
    "    print(\"No passwords contain spaces.\")"
   ]
  },
  {
   "cell_type": "markdown",
   "metadata": {},
   "source": [
    "## Example 3: Combining `all` and `any`"
   ]
  },
  {
   "cell_type": "code",
   "execution_count": 23,
   "metadata": {},
   "outputs": [
    {
     "name": "stdout",
     "output_type": "stream",
     "text": [
      "Some users have no subscriptions.\n"
     ]
    }
   ],
   "source": [
    "users = [\n",
    "    {\"name\": \"Alice\", \"subscriptions\": [\"Premium\"]},\n",
    "    {\"name\": \"Bob\", \"subscriptions\": [\"Free\"]},\n",
    "    {\"name\": \"Charlie\", \"subscriptions\": []},\n",
    "]\n",
    "\n",
    "# Check if all users have at least one subscription\n",
    "if all(any(sub for sub in user[\"subscriptions\"]) for user in users):\n",
    "    print(\"All users have at least one subscription.\")\n",
    "else:\n",
    "    print(\"Some users have no subscriptions.\")"
   ]
  },
  {
   "cell_type": "markdown",
   "metadata": {},
   "source": [
    "## Example 4: Using Empty Iterables"
   ]
  },
  {
   "cell_type": "code",
   "execution_count": 24,
   "metadata": {},
   "outputs": [
    {
     "name": "stdout",
     "output_type": "stream",
     "text": [
      "True\n",
      "False\n"
     ]
    }
   ],
   "source": [
    "print(all([]))\n",
    "print(any([]))"
   ]
  },
  {
   "cell_type": "markdown",
   "metadata": {},
   "source": [
    "## Combine with Generators for Efficiency"
   ]
  },
  {
   "cell_type": "code",
   "execution_count": 25,
   "metadata": {},
   "outputs": [
    {
     "name": "stdout",
     "output_type": "stream",
     "text": [
      "False\n"
     ]
    }
   ],
   "source": [
    "# Check large datasets efficiently\n",
    "large_dataset = (x % 2 == 0 for x in range(1_000_000))\n",
    "print(all(large_dataset))  # Stops at the first odd number"
   ]
  },
  {
   "cell_type": "markdown",
   "metadata": {},
   "source": [
    "# 5. `filter()`"
   ]
  },
  {
   "cell_type": "markdown",
   "metadata": {},
   "source": [
    "## Example 1: Filtering Even Numbers"
   ]
  },
  {
   "cell_type": "code",
   "execution_count": 26,
   "metadata": {},
   "outputs": [
    {
     "name": "stdout",
     "output_type": "stream",
     "text": [
      "[2, 4, 6]\n"
     ]
    }
   ],
   "source": [
    "numbers = [1, 2, 3, 4, 5, 6]\n",
    "\n",
    "# Use filter to extract even numbers\n",
    "evens = filter(lambda x: x % 2 == 0, numbers)\n",
    "print(list(evens))"
   ]
  },
  {
   "cell_type": "markdown",
   "metadata": {},
   "source": [
    "## Example 2: Filtering Strings Based on Length"
   ]
  },
  {
   "cell_type": "code",
   "execution_count": 27,
   "metadata": {},
   "outputs": [
    {
     "name": "stdout",
     "output_type": "stream",
     "text": [
      "['apple', 'banana']\n"
     ]
    }
   ],
   "source": [
    "words = [\"apple\", \"kiwi\", \"banana\", \"pear\"]\n",
    "\n",
    "# Filter words with more than 4 letters\n",
    "long_words = filter(lambda x: len(x) > 4, words)\n",
    "print(list(long_words))"
   ]
  },
  {
   "cell_type": "markdown",
   "metadata": {},
   "source": [
    "## Example 3: Removing Falsy Values"
   ]
  },
  {
   "cell_type": "code",
   "execution_count": 28,
   "metadata": {},
   "outputs": [
    {
     "name": "stdout",
     "output_type": "stream",
     "text": [
      "[1, 'hello', [1, 2]]\n"
     ]
    }
   ],
   "source": [
    "data = [0, 1, \"\", \"hello\", None, [], [1, 2], False]\n",
    "\n",
    "# Filter out falsy values\n",
    "filtered_data = filter(None, data)\n",
    "print(list(filtered_data))"
   ]
  },
  {
   "cell_type": "markdown",
   "metadata": {},
   "source": [
    "## Example 4: Combining `filter` with Named Functions"
   ]
  },
  {
   "cell_type": "code",
   "execution_count": 29,
   "metadata": {},
   "outputs": [
    {
     "name": "stdout",
     "output_type": "stream",
     "text": [
      "[5, 10]\n"
     ]
    }
   ],
   "source": [
    "# Define a filter function\n",
    "def is_positive(number):\n",
    "    return number > 0\n",
    "\n",
    "numbers = [-10, -5, 0, 5, 10]\n",
    "\n",
    "# Use filter with a named function\n",
    "positives = filter(is_positive, numbers)\n",
    "print(list(positives))"
   ]
  },
  {
   "cell_type": "markdown",
   "metadata": {},
   "source": [
    "## Example 5: Filtering with Complex Conditions"
   ]
  },
  {
   "cell_type": "code",
   "execution_count": 30,
   "metadata": {},
   "outputs": [
    {
     "name": "stdout",
     "output_type": "stream",
     "text": [
      "[{'name': 'Alice', 'age': 25}, {'name': 'Charlie', 'age': 30}]\n"
     ]
    }
   ],
   "source": [
    "people = [\n",
    "    {\"name\": \"Alice\", \"age\": 25},\n",
    "    {\"name\": \"Bob\", \"age\": 15},\n",
    "    {\"name\": \"Charlie\", \"age\": 30}\n",
    "]\n",
    "\n",
    "# Filter people older than 18\n",
    "adults = filter(lambda person: person[\"age\"] > 18, people)\n",
    "print(list(adults))"
   ]
  },
  {
   "cell_type": "markdown",
   "metadata": {},
   "source": [
    "## Example 6: Using `filter` with Generators"
   ]
  },
  {
   "cell_type": "code",
   "execution_count": 31,
   "metadata": {},
   "outputs": [
    {
     "name": "stdout",
     "output_type": "stream",
     "text": [
      "[2, 4, 6, 8, 10]\n"
     ]
    }
   ],
   "source": [
    "# Generator for numbers\n",
    "numbers = (x for x in range(1, 1000000))\n",
    "\n",
    "# Filter even numbers from a large range\n",
    "evens = filter(lambda x: x % 2 == 0, numbers)\n",
    "\n",
    "# Print the first 5 results\n",
    "print([next(evens) for _ in range(5)])"
   ]
  },
  {
   "cell_type": "markdown",
   "metadata": {},
   "source": [
    "## Example 7: Filtering and Chaining with `map`"
   ]
  },
  {
   "cell_type": "code",
   "execution_count": 32,
   "metadata": {},
   "outputs": [
    {
     "name": "stdout",
     "output_type": "stream",
     "text": [
      "[4, 16, 36]\n"
     ]
    }
   ],
   "source": [
    "numbers = [1, 2, 3, 4, 5, 6]\n",
    "\n",
    "# Square only the even numbers\n",
    "squared_evens = map(lambda x: x ** 2, filter(lambda x: x % 2 == 0, numbers))\n",
    "print(list(squared_evens))"
   ]
  },
  {
   "cell_type": "markdown",
   "metadata": {},
   "source": [
    "## Debugging `filter`"
   ]
  },
  {
   "cell_type": "code",
   "execution_count": 33,
   "metadata": {},
   "outputs": [
    {
     "name": "stdout",
     "output_type": "stream",
     "text": [
      "[1, 'hello']\n"
     ]
    }
   ],
   "source": [
    "data = [0, 1, \"\", \"hello\", None, []]\n",
    "print(list(filter(None, data)))  # Inspect results directly"
   ]
  },
  {
   "cell_type": "markdown",
   "metadata": {},
   "source": [
    "# 6. `map`"
   ]
  },
  {
   "cell_type": "markdown",
   "metadata": {},
   "source": [
    "## Example 1: Basic Transformation"
   ]
  },
  {
   "cell_type": "code",
   "execution_count": 34,
   "metadata": {},
   "outputs": [
    {
     "name": "stdout",
     "output_type": "stream",
     "text": [
      "[1, 4, 9, 16, 25]\n"
     ]
    }
   ],
   "source": [
    "numbers = [1, 2, 3, 4, 5]\n",
    "\n",
    "# Square each number\n",
    "squared = map(lambda x: x ** 2, numbers)\n",
    "print(list(squared))"
   ]
  },
  {
   "cell_type": "markdown",
   "metadata": {},
   "source": [
    "## Example 2: String Manipulation"
   ]
  },
  {
   "cell_type": "code",
   "execution_count": 35,
   "metadata": {},
   "outputs": [
    {
     "name": "stdout",
     "output_type": "stream",
     "text": [
      "['Python', 'Java', 'C++']\n"
     ]
    }
   ],
   "source": [
    "words = [\"python\", \"java\", \"c++\"]\n",
    "\n",
    "# Capitalize each word\n",
    "capitalized = map(str.capitalize, words)\n",
    "print(list(capitalized))"
   ]
  },
  {
   "cell_type": "markdown",
   "metadata": {},
   "source": [
    "## Example 3: Working with Multiple Iterables"
   ]
  },
  {
   "cell_type": "code",
   "execution_count": 36,
   "metadata": {},
   "outputs": [
    {
     "name": "stdout",
     "output_type": "stream",
     "text": [
      "[5, 7, 9]\n"
     ]
    }
   ],
   "source": [
    "a = [1, 2, 3]\n",
    "b = [4, 5, 6]\n",
    "\n",
    "# Add corresponding elements\n",
    "summed = map(lambda x, y: x + y, a, b)\n",
    "print(list(summed))"
   ]
  },
  {
   "cell_type": "markdown",
   "metadata": {},
   "source": [
    "## Example 4: Transforming Complex Data Structures"
   ]
  },
  {
   "cell_type": "code",
   "execution_count": 37,
   "metadata": {},
   "outputs": [
    {
     "name": "stdout",
     "output_type": "stream",
     "text": [
      "[{'name': 'Alice', 'age': 25}, {'name': 'Bob', 'age': 30}]\n"
     ]
    }
   ],
   "source": [
    "people = [{\"name\": \"alice\", \"age\": 25}, {\"name\": \"bob\", \"age\": 30}]\n",
    "\n",
    "# Capitalize names\n",
    "transformed = map(lambda person: {**person, \"name\": person[\"name\"].capitalize()}, people)\n",
    "print(list(transformed))"
   ]
  },
  {
   "cell_type": "markdown",
   "metadata": {},
   "source": [
    "## Example 5: Combining with `filter`"
   ]
  },
  {
   "cell_type": "code",
   "execution_count": 38,
   "metadata": {},
   "outputs": [
    {
     "name": "stdout",
     "output_type": "stream",
     "text": [
      "[4, 16, 36]\n"
     ]
    }
   ],
   "source": [
    "numbers = [1, 2, 3, 4, 5, 6]\n",
    "\n",
    "# Square only the even numbers\n",
    "squared_evens = map(lambda x: x ** 2, filter(lambda x: x % 2 == 0, numbers))\n",
    "print(list(squared_evens))"
   ]
  },
  {
   "cell_type": "markdown",
   "metadata": {},
   "source": [
    "## Example 6: Using `map` with Generators"
   ]
  },
  {
   "cell_type": "code",
   "execution_count": 39,
   "metadata": {},
   "outputs": [
    {
     "name": "stdout",
     "output_type": "stream",
     "text": [
      "[1, 4, 9, 16, 25]\n"
     ]
    }
   ],
   "source": [
    "# Create a generator for a large range\n",
    "numbers = range(1, 1000000)\n",
    "\n",
    "# Square each number (lazy evaluation)\n",
    "squared = map(lambda x: x ** 2, numbers)\n",
    "\n",
    "# Print the first 5 squared numbers\n",
    "print([next(squared) for _ in range(5)])"
   ]
  },
  {
   "cell_type": "markdown",
   "metadata": {},
   "source": [
    "## Example 7: Nesting `map` for Advanced Transformations"
   ]
  },
  {
   "cell_type": "code",
   "execution_count": 40,
   "metadata": {},
   "outputs": [
    {
     "name": "stdout",
     "output_type": "stream",
     "text": [
      "[12, 30, 48]\n"
     ]
    }
   ],
   "source": [
    "matrix = [[1, 2, 3], [4, 5, 6], [7, 8, 9]]\n",
    "\n",
    "# Flatten and double the values\n",
    "flattened_and_doubled = map(lambda x: x * 2, map(lambda row: sum(row), matrix))\n",
    "print(list(flattened_and_doubled))"
   ]
  },
  {
   "cell_type": "markdown",
   "metadata": {},
   "source": [
    "## Debugging with `list`"
   ]
  },
  {
   "cell_type": "code",
   "execution_count": 41,
   "metadata": {},
   "outputs": [
    {
     "name": "stdout",
     "output_type": "stream",
     "text": [
      "[1, 4, 9]\n"
     ]
    }
   ],
   "source": [
    "numbers = [1, 2, 3]\n",
    "print(list(map(lambda x: x ** 2, numbers)))"
   ]
  },
  {
   "cell_type": "markdown",
   "metadata": {},
   "source": [
    "# 7. `getattr` and `setattr`"
   ]
  },
  {
   "cell_type": "markdown",
   "metadata": {},
   "source": [
    "## Example 1: Accessing Attributes Dynamically with `getattr`"
   ]
  },
  {
   "cell_type": "code",
   "execution_count": 42,
   "metadata": {},
   "outputs": [
    {
     "name": "stdout",
     "output_type": "stream",
     "text": [
      "1200\n",
      "Not available\n"
     ]
    }
   ],
   "source": [
    "class Product:\n",
    "    def __init__(self, name, price, stock):\n",
    "        self.name = name\n",
    "        self.price = price\n",
    "        self.stock = stock\n",
    "\n",
    "# Create an object\n",
    "product = Product(\"Laptop\", 1200, 30)\n",
    "\n",
    "# Access attributes dynamically\n",
    "attr_name = \"price\"\n",
    "print(getattr(product, attr_name))  # Output: 1200\n",
    "\n",
    "# Provide a default value if the attribute doesn't exist\n",
    "print(getattr(product, \"discount\", \"Not available\"))"
   ]
  },
  {
   "cell_type": "markdown",
   "metadata": {},
   "source": [
    "## Example 2: Modifying Attributes Dynamically with `setattr`"
   ]
  },
  {
   "cell_type": "code",
   "execution_count": 43,
   "metadata": {},
   "outputs": [
    {
     "name": "stdout",
     "output_type": "stream",
     "text": [
      "25\n",
      "10\n"
     ]
    }
   ],
   "source": [
    "# Modify an existing attribute\n",
    "setattr(product, \"stock\", 25)\n",
    "print(product.stock)\n",
    "\n",
    "# Add a new attribute\n",
    "setattr(product, \"discount\", 10)\n",
    "print(product.discount)"
   ]
  },
  {
   "cell_type": "markdown",
   "metadata": {},
   "source": [
    "## Example 3: Combining `getattr` and `setattr`"
   ]
  },
  {
   "cell_type": "code",
   "execution_count": 44,
   "metadata": {},
   "outputs": [
    {
     "name": "stdout",
     "output_type": "stream",
     "text": [
      "price: 1100\n",
      "stock: 20\n",
      "discount: 15\n"
     ]
    }
   ],
   "source": [
    "# Update attributes based on a dictionary of updates\n",
    "updates = {\"price\": 1100, \"stock\": 20, \"discount\": 15}\n",
    "\n",
    "for key, value in updates.items():\n",
    "    setattr(product, key, value)\n",
    "\n",
    "# Inspect the updates dynamically\n",
    "for attr in [\"price\", \"stock\", \"discount\"]:\n",
    "    print(f\"{attr}: {getattr(product, attr)}\")"
   ]
  },
  {
   "cell_type": "markdown",
   "metadata": {},
   "source": [
    "## Example 4: Reflection and Introspection"
   ]
  },
  {
   "cell_type": "code",
   "execution_count": 45,
   "metadata": {},
   "outputs": [
    {
     "name": "stdout",
     "output_type": "stream",
     "text": [
      "50\n"
     ]
    }
   ],
   "source": [
    "class Calculator:\n",
    "    def add(self, a, b):\n",
    "        return a + b\n",
    "\n",
    "    def multiply(self, a, b):\n",
    "        return a * b\n",
    "\n",
    "calc = Calculator()\n",
    "\n",
    "# Dynamically call a method\n",
    "operation = \"multiply\"\n",
    "result = getattr(calc, operation)(10, 5)\n",
    "print(result)"
   ]
  },
  {
   "cell_type": "markdown",
   "metadata": {},
   "source": [
    "## Use with `hasattr` for Safety"
   ]
  },
  {
   "cell_type": "code",
   "execution_count": 46,
   "metadata": {},
   "outputs": [
    {
     "name": "stdout",
     "output_type": "stream",
     "text": [
      "Discount available: 15\n"
     ]
    }
   ],
   "source": [
    "if hasattr(product, \"discount\"):\n",
    "    print(f\"Discount available: {getattr(product, 'discount')}\")\n",
    "else:\n",
    "    print(\"No discount available.\")"
   ]
  },
  {
   "cell_type": "markdown",
   "metadata": {},
   "source": [
    "# 8. `isinstance` and `issubclass`"
   ]
  },
  {
   "cell_type": "markdown",
   "metadata": {},
   "source": [
    "## Example 1: Using `isinstance` with Single Class"
   ]
  },
  {
   "cell_type": "code",
   "execution_count": 47,
   "metadata": {},
   "outputs": [
    {
     "name": "stdout",
     "output_type": "stream",
     "text": [
      "True\n",
      "True\n"
     ]
    }
   ],
   "source": [
    "class Animal:\n",
    "    pass\n",
    "\n",
    "class Dog(Animal):\n",
    "    pass\n",
    "\n",
    "# Creating an object of Dog class\n",
    "my_pet = Dog()\n",
    "\n",
    "# Checking if the object is an instance of Dog\n",
    "print(isinstance(my_pet, Dog))\n",
    "\n",
    "# Checking if the object is an instance of Animal\n",
    "print(isinstance(my_pet, Animal))"
   ]
  },
  {
   "cell_type": "markdown",
   "metadata": {},
   "source": [
    "## Example 2: Using `isinstance` with Multiple Classes"
   ]
  },
  {
   "cell_type": "code",
   "execution_count": 48,
   "metadata": {},
   "outputs": [
    {
     "name": "stdout",
     "output_type": "stream",
     "text": [
      "True\n",
      "False\n"
     ]
    }
   ],
   "source": [
    "class Cat:\n",
    "    pass\n",
    "\n",
    "class Rabbit:\n",
    "    pass\n",
    "\n",
    "# Creating an object of Cat class\n",
    "my_pet = Cat()\n",
    "\n",
    "# Checking if the object is an instance of either Cat or Rabbit\n",
    "print(isinstance(my_pet, (Cat, Rabbit)))\n",
    "\n",
    "# Checking if the object is an instance of Animal or Dog (should return False)\n",
    "print(isinstance(my_pet, (Dog, Animal)))"
   ]
  },
  {
   "cell_type": "markdown",
   "metadata": {},
   "source": [
    "## Example 3: Using `isinstance` with Built-in Types"
   ]
  },
  {
   "cell_type": "code",
   "execution_count": 49,
   "metadata": {},
   "outputs": [
    {
     "name": "stdout",
     "output_type": "stream",
     "text": [
      "True\n",
      "True\n",
      "False\n"
     ]
    }
   ],
   "source": [
    "x = 42\n",
    "y = \"Hello\"\n",
    "\n",
    "# Check if x is an integer\n",
    "print(isinstance(x, int))\n",
    "\n",
    "# Check if y is a string\n",
    "print(isinstance(y, str))\n",
    "\n",
    "# Check if y is a list\n",
    "print(isinstance(y, list))"
   ]
  },
  {
   "cell_type": "markdown",
   "metadata": {},
   "source": [
    "## Example 4: Checking Custom Class Instances"
   ]
  },
  {
   "cell_type": "code",
   "execution_count": 50,
   "metadata": {},
   "outputs": [
    {
     "name": "stdout",
     "output_type": "stream",
     "text": [
      "True\n",
      "True\n"
     ]
    }
   ],
   "source": [
    "class Vehicle:\n",
    "    def drive(self):\n",
    "        print(\"Driving...\")\n",
    "\n",
    "class Car(Vehicle):\n",
    "    def honk(self):\n",
    "        print(\"Honk! Honk!\")\n",
    "\n",
    "# Create an object of Car class\n",
    "my_car = Car()\n",
    "\n",
    "# Check if my_car is an instance of Car\n",
    "print(isinstance(my_car, Car))\n",
    "\n",
    "# Check if my_car is an instance of Vehicle (Car is a subclass of Vehicle)\n",
    "print(isinstance(my_car, Vehicle))"
   ]
  },
  {
   "cell_type": "markdown",
   "metadata": {},
   "source": [
    "## Example 5: Using `issubclass` with Single Class"
   ]
  },
  {
   "cell_type": "code",
   "execution_count": 51,
   "metadata": {},
   "outputs": [
    {
     "name": "stdout",
     "output_type": "stream",
     "text": [
      "True\n",
      "False\n"
     ]
    }
   ],
   "source": [
    "class Animal:\n",
    "    pass\n",
    "\n",
    "class Dog(Animal):\n",
    "    pass\n",
    "\n",
    "# Check if Dog is a subclass of Animal\n",
    "print(issubclass(Dog, Animal))\n",
    "\n",
    "# Check if Animal is a subclass of Dog\n",
    "print(issubclass(Animal, Dog))"
   ]
  },
  {
   "cell_type": "markdown",
   "metadata": {},
   "source": [
    "## Example 6: Using `issubclass` with Multiple Classes"
   ]
  },
  {
   "cell_type": "code",
   "execution_count": 52,
   "metadata": {},
   "outputs": [
    {
     "name": "stdout",
     "output_type": "stream",
     "text": [
      "True\n",
      "False\n"
     ]
    }
   ],
   "source": [
    "class Cat:\n",
    "    pass\n",
    "\n",
    "class Rabbit:\n",
    "    pass\n",
    "\n",
    "class Tiger(Cat):\n",
    "    pass\n",
    "\n",
    "# Check if Tiger is a subclass of either Cat or Rabbit\n",
    "print(issubclass(Tiger, (Cat, Rabbit)))\n",
    "\n",
    "# Check if Tiger is a subclass of Dog (it’s not)\n",
    "print(issubclass(Tiger, Dog))"
   ]
  },
  {
   "cell_type": "markdown",
   "metadata": {},
   "source": [
    "## Example 7: Using `issubclass` with Built-in Types"
   ]
  },
  {
   "cell_type": "code",
   "execution_count": 53,
   "metadata": {},
   "outputs": [
    {
     "name": "stdout",
     "output_type": "stream",
     "text": [
      "True\n",
      "False\n"
     ]
    }
   ],
   "source": [
    "# Check if list is a subclass of object (all classes in Python are subclasses of object)\n",
    "print(issubclass(list, object))\n",
    "\n",
    "# Check if dict is a subclass of list (it's not)\n",
    "print(issubclass(dict, list))"
   ]
  },
  {
   "cell_type": "markdown",
   "metadata": {},
   "source": [
    "## Using `isinstance` and `issubclass` for Multiple Class Hierarchies"
   ]
  },
  {
   "cell_type": "code",
   "execution_count": 54,
   "metadata": {},
   "outputs": [
    {
     "name": "stdout",
     "output_type": "stream",
     "text": [
      "Valid animal object.\n"
     ]
    }
   ],
   "source": [
    "class Animal:\n",
    "    pass\n",
    "\n",
    "class Bird(Animal):\n",
    "    pass\n",
    "\n",
    "class Dog(Animal):\n",
    "    pass\n",
    "\n",
    "# Check if an object is an instance of either Bird or Dog, or a subclass of Animal\n",
    "animal = Bird()\n",
    "\n",
    "if isinstance(animal, (Bird, Dog)) or issubclass(type(animal), Animal):\n",
    "    print(\"Valid animal object.\")\n",
    "else:\n",
    "    print(\"Invalid object.\")"
   ]
  },
  {
   "cell_type": "markdown",
   "metadata": {},
   "source": [
    "# 9. `reduce`"
   ]
  },
  {
   "cell_type": "markdown",
   "metadata": {},
   "source": [
    "## Example 1: Summing Numbers"
   ]
  },
  {
   "cell_type": "code",
   "execution_count": 55,
   "metadata": {},
   "outputs": [
    {
     "name": "stdout",
     "output_type": "stream",
     "text": [
      "15\n"
     ]
    }
   ],
   "source": [
    "from functools import reduce\n",
    "\n",
    "numbers = [1, 2, 3, 4, 5]\n",
    "\n",
    "# Reduce to sum\n",
    "total = reduce(lambda x, y: x + y, numbers)\n",
    "print(total)"
   ]
  },
  {
   "cell_type": "markdown",
   "metadata": {},
   "source": [
    "## Example 2: Using an Initial Value"
   ]
  },
  {
   "cell_type": "code",
   "execution_count": 56,
   "metadata": {},
   "outputs": [
    {
     "name": "stdout",
     "output_type": "stream",
     "text": [
      "25\n"
     ]
    }
   ],
   "source": [
    "# Sum starting with an initial value of 10\n",
    "total = reduce(lambda x, y: x + y, numbers, 10)\n",
    "print(total)"
   ]
  },
  {
   "cell_type": "markdown",
   "metadata": {},
   "source": [
    "## Example 3: Finding the Maximum Value"
   ]
  },
  {
   "cell_type": "code",
   "execution_count": 57,
   "metadata": {},
   "outputs": [
    {
     "name": "stdout",
     "output_type": "stream",
     "text": [
      "8\n"
     ]
    }
   ],
   "source": [
    "numbers = [3, 7, 2, 8, 5]\n",
    "\n",
    "# Find the maximum\n",
    "maximum = reduce(lambda x, y: x if x > y else y, numbers)\n",
    "print(maximum)"
   ]
  },
  {
   "cell_type": "markdown",
   "metadata": {},
   "source": [
    "## Example 4: Multiplying All Elements"
   ]
  },
  {
   "cell_type": "code",
   "execution_count": 58,
   "metadata": {},
   "outputs": [
    {
     "name": "stdout",
     "output_type": "stream",
     "text": [
      "1680\n"
     ]
    }
   ],
   "source": [
    "# Multiply all elements\n",
    "product = reduce(lambda x, y: x * y, numbers)\n",
    "print(product)"
   ]
  },
  {
   "cell_type": "markdown",
   "metadata": {},
   "source": [
    "## Example 5: Reducing to a Custom Structure"
   ]
  },
  {
   "cell_type": "code",
   "execution_count": 59,
   "metadata": {},
   "outputs": [
    {
     "name": "stdout",
     "output_type": "stream",
     "text": [
      "Python is awesome\n"
     ]
    }
   ],
   "source": [
    "words = [\"Python\", \"is\", \"awesome\"]\n",
    "\n",
    "# Concatenate with spaces\n",
    "sentence = reduce(lambda x, y: f\"{x} {y}\", words)\n",
    "print(sentence)"
   ]
  },
  {
   "cell_type": "markdown",
   "metadata": {},
   "source": [
    "## Example 6: Nested Data"
   ]
  },
  {
   "cell_type": "code",
   "execution_count": 60,
   "metadata": {},
   "outputs": [
    {
     "name": "stdout",
     "output_type": "stream",
     "text": [
      "[1, 2, 3, 4, 5, 6]\n"
     ]
    }
   ],
   "source": [
    "nested = [[1, 2], [3, 4], [5, 6]]\n",
    "\n",
    "# Flatten the list\n",
    "flattened = reduce(lambda x, y: x + y, nested)\n",
    "print(flattened)"
   ]
  },
  {
   "cell_type": "markdown",
   "metadata": {},
   "source": [
    "## Debugging Tip"
   ]
  },
  {
   "cell_type": "code",
   "execution_count": 61,
   "metadata": {},
   "outputs": [
    {
     "name": "stdout",
     "output_type": "stream",
     "text": [
      "Reducing: 3 and 7\n",
      "Reducing: 10 and 2\n",
      "Reducing: 12 and 8\n",
      "Reducing: 20 and 5\n",
      "Total: 25\n"
     ]
    }
   ],
   "source": [
    "def debug_reduce(x, y):\n",
    "    print(f\"Reducing: {x} and {y}\")\n",
    "    return x + y\n",
    "\n",
    "# Debugging reduce\n",
    "total = reduce(debug_reduce, numbers)\n",
    "print(\"Total:\", total)"
   ]
  },
  {
   "cell_type": "markdown",
   "metadata": {},
   "source": [
    "## Advanced Example: Factorial Calculation"
   ]
  },
  {
   "cell_type": "code",
   "execution_count": 62,
   "metadata": {},
   "outputs": [
    {
     "name": "stdout",
     "output_type": "stream",
     "text": [
      "Factorial of 5: 120\n"
     ]
    }
   ],
   "source": [
    "from functools import reduce\n",
    "\n",
    "n = 5\n",
    "\n",
    "# Using reduce to calculate factorial\n",
    "fact = reduce(lambda x, y: x * y, range(1, n + 1))\n",
    "print(f\"Factorial of {n}:\", fact)"
   ]
  },
  {
   "cell_type": "markdown",
   "metadata": {},
   "source": [
    "# 10. `next`"
   ]
  },
  {
   "cell_type": "markdown",
   "metadata": {},
   "source": [
    "## Example 1: Basic Usage"
   ]
  },
  {
   "cell_type": "code",
   "execution_count": 63,
   "metadata": {},
   "outputs": [
    {
     "name": "stdout",
     "output_type": "stream",
     "text": [
      "1\n",
      "2\n",
      "3\n"
     ]
    }
   ],
   "source": [
    "numbers = [1, 2, 3]\n",
    "iterator = iter(numbers)\n",
    "\n",
    "# Get the next item from the iterator\n",
    "print(next(iterator))\n",
    "print(next(iterator))\n",
    "print(next(iterator))\n",
    "\n",
    "# Trying to get the next item after the iterator is exhausted will raise StopIteration\n",
    "# print(next(iterator))  # Uncommenting this will raise StopIteration"
   ]
  },
  {
   "cell_type": "markdown",
   "metadata": {},
   "source": [
    "## Example 2: Usage with a Default Value"
   ]
  },
  {
   "cell_type": "code",
   "execution_count": 64,
   "metadata": {},
   "outputs": [
    {
     "name": "stdout",
     "output_type": "stream",
     "text": [
      "1\n",
      "2\n",
      "3\n",
      "No more items\n"
     ]
    }
   ],
   "source": [
    "numbers = [1, 2, 3]\n",
    "iterator = iter(numbers)\n",
    "\n",
    "print(next(iterator, 'No more items'))\n",
    "print(next(iterator, 'No more items'))\n",
    "print(next(iterator, 'No more items'))\n",
    "print(next(iterator, 'No more items'))  # Output: No more items (since the iterator is exhausted)"
   ]
  },
  {
   "cell_type": "markdown",
   "metadata": {},
   "source": [
    "## Example 3: Usage with Generators"
   ]
  },
  {
   "cell_type": "code",
   "execution_count": 65,
   "metadata": {},
   "outputs": [
    {
     "name": "stdout",
     "output_type": "stream",
     "text": [
      "1\n",
      "2\n",
      "3\n",
      "No more items\n"
     ]
    }
   ],
   "source": [
    "def my_generator():\n",
    "    yield 1\n",
    "    yield 2\n",
    "    yield 3\n",
    "\n",
    "# Create a generator\n",
    "gen = my_generator()\n",
    "\n",
    "print(next(gen))\n",
    "print(next(gen))\n",
    "print(next(gen))\n",
    "print(next(gen, 'No more items')) "
   ]
  },
  {
   "cell_type": "markdown",
   "metadata": {},
   "source": [
    "## Example 4: Usage in Loops"
   ]
  },
  {
   "cell_type": "code",
   "execution_count": 66,
   "metadata": {},
   "outputs": [
    {
     "name": "stdout",
     "output_type": "stream",
     "text": [
      "Odd number: 1\n",
      "Even number: 2\n",
      "Odd number: 3\n",
      "Even number: 4\n",
      "Odd number: 5\n"
     ]
    }
   ],
   "source": [
    "numbers = [1, 2, 3, 4, 5]\n",
    "iterator = iter(numbers)\n",
    "\n",
    "# Custom iteration using next()\n",
    "while True:\n",
    "    try:\n",
    "        item = next(iterator)\n",
    "        if item % 2 == 0:\n",
    "            print(f\"Even number: {item}\")\n",
    "        else:\n",
    "            print(f\"Odd number: {item}\")\n",
    "    except StopIteration:\n",
    "        break"
   ]
  },
  {
   "cell_type": "markdown",
   "metadata": {},
   "source": [
    "## Example 5: Handling Multiple Iterables"
   ]
  },
  {
   "cell_type": "code",
   "execution_count": 67,
   "metadata": {},
   "outputs": [
    {
     "name": "stdout",
     "output_type": "stream",
     "text": [
      "Pair: (1, a)\n",
      "Pair: (2, b)\n",
      "Pair: (3, c)\n"
     ]
    }
   ],
   "source": [
    "list1 = [1, 2, 3]\n",
    "list2 = ['a', 'b', 'c']\n",
    "iterator1 = iter(list1)\n",
    "iterator2 = iter(list2)\n",
    "\n",
    "while True:\n",
    "    try:\n",
    "        item1 = next(iterator1)\n",
    "        item2 = next(iterator2)\n",
    "        print(f\"Pair: ({item1}, {item2})\")\n",
    "    except StopIteration:\n",
    "        break"
   ]
  },
  {
   "cell_type": "markdown",
   "metadata": {},
   "source": [
    "## Avoid Infinite Loops"
   ]
  },
  {
   "cell_type": "code",
   "execution_count": 68,
   "metadata": {},
   "outputs": [
    {
     "name": "stdout",
     "output_type": "stream",
     "text": [
      "1\n",
      "2\n",
      "3\n"
     ]
    }
   ],
   "source": [
    "iterator = iter([1, 2, 3])\n",
    "\n",
    "# Incorrect use (will raise StopIteration error)\n",
    "# while True:\n",
    "#     print(next(iterator))\n",
    "\n",
    "# Correct use (with exception handling)\n",
    "while True:\n",
    "    try:\n",
    "        print(next(iterator))\n",
    "    except StopIteration:\n",
    "        break"
   ]
  },
  {
   "cell_type": "code",
   "execution_count": 69,
   "metadata": {},
   "outputs": [],
   "source": [
    "while True:\n",
    "    item = next(iterator, 'No more items')\n",
    "    if item == 'No more items':\n",
    "        break\n",
    "    print(item)"
   ]
  },
  {
   "cell_type": "markdown",
   "metadata": {},
   "source": [
    "## Advanced Example: Usage in a Custom Iterator"
   ]
  },
  {
   "cell_type": "code",
   "execution_count": 70,
   "metadata": {},
   "outputs": [
    {
     "name": "stdout",
     "output_type": "stream",
     "text": [
      "4\n",
      "3\n",
      "2\n",
      "1\n",
      "0\n"
     ]
    },
    {
     "ename": "StopIteration",
     "evalue": "",
     "output_type": "error",
     "traceback": [
      "\u001b[0;31m---------------------------------------------------------------------------\u001b[0m",
      "\u001b[0;31mStopIteration\u001b[0m                             Traceback (most recent call last)",
      "Cell \u001b[0;32mIn[70], line 23\u001b[0m\n\u001b[1;32m     21\u001b[0m \u001b[38;5;28mprint\u001b[39m(\u001b[38;5;28mnext\u001b[39m(countdown))\n\u001b[1;32m     22\u001b[0m \u001b[38;5;28mprint\u001b[39m(\u001b[38;5;28mnext\u001b[39m(countdown))\n\u001b[0;32m---> 23\u001b[0m \u001b[38;5;28mprint\u001b[39m(\u001b[38;5;28;43mnext\u001b[39;49m\u001b[43m(\u001b[49m\u001b[43mcountdown\u001b[49m\u001b[43m)\u001b[49m)\n",
      "Cell \u001b[0;32mIn[70], line 10\u001b[0m, in \u001b[0;36mCountdown.__next__\u001b[0;34m(self)\u001b[0m\n\u001b[1;32m      8\u001b[0m \u001b[38;5;28;01mdef\u001b[39;00m \u001b[38;5;21m__next__\u001b[39m(\u001b[38;5;28mself\u001b[39m):\n\u001b[1;32m      9\u001b[0m     \u001b[38;5;28;01mif\u001b[39;00m \u001b[38;5;28mself\u001b[39m\u001b[38;5;241m.\u001b[39mcurrent \u001b[38;5;241m<\u001b[39m\u001b[38;5;241m=\u001b[39m \u001b[38;5;241m0\u001b[39m:\n\u001b[0;32m---> 10\u001b[0m         \u001b[38;5;28;01mraise\u001b[39;00m \u001b[38;5;167;01mStopIteration\u001b[39;00m\n\u001b[1;32m     11\u001b[0m     \u001b[38;5;28mself\u001b[39m\u001b[38;5;241m.\u001b[39mcurrent \u001b[38;5;241m-\u001b[39m\u001b[38;5;241m=\u001b[39m \u001b[38;5;241m1\u001b[39m\n\u001b[1;32m     12\u001b[0m     \u001b[38;5;28;01mreturn\u001b[39;00m \u001b[38;5;28mself\u001b[39m\u001b[38;5;241m.\u001b[39mcurrent\n",
      "\u001b[0;31mStopIteration\u001b[0m: "
     ]
    }
   ],
   "source": [
    "class Countdown:\n",
    "    def __init__(self, start):\n",
    "        self.current = start\n",
    "\n",
    "    def __iter__(self):\n",
    "        return self\n",
    "\n",
    "    def __next__(self):\n",
    "        if self.current <= 0:\n",
    "            raise StopIteration\n",
    "        self.current -= 1\n",
    "        return self.current\n",
    "\n",
    "# Create a countdown iterator\n",
    "countdown = Countdown(5)\n",
    "\n",
    "# Use next() to get values from the countdown iterator\n",
    "print(next(countdown))\n",
    "print(next(countdown))\n",
    "print(next(countdown))\n",
    "print(next(countdown))\n",
    "print(next(countdown))\n",
    "print(next(countdown))"
   ]
  },
  {
   "cell_type": "markdown",
   "metadata": {},
   "source": [
    "# 11. `iter`"
   ]
  },
  {
   "cell_type": "markdown",
   "metadata": {},
   "source": [
    "## Example 1: Creating an Iterator from an Iterable"
   ]
  },
  {
   "cell_type": "code",
   "execution_count": 71,
   "metadata": {},
   "outputs": [
    {
     "name": "stdout",
     "output_type": "stream",
     "text": [
      "Apple\n",
      "Banana\n",
      "Cherry\n"
     ]
    }
   ],
   "source": [
    "fruits = [\"Apple\", \"Banana\", \"Cherry\"]\n",
    "\n",
    "# Create an iterator\n",
    "fruit_iterator = iter(fruits)\n",
    "\n",
    "# Manually iterate using next()\n",
    "print(next(fruit_iterator))\n",
    "print(next(fruit_iterator))\n",
    "print(next(fruit_iterator))\n",
    "# next(fruit_iterator)      # Raises StopIteration"
   ]
  },
  {
   "cell_type": "markdown",
   "metadata": {},
   "source": [
    "## Example 2: Usage with a Sentinel Value"
   ]
  },
  {
   "cell_type": "code",
   "execution_count": 72,
   "metadata": {},
   "outputs": [
    {
     "name": "stdout",
     "output_type": "stream",
     "text": [
      "You entered: hello\n"
     ]
    }
   ],
   "source": [
    "# Define a generator function\n",
    "def get_input():\n",
    "    return input(\"Enter a word (type 'quit' to stop): \")\n",
    "\n",
    "# Create an iterator that stops when 'quit' is entered\n",
    "input_iterator = iter(get_input, \"quit\")\n",
    "\n",
    "for word in input_iterator:\n",
    "    print(f\"You entered: {word}\")"
   ]
  },
  {
   "cell_type": "markdown",
   "metadata": {},
   "source": [
    "## Example 3: Infinite Iterators with Callables"
   ]
  },
  {
   "cell_type": "code",
   "execution_count": 73,
   "metadata": {},
   "outputs": [
    {
     "name": "stdout",
     "output_type": "stream",
     "text": [
      "41\n",
      "40\n",
      "75\n",
      "39\n",
      "51\n"
     ]
    }
   ],
   "source": [
    "import random\n",
    "\n",
    "# Create an infinite iterator that generates random numbers\n",
    "random_iterator = iter(lambda: random.randint(1, 100), None)  # Sentinel is None, which will never be returned\n",
    "\n",
    "# Fetch the first 5 random numbers\n",
    "for _ in range(5):\n",
    "    print(next(random_iterator))"
   ]
  },
  {
   "cell_type": "markdown",
   "metadata": {},
   "source": [
    "## Example 4: Custom Iterator Classes"
   ]
  },
  {
   "cell_type": "code",
   "execution_count": 74,
   "metadata": {},
   "outputs": [
    {
     "name": "stdout",
     "output_type": "stream",
     "text": [
      "5\n",
      "4\n",
      "3\n",
      "2\n",
      "1\n"
     ]
    }
   ],
   "source": [
    "class Countdown:\n",
    "    def __init__(self, start):\n",
    "        self.current = start\n",
    "\n",
    "    def __iter__(self):\n",
    "        return self\n",
    "\n",
    "    def __next__(self):\n",
    "        if self.current <= 0:\n",
    "            raise StopIteration\n",
    "        self.current -= 1\n",
    "        return self.current + 1\n",
    "\n",
    "\n",
    "# Create a countdown iterator\n",
    "countdown = Countdown(5)\n",
    "countdown_iterator = iter(countdown)\n",
    "\n",
    "for number in countdown_iterator:\n",
    "    print(number)"
   ]
  },
  {
   "cell_type": "markdown",
   "metadata": {},
   "source": [
    "## Combining `iter` with `next` for Safe Iteration"
   ]
  },
  {
   "cell_type": "code",
   "execution_count": 75,
   "metadata": {},
   "outputs": [
    {
     "name": "stdout",
     "output_type": "stream",
     "text": [
      "10\n",
      "20\n",
      "30\n",
      "No more elements\n"
     ]
    }
   ],
   "source": [
    "numbers = [10, 20, 30]\n",
    "iterator = iter(numbers)\n",
    "\n",
    "print(next(iterator, \"No more elements\"))\n",
    "print(next(iterator, \"No more elements\"))\n",
    "print(next(iterator, \"No more elements\"))\n",
    "print(next(iterator, \"No more elements\"))"
   ]
  },
  {
   "cell_type": "markdown",
   "metadata": {},
   "source": [
    "## Advanced Example: Implementing a Sentinel-Based Event Listener"
   ]
  },
  {
   "cell_type": "code",
   "execution_count": 76,
   "metadata": {},
   "outputs": [
    {
     "name": "stdout",
     "output_type": "stream",
     "text": [
      "Processing event: hello\n",
      "Processing event: world\n",
      "Processing event: world\n",
      "Processing event: stop\n"
     ]
    }
   ],
   "source": [
    "def get_event():\n",
    "    # Simulate event retrieval\n",
    "    event = input(\"Enter event (type 'shutdown' to stop): \")\n",
    "    return event\n",
    "\n",
    "# Create an iterator that stops when 'shutdown' is entered\n",
    "event_iterator = iter(get_event, \"shutdown\")\n",
    "\n",
    "for event in event_iterator:\n",
    "    print(f\"Processing event: {event}\")"
   ]
  },
  {
   "cell_type": "markdown",
   "metadata": {},
   "source": [
    "# 12. `vars`"
   ]
  },
  {
   "cell_type": "markdown",
   "metadata": {},
   "source": [
    "## Example 1: Inspecting Attributes of a Custom Object"
   ]
  },
  {
   "cell_type": "code",
   "execution_count": 77,
   "metadata": {},
   "outputs": [
    {
     "name": "stdout",
     "output_type": "stream",
     "text": [
      "{'name': 'Alice', 'age': 30}\n"
     ]
    }
   ],
   "source": [
    "class Person:\n",
    "    def __init__(self, name, age):\n",
    "        self.name = name\n",
    "        self.age = age\n",
    "\n",
    "# Create an instance\n",
    "person = Person(\"Alice\", 30)\n",
    "\n",
    "# Use vars() to inspect attributes\n",
    "print(vars(person))"
   ]
  },
  {
   "cell_type": "markdown",
   "metadata": {},
   "source": [
    "## Example 2: Dynamically Add or Modify Attributes"
   ]
  },
  {
   "cell_type": "code",
   "execution_count": 78,
   "metadata": {},
   "outputs": [
    {
     "name": "stdout",
     "output_type": "stream",
     "text": [
      "{'name': 'Alice', 'age': 31, 'city': 'New York'}\n"
     ]
    }
   ],
   "source": [
    "# Modify attributes dynamically\n",
    "vars(person)[\"age\"] = 31\n",
    "vars(person)[\"city\"] = \"New York\"\n",
    "\n",
    "print(vars(person))"
   ]
  },
  {
   "cell_type": "markdown",
   "metadata": {},
   "source": [
    "# 13. `exec`"
   ]
  },
  {
   "cell_type": "markdown",
   "metadata": {},
   "source": [
    "## Example 1: Dynamically Define Functions"
   ]
  },
  {
   "cell_type": "code",
   "execution_count": 79,
   "metadata": {},
   "outputs": [
    {
     "name": "stdout",
     "output_type": "stream",
     "text": [
      "15\n"
     ]
    }
   ],
   "source": [
    "# Define a function dynamically\n",
    "func_name = \"add_numbers\"\n",
    "func_code = \"\"\"\n",
    "def {name}(a, b):\n",
    "    return a + b\n",
    "\"\"\".format(name=func_name)\n",
    "\n",
    "# Execute the code to define the function\n",
    "exec(func_code)\n",
    "\n",
    "# Use the dynamically created function\n",
    "print(add_numbers(5, 10))"
   ]
  },
  {
   "cell_type": "markdown",
   "metadata": {},
   "source": [
    "## Example 2: Dynamically Modify Classes"
   ]
  },
  {
   "cell_type": "code",
   "execution_count": 80,
   "metadata": {},
   "outputs": [
    {
     "name": "stdout",
     "output_type": "stream",
     "text": [
      "DynamicClass instance with value: 42\n"
     ]
    }
   ],
   "source": [
    "class_template = \"\"\"\n",
    "class {name}:\n",
    "    def __init__(self, value):\n",
    "        self.value = value\n",
    "\n",
    "    def display(self):\n",
    "        print(f\"{name} instance with value: {{self.value}}\")\n",
    "\"\"\"\n",
    "\n",
    "class_name = \"DynamicClass\"\n",
    "exec(class_template.format(name=class_name))\n",
    "\n",
    "# Instantiate the dynamically created class\n",
    "instance = DynamicClass(42)\n",
    "instance.display()"
   ]
  },
  {
   "cell_type": "markdown",
   "metadata": {},
   "source": [
    "# 14. `eval`"
   ]
  },
  {
   "cell_type": "markdown",
   "metadata": {},
   "source": [
    "## Example 1: Building a Simple Calculator"
   ]
  },
  {
   "cell_type": "code",
   "execution_count": 81,
   "metadata": {},
   "outputs": [
    {
     "name": "stdout",
     "output_type": "stream",
     "text": [
      "The result is: 21\n"
     ]
    }
   ],
   "source": [
    "expression = input(\"Enter a mathematical expression: \")  # Example: \"3 * (2 + 5)\"\n",
    "try:\n",
    "    result = eval(expression)\n",
    "    print(f\"The result is: {result}\")\n",
    "except Exception as e:\n",
    "    print(f\"Invalid expression: {e}\")"
   ]
  },
  {
   "cell_type": "markdown",
   "metadata": {},
   "source": [
    "## Example 2: Dynamic Variable Evaluation"
   ]
  },
  {
   "cell_type": "code",
   "execution_count": 82,
   "metadata": {},
   "outputs": [
    {
     "name": "stdout",
     "output_type": "stream",
     "text": [
      "The result of 'x * y + 5' is: 205\n"
     ]
    }
   ],
   "source": [
    "x = 10\n",
    "y = 20\n",
    "expression = \"x * y + 5\"\n",
    "result = eval(expression)\n",
    "print(f\"The result of '{expression}' is: {result}\")"
   ]
  },
  {
   "cell_type": "markdown",
   "metadata": {},
   "source": [
    "## Example 3: Configuration Parsing"
   ]
  },
  {
   "cell_type": "code",
   "execution_count": 83,
   "metadata": {},
   "outputs": [
    {
     "name": "stdout",
     "output_type": "stream",
     "text": [
      "{'threshold': 15, 'scale_factor': 6.28}\n"
     ]
    }
   ],
   "source": [
    "config = {\"threshold\": \"10 + 5\", \"scale_factor\": \"2 * 3.14\"}\n",
    "\n",
    "# Evaluate the configuration dynamically\n",
    "evaluated_config = {key: eval(value) for key, value in config.items()}\n",
    "print(evaluated_config)"
   ]
  },
  {
   "cell_type": "markdown",
   "metadata": {},
   "source": [
    "## Restrict Globals and Locals"
   ]
  },
  {
   "cell_type": "code",
   "execution_count": 84,
   "metadata": {},
   "outputs": [
    {
     "name": "stdout",
     "output_type": "stream",
     "text": [
      "4.0\n"
     ]
    }
   ],
   "source": [
    "safe_globals = {\"__builtins__\": None, \"math\": __import__(\"math\")}\n",
    "print(eval(\"math.sqrt(16)\", safe_globals))  # Output: 4.0"
   ]
  },
  {
   "cell_type": "markdown",
   "metadata": {},
   "source": [
    "# 15. `memoryview`"
   ]
  },
  {
   "cell_type": "markdown",
   "metadata": {},
   "source": [
    "## Example 1: Basic Usage"
   ]
  },
  {
   "cell_type": "code",
   "execution_count": 85,
   "metadata": {},
   "outputs": [
    {
     "name": "stdout",
     "output_type": "stream",
     "text": [
      "1\n",
      "<memory at 0x10368bd00>\n"
     ]
    }
   ],
   "source": [
    "data = bytearray([1, 2, 3, 4, 5])\n",
    "view = memoryview(data)\n",
    "\n",
    "# Access the data as a memory view\n",
    "print(view[0])\n",
    "print(view[1:3])"
   ]
  },
  {
   "cell_type": "markdown",
   "metadata": {},
   "source": [
    "## Example 2: Modifying Data"
   ]
  },
  {
   "cell_type": "code",
   "execution_count": 86,
   "metadata": {},
   "outputs": [
    {
     "name": "stdout",
     "output_type": "stream",
     "text": [
      "[10, 20, 30, 4, 5]\n"
     ]
    }
   ],
   "source": [
    "data = bytearray([1, 2, 3, 4, 5])\n",
    "view = memoryview(data)\n",
    "\n",
    "# Modify the data through the memoryview\n",
    "view[0] = 10\n",
    "view[1:3] = bytearray([20, 30])\n",
    "\n",
    "print(list(data))"
   ]
  },
  {
   "cell_type": "markdown",
   "metadata": {},
   "source": [
    "## Example 3: Memory Efficiency"
   ]
  },
  {
   "cell_type": "code",
   "execution_count": 87,
   "metadata": {},
   "outputs": [
    {
     "name": "stdout",
     "output_type": "stream",
     "text": [
      "[100, 101, 102, 103, 104]\n"
     ]
    }
   ],
   "source": [
    "import array\n",
    "\n",
    "# Create a large array of integers\n",
    "arr = array.array('i', range(1000000))\n",
    "\n",
    "# Create a memoryview\n",
    "view = memoryview(arr)\n",
    "\n",
    "# Slicing the memoryview without copying data\n",
    "sub_view = view[100:105]\n",
    "\n",
    "print(sub_view.tolist())  # Efficient slice access without copying the original data"
   ]
  },
  {
   "cell_type": "markdown",
   "metadata": {},
   "source": [
    "## Example 4: Working with Multiple Buffers"
   ]
  },
  {
   "cell_type": "code",
   "execution_count": 88,
   "metadata": {},
   "outputs": [
    {
     "name": "stdout",
     "output_type": "stream",
     "text": [
      "1\n",
      "5\n"
     ]
    }
   ],
   "source": [
    "# Create two separate bytearrays\n",
    "data1 = bytearray([1, 2, 3, 4])\n",
    "data2 = bytearray([5, 6, 7, 8])\n",
    "\n",
    "# Create memoryviews for each bytearray\n",
    "view1 = memoryview(data1)\n",
    "view2 = memoryview(data2)\n",
    "\n",
    "# Access data through memoryviews\n",
    "print(view1[0])\n",
    "print(view2[0])"
   ]
  },
  {
   "cell_type": "markdown",
   "metadata": {},
   "source": [
    "## Example 5: `memoryview` with Slicing and Reshaping"
   ]
  },
  {
   "cell_type": "code",
   "execution_count": null,
   "metadata": {},
   "outputs": [],
   "source": [
    "!pip install numpy"
   ]
  },
  {
   "cell_type": "code",
   "execution_count": null,
   "metadata": {},
   "outputs": [],
   "source": [
    "import numpy as np\n",
    "\n",
    "# Create a NumPy array\n",
    "arr = np.array([[1, 2, 3], [4, 5, 6]])\n",
    "\n",
    "# Create a memoryview of the array\n",
    "view = memoryview(arr)\n",
    "\n",
    "# Slice the memoryview\n",
    "sub_view = view[0, 1:]\n",
    "\n",
    "print(sub_view.tolist())"
   ]
  }
 ],
 "metadata": {
  "kernelspec": {
   "display_name": ".venv3.13",
   "language": "python",
   "name": "python3"
  },
  "language_info": {
   "codemirror_mode": {
    "name": "ipython",
    "version": 3
   },
   "file_extension": ".py",
   "mimetype": "text/x-python",
   "name": "python",
   "nbconvert_exporter": "python",
   "pygments_lexer": "ipython3",
   "version": "3.13.0"
  }
 },
 "nbformat": 4,
 "nbformat_minor": 2
}
