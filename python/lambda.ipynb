{
 "cells": [
  {
   "cell_type": "markdown",
   "metadata": {},
   "source": [
    "Click [here](https://medium.com/@morihosseini/lambda-the-haiku-of-python-functions-4355e41f783d) to access the associated Medium article."
   ]
  },
  {
   "cell_type": "markdown",
   "metadata": {},
   "source": [
    "# Sorting\n"
   ]
  },
  {
   "cell_type": "code",
   "execution_count": 6,
   "metadata": {},
   "outputs": [
    {
     "name": "stdout",
     "output_type": "stream",
     "text": [
      "[{'author': 'Frank Herbert', 'pages': 688, 'title': 'Dune'},\n",
      " {'author': 'J.K. Rowling', 'pages': 320, 'title': 'Harry Potter'},\n",
      " {'author': 'Paulo Coelho', 'pages': 208, 'title': 'The Alchemist'}]\n"
     ]
    }
   ],
   "source": [
    "from pprint import pprint\n",
    "\n",
    "books = [\n",
    "    {\"title\": \"The Alchemist\", \"author\": \"Paulo Coelho\", \"pages\": 208},\n",
    "    {\"title\": \"Dune\", \"author\": \"Frank Herbert\", \"pages\": 688},\n",
    "    {\"title\": \"Harry Potter\", \"author\": \"J.K. Rowling\", \"pages\": 320},\n",
    "]\n",
    "\n",
    "# Sort by title\n",
    "sorted_books = sorted(books, key=lambda book: book[\"title\"])\n",
    "pprint(sorted_books)"
   ]
  },
  {
   "cell_type": "markdown",
   "metadata": {},
   "source": [
    "# Filtering"
   ]
  },
  {
   "cell_type": "code",
   "execution_count": 8,
   "metadata": {},
   "outputs": [
    {
     "name": "stdout",
     "output_type": "stream",
     "text": [
      "[1, 5, 9, 21]\n"
     ]
    }
   ],
   "source": [
    "numbers = [1, 5, 9, 12, 18, 21]\n",
    "\n",
    "# Filter the odd ones\n",
    "odd_numbers = list(filter(lambda x: x % 2 != 0, numbers))\n",
    "print(odd_numbers)"
   ]
  },
  {
   "cell_type": "markdown",
   "metadata": {},
   "source": [
    "# Mapping"
   ]
  },
  {
   "cell_type": "code",
   "execution_count": 10,
   "metadata": {},
   "outputs": [
    {
     "name": "stdout",
     "output_type": "stream",
     "text": [
      "[20.0, 23.88888888888889, 27.77777777777778, 32.22222222222222]\n"
     ]
    }
   ],
   "source": [
    "temperatures_fahrenheit = [68, 75, 82, 90]\n",
    "\n",
    "# Convert to Celsius\n",
    "temperatures_celsius = list(\n",
    "    map(lambda f: (f - 32) * 5 / 9, temperatures_fahrenheit)\n",
    ")\n",
    "print(temperatures_celsius)"
   ]
  },
  {
   "cell_type": "markdown",
   "metadata": {},
   "source": [
    "# Custom Key"
   ]
  },
  {
   "cell_type": "code",
   "execution_count": 13,
   "metadata": {},
   "outputs": [
    {
     "name": "stdout",
     "output_type": "stream",
     "text": [
      "[{'item': 'Scroll of Knowledge', 'quantity': 20},\n",
      " {'item': 'Potion of Wisdom', 'quantity': 10},\n",
      " {'item': 'Elixir of Courage', 'quantity': 5}]\n"
     ]
    }
   ],
   "source": [
    "from pprint import pprint\n",
    "\n",
    "inventory = [\n",
    "    {\"item\": \"Potion of Wisdom\", \"quantity\": 10},\n",
    "    {\"item\": \"Elixir of Courage\", \"quantity\": 5},\n",
    "    {\"item\": \"Scroll of Knowledge\", \"quantity\": 20},\n",
    "]\n",
    "\n",
    "# Sort by quantity (descending)\n",
    "sorted_inventory = sorted(\n",
    "    inventory, key=lambda item: item[\"quantity\"], reverse=True\n",
    ")\n",
    "pprint(sorted_inventory)"
   ]
  }
 ],
 "metadata": {
  "kernelspec": {
   "display_name": ".venv",
   "language": "python",
   "name": "python3"
  },
  "language_info": {
   "codemirror_mode": {
    "name": "ipython",
    "version": 3
   },
   "file_extension": ".py",
   "mimetype": "text/x-python",
   "name": "python",
   "nbconvert_exporter": "python",
   "pygments_lexer": "ipython3",
   "version": "3.11.2"
  }
 },
 "nbformat": 4,
 "nbformat_minor": 2
}
