{
 "cells": [
  {
   "cell_type": "markdown",
   "metadata": {},
   "source": [
    "Click [here]() to access the associated Medium article."
   ]
  },
  {
   "cell_type": "markdown",
   "metadata": {},
   "source": [
    "# Setup\n"
   ]
  },
  {
   "cell_type": "code",
   "execution_count": 55,
   "metadata": {},
   "outputs": [
    {
     "name": "stdout",
     "output_type": "stream",
     "text": [
      "\u001b[33mDEPRECATION: textract 1.6.5 has a non-standard dependency specifier extract-msg<=0.29.*. pip 24.1 will enforce this behaviour change. A possible replacement is to upgrade to a newer version of textract or contact the author to suggest that they release a version with a conforming dependency specifiers. Discussion can be found at https://github.com/pypa/pip/issues/12063\u001b[0m\u001b[33m\n",
      "\u001b[0mNote: you may need to restart the kernel to use updated packages.\n"
     ]
    }
   ],
   "source": [
    "%pip install -q ujson msgpack"
   ]
  },
  {
   "cell_type": "code",
   "execution_count": 28,
   "metadata": {},
   "outputs": [],
   "source": [
    "import json\n",
    "import pickle\n",
    "import timeit\n",
    "\n",
    "import msgpack\n",
    "import ujson\n",
    "\n",
    "\n",
    "# Example object to serialize\n",
    "data = {\n",
    "    \"name\": \"Alice\",\n",
    "    \"age\": 30,\n",
    "    \"is_student\": False,\n",
    "    \"courses\": [\"Math\", \"Science\"]\n",
    "}"
   ]
  },
  {
   "cell_type": "markdown",
   "metadata": {},
   "source": [
    "# Pickle\n",
    "\n",
    "## Basic Usage\n"
   ]
  },
  {
   "cell_type": "code",
   "execution_count": 1,
   "metadata": {},
   "outputs": [
    {
     "name": "stdout",
     "output_type": "stream",
     "text": [
      "{'name': 'Alice', 'age': 30, 'is_student': False, 'courses': ['Math', 'Science']}\n"
     ]
    }
   ],
   "source": [
    "# Serialize the object to a file\n",
    "with open(\"data.pkl\", \"wb\") as file:\n",
    "    pickle.dump(data, file)\n",
    "\n",
    "# Deserialize the object from the file\n",
    "with open(\"data.pkl\", \"rb\") as file:\n",
    "    loaded_data = pickle.load(file)\n",
    "\n",
    "print(loaded_data)"
   ]
  },
  {
   "cell_type": "markdown",
   "metadata": {},
   "source": [
    "## Pickle Protocols"
   ]
  },
  {
   "cell_type": "code",
   "execution_count": 3,
   "metadata": {},
   "outputs": [
    {
     "name": "stdout",
     "output_type": "stream",
     "text": [
      "{'name': 'Alice', 'age': 30, 'is_student': False, 'courses': ['Math', 'Science']}\n"
     ]
    }
   ],
   "source": [
    "# Serialize with a specific protocol\n",
    "with open(\"data_protocol2.pkl\", \"wb\") as file:\n",
    "    pickle.dump(data, file, protocol=2)\n",
    "\n",
    "# Deserialize\n",
    "with open(\"data_protocol2.pkl\", \"rb\") as file:\n",
    "    loaded_data_protocol2 = pickle.load(file)\n",
    "\n",
    "print(loaded_data_protocol2)"
   ]
  },
  {
   "cell_type": "markdown",
   "metadata": {},
   "source": [
    "## Performance Considerations"
   ]
  },
  {
   "cell_type": "code",
   "execution_count": 11,
   "metadata": {},
   "outputs": [
    {
     "name": "stdout",
     "output_type": "stream",
     "text": [
      "Protocol 2: 0.45007 seconds\n",
      "Protocol 5: 0.37886 seconds\n"
     ]
    }
   ],
   "source": [
    "def serialize_with_protocol(protocol):\n",
    "    return pickle.dumps(data, protocol=protocol)\n",
    "\n",
    "\n",
    "# Benchmark protocol 2\n",
    "time_protocol2 = timeit.timeit(\n",
    "    lambda: serialize_with_protocol(2), number=1000000\n",
    ")\n",
    "print(f\"Protocol 2: {time_protocol2:.5f} seconds\")\n",
    "\n",
    "# Benchmark protocol 5\n",
    "time_protocol5 = timeit.timeit(\n",
    "    lambda: serialize_with_protocol(5), number=1000000\n",
    ")\n",
    "print(f\"Protocol 5: {time_protocol5:.5f} seconds\")"
   ]
  },
  {
   "cell_type": "markdown",
   "metadata": {},
   "source": [
    "# JSON\n",
    "\n",
    "## Basic Usage"
   ]
  },
  {
   "cell_type": "code",
   "execution_count": 13,
   "metadata": {},
   "outputs": [
    {
     "name": "stdout",
     "output_type": "stream",
     "text": [
      "{\n",
      "    \"name\": \"Alice\",\n",
      "    \"age\": 30,\n",
      "    \"is_student\": false,\n",
      "    \"courses\": [\n",
      "        \"Math\",\n",
      "        \"Science\"\n",
      "    ]\n",
      "}\n",
      "{'name': 'Alice', 'age': 30, 'is_student': False, 'courses': ['Math', 'Science']}\n"
     ]
    }
   ],
   "source": [
    "# Serialize the object to a JSON string\n",
    "json_string = json.dumps(data, indent=4)\n",
    "print(json_string)\n",
    "\n",
    "# Deserialize the JSON string back to a Python object\n",
    "loaded_data = json.loads(json_string)\n",
    "print(loaded_data)"
   ]
  },
  {
   "cell_type": "markdown",
   "metadata": {},
   "source": [
    "## Working with JSON Files"
   ]
  },
  {
   "cell_type": "code",
   "execution_count": 14,
   "metadata": {},
   "outputs": [
    {
     "name": "stdout",
     "output_type": "stream",
     "text": [
      "{'name': 'Alice', 'age': 30, 'is_student': False, 'courses': ['Math', 'Science']}\n"
     ]
    }
   ],
   "source": [
    "# Serialize the object to a file\n",
    "with open(\"data.json\", \"w\") as file:\n",
    "    json.dump(data, file, indent=4)\n",
    "\n",
    "# Deserialize the object from the file\n",
    "with open(\"data.json\", \"r\") as file:\n",
    "    loaded_data = json.load(file)\n",
    "\n",
    "print(loaded_data)"
   ]
  },
  {
   "cell_type": "markdown",
   "metadata": {},
   "source": [
    "## Custom Serialization"
   ]
  },
  {
   "cell_type": "code",
   "execution_count": 15,
   "metadata": {},
   "outputs": [
    {
     "name": "stdout",
     "output_type": "stream",
     "text": [
      "{\n",
      "    \"name\": \"Alice\",\n",
      "    \"age\": 30,\n",
      "    \"is_student\": false,\n",
      "    \"courses\": [\n",
      "        \"Math\",\n",
      "        \"Science\"\n",
      "    ]\n",
      "}\n",
      "{'name': 'Alice', 'age': 30, 'is_student': False, 'courses': ['Math', 'Science']}\n"
     ]
    }
   ],
   "source": [
    "class Student:\n",
    "    def __init__(self, name, age, is_student, courses):\n",
    "        self.name = name\n",
    "        self.age = age\n",
    "        self.is_student = is_student\n",
    "        self.courses = courses\n",
    "\n",
    "\n",
    "def student_to_dict(student):\n",
    "    return {\n",
    "        \"name\": student.name,\n",
    "        \"age\": student.age,\n",
    "        \"is_student\": student.is_student,\n",
    "        \"courses\": student.courses,\n",
    "    }\n",
    "\n",
    "\n",
    "student = Student(\"Alice\", 30, False, [\"Math\", \"Science\"])\n",
    "\n",
    "# Serialize the custom object\n",
    "json_string = json.dumps(student, default=student_to_dict, indent=4)\n",
    "print(json_string)\n",
    "\n",
    "\n",
    "# Deserialize the custom object\n",
    "def dict_to_student(d):\n",
    "    return Student(d[\"name\"], d[\"age\"], d[\"is_student\"], d[\"courses\"])\n",
    "\n",
    "\n",
    "loaded_student = json.loads(json_string, object_hook=dict_to_student)\n",
    "print(loaded_student.__dict__)"
   ]
  },
  {
   "cell_type": "markdown",
   "metadata": {},
   "source": [
    "## Performance Considerations"
   ]
  },
  {
   "cell_type": "code",
   "execution_count": 21,
   "metadata": {},
   "outputs": [
    {
     "name": "stdout",
     "output_type": "stream",
     "text": [
      "Standard JSON:\t0.17757 seconds\n",
      "UltraJSON:\t0.04344 seconds\n"
     ]
    }
   ],
   "source": [
    "# Benchmark standard json\n",
    "time_json = timeit.timeit(lambda: json.dumps(data), number=100000)\n",
    "print(f\"Standard JSON:\\t{time_json:.5f} seconds\")\n",
    "\n",
    "# Benchmark ujson\n",
    "time_ujson = timeit.timeit(lambda: ujson.dumps(data), number=100000)\n",
    "print(f\"UltraJSON:\\t{time_ujson:.5f} seconds\")"
   ]
  },
  {
   "cell_type": "markdown",
   "metadata": {},
   "source": [
    "# MessagePack\n",
    "\n",
    "## Basic Usage"
   ]
  },
  {
   "cell_type": "code",
   "execution_count": 29,
   "metadata": {},
   "outputs": [
    {
     "name": "stdout",
     "output_type": "stream",
     "text": [
      "b'\\x84\\xa4name\\xa5Alice\\xa3age\\x1e\\xaais_student\\xc2\\xa7courses\\x92\\xa4Math\\xa7Science'\n",
      "{'name': 'Alice', 'age': 30, 'is_student': False, 'courses': ['Math', 'Science']}\n"
     ]
    }
   ],
   "source": [
    "# Serialize the object to a binary format\n",
    "binary_data = msgpack.packb(data)\n",
    "print(binary_data)\n",
    "\n",
    "# Deserialize the binary data back to a Python object\n",
    "loaded_data = msgpack.unpackb(binary_data)\n",
    "print(loaded_data)"
   ]
  },
  {
   "cell_type": "markdown",
   "metadata": {},
   "source": [
    "## Working with MessagePack Files"
   ]
  },
  {
   "cell_type": "code",
   "execution_count": 30,
   "metadata": {},
   "outputs": [
    {
     "name": "stdout",
     "output_type": "stream",
     "text": [
      "{'name': 'Alice', 'age': 30, 'is_student': False, 'courses': ['Math', 'Science']}\n"
     ]
    }
   ],
   "source": [
    "# Serialize the object to a file\n",
    "with open(\"data.msgpack\", \"wb\") as file:\n",
    "    msgpack.pack(data, file)\n",
    "\n",
    "# Deserialize the object from the file\n",
    "with open(\"data.msgpack\", \"rb\") as file:\n",
    "    loaded_data = msgpack.unpack(file)\n",
    "\n",
    "print(loaded_data)"
   ]
  },
  {
   "cell_type": "markdown",
   "metadata": {},
   "source": [
    "## Custom Serialization"
   ]
  },
  {
   "cell_type": "code",
   "execution_count": 41,
   "metadata": {},
   "outputs": [
    {
     "name": "stdout",
     "output_type": "stream",
     "text": [
      "b'\\x84\\xa4name\\xa5Alice\\xa3age\\x1e\\xaais_student\\xc2\\xa7courses\\x92\\xa4Math\\xa7Science'\n",
      "{'name': 'Alice', 'age': 30, 'is_student': False, 'courses': ['Math', 'Science']}\n"
     ]
    }
   ],
   "source": [
    "class Student:\n",
    "    def __init__(self, name, age, is_student, courses):\n",
    "        self.name = name\n",
    "        self.age = age\n",
    "        self.is_student = is_student\n",
    "        self.courses = courses\n",
    "\n",
    "\n",
    "def student_to_dict(student):\n",
    "    return {\n",
    "        \"name\": student.name,\n",
    "        \"age\": student.age,\n",
    "        \"is_student\": student.is_student,\n",
    "        \"courses\": student.courses,\n",
    "    }\n",
    "\n",
    "\n",
    "def dict_to_student(d):\n",
    "    return Student(d[\"name\"], d[\"age\"], d[\"is_student\"], d[\"courses\"])\n",
    "\n",
    "\n",
    "student = Student(\"Alice\", 30, False, [\"Math\", \"Science\"])\n",
    "\n",
    "# Serialize the custom object\n",
    "binary_data = msgpack.packb(student, default=student_to_dict)\n",
    "print(binary_data)\n",
    "\n",
    "# Deserialize the custom object\n",
    "loaded_data = msgpack.unpackb(binary_data, object_hook=dict_to_student)\n",
    "print(loaded_data.__dict__)"
   ]
  },
  {
   "cell_type": "markdown",
   "metadata": {},
   "source": [
    "## Performance Considerations"
   ]
  },
  {
   "cell_type": "code",
   "execution_count": 54,
   "metadata": {},
   "outputs": [
    {
     "name": "stdout",
     "output_type": "stream",
     "text": [
      "JSON:        0.02905 seconds\n",
      "MessagePack: 0.00810 seconds\n"
     ]
    }
   ],
   "source": [
    "# Benchmark json\n",
    "time_json = timeit.timeit(lambda: json.dumps(data), number=10000)\n",
    "print(f\"{'JSON:':13}{time_json:.5f} seconds\")\n",
    "\n",
    "# Benchmark msgpack\n",
    "time_msgpack = timeit.timeit(lambda: msgpack.packb(data), number=10000)\n",
    "print(f\"{'MessagePack:':13}{time_msgpack:.5f} seconds\")"
   ]
  }
 ],
 "metadata": {
  "kernelspec": {
   "display_name": ".venv",
   "language": "python",
   "name": "python3"
  },
  "language_info": {
   "codemirror_mode": {
    "name": "ipython",
    "version": 3
   },
   "file_extension": ".py",
   "mimetype": "text/x-python",
   "name": "python",
   "nbconvert_exporter": "python",
   "pygments_lexer": "ipython3",
   "version": "3.11.2"
  }
 },
 "nbformat": 4,
 "nbformat_minor": 2
}
