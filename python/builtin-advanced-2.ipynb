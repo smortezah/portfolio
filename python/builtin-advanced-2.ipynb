{
 "cells": [
  {
   "cell_type": "markdown",
   "metadata": {},
   "source": [
    "Click [here](https://medium.com/@morihosseini/mastering-advanced-python-built-ins-76f10df01506) to access the associated Medium article."
   ]
  },
  {
   "cell_type": "markdown",
   "metadata": {},
   "source": [
    "# 6. `map`"
   ]
  },
  {
   "cell_type": "markdown",
   "metadata": {},
   "source": [
    "## Example 1: Basic Transformation"
   ]
  },
  {
   "cell_type": "code",
   "execution_count": 34,
   "metadata": {},
   "outputs": [
    {
     "name": "stdout",
     "output_type": "stream",
     "text": [
      "[1, 4, 9, 16, 25]\n"
     ]
    }
   ],
   "source": [
    "numbers = [1, 2, 3, 4, 5]\n",
    "\n",
    "# Square each number\n",
    "squared = map(lambda x: x ** 2, numbers)\n",
    "print(list(squared))"
   ]
  },
  {
   "cell_type": "markdown",
   "metadata": {},
   "source": [
    "## Example 2: String Manipulation"
   ]
  },
  {
   "cell_type": "code",
   "execution_count": 35,
   "metadata": {},
   "outputs": [
    {
     "name": "stdout",
     "output_type": "stream",
     "text": [
      "['Python', 'Java', 'C++']\n"
     ]
    }
   ],
   "source": [
    "words = [\"python\", \"java\", \"c++\"]\n",
    "\n",
    "# Capitalize each word\n",
    "capitalized = map(str.capitalize, words)\n",
    "print(list(capitalized))"
   ]
  },
  {
   "cell_type": "markdown",
   "metadata": {},
   "source": [
    "## Example 3: Working with Multiple Iterables"
   ]
  },
  {
   "cell_type": "code",
   "execution_count": 36,
   "metadata": {},
   "outputs": [
    {
     "name": "stdout",
     "output_type": "stream",
     "text": [
      "[5, 7, 9]\n"
     ]
    }
   ],
   "source": [
    "a = [1, 2, 3]\n",
    "b = [4, 5, 6]\n",
    "\n",
    "# Add corresponding elements\n",
    "summed = map(lambda x, y: x + y, a, b)\n",
    "print(list(summed))"
   ]
  },
  {
   "cell_type": "markdown",
   "metadata": {},
   "source": [
    "## Example 4: Transforming Complex Data Structures"
   ]
  },
  {
   "cell_type": "code",
   "execution_count": 37,
   "metadata": {},
   "outputs": [
    {
     "name": "stdout",
     "output_type": "stream",
     "text": [
      "[{'name': 'Alice', 'age': 25}, {'name': 'Bob', 'age': 30}]\n"
     ]
    }
   ],
   "source": [
    "people = [{\"name\": \"alice\", \"age\": 25}, {\"name\": \"bob\", \"age\": 30}]\n",
    "\n",
    "# Capitalize names\n",
    "transformed = map(lambda person: {**person, \"name\": person[\"name\"].capitalize()}, people)\n",
    "print(list(transformed))"
   ]
  },
  {
   "cell_type": "markdown",
   "metadata": {},
   "source": [
    "## Example 5: Combining with `filter`"
   ]
  },
  {
   "cell_type": "code",
   "execution_count": 38,
   "metadata": {},
   "outputs": [
    {
     "name": "stdout",
     "output_type": "stream",
     "text": [
      "[4, 16, 36]\n"
     ]
    }
   ],
   "source": [
    "numbers = [1, 2, 3, 4, 5, 6]\n",
    "\n",
    "# Square only the even numbers\n",
    "squared_evens = map(lambda x: x ** 2, filter(lambda x: x % 2 == 0, numbers))\n",
    "print(list(squared_evens))"
   ]
  },
  {
   "cell_type": "markdown",
   "metadata": {},
   "source": [
    "## Example 6: Using `map` with Generators"
   ]
  },
  {
   "cell_type": "code",
   "execution_count": 39,
   "metadata": {},
   "outputs": [
    {
     "name": "stdout",
     "output_type": "stream",
     "text": [
      "[1, 4, 9, 16, 25]\n"
     ]
    }
   ],
   "source": [
    "# Create a generator for a large range\n",
    "numbers = range(1, 1000000)\n",
    "\n",
    "# Square each number (lazy evaluation)\n",
    "squared = map(lambda x: x ** 2, numbers)\n",
    "\n",
    "# Print the first 5 squared numbers\n",
    "print([next(squared) for _ in range(5)])"
   ]
  },
  {
   "cell_type": "markdown",
   "metadata": {},
   "source": [
    "## Example 7: Nesting `map` for Advanced Transformations"
   ]
  },
  {
   "cell_type": "code",
   "execution_count": 40,
   "metadata": {},
   "outputs": [
    {
     "name": "stdout",
     "output_type": "stream",
     "text": [
      "[12, 30, 48]\n"
     ]
    }
   ],
   "source": [
    "matrix = [[1, 2, 3], [4, 5, 6], [7, 8, 9]]\n",
    "\n",
    "# Flatten and double the values\n",
    "flattened_and_doubled = map(lambda x: x * 2, map(lambda row: sum(row), matrix))\n",
    "print(list(flattened_and_doubled))"
   ]
  },
  {
   "cell_type": "markdown",
   "metadata": {},
   "source": [
    "## Debugging with `list`"
   ]
  },
  {
   "cell_type": "code",
   "execution_count": 41,
   "metadata": {},
   "outputs": [
    {
     "name": "stdout",
     "output_type": "stream",
     "text": [
      "[1, 4, 9]\n"
     ]
    }
   ],
   "source": [
    "numbers = [1, 2, 3]\n",
    "print(list(map(lambda x: x ** 2, numbers)))"
   ]
  },
  {
   "cell_type": "markdown",
   "metadata": {},
   "source": [
    "# 7. `getattr` and `setattr`"
   ]
  },
  {
   "cell_type": "markdown",
   "metadata": {},
   "source": [
    "## Example 1: Accessing Attributes Dynamically with `getattr`"
   ]
  },
  {
   "cell_type": "code",
   "execution_count": 42,
   "metadata": {},
   "outputs": [
    {
     "name": "stdout",
     "output_type": "stream",
     "text": [
      "1200\n",
      "Not available\n"
     ]
    }
   ],
   "source": [
    "class Product:\n",
    "    def __init__(self, name, price, stock):\n",
    "        self.name = name\n",
    "        self.price = price\n",
    "        self.stock = stock\n",
    "\n",
    "# Create an object\n",
    "product = Product(\"Laptop\", 1200, 30)\n",
    "\n",
    "# Access attributes dynamically\n",
    "attr_name = \"price\"\n",
    "print(getattr(product, attr_name))  # Output: 1200\n",
    "\n",
    "# Provide a default value if the attribute doesn't exist\n",
    "print(getattr(product, \"discount\", \"Not available\"))"
   ]
  },
  {
   "cell_type": "markdown",
   "metadata": {},
   "source": [
    "## Example 2: Modifying Attributes Dynamically with `setattr`"
   ]
  },
  {
   "cell_type": "code",
   "execution_count": 43,
   "metadata": {},
   "outputs": [
    {
     "name": "stdout",
     "output_type": "stream",
     "text": [
      "25\n",
      "10\n"
     ]
    }
   ],
   "source": [
    "# Modify an existing attribute\n",
    "setattr(product, \"stock\", 25)\n",
    "print(product.stock)\n",
    "\n",
    "# Add a new attribute\n",
    "setattr(product, \"discount\", 10)\n",
    "print(product.discount)"
   ]
  },
  {
   "cell_type": "markdown",
   "metadata": {},
   "source": [
    "## Example 3: Combining `getattr` and `setattr`"
   ]
  },
  {
   "cell_type": "code",
   "execution_count": 44,
   "metadata": {},
   "outputs": [
    {
     "name": "stdout",
     "output_type": "stream",
     "text": [
      "price: 1100\n",
      "stock: 20\n",
      "discount: 15\n"
     ]
    }
   ],
   "source": [
    "# Update attributes based on a dictionary of updates\n",
    "updates = {\"price\": 1100, \"stock\": 20, \"discount\": 15}\n",
    "\n",
    "for key, value in updates.items():\n",
    "    setattr(product, key, value)\n",
    "\n",
    "# Inspect the updates dynamically\n",
    "for attr in [\"price\", \"stock\", \"discount\"]:\n",
    "    print(f\"{attr}: {getattr(product, attr)}\")"
   ]
  },
  {
   "cell_type": "markdown",
   "metadata": {},
   "source": [
    "## Example 4: Reflection and Introspection"
   ]
  },
  {
   "cell_type": "code",
   "execution_count": 45,
   "metadata": {},
   "outputs": [
    {
     "name": "stdout",
     "output_type": "stream",
     "text": [
      "50\n"
     ]
    }
   ],
   "source": [
    "class Calculator:\n",
    "    def add(self, a, b):\n",
    "        return a + b\n",
    "\n",
    "    def multiply(self, a, b):\n",
    "        return a * b\n",
    "\n",
    "calc = Calculator()\n",
    "\n",
    "# Dynamically call a method\n",
    "operation = \"multiply\"\n",
    "result = getattr(calc, operation)(10, 5)\n",
    "print(result)"
   ]
  },
  {
   "cell_type": "markdown",
   "metadata": {},
   "source": [
    "## Use with `hasattr` for Safety"
   ]
  },
  {
   "cell_type": "code",
   "execution_count": 46,
   "metadata": {},
   "outputs": [
    {
     "name": "stdout",
     "output_type": "stream",
     "text": [
      "Discount available: 15\n"
     ]
    }
   ],
   "source": [
    "if hasattr(product, \"discount\"):\n",
    "    print(f\"Discount available: {getattr(product, 'discount')}\")\n",
    "else:\n",
    "    print(\"No discount available.\")"
   ]
  },
  {
   "cell_type": "markdown",
   "metadata": {},
   "source": [
    "# 8. `isinstance` and `issubclass`"
   ]
  },
  {
   "cell_type": "markdown",
   "metadata": {},
   "source": [
    "## Example 1: Using `isinstance` with Single Class"
   ]
  },
  {
   "cell_type": "code",
   "execution_count": 47,
   "metadata": {},
   "outputs": [
    {
     "name": "stdout",
     "output_type": "stream",
     "text": [
      "True\n",
      "True\n"
     ]
    }
   ],
   "source": [
    "class Animal:\n",
    "    pass\n",
    "\n",
    "class Dog(Animal):\n",
    "    pass\n",
    "\n",
    "# Creating an object of Dog class\n",
    "my_pet = Dog()\n",
    "\n",
    "# Checking if the object is an instance of Dog\n",
    "print(isinstance(my_pet, Dog))\n",
    "\n",
    "# Checking if the object is an instance of Animal\n",
    "print(isinstance(my_pet, Animal))"
   ]
  },
  {
   "cell_type": "markdown",
   "metadata": {},
   "source": [
    "## Example 2: Using `isinstance` with Multiple Classes"
   ]
  },
  {
   "cell_type": "code",
   "execution_count": 48,
   "metadata": {},
   "outputs": [
    {
     "name": "stdout",
     "output_type": "stream",
     "text": [
      "True\n",
      "False\n"
     ]
    }
   ],
   "source": [
    "class Cat:\n",
    "    pass\n",
    "\n",
    "class Rabbit:\n",
    "    pass\n",
    "\n",
    "# Creating an object of Cat class\n",
    "my_pet = Cat()\n",
    "\n",
    "# Checking if the object is an instance of either Cat or Rabbit\n",
    "print(isinstance(my_pet, (Cat, Rabbit)))\n",
    "\n",
    "# Checking if the object is an instance of Animal or Dog (should return False)\n",
    "print(isinstance(my_pet, (Dog, Animal)))"
   ]
  },
  {
   "cell_type": "markdown",
   "metadata": {},
   "source": [
    "## Example 3: Using `isinstance` with Built-in Types"
   ]
  },
  {
   "cell_type": "code",
   "execution_count": 49,
   "metadata": {},
   "outputs": [
    {
     "name": "stdout",
     "output_type": "stream",
     "text": [
      "True\n",
      "True\n",
      "False\n"
     ]
    }
   ],
   "source": [
    "x = 42\n",
    "y = \"Hello\"\n",
    "\n",
    "# Check if x is an integer\n",
    "print(isinstance(x, int))\n",
    "\n",
    "# Check if y is a string\n",
    "print(isinstance(y, str))\n",
    "\n",
    "# Check if y is a list\n",
    "print(isinstance(y, list))"
   ]
  },
  {
   "cell_type": "markdown",
   "metadata": {},
   "source": [
    "## Example 4: Checking Custom Class Instances"
   ]
  },
  {
   "cell_type": "code",
   "execution_count": 50,
   "metadata": {},
   "outputs": [
    {
     "name": "stdout",
     "output_type": "stream",
     "text": [
      "True\n",
      "True\n"
     ]
    }
   ],
   "source": [
    "class Vehicle:\n",
    "    def drive(self):\n",
    "        print(\"Driving...\")\n",
    "\n",
    "class Car(Vehicle):\n",
    "    def honk(self):\n",
    "        print(\"Honk! Honk!\")\n",
    "\n",
    "# Create an object of Car class\n",
    "my_car = Car()\n",
    "\n",
    "# Check if my_car is an instance of Car\n",
    "print(isinstance(my_car, Car))\n",
    "\n",
    "# Check if my_car is an instance of Vehicle (Car is a subclass of Vehicle)\n",
    "print(isinstance(my_car, Vehicle))"
   ]
  },
  {
   "cell_type": "markdown",
   "metadata": {},
   "source": [
    "## Example 5: Using `issubclass` with Single Class"
   ]
  },
  {
   "cell_type": "code",
   "execution_count": 51,
   "metadata": {},
   "outputs": [
    {
     "name": "stdout",
     "output_type": "stream",
     "text": [
      "True\n",
      "False\n"
     ]
    }
   ],
   "source": [
    "class Animal:\n",
    "    pass\n",
    "\n",
    "class Dog(Animal):\n",
    "    pass\n",
    "\n",
    "# Check if Dog is a subclass of Animal\n",
    "print(issubclass(Dog, Animal))\n",
    "\n",
    "# Check if Animal is a subclass of Dog\n",
    "print(issubclass(Animal, Dog))"
   ]
  },
  {
   "cell_type": "markdown",
   "metadata": {},
   "source": [
    "## Example 6: Using `issubclass` with Multiple Classes"
   ]
  },
  {
   "cell_type": "code",
   "execution_count": 52,
   "metadata": {},
   "outputs": [
    {
     "name": "stdout",
     "output_type": "stream",
     "text": [
      "True\n",
      "False\n"
     ]
    }
   ],
   "source": [
    "class Cat:\n",
    "    pass\n",
    "\n",
    "class Rabbit:\n",
    "    pass\n",
    "\n",
    "class Tiger(Cat):\n",
    "    pass\n",
    "\n",
    "# Check if Tiger is a subclass of either Cat or Rabbit\n",
    "print(issubclass(Tiger, (Cat, Rabbit)))\n",
    "\n",
    "# Check if Tiger is a subclass of Dog (it’s not)\n",
    "print(issubclass(Tiger, Dog))"
   ]
  },
  {
   "cell_type": "markdown",
   "metadata": {},
   "source": [
    "## Example 7: Using `issubclass` with Built-in Types"
   ]
  },
  {
   "cell_type": "code",
   "execution_count": 53,
   "metadata": {},
   "outputs": [
    {
     "name": "stdout",
     "output_type": "stream",
     "text": [
      "True\n",
      "False\n"
     ]
    }
   ],
   "source": [
    "# Check if list is a subclass of object (all classes in Python are subclasses of object)\n",
    "print(issubclass(list, object))\n",
    "\n",
    "# Check if dict is a subclass of list (it's not)\n",
    "print(issubclass(dict, list))"
   ]
  },
  {
   "cell_type": "markdown",
   "metadata": {},
   "source": [
    "## Using `isinstance` and `issubclass` for Multiple Class Hierarchies"
   ]
  },
  {
   "cell_type": "code",
   "execution_count": 54,
   "metadata": {},
   "outputs": [
    {
     "name": "stdout",
     "output_type": "stream",
     "text": [
      "Valid animal object.\n"
     ]
    }
   ],
   "source": [
    "class Animal:\n",
    "    pass\n",
    "\n",
    "class Bird(Animal):\n",
    "    pass\n",
    "\n",
    "class Dog(Animal):\n",
    "    pass\n",
    "\n",
    "# Check if an object is an instance of either Bird or Dog, or a subclass of Animal\n",
    "animal = Bird()\n",
    "\n",
    "if isinstance(animal, (Bird, Dog)) or issubclass(type(animal), Animal):\n",
    "    print(\"Valid animal object.\")\n",
    "else:\n",
    "    print(\"Invalid object.\")"
   ]
  },
  {
   "cell_type": "markdown",
   "metadata": {},
   "source": [
    "# 9. `reduce`"
   ]
  },
  {
   "cell_type": "markdown",
   "metadata": {},
   "source": [
    "## Example 1: Summing Numbers"
   ]
  },
  {
   "cell_type": "code",
   "execution_count": 55,
   "metadata": {},
   "outputs": [
    {
     "name": "stdout",
     "output_type": "stream",
     "text": [
      "15\n"
     ]
    }
   ],
   "source": [
    "from functools import reduce\n",
    "\n",
    "numbers = [1, 2, 3, 4, 5]\n",
    "\n",
    "# Reduce to sum\n",
    "total = reduce(lambda x, y: x + y, numbers)\n",
    "print(total)"
   ]
  },
  {
   "cell_type": "markdown",
   "metadata": {},
   "source": [
    "## Example 2: Using an Initial Value"
   ]
  },
  {
   "cell_type": "code",
   "execution_count": 56,
   "metadata": {},
   "outputs": [
    {
     "name": "stdout",
     "output_type": "stream",
     "text": [
      "25\n"
     ]
    }
   ],
   "source": [
    "# Sum starting with an initial value of 10\n",
    "total = reduce(lambda x, y: x + y, numbers, 10)\n",
    "print(total)"
   ]
  },
  {
   "cell_type": "markdown",
   "metadata": {},
   "source": [
    "## Example 3: Finding the Maximum Value"
   ]
  },
  {
   "cell_type": "code",
   "execution_count": 57,
   "metadata": {},
   "outputs": [
    {
     "name": "stdout",
     "output_type": "stream",
     "text": [
      "8\n"
     ]
    }
   ],
   "source": [
    "numbers = [3, 7, 2, 8, 5]\n",
    "\n",
    "# Find the maximum\n",
    "maximum = reduce(lambda x, y: x if x > y else y, numbers)\n",
    "print(maximum)"
   ]
  },
  {
   "cell_type": "markdown",
   "metadata": {},
   "source": [
    "## Example 4: Multiplying All Elements"
   ]
  },
  {
   "cell_type": "code",
   "execution_count": 58,
   "metadata": {},
   "outputs": [
    {
     "name": "stdout",
     "output_type": "stream",
     "text": [
      "1680\n"
     ]
    }
   ],
   "source": [
    "# Multiply all elements\n",
    "product = reduce(lambda x, y: x * y, numbers)\n",
    "print(product)"
   ]
  },
  {
   "cell_type": "markdown",
   "metadata": {},
   "source": [
    "## Example 5: Reducing to a Custom Structure"
   ]
  },
  {
   "cell_type": "code",
   "execution_count": 59,
   "metadata": {},
   "outputs": [
    {
     "name": "stdout",
     "output_type": "stream",
     "text": [
      "Python is awesome\n"
     ]
    }
   ],
   "source": [
    "words = [\"Python\", \"is\", \"awesome\"]\n",
    "\n",
    "# Concatenate with spaces\n",
    "sentence = reduce(lambda x, y: f\"{x} {y}\", words)\n",
    "print(sentence)"
   ]
  },
  {
   "cell_type": "markdown",
   "metadata": {},
   "source": [
    "## Example 6: Nested Data"
   ]
  },
  {
   "cell_type": "code",
   "execution_count": 60,
   "metadata": {},
   "outputs": [
    {
     "name": "stdout",
     "output_type": "stream",
     "text": [
      "[1, 2, 3, 4, 5, 6]\n"
     ]
    }
   ],
   "source": [
    "nested = [[1, 2], [3, 4], [5, 6]]\n",
    "\n",
    "# Flatten the list\n",
    "flattened = reduce(lambda x, y: x + y, nested)\n",
    "print(flattened)"
   ]
  },
  {
   "cell_type": "markdown",
   "metadata": {},
   "source": [
    "## Debugging Tip"
   ]
  },
  {
   "cell_type": "code",
   "execution_count": 61,
   "metadata": {},
   "outputs": [
    {
     "name": "stdout",
     "output_type": "stream",
     "text": [
      "Reducing: 3 and 7\n",
      "Reducing: 10 and 2\n",
      "Reducing: 12 and 8\n",
      "Reducing: 20 and 5\n",
      "Total: 25\n"
     ]
    }
   ],
   "source": [
    "def debug_reduce(x, y):\n",
    "    print(f\"Reducing: {x} and {y}\")\n",
    "    return x + y\n",
    "\n",
    "# Debugging reduce\n",
    "total = reduce(debug_reduce, numbers)\n",
    "print(\"Total:\", total)"
   ]
  },
  {
   "cell_type": "markdown",
   "metadata": {},
   "source": [
    "## Advanced Example: Factorial Calculation"
   ]
  },
  {
   "cell_type": "code",
   "execution_count": 62,
   "metadata": {},
   "outputs": [
    {
     "name": "stdout",
     "output_type": "stream",
     "text": [
      "Factorial of 5: 120\n"
     ]
    }
   ],
   "source": [
    "from functools import reduce\n",
    "\n",
    "n = 5\n",
    "\n",
    "# Using reduce to calculate factorial\n",
    "fact = reduce(lambda x, y: x * y, range(1, n + 1))\n",
    "print(f\"Factorial of {n}:\", fact)"
   ]
  },
  {
   "cell_type": "markdown",
   "metadata": {},
   "source": [
    "# 10. `next`"
   ]
  },
  {
   "cell_type": "markdown",
   "metadata": {},
   "source": [
    "## Example 1: Basic Usage"
   ]
  },
  {
   "cell_type": "code",
   "execution_count": 63,
   "metadata": {},
   "outputs": [
    {
     "name": "stdout",
     "output_type": "stream",
     "text": [
      "1\n",
      "2\n",
      "3\n"
     ]
    }
   ],
   "source": [
    "numbers = [1, 2, 3]\n",
    "iterator = iter(numbers)\n",
    "\n",
    "# Get the next item from the iterator\n",
    "print(next(iterator))\n",
    "print(next(iterator))\n",
    "print(next(iterator))\n",
    "\n",
    "# Trying to get the next item after the iterator is exhausted will raise StopIteration\n",
    "# print(next(iterator))  # Uncommenting this will raise StopIteration"
   ]
  },
  {
   "cell_type": "markdown",
   "metadata": {},
   "source": [
    "## Example 2: Usage with a Default Value"
   ]
  },
  {
   "cell_type": "code",
   "execution_count": 64,
   "metadata": {},
   "outputs": [
    {
     "name": "stdout",
     "output_type": "stream",
     "text": [
      "1\n",
      "2\n",
      "3\n",
      "No more items\n"
     ]
    }
   ],
   "source": [
    "numbers = [1, 2, 3]\n",
    "iterator = iter(numbers)\n",
    "\n",
    "print(next(iterator, 'No more items'))\n",
    "print(next(iterator, 'No more items'))\n",
    "print(next(iterator, 'No more items'))\n",
    "print(next(iterator, 'No more items'))  # Output: No more items (since the iterator is exhausted)"
   ]
  },
  {
   "cell_type": "markdown",
   "metadata": {},
   "source": [
    "## Example 3: Usage with Generators"
   ]
  },
  {
   "cell_type": "code",
   "execution_count": 65,
   "metadata": {},
   "outputs": [
    {
     "name": "stdout",
     "output_type": "stream",
     "text": [
      "1\n",
      "2\n",
      "3\n",
      "No more items\n"
     ]
    }
   ],
   "source": [
    "def my_generator():\n",
    "    yield 1\n",
    "    yield 2\n",
    "    yield 3\n",
    "\n",
    "# Create a generator\n",
    "gen = my_generator()\n",
    "\n",
    "print(next(gen))\n",
    "print(next(gen))\n",
    "print(next(gen))\n",
    "print(next(gen, 'No more items')) "
   ]
  },
  {
   "cell_type": "markdown",
   "metadata": {},
   "source": [
    "## Example 4: Usage in Loops"
   ]
  },
  {
   "cell_type": "code",
   "execution_count": 66,
   "metadata": {},
   "outputs": [
    {
     "name": "stdout",
     "output_type": "stream",
     "text": [
      "Odd number: 1\n",
      "Even number: 2\n",
      "Odd number: 3\n",
      "Even number: 4\n",
      "Odd number: 5\n"
     ]
    }
   ],
   "source": [
    "numbers = [1, 2, 3, 4, 5]\n",
    "iterator = iter(numbers)\n",
    "\n",
    "# Custom iteration using next()\n",
    "while True:\n",
    "    try:\n",
    "        item = next(iterator)\n",
    "        if item % 2 == 0:\n",
    "            print(f\"Even number: {item}\")\n",
    "        else:\n",
    "            print(f\"Odd number: {item}\")\n",
    "    except StopIteration:\n",
    "        break"
   ]
  },
  {
   "cell_type": "markdown",
   "metadata": {},
   "source": [
    "## Example 5: Handling Multiple Iterables"
   ]
  },
  {
   "cell_type": "code",
   "execution_count": 67,
   "metadata": {},
   "outputs": [
    {
     "name": "stdout",
     "output_type": "stream",
     "text": [
      "Pair: (1, a)\n",
      "Pair: (2, b)\n",
      "Pair: (3, c)\n"
     ]
    }
   ],
   "source": [
    "list1 = [1, 2, 3]\n",
    "list2 = ['a', 'b', 'c']\n",
    "iterator1 = iter(list1)\n",
    "iterator2 = iter(list2)\n",
    "\n",
    "while True:\n",
    "    try:\n",
    "        item1 = next(iterator1)\n",
    "        item2 = next(iterator2)\n",
    "        print(f\"Pair: ({item1}, {item2})\")\n",
    "    except StopIteration:\n",
    "        break"
   ]
  },
  {
   "cell_type": "markdown",
   "metadata": {},
   "source": [
    "## Avoid Infinite Loops"
   ]
  },
  {
   "cell_type": "code",
   "execution_count": 68,
   "metadata": {},
   "outputs": [
    {
     "name": "stdout",
     "output_type": "stream",
     "text": [
      "1\n",
      "2\n",
      "3\n"
     ]
    }
   ],
   "source": [
    "iterator = iter([1, 2, 3])\n",
    "\n",
    "# Incorrect use (will raise StopIteration error)\n",
    "# while True:\n",
    "#     print(next(iterator))\n",
    "\n",
    "# Correct use (with exception handling)\n",
    "while True:\n",
    "    try:\n",
    "        print(next(iterator))\n",
    "    except StopIteration:\n",
    "        break"
   ]
  },
  {
   "cell_type": "code",
   "execution_count": 69,
   "metadata": {},
   "outputs": [],
   "source": [
    "while True:\n",
    "    item = next(iterator, 'No more items')\n",
    "    if item == 'No more items':\n",
    "        break\n",
    "    print(item)"
   ]
  },
  {
   "cell_type": "markdown",
   "metadata": {},
   "source": [
    "## Advanced Example: Usage in a Custom Iterator"
   ]
  },
  {
   "cell_type": "code",
   "execution_count": 70,
   "metadata": {},
   "outputs": [
    {
     "name": "stdout",
     "output_type": "stream",
     "text": [
      "4\n",
      "3\n",
      "2\n",
      "1\n",
      "0\n"
     ]
    },
    {
     "ename": "StopIteration",
     "evalue": "",
     "output_type": "error",
     "traceback": [
      "\u001b[0;31m---------------------------------------------------------------------------\u001b[0m",
      "\u001b[0;31mStopIteration\u001b[0m                             Traceback (most recent call last)",
      "Cell \u001b[0;32mIn[70], line 23\u001b[0m\n\u001b[1;32m     21\u001b[0m \u001b[38;5;28mprint\u001b[39m(\u001b[38;5;28mnext\u001b[39m(countdown))\n\u001b[1;32m     22\u001b[0m \u001b[38;5;28mprint\u001b[39m(\u001b[38;5;28mnext\u001b[39m(countdown))\n\u001b[0;32m---> 23\u001b[0m \u001b[38;5;28mprint\u001b[39m(\u001b[38;5;28;43mnext\u001b[39;49m\u001b[43m(\u001b[49m\u001b[43mcountdown\u001b[49m\u001b[43m)\u001b[49m)\n",
      "Cell \u001b[0;32mIn[70], line 10\u001b[0m, in \u001b[0;36mCountdown.__next__\u001b[0;34m(self)\u001b[0m\n\u001b[1;32m      8\u001b[0m \u001b[38;5;28;01mdef\u001b[39;00m \u001b[38;5;21m__next__\u001b[39m(\u001b[38;5;28mself\u001b[39m):\n\u001b[1;32m      9\u001b[0m     \u001b[38;5;28;01mif\u001b[39;00m \u001b[38;5;28mself\u001b[39m\u001b[38;5;241m.\u001b[39mcurrent \u001b[38;5;241m<\u001b[39m\u001b[38;5;241m=\u001b[39m \u001b[38;5;241m0\u001b[39m:\n\u001b[0;32m---> 10\u001b[0m         \u001b[38;5;28;01mraise\u001b[39;00m \u001b[38;5;167;01mStopIteration\u001b[39;00m\n\u001b[1;32m     11\u001b[0m     \u001b[38;5;28mself\u001b[39m\u001b[38;5;241m.\u001b[39mcurrent \u001b[38;5;241m-\u001b[39m\u001b[38;5;241m=\u001b[39m \u001b[38;5;241m1\u001b[39m\n\u001b[1;32m     12\u001b[0m     \u001b[38;5;28;01mreturn\u001b[39;00m \u001b[38;5;28mself\u001b[39m\u001b[38;5;241m.\u001b[39mcurrent\n",
      "\u001b[0;31mStopIteration\u001b[0m: "
     ]
    }
   ],
   "source": [
    "class Countdown:\n",
    "    def __init__(self, start):\n",
    "        self.current = start\n",
    "\n",
    "    def __iter__(self):\n",
    "        return self\n",
    "\n",
    "    def __next__(self):\n",
    "        if self.current <= 0:\n",
    "            raise StopIteration\n",
    "        self.current -= 1\n",
    "        return self.current\n",
    "\n",
    "# Create a countdown iterator\n",
    "countdown = Countdown(5)\n",
    "\n",
    "# Use next() to get values from the countdown iterator\n",
    "print(next(countdown))\n",
    "print(next(countdown))\n",
    "print(next(countdown))\n",
    "print(next(countdown))\n",
    "print(next(countdown))\n",
    "print(next(countdown))"
   ]
  }
 ],
 "metadata": {
  "kernelspec": {
   "display_name": ".venv3.13",
   "language": "python",
   "name": "python3"
  },
  "language_info": {
   "codemirror_mode": {
    "name": "ipython",
    "version": 3
   },
   "file_extension": ".py",
   "mimetype": "text/x-python",
   "name": "python",
   "nbconvert_exporter": "python",
   "pygments_lexer": "ipython3",
   "version": "3.13.0"
  }
 },
 "nbformat": 4,
 "nbformat_minor": 2
}
