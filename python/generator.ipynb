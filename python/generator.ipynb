{
 "cells": [
  {
   "cell_type": "markdown",
   "metadata": {},
   "source": [
    "Click [here](https://medium.com/@morihosseini/a-hands-on-guide-to-python-generators-fd239b066750) to access the associated Medium article."
   ]
  },
  {
   "cell_type": "markdown",
   "metadata": {},
   "source": [
    "# Creating Your First Generator\n",
    "\n",
    "## The `yield` Keyword\n"
   ]
  },
  {
   "cell_type": "code",
   "execution_count": 2,
   "metadata": {},
   "outputs": [
    {
     "name": "stdout",
     "output_type": "stream",
     "text": [
      "0\n",
      "1\n",
      "1\n",
      "2\n",
      "3\n",
      "5\n"
     ]
    }
   ],
   "source": [
    "def fibonacci_generator():\n",
    "    a, b = 0, 1\n",
    "    while True:\n",
    "        yield a\n",
    "        a, b = b, a + b\n",
    "\n",
    "\n",
    "# Usage\n",
    "fib_gen = fibonacci_generator()\n",
    "for _ in range(6):\n",
    "    print(next(fib_gen))"
   ]
  },
  {
   "cell_type": "markdown",
   "metadata": {},
   "source": [
    "# Generator Expressions\n",
    "\n",
    "## One-Liners\n"
   ]
  },
  {
   "cell_type": "code",
   "execution_count": 3,
   "metadata": {},
   "outputs": [
    {
     "name": "stdout",
     "output_type": "stream",
     "text": [
      "0\n",
      "4\n",
      "16\n",
      "36\n",
      "64\n"
     ]
    }
   ],
   "source": [
    "# Creating a generator expression for even squares\n",
    "even_squares = (x**2 for x in range(10) if x % 2 == 0)\n",
    "\n",
    "# Usage\n",
    "for square in even_squares:\n",
    "    print(square)"
   ]
  },
  {
   "cell_type": "markdown",
   "metadata": {},
   "source": [
    "## Transforming Data on the Fly\n"
   ]
  },
  {
   "cell_type": "code",
   "execution_count": 12,
   "metadata": {},
   "outputs": [
    {
     "name": "stdout",
     "output_type": "stream",
     "text": [
      "http://example.com/home\n",
      "http://example.com/about\n",
      "http://example.com/contact\n"
     ]
    }
   ],
   "source": [
    "# Extracting URLs from a log file (assuming each line contains a URL)\n",
    "log_file = \"\"\"\n",
    "2022-01-01 10:00:00 GET /home.html 200 1234 http://example.com/home\n",
    "2022-01-01 10:01:00 GET /about.html 200 5678 http://example.com/about\n",
    "2022-01-01 10:02:00 GET /contact.html 200 9876 http://example.com/contact\n",
    "\"\"\"\n",
    "urls = (line.split()[6] for line in log_file.splitlines() if \"http\" in line)\n",
    "\n",
    "# Usage\n",
    "for url in urls:\n",
    "    print(url)"
   ]
  },
  {
   "cell_type": "markdown",
   "metadata": {},
   "source": [
    "# Advanced Techniques and Best Practices\n",
    "\n",
    "## Passing Arguments to Generators\n"
   ]
  },
  {
   "cell_type": "code",
   "execution_count": 13,
   "metadata": {},
   "outputs": [
    {
     "name": "stdout",
     "output_type": "stream",
     "text": [
      "1\n",
      "2\n",
      "4\n",
      "8\n",
      "16\n"
     ]
    }
   ],
   "source": [
    "def power_generator(base, exponent):\n",
    "    result = 1\n",
    "    while True:\n",
    "        yield result\n",
    "        result *= base**exponent\n",
    "\n",
    "\n",
    "# Usage\n",
    "powers_of_two = power_generator(base=2, exponent=1)\n",
    "for _ in range(5):\n",
    "    print(next(powers_of_two))"
   ]
  },
  {
   "cell_type": "markdown",
   "metadata": {},
   "source": [
    "## Infinite Sequences\n"
   ]
  },
  {
   "cell_type": "code",
   "execution_count": 15,
   "metadata": {},
   "outputs": [
    {
     "name": "stdout",
     "output_type": "stream",
     "text": [
      "0\n",
      "1\n",
      "1\n",
      "2\n",
      "3\n",
      "5\n",
      "8\n"
     ]
    }
   ],
   "source": [
    "def infinite_fibonacci():\n",
    "    a, b = 0, 1\n",
    "    while True:\n",
    "        yield a\n",
    "        a, b = b, a + b\n",
    "\n",
    "\n",
    "# Usage\n",
    "fibonacci_stream = infinite_fibonacci()\n",
    "for _ in range(7):\n",
    "    print(next(fibonacci_stream))"
   ]
  },
  {
   "cell_type": "markdown",
   "metadata": {},
   "source": [
    "## Error Handling and Graceful Exits\n"
   ]
  },
  {
   "cell_type": "code",
   "execution_count": 20,
   "metadata": {},
   "outputs": [
    {
     "name": "stdout",
     "output_type": "stream",
     "text": [
      "I'm feeling adventurous!\n",
      "Oops, I tripped on a zero!\n"
     ]
    }
   ],
   "source": [
    "def risky_generator():\n",
    "    try:\n",
    "        yield \"I'm feeling adventurous!\"\n",
    "        # Simulate an error\n",
    "        1 / 0\n",
    "    except ZeroDivisionError:\n",
    "        yield \"Oops, I tripped on a zero!\"\n",
    "        # Graceful exit\n",
    "        return\n",
    "\n",
    "\n",
    "# Usage\n",
    "adventure_time = risky_generator()\n",
    "for _ in range(2):\n",
    "    print(next(adventure_time))"
   ]
  },
  {
   "cell_type": "markdown",
   "metadata": {},
   "source": [
    "# Real-World Use Cases\n",
    "\n",
    "## Parsing Large Files Without Breaking a Sweat"
   ]
  },
  {
   "cell_type": "code",
   "execution_count": 27,
   "metadata": {},
   "outputs": [
    {
     "name": "stdout",
     "output_type": "stream",
     "text": [
      "Writing access.log\n"
     ]
    }
   ],
   "source": [
    "%%writefile access.log\n",
    "127.0.0.1 - - [01/Jan/2022:12:00:00 +0000] \"GET /home HTTP/1.1\" 200 1234\n",
    "127.0.0.1 - - [01/Jan/2022:12:01:00 +0000] \"GET /about HTTP/1.1\" 200 5678\n",
    "127.0.0.1 - - [01/Jan/2022:12:02:00 +0000] \"GET /contact HTTP/1.1\" 404 0\n",
    "127.0.0.1 - - [01/Jan/2022:12:03:00 +0000] \"GET /products HTTP/1.1\" 200 9876\n",
    "127.0.0.1 - - [01/Jan/2022:12:04:00 +0000] \"GET /services HTTP/1.1\" 200 4321"
   ]
  },
  {
   "cell_type": "code",
   "execution_count": 36,
   "metadata": {},
   "outputs": [
    {
     "name": "stdout",
     "output_type": "stream",
     "text": [
      "127.0.0.1 - [01/Jan/2022:12:00:00 +0000] \"GET /home HTTP/1.1\" 200 1234\n",
      "127.0.0.1 - [01/Jan/2022:12:01:00 +0000] \"GET /about HTTP/1.1\" 200 5678\n",
      "127.0.0.1 - [01/Jan/2022:12:02:00 +0000] \"GET /contact HTTP/1.1\" 404 0\n",
      "127.0.0.1 - [01/Jan/2022:12:03:00 +0000] \"GET /products HTTP/1.1\" 200 9876\n",
      "127.0.0.1 - [01/Jan/2022:12:04:00 +0000] \"GET /services HTTP/1.1\" 200 4321\n"
     ]
    }
   ],
   "source": [
    "def log_parser(log_file):\n",
    "    with open(log_file) as file:\n",
    "        for line in file:\n",
    "            yield line.strip()  # Clean up the artifacts\n",
    "\n",
    "\n",
    "# Usage\n",
    "access_logs = log_parser(\"access.log\")\n",
    "for log_entry in access_logs:\n",
    "    # Analyze, transform, or save the log data\n",
    "    result = log_entry.replace(\"- -\", \"-\")\n",
    "    print(result)"
   ]
  },
  {
   "cell_type": "markdown",
   "metadata": {},
   "source": [
    "## Web Scraping"
   ]
  },
  {
   "cell_type": "code",
   "execution_count": 38,
   "metadata": {},
   "outputs": [
    {
     "name": "stdout",
     "output_type": "stream",
     "text": [
      "\u001b[33mDEPRECATION: textract 1.6.5 has a non-standard dependency specifier extract-msg<=0.29.*. pip 24.1 will enforce this behaviour change. A possible replacement is to upgrade to a newer version of textract or contact the author to suggest that they release a version with a conforming dependency specifiers. Discussion can be found at https://github.com/pypa/pip/issues/12063\u001b[0m\u001b[33m\n",
      "\u001b[0m"
     ]
    }
   ],
   "source": [
    "!pip install -q bs4"
   ]
  },
  {
   "cell_type": "code",
   "execution_count": 37,
   "metadata": {},
   "outputs": [],
   "source": [
    "import requests\n",
    "from bs4 import BeautifulSoup\n",
    "\n",
    "\n",
    "def scrape_quotes(url):\n",
    "    response = requests.get(url)\n",
    "    soup = BeautifulSoup(response.content, \"html.parser\")\n",
    "    for quote in soup.find_all(\"div\", class_=\"quote\"):\n",
    "        yield quote.text.strip()\n",
    "\n",
    "\n",
    "# Usage\n",
    "inspirational_quotes = scrape_quotes(\"https://example.com/quotes\")\n",
    "for quote in inspirational_quotes:\n",
    "    print(quote)"
   ]
  },
  {
   "cell_type": "markdown",
   "metadata": {},
   "source": [
    "## Parallel Processing: Generators and Concurrency"
   ]
  },
  {
   "cell_type": "code",
   "execution_count": 41,
   "metadata": {},
   "outputs": [
    {
     "name": "stdout",
     "output_type": "stream",
     "text": [
      "Data from https://api1.com\n",
      "Data from https://api2.com\n",
      "Data from https://api3.com\n"
     ]
    }
   ],
   "source": [
    "import asyncio\n",
    "\n",
    "async def fetch_data(url):\n",
    "    # Simulate fetching data from an API\n",
    "    await asyncio.sleep(1)\n",
    "    return f\"Data from {url}\"\n",
    "\n",
    "async def process_data():\n",
    "    urls = [\"https://api1.com\", \"https://api2.com\", \"https://api3.com\"]\n",
    "    for url in urls:\n",
    "        data = await fetch_data(url)\n",
    "        yield data\n",
    "\n",
    "# Usage\n",
    "async def main():\n",
    "    async for result in process_data():\n",
    "        print(result)\n",
    "\n",
    "await main()"
   ]
  }
 ],
 "metadata": {
  "kernelspec": {
   "display_name": ".venv",
   "language": "python",
   "name": "python3"
  },
  "language_info": {
   "codemirror_mode": {
    "name": "ipython",
    "version": 3
   },
   "file_extension": ".py",
   "mimetype": "text/x-python",
   "name": "python",
   "nbconvert_exporter": "python",
   "pygments_lexer": "ipython3",
   "version": "3.11.2"
  }
 },
 "nbformat": 4,
 "nbformat_minor": 2
}
