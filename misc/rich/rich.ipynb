{
 "cells": [
  {
   "cell_type": "markdown",
   "metadata": {},
   "source": [
    "Click [here]() to access the associated Medium article."
   ]
  },
  {
   "cell_type": "markdown",
   "metadata": {},
   "source": [
    "# Setup"
   ]
  },
  {
   "cell_type": "code",
   "execution_count": 2,
   "metadata": {},
   "outputs": [],
   "source": [
    "!pip install -q rich"
   ]
  },
  {
   "cell_type": "markdown",
   "metadata": {},
   "source": [
    "# Syntax Highlighting"
   ]
  },
  {
   "cell_type": "code",
   "execution_count": 1,
   "metadata": {},
   "outputs": [
    {
     "data": {
      "text/html": [
       "<pre style=\"white-space:pre;overflow-x:auto;line-height:normal;font-family:Menlo,'DejaVu Sans Mono',consolas,'Courier New',monospace\"><span style=\"color: #e3e3dd; text-decoration-color: #e3e3dd; background-color: #272822; font-weight: bold\">  </span><span style=\"color: #656660; text-decoration-color: #656660; background-color: #272822\"> 1 </span><span style=\"color: #66d9ef; text-decoration-color: #66d9ef; background-color: #272822\">def</span><span style=\"color: #f8f8f2; text-decoration-color: #f8f8f2; background-color: #272822\"> </span><span style=\"color: #a6e22e; text-decoration-color: #a6e22e; background-color: #272822\">calculate_sum</span><span style=\"color: #f8f8f2; text-decoration-color: #f8f8f2; background-color: #272822\">(a, b):</span><span style=\"background-color: #272822\">                                              </span>\n",
       "<span style=\"color: #e3e3dd; text-decoration-color: #e3e3dd; background-color: #272822; font-weight: bold\">  </span><span style=\"color: #656660; text-decoration-color: #656660; background-color: #272822\"> 2 </span><span style=\"color: #f8f8f2; text-decoration-color: #f8f8f2; background-color: #272822\">    </span><span style=\"color: #e6db74; text-decoration-color: #e6db74; background-color: #272822\">\"\"\"Calculate the sum of two numbers and returns the result.\"\"\"</span><span style=\"background-color: #272822\">    </span>\n",
       "<span style=\"color: #e3e3dd; text-decoration-color: #e3e3dd; background-color: #272822; font-weight: bold\">  </span><span style=\"color: #656660; text-decoration-color: #656660; background-color: #272822\"> 3 </span><span style=\"color: #f8f8f2; text-decoration-color: #f8f8f2; background-color: #272822\">    </span><span style=\"color: #66d9ef; text-decoration-color: #66d9ef; background-color: #272822\">try</span><span style=\"color: #f8f8f2; text-decoration-color: #f8f8f2; background-color: #272822\">:</span><span style=\"background-color: #272822\">                                                              </span>\n",
       "<span style=\"color: #e3e3dd; text-decoration-color: #e3e3dd; background-color: #272822; font-weight: bold\">  </span><span style=\"color: #656660; text-decoration-color: #656660; background-color: #272822\"> 4 </span><span style=\"color: #f8f8f2; text-decoration-color: #f8f8f2; background-color: #272822\">        sum </span><span style=\"color: #ff4689; text-decoration-color: #ff4689; background-color: #272822\">=</span><span style=\"color: #f8f8f2; text-decoration-color: #f8f8f2; background-color: #272822\"> a </span><span style=\"color: #ff4689; text-decoration-color: #ff4689; background-color: #272822\">+</span><span style=\"color: #f8f8f2; text-decoration-color: #f8f8f2; background-color: #272822\"> b</span><span style=\"background-color: #272822\">                                                   </span>\n",
       "<span style=\"color: #e3e3dd; text-decoration-color: #e3e3dd; background-color: #272822; font-weight: bold\">  </span><span style=\"color: #656660; text-decoration-color: #656660; background-color: #272822\"> 5 </span><span style=\"color: #f8f8f2; text-decoration-color: #f8f8f2; background-color: #272822\">        message </span><span style=\"color: #ff4689; text-decoration-color: #ff4689; background-color: #272822\">=</span><span style=\"color: #f8f8f2; text-decoration-color: #f8f8f2; background-color: #272822\"> </span><span style=\"color: #e6db74; text-decoration-color: #e6db74; background-color: #272822\">f\"The sum of {</span><span style=\"color: #f8f8f2; text-decoration-color: #f8f8f2; background-color: #272822\">a</span><span style=\"color: #e6db74; text-decoration-color: #e6db74; background-color: #272822\">} and {</span><span style=\"color: #f8f8f2; text-decoration-color: #f8f8f2; background-color: #272822\">b</span><span style=\"color: #e6db74; text-decoration-color: #e6db74; background-color: #272822\">} is {</span><span style=\"color: #f8f8f2; text-decoration-color: #f8f8f2; background-color: #272822\">sum</span><span style=\"color: #e6db74; text-decoration-color: #e6db74; background-color: #272822\">}.\"</span><span style=\"background-color: #272822\">                 </span>\n",
       "<span style=\"color: #e3e3dd; text-decoration-color: #e3e3dd; background-color: #272822; font-weight: bold\">  </span><span style=\"color: #656660; text-decoration-color: #656660; background-color: #272822\"> 6 </span><span style=\"background-color: #272822\">                                                                      </span>\n",
       "<span style=\"color: #e3e3dd; text-decoration-color: #e3e3dd; background-color: #272822; font-weight: bold\">  </span><span style=\"color: #656660; text-decoration-color: #656660; background-color: #272822\"> 7 </span><span style=\"color: #f8f8f2; text-decoration-color: #f8f8f2; background-color: #272822\">        </span><span style=\"color: #66d9ef; text-decoration-color: #66d9ef; background-color: #272822\">if</span><span style=\"color: #f8f8f2; text-decoration-color: #f8f8f2; background-color: #272822\"> sum </span><span style=\"color: #ff4689; text-decoration-color: #ff4689; background-color: #272822\">&gt;</span><span style=\"color: #f8f8f2; text-decoration-color: #f8f8f2; background-color: #272822\"> </span><span style=\"color: #ae81ff; text-decoration-color: #ae81ff; background-color: #272822\">10</span><span style=\"color: #f8f8f2; text-decoration-color: #f8f8f2; background-color: #272822\">:</span><span style=\"background-color: #272822\">                                                  </span>\n",
       "<span style=\"color: #e3e3dd; text-decoration-color: #e3e3dd; background-color: #272822; font-weight: bold\">  </span><span style=\"color: #656660; text-decoration-color: #656660; background-color: #272822\"> 8 </span><span style=\"color: #f8f8f2; text-decoration-color: #f8f8f2; background-color: #272822\">            message </span><span style=\"color: #ff4689; text-decoration-color: #ff4689; background-color: #272822\">+=</span><span style=\"color: #f8f8f2; text-decoration-color: #f8f8f2; background-color: #272822\"> </span><span style=\"color: #e6db74; text-decoration-color: #e6db74; background-color: #272822\">\" This is a big number!\"</span><span style=\"background-color: #272822\">                       </span>\n",
       "<span style=\"color: #e3e3dd; text-decoration-color: #e3e3dd; background-color: #272822; font-weight: bold\">  </span><span style=\"color: #656660; text-decoration-color: #656660; background-color: #272822\"> 9 </span><span style=\"color: #f8f8f2; text-decoration-color: #f8f8f2; background-color: #272822\">        </span><span style=\"color: #66d9ef; text-decoration-color: #66d9ef; background-color: #272822\">else</span><span style=\"color: #f8f8f2; text-decoration-color: #f8f8f2; background-color: #272822\">:</span><span style=\"background-color: #272822\">                                                         </span>\n",
       "<span style=\"color: #e3e3dd; text-decoration-color: #e3e3dd; background-color: #272822; font-weight: bold\">  </span><span style=\"color: #656660; text-decoration-color: #656660; background-color: #272822\">10 </span><span style=\"color: #f8f8f2; text-decoration-color: #f8f8f2; background-color: #272822\">            message </span><span style=\"color: #ff4689; text-decoration-color: #ff4689; background-color: #272822\">+=</span><span style=\"color: #f8f8f2; text-decoration-color: #f8f8f2; background-color: #272822\"> </span><span style=\"color: #e6db74; text-decoration-color: #e6db74; background-color: #272822\">\" This is a small number.\"</span><span style=\"background-color: #272822\">                     </span>\n",
       "<span style=\"color: #e3e3dd; text-decoration-color: #e3e3dd; background-color: #272822; font-weight: bold\">  </span><span style=\"color: #656660; text-decoration-color: #656660; background-color: #272822\">11 </span><span style=\"background-color: #272822\">                                                                      </span>\n",
       "<span style=\"color: #e3e3dd; text-decoration-color: #e3e3dd; background-color: #272822; font-weight: bold\">  </span><span style=\"color: #656660; text-decoration-color: #656660; background-color: #272822\">12 </span><span style=\"color: #f8f8f2; text-decoration-color: #f8f8f2; background-color: #272822\">        </span><span style=\"color: #66d9ef; text-decoration-color: #66d9ef; background-color: #272822\">return</span><span style=\"color: #f8f8f2; text-decoration-color: #f8f8f2; background-color: #272822\"> message</span><span style=\"background-color: #272822\">                                                </span>\n",
       "<span style=\"color: #e3e3dd; text-decoration-color: #e3e3dd; background-color: #272822; font-weight: bold\">  </span><span style=\"color: #656660; text-decoration-color: #656660; background-color: #272822\">13 </span><span style=\"color: #f8f8f2; text-decoration-color: #f8f8f2; background-color: #272822\">    </span><span style=\"color: #66d9ef; text-decoration-color: #66d9ef; background-color: #272822\">except</span><span style=\"color: #f8f8f2; text-decoration-color: #f8f8f2; background-color: #272822\"> </span><span style=\"color: #a6e22e; text-decoration-color: #a6e22e; background-color: #272822\">TypeError</span><span style=\"color: #f8f8f2; text-decoration-color: #f8f8f2; background-color: #272822\">:</span><span style=\"background-color: #272822\">                                                 </span>\n",
       "<span style=\"color: #e3e3dd; text-decoration-color: #e3e3dd; background-color: #272822; font-weight: bold\">  </span><span style=\"color: #656660; text-decoration-color: #656660; background-color: #272822\">14 </span><span style=\"color: #f8f8f2; text-decoration-color: #f8f8f2; background-color: #272822\">        </span><span style=\"color: #66d9ef; text-decoration-color: #66d9ef; background-color: #272822\">return</span><span style=\"color: #f8f8f2; text-decoration-color: #f8f8f2; background-color: #272822\"> </span><span style=\"color: #e6db74; text-decoration-color: #e6db74; background-color: #272822\">\"Error: Invalid input. Please provide two numbers.\"</span><span style=\"background-color: #272822\">    </span>\n",
       "</pre>\n"
      ],
      "text/plain": [
       "\u001b[1;38;2;227;227;221;48;2;39;40;34m  \u001b[0m\u001b[38;2;101;102;96;48;2;39;40;34m 1 \u001b[0m\u001b[38;2;102;217;239;48;2;39;40;34mdef\u001b[0m\u001b[38;2;248;248;242;48;2;39;40;34m \u001b[0m\u001b[38;2;166;226;46;48;2;39;40;34mcalculate_sum\u001b[0m\u001b[38;2;248;248;242;48;2;39;40;34m(\u001b[0m\u001b[38;2;248;248;242;48;2;39;40;34ma\u001b[0m\u001b[38;2;248;248;242;48;2;39;40;34m,\u001b[0m\u001b[38;2;248;248;242;48;2;39;40;34m \u001b[0m\u001b[38;2;248;248;242;48;2;39;40;34mb\u001b[0m\u001b[38;2;248;248;242;48;2;39;40;34m)\u001b[0m\u001b[38;2;248;248;242;48;2;39;40;34m:\u001b[0m\u001b[48;2;39;40;34m                                              \u001b[0m\n",
       "\u001b[1;38;2;227;227;221;48;2;39;40;34m  \u001b[0m\u001b[38;2;101;102;96;48;2;39;40;34m 2 \u001b[0m\u001b[38;2;248;248;242;48;2;39;40;34m    \u001b[0m\u001b[38;2;230;219;116;48;2;39;40;34m\"\"\"Calculate the sum of two numbers and returns the result.\"\"\"\u001b[0m\u001b[48;2;39;40;34m    \u001b[0m\n",
       "\u001b[1;38;2;227;227;221;48;2;39;40;34m  \u001b[0m\u001b[38;2;101;102;96;48;2;39;40;34m 3 \u001b[0m\u001b[38;2;248;248;242;48;2;39;40;34m    \u001b[0m\u001b[38;2;102;217;239;48;2;39;40;34mtry\u001b[0m\u001b[38;2;248;248;242;48;2;39;40;34m:\u001b[0m\u001b[48;2;39;40;34m                                                              \u001b[0m\n",
       "\u001b[1;38;2;227;227;221;48;2;39;40;34m  \u001b[0m\u001b[38;2;101;102;96;48;2;39;40;34m 4 \u001b[0m\u001b[38;2;248;248;242;48;2;39;40;34m        \u001b[0m\u001b[38;2;248;248;242;48;2;39;40;34msum\u001b[0m\u001b[38;2;248;248;242;48;2;39;40;34m \u001b[0m\u001b[38;2;255;70;137;48;2;39;40;34m=\u001b[0m\u001b[38;2;248;248;242;48;2;39;40;34m \u001b[0m\u001b[38;2;248;248;242;48;2;39;40;34ma\u001b[0m\u001b[38;2;248;248;242;48;2;39;40;34m \u001b[0m\u001b[38;2;255;70;137;48;2;39;40;34m+\u001b[0m\u001b[38;2;248;248;242;48;2;39;40;34m \u001b[0m\u001b[38;2;248;248;242;48;2;39;40;34mb\u001b[0m\u001b[48;2;39;40;34m                                                   \u001b[0m\n",
       "\u001b[1;38;2;227;227;221;48;2;39;40;34m  \u001b[0m\u001b[38;2;101;102;96;48;2;39;40;34m 5 \u001b[0m\u001b[38;2;248;248;242;48;2;39;40;34m        \u001b[0m\u001b[38;2;248;248;242;48;2;39;40;34mmessage\u001b[0m\u001b[38;2;248;248;242;48;2;39;40;34m \u001b[0m\u001b[38;2;255;70;137;48;2;39;40;34m=\u001b[0m\u001b[38;2;248;248;242;48;2;39;40;34m \u001b[0m\u001b[38;2;230;219;116;48;2;39;40;34mf\u001b[0m\u001b[38;2;230;219;116;48;2;39;40;34m\"\u001b[0m\u001b[38;2;230;219;116;48;2;39;40;34mThe sum of \u001b[0m\u001b[38;2;230;219;116;48;2;39;40;34m{\u001b[0m\u001b[38;2;248;248;242;48;2;39;40;34ma\u001b[0m\u001b[38;2;230;219;116;48;2;39;40;34m}\u001b[0m\u001b[38;2;230;219;116;48;2;39;40;34m and \u001b[0m\u001b[38;2;230;219;116;48;2;39;40;34m{\u001b[0m\u001b[38;2;248;248;242;48;2;39;40;34mb\u001b[0m\u001b[38;2;230;219;116;48;2;39;40;34m}\u001b[0m\u001b[38;2;230;219;116;48;2;39;40;34m is \u001b[0m\u001b[38;2;230;219;116;48;2;39;40;34m{\u001b[0m\u001b[38;2;248;248;242;48;2;39;40;34msum\u001b[0m\u001b[38;2;230;219;116;48;2;39;40;34m}\u001b[0m\u001b[38;2;230;219;116;48;2;39;40;34m.\u001b[0m\u001b[38;2;230;219;116;48;2;39;40;34m\"\u001b[0m\u001b[48;2;39;40;34m                 \u001b[0m\n",
       "\u001b[1;38;2;227;227;221;48;2;39;40;34m  \u001b[0m\u001b[38;2;101;102;96;48;2;39;40;34m 6 \u001b[0m\u001b[48;2;39;40;34m                                                                      \u001b[0m\n",
       "\u001b[1;38;2;227;227;221;48;2;39;40;34m  \u001b[0m\u001b[38;2;101;102;96;48;2;39;40;34m 7 \u001b[0m\u001b[38;2;248;248;242;48;2;39;40;34m        \u001b[0m\u001b[38;2;102;217;239;48;2;39;40;34mif\u001b[0m\u001b[38;2;248;248;242;48;2;39;40;34m \u001b[0m\u001b[38;2;248;248;242;48;2;39;40;34msum\u001b[0m\u001b[38;2;248;248;242;48;2;39;40;34m \u001b[0m\u001b[38;2;255;70;137;48;2;39;40;34m>\u001b[0m\u001b[38;2;248;248;242;48;2;39;40;34m \u001b[0m\u001b[38;2;174;129;255;48;2;39;40;34m10\u001b[0m\u001b[38;2;248;248;242;48;2;39;40;34m:\u001b[0m\u001b[48;2;39;40;34m                                                  \u001b[0m\n",
       "\u001b[1;38;2;227;227;221;48;2;39;40;34m  \u001b[0m\u001b[38;2;101;102;96;48;2;39;40;34m 8 \u001b[0m\u001b[38;2;248;248;242;48;2;39;40;34m            \u001b[0m\u001b[38;2;248;248;242;48;2;39;40;34mmessage\u001b[0m\u001b[38;2;248;248;242;48;2;39;40;34m \u001b[0m\u001b[38;2;255;70;137;48;2;39;40;34m+\u001b[0m\u001b[38;2;255;70;137;48;2;39;40;34m=\u001b[0m\u001b[38;2;248;248;242;48;2;39;40;34m \u001b[0m\u001b[38;2;230;219;116;48;2;39;40;34m\"\u001b[0m\u001b[38;2;230;219;116;48;2;39;40;34m This is a big number!\u001b[0m\u001b[38;2;230;219;116;48;2;39;40;34m\"\u001b[0m\u001b[48;2;39;40;34m                       \u001b[0m\n",
       "\u001b[1;38;2;227;227;221;48;2;39;40;34m  \u001b[0m\u001b[38;2;101;102;96;48;2;39;40;34m 9 \u001b[0m\u001b[38;2;248;248;242;48;2;39;40;34m        \u001b[0m\u001b[38;2;102;217;239;48;2;39;40;34melse\u001b[0m\u001b[38;2;248;248;242;48;2;39;40;34m:\u001b[0m\u001b[48;2;39;40;34m                                                         \u001b[0m\n",
       "\u001b[1;38;2;227;227;221;48;2;39;40;34m  \u001b[0m\u001b[38;2;101;102;96;48;2;39;40;34m10 \u001b[0m\u001b[38;2;248;248;242;48;2;39;40;34m            \u001b[0m\u001b[38;2;248;248;242;48;2;39;40;34mmessage\u001b[0m\u001b[38;2;248;248;242;48;2;39;40;34m \u001b[0m\u001b[38;2;255;70;137;48;2;39;40;34m+\u001b[0m\u001b[38;2;255;70;137;48;2;39;40;34m=\u001b[0m\u001b[38;2;248;248;242;48;2;39;40;34m \u001b[0m\u001b[38;2;230;219;116;48;2;39;40;34m\"\u001b[0m\u001b[38;2;230;219;116;48;2;39;40;34m This is a small number.\u001b[0m\u001b[38;2;230;219;116;48;2;39;40;34m\"\u001b[0m\u001b[48;2;39;40;34m                     \u001b[0m\n",
       "\u001b[1;38;2;227;227;221;48;2;39;40;34m  \u001b[0m\u001b[38;2;101;102;96;48;2;39;40;34m11 \u001b[0m\u001b[48;2;39;40;34m                                                                      \u001b[0m\n",
       "\u001b[1;38;2;227;227;221;48;2;39;40;34m  \u001b[0m\u001b[38;2;101;102;96;48;2;39;40;34m12 \u001b[0m\u001b[38;2;248;248;242;48;2;39;40;34m        \u001b[0m\u001b[38;2;102;217;239;48;2;39;40;34mreturn\u001b[0m\u001b[38;2;248;248;242;48;2;39;40;34m \u001b[0m\u001b[38;2;248;248;242;48;2;39;40;34mmessage\u001b[0m\u001b[48;2;39;40;34m                                                \u001b[0m\n",
       "\u001b[1;38;2;227;227;221;48;2;39;40;34m  \u001b[0m\u001b[38;2;101;102;96;48;2;39;40;34m13 \u001b[0m\u001b[38;2;248;248;242;48;2;39;40;34m    \u001b[0m\u001b[38;2;102;217;239;48;2;39;40;34mexcept\u001b[0m\u001b[38;2;248;248;242;48;2;39;40;34m \u001b[0m\u001b[38;2;166;226;46;48;2;39;40;34mTypeError\u001b[0m\u001b[38;2;248;248;242;48;2;39;40;34m:\u001b[0m\u001b[48;2;39;40;34m                                                 \u001b[0m\n",
       "\u001b[1;38;2;227;227;221;48;2;39;40;34m  \u001b[0m\u001b[38;2;101;102;96;48;2;39;40;34m14 \u001b[0m\u001b[38;2;248;248;242;48;2;39;40;34m        \u001b[0m\u001b[38;2;102;217;239;48;2;39;40;34mreturn\u001b[0m\u001b[38;2;248;248;242;48;2;39;40;34m \u001b[0m\u001b[38;2;230;219;116;48;2;39;40;34m\"\u001b[0m\u001b[38;2;230;219;116;48;2;39;40;34mError: Invalid input. Please provide two numbers.\u001b[0m\u001b[38;2;230;219;116;48;2;39;40;34m\"\u001b[0m\u001b[48;2;39;40;34m    \u001b[0m\n"
      ]
     },
     "metadata": {},
     "output_type": "display_data"
    }
   ],
   "source": [
    "from rich.syntax import Syntax\n",
    "from rich.console import Console\n",
    "\n",
    "# Create code\n",
    "code = '''def calculate_sum(a, b):\n",
    "    \"\"\"Calculate the sum of two numbers and returns the result.\"\"\"\n",
    "    try:\n",
    "        sum = a + b\n",
    "        message = f\"The sum of {a} and {b} is {sum}.\"\n",
    "\n",
    "        if sum > 10:\n",
    "            message += \" This is a big number!\"\n",
    "        else:\n",
    "            message += \" This is a small number.\"\n",
    "\n",
    "        return message\n",
    "    except TypeError:\n",
    "        return \"Error: Invalid input. Please provide two numbers.\"'''\n",
    "\n",
    "# Create syntax\n",
    "syntax = Syntax(code, \"python\", line_numbers=True)\n",
    "\n",
    "# Create console\n",
    "# console = Console()\n",
    "console = Console(record=True, width=75)\n",
    "\n",
    "# Print highlighted code\n",
    "console.print(syntax)\n",
    "\n",
    "# Save highlighted code\n",
    "console.save_svg(\"images/syntax.svg\", title=\"Syntax Highlighting\")"
   ]
  },
  {
   "cell_type": "code",
   "execution_count": 25,
   "metadata": {},
   "outputs": [
    {
     "data": {
      "text/html": [
       "<pre style=\"white-space:pre;overflow-x:auto;line-height:normal;font-family:Menlo,'DejaVu Sans Mono',consolas,'Courier New',monospace\"><span style=\"color: #e3e3df; text-decoration-color: #e3e3df; background-color: #282a36; font-weight: bold\">  </span><span style=\"color: #66676e; text-decoration-color: #66676e; background-color: #282a36\"> 1 </span><span style=\"color: #ff79c6; text-decoration-color: #ff79c6; background-color: #282a36\">def</span><span style=\"color: #f8f8f2; text-decoration-color: #f8f8f2; background-color: #282a36\"> </span><span style=\"color: #50fa7b; text-decoration-color: #50fa7b; background-color: #282a36\">binary_search</span><span style=\"color: #f8f8f2; text-decoration-color: #f8f8f2; background-color: #282a36\">(</span><span style=\"color: #8be9fd; text-decoration-color: #8be9fd; background-color: #282a36; font-style: italic\">list</span><span style=\"color: #f8f8f2; text-decoration-color: #f8f8f2; background-color: #282a36\">, target):</span><span style=\"background-color: #282a36\">                                      </span>\n",
       "<span style=\"color: #e3e3df; text-decoration-color: #e3e3df; background-color: #282a36; font-weight: bold\">  </span><span style=\"color: #66676e; text-decoration-color: #66676e; background-color: #282a36\"> 2 </span><span style=\"color: #f8f8f2; text-decoration-color: #f8f8f2; background-color: #282a36\">    </span><span style=\"color: #bd93f9; text-decoration-color: #bd93f9; background-color: #282a36\">\"\"\"Returns the index position of the target if found,</span><span style=\"background-color: #282a36\">             </span>\n",
       "<span style=\"color: #e3e3df; text-decoration-color: #e3e3df; background-color: #282a36; font-weight: bold\">  </span><span style=\"color: #66676e; text-decoration-color: #66676e; background-color: #282a36\"> 3 </span><span style=\"color: #bd93f9; text-decoration-color: #bd93f9; background-color: #282a36\">    else returns None\"\"\"</span><span style=\"background-color: #282a36\">                                              </span>\n",
       "<span style=\"color: #e3e3df; text-decoration-color: #e3e3df; background-color: #282a36; font-weight: bold\">  </span><span style=\"color: #66676e; text-decoration-color: #66676e; background-color: #282a36\"> 4 </span><span style=\"background-color: #282a36\">                                                                      </span>\n",
       "<span style=\"color: #e3e3df; text-decoration-color: #e3e3df; background-color: #282a36; font-weight: bold\">  </span><span style=\"color: #66676e; text-decoration-color: #66676e; background-color: #282a36\"> 5 </span><span style=\"color: #f8f8f2; text-decoration-color: #f8f8f2; background-color: #282a36\">    first </span><span style=\"color: #ff79c6; text-decoration-color: #ff79c6; background-color: #282a36\">=</span><span style=\"color: #f8f8f2; text-decoration-color: #f8f8f2; background-color: #282a36\"> </span><span style=\"color: #ffb86c; text-decoration-color: #ffb86c; background-color: #282a36\">0</span><span style=\"background-color: #282a36\">                                                         </span>\n",
       "<span style=\"color: #e3e3df; text-decoration-color: #e3e3df; background-color: #282a36; font-weight: bold\">  </span><span style=\"color: #66676e; text-decoration-color: #66676e; background-color: #282a36\"> 6 </span><span style=\"color: #f8f8f2; text-decoration-color: #f8f8f2; background-color: #282a36\">    last </span><span style=\"color: #ff79c6; text-decoration-color: #ff79c6; background-color: #282a36\">=</span><span style=\"color: #f8f8f2; text-decoration-color: #f8f8f2; background-color: #282a36\"> </span><span style=\"color: #8be9fd; text-decoration-color: #8be9fd; background-color: #282a36; font-style: italic\">len</span><span style=\"color: #f8f8f2; text-decoration-color: #f8f8f2; background-color: #282a36\">(</span><span style=\"color: #8be9fd; text-decoration-color: #8be9fd; background-color: #282a36; font-style: italic\">list</span><span style=\"color: #f8f8f2; text-decoration-color: #f8f8f2; background-color: #282a36\">) </span><span style=\"color: #ff79c6; text-decoration-color: #ff79c6; background-color: #282a36\">-</span><span style=\"color: #f8f8f2; text-decoration-color: #f8f8f2; background-color: #282a36\"> </span><span style=\"color: #ffb86c; text-decoration-color: #ffb86c; background-color: #282a36\">1</span><span style=\"background-color: #282a36\">                                              </span>\n",
       "<span style=\"color: #e3e3df; text-decoration-color: #e3e3df; background-color: #282a36; font-weight: bold\">  </span><span style=\"color: #66676e; text-decoration-color: #66676e; background-color: #282a36\"> 7 </span><span style=\"background-color: #282a36\">                                                                      </span>\n",
       "<span style=\"color: #e3e3df; text-decoration-color: #e3e3df; background-color: #282a36; font-weight: bold\">  </span><span style=\"color: #66676e; text-decoration-color: #66676e; background-color: #282a36\"> 8 </span><span style=\"color: #f8f8f2; text-decoration-color: #f8f8f2; background-color: #282a36\">    </span><span style=\"color: #ff79c6; text-decoration-color: #ff79c6; background-color: #282a36\">while</span><span style=\"color: #f8f8f2; text-decoration-color: #f8f8f2; background-color: #282a36\"> first </span><span style=\"color: #ff79c6; text-decoration-color: #ff79c6; background-color: #282a36\">&lt;=</span><span style=\"color: #f8f8f2; text-decoration-color: #f8f8f2; background-color: #282a36\"> last:</span><span style=\"background-color: #282a36\">                                              </span>\n",
       "<span style=\"color: #e3e3df; text-decoration-color: #e3e3df; background-color: #282a36; font-weight: bold\">  </span><span style=\"color: #66676e; text-decoration-color: #66676e; background-color: #282a36\"> 9 </span><span style=\"color: #f8f8f2; text-decoration-color: #f8f8f2; background-color: #282a36\">        midpoint </span><span style=\"color: #ff79c6; text-decoration-color: #ff79c6; background-color: #282a36\">=</span><span style=\"color: #f8f8f2; text-decoration-color: #f8f8f2; background-color: #282a36\"> (first </span><span style=\"color: #ff79c6; text-decoration-color: #ff79c6; background-color: #282a36\">+</span><span style=\"color: #f8f8f2; text-decoration-color: #f8f8f2; background-color: #282a36\"> last) </span><span style=\"color: #ff79c6; text-decoration-color: #ff79c6; background-color: #282a36\">//</span><span style=\"color: #f8f8f2; text-decoration-color: #f8f8f2; background-color: #282a36\"> </span><span style=\"color: #ffb86c; text-decoration-color: #ffb86c; background-color: #282a36\">2</span><span style=\"background-color: #282a36\">                                </span>\n",
       "<span style=\"color: #e3e3df; text-decoration-color: #e3e3df; background-color: #282a36; font-weight: bold\">  </span><span style=\"color: #66676e; text-decoration-color: #66676e; background-color: #282a36\">10 </span><span style=\"color: #f8f8f2; text-decoration-color: #f8f8f2; background-color: #282a36\">        </span><span style=\"color: #ff79c6; text-decoration-color: #ff79c6; background-color: #282a36\">if</span><span style=\"color: #f8f8f2; text-decoration-color: #f8f8f2; background-color: #282a36\"> </span><span style=\"color: #8be9fd; text-decoration-color: #8be9fd; background-color: #282a36; font-style: italic\">list</span><span style=\"color: #f8f8f2; text-decoration-color: #f8f8f2; background-color: #282a36\">[midpoint] </span><span style=\"color: #ff79c6; text-decoration-color: #ff79c6; background-color: #282a36\">==</span><span style=\"color: #f8f8f2; text-decoration-color: #f8f8f2; background-color: #282a36\"> target:</span><span style=\"background-color: #282a36\">                                  </span>\n",
       "<span style=\"color: #e3e3df; text-decoration-color: #e3e3df; background-color: #282a36; font-weight: bold\">  </span><span style=\"color: #66676e; text-decoration-color: #66676e; background-color: #282a36\">11 </span><span style=\"color: #f8f8f2; text-decoration-color: #f8f8f2; background-color: #282a36\">            </span><span style=\"color: #ff79c6; text-decoration-color: #ff79c6; background-color: #282a36\">return</span><span style=\"color: #f8f8f2; text-decoration-color: #f8f8f2; background-color: #282a36\"> midpoint</span><span style=\"background-color: #282a36\">                                           </span>\n",
       "<span style=\"color: #e3e3df; text-decoration-color: #e3e3df; background-color: #282a36; font-weight: bold\">  </span><span style=\"color: #66676e; text-decoration-color: #66676e; background-color: #282a36\">12 </span><span style=\"color: #f8f8f2; text-decoration-color: #f8f8f2; background-color: #282a36\">        </span><span style=\"color: #ff79c6; text-decoration-color: #ff79c6; background-color: #282a36\">elif</span><span style=\"color: #f8f8f2; text-decoration-color: #f8f8f2; background-color: #282a36\"> </span><span style=\"color: #8be9fd; text-decoration-color: #8be9fd; background-color: #282a36; font-style: italic\">list</span><span style=\"color: #f8f8f2; text-decoration-color: #f8f8f2; background-color: #282a36\">[midpoint] </span><span style=\"color: #ff79c6; text-decoration-color: #ff79c6; background-color: #282a36\">&lt;</span><span style=\"color: #f8f8f2; text-decoration-color: #f8f8f2; background-color: #282a36\"> target:</span><span style=\"background-color: #282a36\">                                 </span>\n",
       "<span style=\"color: #e3e3df; text-decoration-color: #e3e3df; background-color: #282a36; font-weight: bold\">  </span><span style=\"color: #66676e; text-decoration-color: #66676e; background-color: #282a36\">13 </span><span style=\"color: #f8f8f2; text-decoration-color: #f8f8f2; background-color: #282a36\">            first </span><span style=\"color: #ff79c6; text-decoration-color: #ff79c6; background-color: #282a36\">=</span><span style=\"color: #f8f8f2; text-decoration-color: #f8f8f2; background-color: #282a36\"> midpoint </span><span style=\"color: #ff79c6; text-decoration-color: #ff79c6; background-color: #282a36\">+</span><span style=\"color: #f8f8f2; text-decoration-color: #f8f8f2; background-color: #282a36\"> </span><span style=\"color: #ffb86c; text-decoration-color: #ffb86c; background-color: #282a36\">1</span><span style=\"background-color: #282a36\">                                      </span>\n",
       "<span style=\"color: #e3e3df; text-decoration-color: #e3e3df; background-color: #282a36; font-weight: bold\">  </span><span style=\"color: #66676e; text-decoration-color: #66676e; background-color: #282a36\">14 </span><span style=\"color: #f8f8f2; text-decoration-color: #f8f8f2; background-color: #282a36\">        </span><span style=\"color: #ff79c6; text-decoration-color: #ff79c6; background-color: #282a36\">else</span><span style=\"color: #f8f8f2; text-decoration-color: #f8f8f2; background-color: #282a36\">:</span><span style=\"background-color: #282a36\">                                                         </span>\n",
       "<span style=\"color: #e3e3df; text-decoration-color: #e3e3df; background-color: #282a36; font-weight: bold\">  </span><span style=\"color: #66676e; text-decoration-color: #66676e; background-color: #282a36\">15 </span><span style=\"color: #f8f8f2; text-decoration-color: #f8f8f2; background-color: #282a36\">            last </span><span style=\"color: #ff79c6; text-decoration-color: #ff79c6; background-color: #282a36\">=</span><span style=\"color: #f8f8f2; text-decoration-color: #f8f8f2; background-color: #282a36\"> midpoint </span><span style=\"color: #ff79c6; text-decoration-color: #ff79c6; background-color: #282a36\">-</span><span style=\"color: #f8f8f2; text-decoration-color: #f8f8f2; background-color: #282a36\"> </span><span style=\"color: #ffb86c; text-decoration-color: #ffb86c; background-color: #282a36\">1</span><span style=\"background-color: #282a36\">                                       </span>\n",
       "<span style=\"color: #e3e3df; text-decoration-color: #e3e3df; background-color: #282a36; font-weight: bold\">  </span><span style=\"color: #66676e; text-decoration-color: #66676e; background-color: #282a36\">16 </span><span style=\"background-color: #282a36\">                                                                      </span>\n",
       "<span style=\"color: #e3e3df; text-decoration-color: #e3e3df; background-color: #282a36; font-weight: bold\">  </span><span style=\"color: #66676e; text-decoration-color: #66676e; background-color: #282a36\">17 </span><span style=\"color: #f8f8f2; text-decoration-color: #f8f8f2; background-color: #282a36\">    </span><span style=\"color: #ff79c6; text-decoration-color: #ff79c6; background-color: #282a36\">return</span><span style=\"color: #f8f8f2; text-decoration-color: #f8f8f2; background-color: #282a36\"> </span><span style=\"color: #ff79c6; text-decoration-color: #ff79c6; background-color: #282a36\">None</span><span style=\"background-color: #282a36\">                                                       </span>\n",
       "</pre>\n"
      ],
      "text/plain": [
       "\u001b[1;38;2;227;227;223;48;2;40;42;54m  \u001b[0m\u001b[38;2;102;103;110;48;2;40;42;54m 1 \u001b[0m\u001b[38;2;255;121;198;48;2;40;42;54mdef\u001b[0m\u001b[38;2;248;248;242;48;2;40;42;54m \u001b[0m\u001b[38;2;80;250;123;48;2;40;42;54mbinary_search\u001b[0m\u001b[38;2;248;248;242;48;2;40;42;54m(\u001b[0m\u001b[3;38;2;139;233;253;48;2;40;42;54mlist\u001b[0m\u001b[38;2;248;248;242;48;2;40;42;54m,\u001b[0m\u001b[38;2;248;248;242;48;2;40;42;54m \u001b[0m\u001b[38;2;248;248;242;48;2;40;42;54mtarget\u001b[0m\u001b[38;2;248;248;242;48;2;40;42;54m)\u001b[0m\u001b[38;2;248;248;242;48;2;40;42;54m:\u001b[0m\u001b[48;2;40;42;54m                                      \u001b[0m\n",
       "\u001b[1;38;2;227;227;223;48;2;40;42;54m  \u001b[0m\u001b[38;2;102;103;110;48;2;40;42;54m 2 \u001b[0m\u001b[38;2;248;248;242;48;2;40;42;54m    \u001b[0m\u001b[38;2;189;147;249;48;2;40;42;54m\"\"\"Returns the index position of the target if found,\u001b[0m\u001b[48;2;40;42;54m             \u001b[0m\n",
       "\u001b[1;38;2;227;227;223;48;2;40;42;54m  \u001b[0m\u001b[38;2;102;103;110;48;2;40;42;54m 3 \u001b[0m\u001b[38;2;189;147;249;48;2;40;42;54m    else returns None\"\"\"\u001b[0m\u001b[48;2;40;42;54m                                              \u001b[0m\n",
       "\u001b[1;38;2;227;227;223;48;2;40;42;54m  \u001b[0m\u001b[38;2;102;103;110;48;2;40;42;54m 4 \u001b[0m\u001b[48;2;40;42;54m                                                                      \u001b[0m\n",
       "\u001b[1;38;2;227;227;223;48;2;40;42;54m  \u001b[0m\u001b[38;2;102;103;110;48;2;40;42;54m 5 \u001b[0m\u001b[38;2;248;248;242;48;2;40;42;54m    \u001b[0m\u001b[38;2;248;248;242;48;2;40;42;54mfirst\u001b[0m\u001b[38;2;248;248;242;48;2;40;42;54m \u001b[0m\u001b[38;2;255;121;198;48;2;40;42;54m=\u001b[0m\u001b[38;2;248;248;242;48;2;40;42;54m \u001b[0m\u001b[38;2;255;184;108;48;2;40;42;54m0\u001b[0m\u001b[48;2;40;42;54m                                                         \u001b[0m\n",
       "\u001b[1;38;2;227;227;223;48;2;40;42;54m  \u001b[0m\u001b[38;2;102;103;110;48;2;40;42;54m 6 \u001b[0m\u001b[38;2;248;248;242;48;2;40;42;54m    \u001b[0m\u001b[38;2;248;248;242;48;2;40;42;54mlast\u001b[0m\u001b[38;2;248;248;242;48;2;40;42;54m \u001b[0m\u001b[38;2;255;121;198;48;2;40;42;54m=\u001b[0m\u001b[38;2;248;248;242;48;2;40;42;54m \u001b[0m\u001b[3;38;2;139;233;253;48;2;40;42;54mlen\u001b[0m\u001b[38;2;248;248;242;48;2;40;42;54m(\u001b[0m\u001b[3;38;2;139;233;253;48;2;40;42;54mlist\u001b[0m\u001b[38;2;248;248;242;48;2;40;42;54m)\u001b[0m\u001b[38;2;248;248;242;48;2;40;42;54m \u001b[0m\u001b[38;2;255;121;198;48;2;40;42;54m-\u001b[0m\u001b[38;2;248;248;242;48;2;40;42;54m \u001b[0m\u001b[38;2;255;184;108;48;2;40;42;54m1\u001b[0m\u001b[48;2;40;42;54m                                              \u001b[0m\n",
       "\u001b[1;38;2;227;227;223;48;2;40;42;54m  \u001b[0m\u001b[38;2;102;103;110;48;2;40;42;54m 7 \u001b[0m\u001b[48;2;40;42;54m                                                                      \u001b[0m\n",
       "\u001b[1;38;2;227;227;223;48;2;40;42;54m  \u001b[0m\u001b[38;2;102;103;110;48;2;40;42;54m 8 \u001b[0m\u001b[38;2;248;248;242;48;2;40;42;54m    \u001b[0m\u001b[38;2;255;121;198;48;2;40;42;54mwhile\u001b[0m\u001b[38;2;248;248;242;48;2;40;42;54m \u001b[0m\u001b[38;2;248;248;242;48;2;40;42;54mfirst\u001b[0m\u001b[38;2;248;248;242;48;2;40;42;54m \u001b[0m\u001b[38;2;255;121;198;48;2;40;42;54m<\u001b[0m\u001b[38;2;255;121;198;48;2;40;42;54m=\u001b[0m\u001b[38;2;248;248;242;48;2;40;42;54m \u001b[0m\u001b[38;2;248;248;242;48;2;40;42;54mlast\u001b[0m\u001b[38;2;248;248;242;48;2;40;42;54m:\u001b[0m\u001b[48;2;40;42;54m                                              \u001b[0m\n",
       "\u001b[1;38;2;227;227;223;48;2;40;42;54m  \u001b[0m\u001b[38;2;102;103;110;48;2;40;42;54m 9 \u001b[0m\u001b[38;2;248;248;242;48;2;40;42;54m        \u001b[0m\u001b[38;2;248;248;242;48;2;40;42;54mmidpoint\u001b[0m\u001b[38;2;248;248;242;48;2;40;42;54m \u001b[0m\u001b[38;2;255;121;198;48;2;40;42;54m=\u001b[0m\u001b[38;2;248;248;242;48;2;40;42;54m \u001b[0m\u001b[38;2;248;248;242;48;2;40;42;54m(\u001b[0m\u001b[38;2;248;248;242;48;2;40;42;54mfirst\u001b[0m\u001b[38;2;248;248;242;48;2;40;42;54m \u001b[0m\u001b[38;2;255;121;198;48;2;40;42;54m+\u001b[0m\u001b[38;2;248;248;242;48;2;40;42;54m \u001b[0m\u001b[38;2;248;248;242;48;2;40;42;54mlast\u001b[0m\u001b[38;2;248;248;242;48;2;40;42;54m)\u001b[0m\u001b[38;2;248;248;242;48;2;40;42;54m \u001b[0m\u001b[38;2;255;121;198;48;2;40;42;54m/\u001b[0m\u001b[38;2;255;121;198;48;2;40;42;54m/\u001b[0m\u001b[38;2;248;248;242;48;2;40;42;54m \u001b[0m\u001b[38;2;255;184;108;48;2;40;42;54m2\u001b[0m\u001b[48;2;40;42;54m                                \u001b[0m\n",
       "\u001b[1;38;2;227;227;223;48;2;40;42;54m  \u001b[0m\u001b[38;2;102;103;110;48;2;40;42;54m10 \u001b[0m\u001b[38;2;248;248;242;48;2;40;42;54m        \u001b[0m\u001b[38;2;255;121;198;48;2;40;42;54mif\u001b[0m\u001b[38;2;248;248;242;48;2;40;42;54m \u001b[0m\u001b[3;38;2;139;233;253;48;2;40;42;54mlist\u001b[0m\u001b[38;2;248;248;242;48;2;40;42;54m[\u001b[0m\u001b[38;2;248;248;242;48;2;40;42;54mmidpoint\u001b[0m\u001b[38;2;248;248;242;48;2;40;42;54m]\u001b[0m\u001b[38;2;248;248;242;48;2;40;42;54m \u001b[0m\u001b[38;2;255;121;198;48;2;40;42;54m==\u001b[0m\u001b[38;2;248;248;242;48;2;40;42;54m \u001b[0m\u001b[38;2;248;248;242;48;2;40;42;54mtarget\u001b[0m\u001b[38;2;248;248;242;48;2;40;42;54m:\u001b[0m\u001b[48;2;40;42;54m                                  \u001b[0m\n",
       "\u001b[1;38;2;227;227;223;48;2;40;42;54m  \u001b[0m\u001b[38;2;102;103;110;48;2;40;42;54m11 \u001b[0m\u001b[38;2;248;248;242;48;2;40;42;54m            \u001b[0m\u001b[38;2;255;121;198;48;2;40;42;54mreturn\u001b[0m\u001b[38;2;248;248;242;48;2;40;42;54m \u001b[0m\u001b[38;2;248;248;242;48;2;40;42;54mmidpoint\u001b[0m\u001b[48;2;40;42;54m                                           \u001b[0m\n",
       "\u001b[1;38;2;227;227;223;48;2;40;42;54m  \u001b[0m\u001b[38;2;102;103;110;48;2;40;42;54m12 \u001b[0m\u001b[38;2;248;248;242;48;2;40;42;54m        \u001b[0m\u001b[38;2;255;121;198;48;2;40;42;54melif\u001b[0m\u001b[38;2;248;248;242;48;2;40;42;54m \u001b[0m\u001b[3;38;2;139;233;253;48;2;40;42;54mlist\u001b[0m\u001b[38;2;248;248;242;48;2;40;42;54m[\u001b[0m\u001b[38;2;248;248;242;48;2;40;42;54mmidpoint\u001b[0m\u001b[38;2;248;248;242;48;2;40;42;54m]\u001b[0m\u001b[38;2;248;248;242;48;2;40;42;54m \u001b[0m\u001b[38;2;255;121;198;48;2;40;42;54m<\u001b[0m\u001b[38;2;248;248;242;48;2;40;42;54m \u001b[0m\u001b[38;2;248;248;242;48;2;40;42;54mtarget\u001b[0m\u001b[38;2;248;248;242;48;2;40;42;54m:\u001b[0m\u001b[48;2;40;42;54m                                 \u001b[0m\n",
       "\u001b[1;38;2;227;227;223;48;2;40;42;54m  \u001b[0m\u001b[38;2;102;103;110;48;2;40;42;54m13 \u001b[0m\u001b[38;2;248;248;242;48;2;40;42;54m            \u001b[0m\u001b[38;2;248;248;242;48;2;40;42;54mfirst\u001b[0m\u001b[38;2;248;248;242;48;2;40;42;54m \u001b[0m\u001b[38;2;255;121;198;48;2;40;42;54m=\u001b[0m\u001b[38;2;248;248;242;48;2;40;42;54m \u001b[0m\u001b[38;2;248;248;242;48;2;40;42;54mmidpoint\u001b[0m\u001b[38;2;248;248;242;48;2;40;42;54m \u001b[0m\u001b[38;2;255;121;198;48;2;40;42;54m+\u001b[0m\u001b[38;2;248;248;242;48;2;40;42;54m \u001b[0m\u001b[38;2;255;184;108;48;2;40;42;54m1\u001b[0m\u001b[48;2;40;42;54m                                      \u001b[0m\n",
       "\u001b[1;38;2;227;227;223;48;2;40;42;54m  \u001b[0m\u001b[38;2;102;103;110;48;2;40;42;54m14 \u001b[0m\u001b[38;2;248;248;242;48;2;40;42;54m        \u001b[0m\u001b[38;2;255;121;198;48;2;40;42;54melse\u001b[0m\u001b[38;2;248;248;242;48;2;40;42;54m:\u001b[0m\u001b[48;2;40;42;54m                                                         \u001b[0m\n",
       "\u001b[1;38;2;227;227;223;48;2;40;42;54m  \u001b[0m\u001b[38;2;102;103;110;48;2;40;42;54m15 \u001b[0m\u001b[38;2;248;248;242;48;2;40;42;54m            \u001b[0m\u001b[38;2;248;248;242;48;2;40;42;54mlast\u001b[0m\u001b[38;2;248;248;242;48;2;40;42;54m \u001b[0m\u001b[38;2;255;121;198;48;2;40;42;54m=\u001b[0m\u001b[38;2;248;248;242;48;2;40;42;54m \u001b[0m\u001b[38;2;248;248;242;48;2;40;42;54mmidpoint\u001b[0m\u001b[38;2;248;248;242;48;2;40;42;54m \u001b[0m\u001b[38;2;255;121;198;48;2;40;42;54m-\u001b[0m\u001b[38;2;248;248;242;48;2;40;42;54m \u001b[0m\u001b[38;2;255;184;108;48;2;40;42;54m1\u001b[0m\u001b[48;2;40;42;54m                                       \u001b[0m\n",
       "\u001b[1;38;2;227;227;223;48;2;40;42;54m  \u001b[0m\u001b[38;2;102;103;110;48;2;40;42;54m16 \u001b[0m\u001b[48;2;40;42;54m                                                                      \u001b[0m\n",
       "\u001b[1;38;2;227;227;223;48;2;40;42;54m  \u001b[0m\u001b[38;2;102;103;110;48;2;40;42;54m17 \u001b[0m\u001b[38;2;248;248;242;48;2;40;42;54m    \u001b[0m\u001b[38;2;255;121;198;48;2;40;42;54mreturn\u001b[0m\u001b[38;2;248;248;242;48;2;40;42;54m \u001b[0m\u001b[38;2;255;121;198;48;2;40;42;54mNone\u001b[0m\u001b[48;2;40;42;54m                                                       \u001b[0m\n"
      ]
     },
     "metadata": {},
     "output_type": "display_data"
    }
   ],
   "source": [
    "from rich.syntax import Syntax\n",
    "from rich.console import Console\n",
    "\n",
    "# Create code\n",
    "code = '''def binary_search(list, target):\n",
    "    \"\"\"Returns the index position of the target if found,\n",
    "    else returns None\"\"\"\n",
    "\n",
    "    first = 0\n",
    "    last = len(list) - 1\n",
    "\n",
    "    while first <= last:\n",
    "        midpoint = (first + last) // 2\n",
    "        if list[midpoint] == target:\n",
    "            return midpoint\n",
    "        elif list[midpoint] < target:\n",
    "            first = midpoint + 1\n",
    "        else:\n",
    "            last = midpoint - 1\n",
    "\n",
    "    return None'''\n",
    "\n",
    "# Create syntax\n",
    "syntax = Syntax(code, \"python\", line_numbers=True, theme=\"dracula\")\n",
    "\n",
    "# Create console\n",
    "# console = Console()\n",
    "console = Console(record=True, width=75)\n",
    "\n",
    "# Print highlighted code\n",
    "console.print(syntax)\n",
    "\n",
    "# Save highlighted code\n",
    "console.save_svg(\n",
    "    \"images/syntax_dracula.svg\", title=\"Syntax Highlighting -- dracula theme\"\n",
    ")"
   ]
  },
  {
   "cell_type": "code",
   "execution_count": 26,
   "metadata": {},
   "outputs": [
    {
     "data": {
      "text/html": [
       "<pre style=\"white-space:pre;overflow-x:auto;line-height:normal;font-family:Menlo,'DejaVu Sans Mono',consolas,'Courier New',monospace\"><span style=\"color: #d0d7dd; text-decoration-color: #d0d7dd; background-color: #0d1117; font-weight: bold\">  </span><span style=\"color: #4e5359; text-decoration-color: #4e5359; background-color: #0d1117\"> 1 </span><span style=\"color: #8b949e; text-decoration-color: #8b949e; background-color: #0d1117; font-weight: bold; font-style: italic\">#include</span><span style=\"color: #6e7681; text-decoration-color: #6e7681; background-color: #0d1117\"> </span><span style=\"color: #8b949e; text-decoration-color: #8b949e; background-color: #0d1117; font-style: italic\">&lt;iostream&gt;</span><span style=\"background-color: #0d1117\">                                                   </span>\n",
       "<span style=\"color: #d0d7dd; text-decoration-color: #d0d7dd; background-color: #0d1117; font-weight: bold\">  </span><span style=\"color: #4e5359; text-decoration-color: #4e5359; background-color: #0d1117\"> 2 </span><span style=\"color: #8b949e; text-decoration-color: #8b949e; background-color: #0d1117; font-weight: bold; font-style: italic\">#include</span><span style=\"color: #6e7681; text-decoration-color: #6e7681; background-color: #0d1117\"> </span><span style=\"color: #8b949e; text-decoration-color: #8b949e; background-color: #0d1117; font-style: italic\">&lt;vector&gt;</span><span style=\"background-color: #0d1117\">                                                     </span>\n",
       "<span style=\"color: #d0d7dd; text-decoration-color: #d0d7dd; background-color: #0d1117; font-weight: bold\">  </span><span style=\"color: #4e5359; text-decoration-color: #4e5359; background-color: #0d1117\"> 3 </span><span style=\"color: #8b949e; text-decoration-color: #8b949e; background-color: #0d1117; font-weight: bold; font-style: italic\">#include</span><span style=\"color: #6e7681; text-decoration-color: #6e7681; background-color: #0d1117\"> </span><span style=\"color: #8b949e; text-decoration-color: #8b949e; background-color: #0d1117; font-style: italic\">&lt;algorithm&gt;</span><span style=\"background-color: #0d1117\">                                                  </span>\n",
       "<span style=\"color: #d0d7dd; text-decoration-color: #d0d7dd; background-color: #0d1117; font-weight: bold\">  </span><span style=\"color: #4e5359; text-decoration-color: #4e5359; background-color: #0d1117\"> 4 </span><span style=\"background-color: #0d1117\">                                                                      </span>\n",
       "<span style=\"color: #d0d7dd; text-decoration-color: #d0d7dd; background-color: #0d1117; font-weight: bold\">  </span><span style=\"color: #4e5359; text-decoration-color: #4e5359; background-color: #0d1117\"> 5 </span><span style=\"color: #ff7b72; text-decoration-color: #ff7b72; background-color: #0d1117\">int</span><span style=\"color: #6e7681; text-decoration-color: #6e7681; background-color: #0d1117\"> </span><span style=\"color: #d2a8ff; text-decoration-color: #d2a8ff; background-color: #0d1117; font-weight: bold\">main</span><span style=\"color: #e6edf3; text-decoration-color: #e6edf3; background-color: #0d1117\">()</span><span style=\"color: #6e7681; text-decoration-color: #6e7681; background-color: #0d1117\"> </span><span style=\"color: #e6edf3; text-decoration-color: #e6edf3; background-color: #0d1117\">{</span><span style=\"background-color: #0d1117\">                                                          </span>\n",
       "<span style=\"color: #d0d7dd; text-decoration-color: #d0d7dd; background-color: #0d1117; font-weight: bold\">  </span><span style=\"color: #4e5359; text-decoration-color: #4e5359; background-color: #0d1117\"> 6 </span><span style=\"color: #6e7681; text-decoration-color: #6e7681; background-color: #0d1117\">    </span><span style=\"color: #8b949e; text-decoration-color: #8b949e; background-color: #0d1117; font-style: italic\">// Initialise the vector</span><span style=\"background-color: #0d1117\">                                          </span>\n",
       "<span style=\"color: #d0d7dd; text-decoration-color: #d0d7dd; background-color: #0d1117; font-weight: bold\">  </span><span style=\"color: #4e5359; text-decoration-color: #4e5359; background-color: #0d1117\"> 7 </span><span style=\"color: #6e7681; text-decoration-color: #6e7681; background-color: #0d1117\">    </span><span style=\"color: #e6edf3; text-decoration-color: #e6edf3; background-color: #0d1117\">std</span><span style=\"color: #ff7b72; text-decoration-color: #ff7b72; background-color: #0d1117; font-weight: bold\">::</span><span style=\"color: #e6edf3; text-decoration-color: #e6edf3; background-color: #0d1117\">vector</span><span style=\"color: #ff7b72; text-decoration-color: #ff7b72; background-color: #0d1117; font-weight: bold\">&lt;</span><span style=\"color: #ff7b72; text-decoration-color: #ff7b72; background-color: #0d1117\">int</span><span style=\"color: #ff7b72; text-decoration-color: #ff7b72; background-color: #0d1117; font-weight: bold\">&gt;</span><span style=\"color: #6e7681; text-decoration-color: #6e7681; background-color: #0d1117\"> </span><span style=\"color: #e6edf3; text-decoration-color: #e6edf3; background-color: #0d1117\">vec{</span><span style=\"color: #a5d6ff; text-decoration-color: #a5d6ff; background-color: #0d1117\">3</span><span style=\"color: #e6edf3; text-decoration-color: #e6edf3; background-color: #0d1117\">,</span><span style=\"color: #6e7681; text-decoration-color: #6e7681; background-color: #0d1117\"> </span><span style=\"color: #a5d6ff; text-decoration-color: #a5d6ff; background-color: #0d1117\">4</span><span style=\"color: #e6edf3; text-decoration-color: #e6edf3; background-color: #0d1117\">,</span><span style=\"color: #6e7681; text-decoration-color: #6e7681; background-color: #0d1117\"> </span><span style=\"color: #a5d6ff; text-decoration-color: #a5d6ff; background-color: #0d1117\">2</span><span style=\"color: #e6edf3; text-decoration-color: #e6edf3; background-color: #0d1117\">,</span><span style=\"color: #6e7681; text-decoration-color: #6e7681; background-color: #0d1117\"> </span><span style=\"color: #a5d6ff; text-decoration-color: #a5d6ff; background-color: #0d1117\">5</span><span style=\"color: #e6edf3; text-decoration-color: #e6edf3; background-color: #0d1117\">,</span><span style=\"color: #6e7681; text-decoration-color: #6e7681; background-color: #0d1117\"> </span><span style=\"color: #a5d6ff; text-decoration-color: #a5d6ff; background-color: #0d1117\">1</span><span style=\"color: #e6edf3; text-decoration-color: #e6edf3; background-color: #0d1117\">};</span><span style=\"background-color: #0d1117\">                              </span>\n",
       "<span style=\"color: #d0d7dd; text-decoration-color: #d0d7dd; background-color: #0d1117; font-weight: bold\">  </span><span style=\"color: #4e5359; text-decoration-color: #4e5359; background-color: #0d1117\"> 8 </span><span style=\"background-color: #0d1117\">                                                                      </span>\n",
       "<span style=\"color: #d0d7dd; text-decoration-color: #d0d7dd; background-color: #0d1117; font-weight: bold\">  </span><span style=\"color: #4e5359; text-decoration-color: #4e5359; background-color: #0d1117\"> 9 </span><span style=\"color: #6e7681; text-decoration-color: #6e7681; background-color: #0d1117\">    </span><span style=\"color: #8b949e; text-decoration-color: #8b949e; background-color: #0d1117; font-style: italic\">// Print the original vector</span><span style=\"background-color: #0d1117\">                                      </span>\n",
       "<span style=\"color: #d0d7dd; text-decoration-color: #d0d7dd; background-color: #0d1117; font-weight: bold\">  </span><span style=\"color: #4e5359; text-decoration-color: #4e5359; background-color: #0d1117\">10 </span><span style=\"color: #6e7681; text-decoration-color: #6e7681; background-color: #0d1117\">    </span><span style=\"color: #e6edf3; text-decoration-color: #e6edf3; background-color: #0d1117\">std</span><span style=\"color: #ff7b72; text-decoration-color: #ff7b72; background-color: #0d1117; font-weight: bold\">::</span><span style=\"color: #e6edf3; text-decoration-color: #e6edf3; background-color: #0d1117\">cout</span><span style=\"color: #6e7681; text-decoration-color: #6e7681; background-color: #0d1117\"> </span><span style=\"color: #ff7b72; text-decoration-color: #ff7b72; background-color: #0d1117; font-weight: bold\">&lt;&lt;</span><span style=\"color: #6e7681; text-decoration-color: #6e7681; background-color: #0d1117\"> </span><span style=\"color: #a5d6ff; text-decoration-color: #a5d6ff; background-color: #0d1117\">\"Original vector:\"</span><span style=\"color: #e6edf3; text-decoration-color: #e6edf3; background-color: #0d1117\">;</span><span style=\"background-color: #0d1117\">                                  </span>\n",
       "<span style=\"color: #d0d7dd; text-decoration-color: #d0d7dd; background-color: #0d1117; font-weight: bold\">  </span><span style=\"color: #4e5359; text-decoration-color: #4e5359; background-color: #0d1117\">11 </span><span style=\"color: #6e7681; text-decoration-color: #6e7681; background-color: #0d1117\">    </span><span style=\"color: #ff7b72; text-decoration-color: #ff7b72; background-color: #0d1117\">for</span><span style=\"color: #6e7681; text-decoration-color: #6e7681; background-color: #0d1117\"> </span><span style=\"color: #e6edf3; text-decoration-color: #e6edf3; background-color: #0d1117\">(</span><span style=\"color: #ff7b72; text-decoration-color: #ff7b72; background-color: #0d1117\">auto</span><span style=\"color: #6e7681; text-decoration-color: #6e7681; background-color: #0d1117\"> </span><span style=\"color: #e6edf3; text-decoration-color: #e6edf3; background-color: #0d1117\">i</span><span style=\"color: #6e7681; text-decoration-color: #6e7681; background-color: #0d1117\"> </span><span style=\"color: #ff7b72; text-decoration-color: #ff7b72; background-color: #0d1117; font-weight: bold\">=</span><span style=\"color: #6e7681; text-decoration-color: #6e7681; background-color: #0d1117\"> </span><span style=\"color: #e6edf3; text-decoration-color: #e6edf3; background-color: #0d1117\">vec.begin();</span><span style=\"color: #6e7681; text-decoration-color: #6e7681; background-color: #0d1117\"> </span><span style=\"color: #e6edf3; text-decoration-color: #e6edf3; background-color: #0d1117\">i</span><span style=\"color: #6e7681; text-decoration-color: #6e7681; background-color: #0d1117\"> </span><span style=\"color: #ff7b72; text-decoration-color: #ff7b72; background-color: #0d1117; font-weight: bold\">&lt;</span><span style=\"color: #6e7681; text-decoration-color: #6e7681; background-color: #0d1117\"> </span><span style=\"color: #e6edf3; text-decoration-color: #e6edf3; background-color: #0d1117\">vec.end();</span><span style=\"color: #6e7681; text-decoration-color: #6e7681; background-color: #0d1117\"> </span><span style=\"color: #ff7b72; text-decoration-color: #ff7b72; background-color: #0d1117; font-weight: bold\">++</span><span style=\"color: #e6edf3; text-decoration-color: #e6edf3; background-color: #0d1117\">i)</span><span style=\"color: #6e7681; text-decoration-color: #6e7681; background-color: #0d1117\"> </span><span style=\"color: #e6edf3; text-decoration-color: #e6edf3; background-color: #0d1117\">{</span><span style=\"background-color: #0d1117\">                  </span>\n",
       "<span style=\"color: #d0d7dd; text-decoration-color: #d0d7dd; background-color: #0d1117; font-weight: bold\">  </span><span style=\"color: #4e5359; text-decoration-color: #4e5359; background-color: #0d1117\">12 </span><span style=\"color: #6e7681; text-decoration-color: #6e7681; background-color: #0d1117\">        </span><span style=\"color: #e6edf3; text-decoration-color: #e6edf3; background-color: #0d1117\">std</span><span style=\"color: #ff7b72; text-decoration-color: #ff7b72; background-color: #0d1117; font-weight: bold\">::</span><span style=\"color: #e6edf3; text-decoration-color: #e6edf3; background-color: #0d1117\">cout</span><span style=\"color: #6e7681; text-decoration-color: #6e7681; background-color: #0d1117\"> </span><span style=\"color: #ff7b72; text-decoration-color: #ff7b72; background-color: #0d1117; font-weight: bold\">&lt;&lt;</span><span style=\"color: #6e7681; text-decoration-color: #6e7681; background-color: #0d1117\"> </span><span style=\"color: #a5d6ff; text-decoration-color: #a5d6ff; background-color: #0d1117\">\" \"</span><span style=\"color: #6e7681; text-decoration-color: #6e7681; background-color: #0d1117\"> </span><span style=\"color: #ff7b72; text-decoration-color: #ff7b72; background-color: #0d1117; font-weight: bold\">&lt;&lt;</span><span style=\"color: #6e7681; text-decoration-color: #6e7681; background-color: #0d1117\"> </span><span style=\"color: #ff7b72; text-decoration-color: #ff7b72; background-color: #0d1117; font-weight: bold\">*</span><span style=\"color: #e6edf3; text-decoration-color: #e6edf3; background-color: #0d1117\">i;</span><span style=\"background-color: #0d1117\">                                       </span>\n",
       "<span style=\"color: #d0d7dd; text-decoration-color: #d0d7dd; background-color: #0d1117; font-weight: bold\">  </span><span style=\"color: #4e5359; text-decoration-color: #4e5359; background-color: #0d1117\">13 </span><span style=\"color: #6e7681; text-decoration-color: #6e7681; background-color: #0d1117\">    </span><span style=\"color: #e6edf3; text-decoration-color: #e6edf3; background-color: #0d1117\">}</span><span style=\"background-color: #0d1117\">                                                                 </span>\n",
       "<span style=\"color: #d0d7dd; text-decoration-color: #d0d7dd; background-color: #0d1117; font-weight: bold\">  </span><span style=\"color: #4e5359; text-decoration-color: #4e5359; background-color: #0d1117\">14 </span><span style=\"color: #6e7681; text-decoration-color: #6e7681; background-color: #0d1117\">    </span><span style=\"color: #e6edf3; text-decoration-color: #e6edf3; background-color: #0d1117\">std</span><span style=\"color: #ff7b72; text-decoration-color: #ff7b72; background-color: #0d1117; font-weight: bold\">::</span><span style=\"color: #e6edf3; text-decoration-color: #e6edf3; background-color: #0d1117\">cout</span><span style=\"color: #6e7681; text-decoration-color: #6e7681; background-color: #0d1117\"> </span><span style=\"color: #ff7b72; text-decoration-color: #ff7b72; background-color: #0d1117; font-weight: bold\">&lt;&lt;</span><span style=\"color: #6e7681; text-decoration-color: #6e7681; background-color: #0d1117\"> </span><span style=\"color: #e6edf3; text-decoration-color: #e6edf3; background-color: #0d1117\">std</span><span style=\"color: #ff7b72; text-decoration-color: #ff7b72; background-color: #0d1117; font-weight: bold\">::</span><span style=\"color: #e6edf3; text-decoration-color: #e6edf3; background-color: #0d1117\">endl</span><span style=\"color: #6e7681; text-decoration-color: #6e7681; background-color: #0d1117\"> </span><span style=\"color: #ff7b72; text-decoration-color: #ff7b72; background-color: #0d1117; font-weight: bold\">&lt;&lt;</span><span style=\"color: #6e7681; text-decoration-color: #6e7681; background-color: #0d1117\"> </span><span style=\"color: #e6edf3; text-decoration-color: #e6edf3; background-color: #0d1117\">std</span><span style=\"color: #ff7b72; text-decoration-color: #ff7b72; background-color: #0d1117; font-weight: bold\">::</span><span style=\"color: #e6edf3; text-decoration-color: #e6edf3; background-color: #0d1117\">endl;</span><span style=\"background-color: #0d1117\">                              </span>\n",
       "<span style=\"color: #d0d7dd; text-decoration-color: #d0d7dd; background-color: #0d1117; font-weight: bold\">  </span><span style=\"color: #4e5359; text-decoration-color: #4e5359; background-color: #0d1117\">15 </span><span style=\"background-color: #0d1117\">                                                                      </span>\n",
       "<span style=\"color: #d0d7dd; text-decoration-color: #d0d7dd; background-color: #0d1117; font-weight: bold\">  </span><span style=\"color: #4e5359; text-decoration-color: #4e5359; background-color: #0d1117\">16 </span><span style=\"color: #6e7681; text-decoration-color: #6e7681; background-color: #0d1117\">    </span><span style=\"color: #8b949e; text-decoration-color: #8b949e; background-color: #0d1117; font-style: italic\">// Sort</span><span style=\"background-color: #0d1117\">                                                           </span>\n",
       "<span style=\"color: #d0d7dd; text-decoration-color: #d0d7dd; background-color: #0d1117; font-weight: bold\">  </span><span style=\"color: #4e5359; text-decoration-color: #4e5359; background-color: #0d1117\">17 </span><span style=\"color: #6e7681; text-decoration-color: #6e7681; background-color: #0d1117\">    </span><span style=\"color: #e6edf3; text-decoration-color: #e6edf3; background-color: #0d1117\">std</span><span style=\"color: #ff7b72; text-decoration-color: #ff7b72; background-color: #0d1117; font-weight: bold\">::</span><span style=\"color: #e6edf3; text-decoration-color: #e6edf3; background-color: #0d1117\">sort(vec.begin(),</span><span style=\"color: #6e7681; text-decoration-color: #6e7681; background-color: #0d1117\"> </span><span style=\"color: #e6edf3; text-decoration-color: #e6edf3; background-color: #0d1117\">vec.end());</span><span style=\"background-color: #0d1117\">                                </span>\n",
       "<span style=\"color: #d0d7dd; text-decoration-color: #d0d7dd; background-color: #0d1117; font-weight: bold\">  </span><span style=\"color: #4e5359; text-decoration-color: #4e5359; background-color: #0d1117\">18 </span><span style=\"background-color: #0d1117\">                                                                      </span>\n",
       "<span style=\"color: #d0d7dd; text-decoration-color: #d0d7dd; background-color: #0d1117; font-weight: bold\">  </span><span style=\"color: #4e5359; text-decoration-color: #4e5359; background-color: #0d1117\">19 </span><span style=\"color: #6e7681; text-decoration-color: #6e7681; background-color: #0d1117\">    </span><span style=\"color: #8b949e; text-decoration-color: #8b949e; background-color: #0d1117; font-style: italic\">// Print the sorted vector</span><span style=\"background-color: #0d1117\">                                        </span>\n",
       "<span style=\"color: #d0d7dd; text-decoration-color: #d0d7dd; background-color: #0d1117; font-weight: bold\">  </span><span style=\"color: #4e5359; text-decoration-color: #4e5359; background-color: #0d1117\">20 </span><span style=\"color: #6e7681; text-decoration-color: #6e7681; background-color: #0d1117\">    </span><span style=\"color: #e6edf3; text-decoration-color: #e6edf3; background-color: #0d1117\">std</span><span style=\"color: #ff7b72; text-decoration-color: #ff7b72; background-color: #0d1117; font-weight: bold\">::</span><span style=\"color: #e6edf3; text-decoration-color: #e6edf3; background-color: #0d1117\">cout</span><span style=\"color: #6e7681; text-decoration-color: #6e7681; background-color: #0d1117\"> </span><span style=\"color: #ff7b72; text-decoration-color: #ff7b72; background-color: #0d1117; font-weight: bold\">&lt;&lt;</span><span style=\"color: #6e7681; text-decoration-color: #6e7681; background-color: #0d1117\"> </span><span style=\"color: #a5d6ff; text-decoration-color: #a5d6ff; background-color: #0d1117\">\"Sorted vector:\"</span><span style=\"color: #e6edf3; text-decoration-color: #e6edf3; background-color: #0d1117\">;</span><span style=\"background-color: #0d1117\">                                    </span>\n",
       "<span style=\"color: #d0d7dd; text-decoration-color: #d0d7dd; background-color: #0d1117; font-weight: bold\">  </span><span style=\"color: #4e5359; text-decoration-color: #4e5359; background-color: #0d1117\">21 </span><span style=\"color: #6e7681; text-decoration-color: #6e7681; background-color: #0d1117\">    </span><span style=\"color: #ff7b72; text-decoration-color: #ff7b72; background-color: #0d1117\">for</span><span style=\"color: #6e7681; text-decoration-color: #6e7681; background-color: #0d1117\"> </span><span style=\"color: #e6edf3; text-decoration-color: #e6edf3; background-color: #0d1117\">(</span><span style=\"color: #ff7b72; text-decoration-color: #ff7b72; background-color: #0d1117\">auto</span><span style=\"color: #6e7681; text-decoration-color: #6e7681; background-color: #0d1117\"> </span><span style=\"color: #e6edf3; text-decoration-color: #e6edf3; background-color: #0d1117\">i</span><span style=\"color: #6e7681; text-decoration-color: #6e7681; background-color: #0d1117\"> </span><span style=\"color: #ff7b72; text-decoration-color: #ff7b72; background-color: #0d1117; font-weight: bold\">=</span><span style=\"color: #6e7681; text-decoration-color: #6e7681; background-color: #0d1117\"> </span><span style=\"color: #e6edf3; text-decoration-color: #e6edf3; background-color: #0d1117\">vec.begin();</span><span style=\"color: #6e7681; text-decoration-color: #6e7681; background-color: #0d1117\"> </span><span style=\"color: #e6edf3; text-decoration-color: #e6edf3; background-color: #0d1117\">i</span><span style=\"color: #6e7681; text-decoration-color: #6e7681; background-color: #0d1117\"> </span><span style=\"color: #ff7b72; text-decoration-color: #ff7b72; background-color: #0d1117; font-weight: bold\">&lt;</span><span style=\"color: #6e7681; text-decoration-color: #6e7681; background-color: #0d1117\"> </span><span style=\"color: #e6edf3; text-decoration-color: #e6edf3; background-color: #0d1117\">vec.end();</span><span style=\"color: #6e7681; text-decoration-color: #6e7681; background-color: #0d1117\"> </span><span style=\"color: #ff7b72; text-decoration-color: #ff7b72; background-color: #0d1117; font-weight: bold\">++</span><span style=\"color: #e6edf3; text-decoration-color: #e6edf3; background-color: #0d1117\">i)</span><span style=\"color: #6e7681; text-decoration-color: #6e7681; background-color: #0d1117\"> </span><span style=\"color: #e6edf3; text-decoration-color: #e6edf3; background-color: #0d1117\">{</span><span style=\"background-color: #0d1117\">                  </span>\n",
       "<span style=\"color: #d0d7dd; text-decoration-color: #d0d7dd; background-color: #0d1117; font-weight: bold\">  </span><span style=\"color: #4e5359; text-decoration-color: #4e5359; background-color: #0d1117\">22 </span><span style=\"color: #6e7681; text-decoration-color: #6e7681; background-color: #0d1117\">        </span><span style=\"color: #e6edf3; text-decoration-color: #e6edf3; background-color: #0d1117\">std</span><span style=\"color: #ff7b72; text-decoration-color: #ff7b72; background-color: #0d1117; font-weight: bold\">::</span><span style=\"color: #e6edf3; text-decoration-color: #e6edf3; background-color: #0d1117\">cout</span><span style=\"color: #6e7681; text-decoration-color: #6e7681; background-color: #0d1117\"> </span><span style=\"color: #ff7b72; text-decoration-color: #ff7b72; background-color: #0d1117; font-weight: bold\">&lt;&lt;</span><span style=\"color: #6e7681; text-decoration-color: #6e7681; background-color: #0d1117\"> </span><span style=\"color: #a5d6ff; text-decoration-color: #a5d6ff; background-color: #0d1117\">\" \"</span><span style=\"color: #6e7681; text-decoration-color: #6e7681; background-color: #0d1117\"> </span><span style=\"color: #ff7b72; text-decoration-color: #ff7b72; background-color: #0d1117; font-weight: bold\">&lt;&lt;</span><span style=\"color: #6e7681; text-decoration-color: #6e7681; background-color: #0d1117\"> </span><span style=\"color: #ff7b72; text-decoration-color: #ff7b72; background-color: #0d1117; font-weight: bold\">*</span><span style=\"color: #e6edf3; text-decoration-color: #e6edf3; background-color: #0d1117\">i;</span><span style=\"background-color: #0d1117\">                                       </span>\n",
       "<span style=\"color: #d0d7dd; text-decoration-color: #d0d7dd; background-color: #0d1117; font-weight: bold\">  </span><span style=\"color: #4e5359; text-decoration-color: #4e5359; background-color: #0d1117\">23 </span><span style=\"color: #6e7681; text-decoration-color: #6e7681; background-color: #0d1117\">    </span><span style=\"color: #e6edf3; text-decoration-color: #e6edf3; background-color: #0d1117\">}</span><span style=\"background-color: #0d1117\">                                                                 </span>\n",
       "<span style=\"color: #d0d7dd; text-decoration-color: #d0d7dd; background-color: #0d1117; font-weight: bold\">  </span><span style=\"color: #4e5359; text-decoration-color: #4e5359; background-color: #0d1117\">24 </span><span style=\"background-color: #0d1117\">                                                                      </span>\n",
       "<span style=\"color: #d0d7dd; text-decoration-color: #d0d7dd; background-color: #0d1117; font-weight: bold\">  </span><span style=\"color: #4e5359; text-decoration-color: #4e5359; background-color: #0d1117\">25 </span><span style=\"color: #6e7681; text-decoration-color: #6e7681; background-color: #0d1117\">    </span><span style=\"color: #ff7b72; text-decoration-color: #ff7b72; background-color: #0d1117\">return</span><span style=\"color: #6e7681; text-decoration-color: #6e7681; background-color: #0d1117\"> </span><span style=\"color: #a5d6ff; text-decoration-color: #a5d6ff; background-color: #0d1117\">0</span><span style=\"color: #e6edf3; text-decoration-color: #e6edf3; background-color: #0d1117\">;</span><span style=\"background-color: #0d1117\">                                                         </span>\n",
       "<span style=\"color: #d0d7dd; text-decoration-color: #d0d7dd; background-color: #0d1117; font-weight: bold\">  </span><span style=\"color: #4e5359; text-decoration-color: #4e5359; background-color: #0d1117\">26 </span><span style=\"color: #e6edf3; text-decoration-color: #e6edf3; background-color: #0d1117\">}</span><span style=\"background-color: #0d1117\">                                                                     </span>\n",
       "</pre>\n"
      ],
      "text/plain": [
       "\u001b[1;38;2;208;215;221;48;2;13;17;23m  \u001b[0m\u001b[38;2;78;83;89;48;2;13;17;23m 1 \u001b[0m\u001b[1;3;38;2;139;148;158;48;2;13;17;23m#\u001b[0m\u001b[1;3;38;2;139;148;158;48;2;13;17;23minclude\u001b[0m\u001b[38;2;110;118;129;48;2;13;17;23m \u001b[0m\u001b[3;38;2;139;148;158;48;2;13;17;23m<iostream>\u001b[0m\u001b[48;2;13;17;23m                                                   \u001b[0m\n",
       "\u001b[1;38;2;208;215;221;48;2;13;17;23m  \u001b[0m\u001b[38;2;78;83;89;48;2;13;17;23m 2 \u001b[0m\u001b[1;3;38;2;139;148;158;48;2;13;17;23m#\u001b[0m\u001b[1;3;38;2;139;148;158;48;2;13;17;23minclude\u001b[0m\u001b[38;2;110;118;129;48;2;13;17;23m \u001b[0m\u001b[3;38;2;139;148;158;48;2;13;17;23m<vector>\u001b[0m\u001b[48;2;13;17;23m                                                     \u001b[0m\n",
       "\u001b[1;38;2;208;215;221;48;2;13;17;23m  \u001b[0m\u001b[38;2;78;83;89;48;2;13;17;23m 3 \u001b[0m\u001b[1;3;38;2;139;148;158;48;2;13;17;23m#\u001b[0m\u001b[1;3;38;2;139;148;158;48;2;13;17;23minclude\u001b[0m\u001b[38;2;110;118;129;48;2;13;17;23m \u001b[0m\u001b[3;38;2;139;148;158;48;2;13;17;23m<algorithm>\u001b[0m\u001b[48;2;13;17;23m                                                  \u001b[0m\n",
       "\u001b[1;38;2;208;215;221;48;2;13;17;23m  \u001b[0m\u001b[38;2;78;83;89;48;2;13;17;23m 4 \u001b[0m\u001b[48;2;13;17;23m                                                                      \u001b[0m\n",
       "\u001b[1;38;2;208;215;221;48;2;13;17;23m  \u001b[0m\u001b[38;2;78;83;89;48;2;13;17;23m 5 \u001b[0m\u001b[38;2;255;123;114;48;2;13;17;23mint\u001b[0m\u001b[38;2;110;118;129;48;2;13;17;23m \u001b[0m\u001b[1;38;2;210;168;255;48;2;13;17;23mmain\u001b[0m\u001b[38;2;230;237;243;48;2;13;17;23m(\u001b[0m\u001b[38;2;230;237;243;48;2;13;17;23m)\u001b[0m\u001b[38;2;110;118;129;48;2;13;17;23m \u001b[0m\u001b[38;2;230;237;243;48;2;13;17;23m{\u001b[0m\u001b[48;2;13;17;23m                                                          \u001b[0m\n",
       "\u001b[1;38;2;208;215;221;48;2;13;17;23m  \u001b[0m\u001b[38;2;78;83;89;48;2;13;17;23m 6 \u001b[0m\u001b[38;2;110;118;129;48;2;13;17;23m    \u001b[0m\u001b[3;38;2;139;148;158;48;2;13;17;23m// Initialise the vector\u001b[0m\u001b[48;2;13;17;23m                                          \u001b[0m\n",
       "\u001b[1;38;2;208;215;221;48;2;13;17;23m  \u001b[0m\u001b[38;2;78;83;89;48;2;13;17;23m 7 \u001b[0m\u001b[38;2;110;118;129;48;2;13;17;23m    \u001b[0m\u001b[38;2;230;237;243;48;2;13;17;23mstd\u001b[0m\u001b[1;38;2;255;123;114;48;2;13;17;23m:\u001b[0m\u001b[1;38;2;255;123;114;48;2;13;17;23m:\u001b[0m\u001b[38;2;230;237;243;48;2;13;17;23mvector\u001b[0m\u001b[1;38;2;255;123;114;48;2;13;17;23m<\u001b[0m\u001b[38;2;255;123;114;48;2;13;17;23mint\u001b[0m\u001b[1;38;2;255;123;114;48;2;13;17;23m>\u001b[0m\u001b[38;2;110;118;129;48;2;13;17;23m \u001b[0m\u001b[38;2;230;237;243;48;2;13;17;23mvec\u001b[0m\u001b[38;2;230;237;243;48;2;13;17;23m{\u001b[0m\u001b[38;2;165;214;255;48;2;13;17;23m3\u001b[0m\u001b[38;2;230;237;243;48;2;13;17;23m,\u001b[0m\u001b[38;2;110;118;129;48;2;13;17;23m \u001b[0m\u001b[38;2;165;214;255;48;2;13;17;23m4\u001b[0m\u001b[38;2;230;237;243;48;2;13;17;23m,\u001b[0m\u001b[38;2;110;118;129;48;2;13;17;23m \u001b[0m\u001b[38;2;165;214;255;48;2;13;17;23m2\u001b[0m\u001b[38;2;230;237;243;48;2;13;17;23m,\u001b[0m\u001b[38;2;110;118;129;48;2;13;17;23m \u001b[0m\u001b[38;2;165;214;255;48;2;13;17;23m5\u001b[0m\u001b[38;2;230;237;243;48;2;13;17;23m,\u001b[0m\u001b[38;2;110;118;129;48;2;13;17;23m \u001b[0m\u001b[38;2;165;214;255;48;2;13;17;23m1\u001b[0m\u001b[38;2;230;237;243;48;2;13;17;23m}\u001b[0m\u001b[38;2;230;237;243;48;2;13;17;23m;\u001b[0m\u001b[48;2;13;17;23m                              \u001b[0m\n",
       "\u001b[1;38;2;208;215;221;48;2;13;17;23m  \u001b[0m\u001b[38;2;78;83;89;48;2;13;17;23m 8 \u001b[0m\u001b[48;2;13;17;23m                                                                      \u001b[0m\n",
       "\u001b[1;38;2;208;215;221;48;2;13;17;23m  \u001b[0m\u001b[38;2;78;83;89;48;2;13;17;23m 9 \u001b[0m\u001b[38;2;110;118;129;48;2;13;17;23m    \u001b[0m\u001b[3;38;2;139;148;158;48;2;13;17;23m// Print the original vector\u001b[0m\u001b[48;2;13;17;23m                                      \u001b[0m\n",
       "\u001b[1;38;2;208;215;221;48;2;13;17;23m  \u001b[0m\u001b[38;2;78;83;89;48;2;13;17;23m10 \u001b[0m\u001b[38;2;110;118;129;48;2;13;17;23m    \u001b[0m\u001b[38;2;230;237;243;48;2;13;17;23mstd\u001b[0m\u001b[1;38;2;255;123;114;48;2;13;17;23m:\u001b[0m\u001b[1;38;2;255;123;114;48;2;13;17;23m:\u001b[0m\u001b[38;2;230;237;243;48;2;13;17;23mcout\u001b[0m\u001b[38;2;110;118;129;48;2;13;17;23m \u001b[0m\u001b[1;38;2;255;123;114;48;2;13;17;23m<\u001b[0m\u001b[1;38;2;255;123;114;48;2;13;17;23m<\u001b[0m\u001b[38;2;110;118;129;48;2;13;17;23m \u001b[0m\u001b[38;2;165;214;255;48;2;13;17;23m\"\u001b[0m\u001b[38;2;165;214;255;48;2;13;17;23mOriginal vector:\u001b[0m\u001b[38;2;165;214;255;48;2;13;17;23m\"\u001b[0m\u001b[38;2;230;237;243;48;2;13;17;23m;\u001b[0m\u001b[48;2;13;17;23m                                  \u001b[0m\n",
       "\u001b[1;38;2;208;215;221;48;2;13;17;23m  \u001b[0m\u001b[38;2;78;83;89;48;2;13;17;23m11 \u001b[0m\u001b[38;2;110;118;129;48;2;13;17;23m    \u001b[0m\u001b[38;2;255;123;114;48;2;13;17;23mfor\u001b[0m\u001b[38;2;110;118;129;48;2;13;17;23m \u001b[0m\u001b[38;2;230;237;243;48;2;13;17;23m(\u001b[0m\u001b[38;2;255;123;114;48;2;13;17;23mauto\u001b[0m\u001b[38;2;110;118;129;48;2;13;17;23m \u001b[0m\u001b[38;2;230;237;243;48;2;13;17;23mi\u001b[0m\u001b[38;2;110;118;129;48;2;13;17;23m \u001b[0m\u001b[1;38;2;255;123;114;48;2;13;17;23m=\u001b[0m\u001b[38;2;110;118;129;48;2;13;17;23m \u001b[0m\u001b[38;2;230;237;243;48;2;13;17;23mvec\u001b[0m\u001b[38;2;230;237;243;48;2;13;17;23m.\u001b[0m\u001b[38;2;230;237;243;48;2;13;17;23mbegin\u001b[0m\u001b[38;2;230;237;243;48;2;13;17;23m(\u001b[0m\u001b[38;2;230;237;243;48;2;13;17;23m)\u001b[0m\u001b[38;2;230;237;243;48;2;13;17;23m;\u001b[0m\u001b[38;2;110;118;129;48;2;13;17;23m \u001b[0m\u001b[38;2;230;237;243;48;2;13;17;23mi\u001b[0m\u001b[38;2;110;118;129;48;2;13;17;23m \u001b[0m\u001b[1;38;2;255;123;114;48;2;13;17;23m<\u001b[0m\u001b[38;2;110;118;129;48;2;13;17;23m \u001b[0m\u001b[38;2;230;237;243;48;2;13;17;23mvec\u001b[0m\u001b[38;2;230;237;243;48;2;13;17;23m.\u001b[0m\u001b[38;2;230;237;243;48;2;13;17;23mend\u001b[0m\u001b[38;2;230;237;243;48;2;13;17;23m(\u001b[0m\u001b[38;2;230;237;243;48;2;13;17;23m)\u001b[0m\u001b[38;2;230;237;243;48;2;13;17;23m;\u001b[0m\u001b[38;2;110;118;129;48;2;13;17;23m \u001b[0m\u001b[1;38;2;255;123;114;48;2;13;17;23m+\u001b[0m\u001b[1;38;2;255;123;114;48;2;13;17;23m+\u001b[0m\u001b[38;2;230;237;243;48;2;13;17;23mi\u001b[0m\u001b[38;2;230;237;243;48;2;13;17;23m)\u001b[0m\u001b[38;2;110;118;129;48;2;13;17;23m \u001b[0m\u001b[38;2;230;237;243;48;2;13;17;23m{\u001b[0m\u001b[48;2;13;17;23m                  \u001b[0m\n",
       "\u001b[1;38;2;208;215;221;48;2;13;17;23m  \u001b[0m\u001b[38;2;78;83;89;48;2;13;17;23m12 \u001b[0m\u001b[38;2;110;118;129;48;2;13;17;23m        \u001b[0m\u001b[38;2;230;237;243;48;2;13;17;23mstd\u001b[0m\u001b[1;38;2;255;123;114;48;2;13;17;23m:\u001b[0m\u001b[1;38;2;255;123;114;48;2;13;17;23m:\u001b[0m\u001b[38;2;230;237;243;48;2;13;17;23mcout\u001b[0m\u001b[38;2;110;118;129;48;2;13;17;23m \u001b[0m\u001b[1;38;2;255;123;114;48;2;13;17;23m<\u001b[0m\u001b[1;38;2;255;123;114;48;2;13;17;23m<\u001b[0m\u001b[38;2;110;118;129;48;2;13;17;23m \u001b[0m\u001b[38;2;165;214;255;48;2;13;17;23m\"\u001b[0m\u001b[38;2;165;214;255;48;2;13;17;23m \u001b[0m\u001b[38;2;165;214;255;48;2;13;17;23m\"\u001b[0m\u001b[38;2;110;118;129;48;2;13;17;23m \u001b[0m\u001b[1;38;2;255;123;114;48;2;13;17;23m<\u001b[0m\u001b[1;38;2;255;123;114;48;2;13;17;23m<\u001b[0m\u001b[38;2;110;118;129;48;2;13;17;23m \u001b[0m\u001b[1;38;2;255;123;114;48;2;13;17;23m*\u001b[0m\u001b[38;2;230;237;243;48;2;13;17;23mi\u001b[0m\u001b[38;2;230;237;243;48;2;13;17;23m;\u001b[0m\u001b[48;2;13;17;23m                                       \u001b[0m\n",
       "\u001b[1;38;2;208;215;221;48;2;13;17;23m  \u001b[0m\u001b[38;2;78;83;89;48;2;13;17;23m13 \u001b[0m\u001b[38;2;110;118;129;48;2;13;17;23m    \u001b[0m\u001b[38;2;230;237;243;48;2;13;17;23m}\u001b[0m\u001b[48;2;13;17;23m                                                                 \u001b[0m\n",
       "\u001b[1;38;2;208;215;221;48;2;13;17;23m  \u001b[0m\u001b[38;2;78;83;89;48;2;13;17;23m14 \u001b[0m\u001b[38;2;110;118;129;48;2;13;17;23m    \u001b[0m\u001b[38;2;230;237;243;48;2;13;17;23mstd\u001b[0m\u001b[1;38;2;255;123;114;48;2;13;17;23m:\u001b[0m\u001b[1;38;2;255;123;114;48;2;13;17;23m:\u001b[0m\u001b[38;2;230;237;243;48;2;13;17;23mcout\u001b[0m\u001b[38;2;110;118;129;48;2;13;17;23m \u001b[0m\u001b[1;38;2;255;123;114;48;2;13;17;23m<\u001b[0m\u001b[1;38;2;255;123;114;48;2;13;17;23m<\u001b[0m\u001b[38;2;110;118;129;48;2;13;17;23m \u001b[0m\u001b[38;2;230;237;243;48;2;13;17;23mstd\u001b[0m\u001b[1;38;2;255;123;114;48;2;13;17;23m:\u001b[0m\u001b[1;38;2;255;123;114;48;2;13;17;23m:\u001b[0m\u001b[38;2;230;237;243;48;2;13;17;23mendl\u001b[0m\u001b[38;2;110;118;129;48;2;13;17;23m \u001b[0m\u001b[1;38;2;255;123;114;48;2;13;17;23m<\u001b[0m\u001b[1;38;2;255;123;114;48;2;13;17;23m<\u001b[0m\u001b[38;2;110;118;129;48;2;13;17;23m \u001b[0m\u001b[38;2;230;237;243;48;2;13;17;23mstd\u001b[0m\u001b[1;38;2;255;123;114;48;2;13;17;23m:\u001b[0m\u001b[1;38;2;255;123;114;48;2;13;17;23m:\u001b[0m\u001b[38;2;230;237;243;48;2;13;17;23mendl\u001b[0m\u001b[38;2;230;237;243;48;2;13;17;23m;\u001b[0m\u001b[48;2;13;17;23m                              \u001b[0m\n",
       "\u001b[1;38;2;208;215;221;48;2;13;17;23m  \u001b[0m\u001b[38;2;78;83;89;48;2;13;17;23m15 \u001b[0m\u001b[48;2;13;17;23m                                                                      \u001b[0m\n",
       "\u001b[1;38;2;208;215;221;48;2;13;17;23m  \u001b[0m\u001b[38;2;78;83;89;48;2;13;17;23m16 \u001b[0m\u001b[38;2;110;118;129;48;2;13;17;23m    \u001b[0m\u001b[3;38;2;139;148;158;48;2;13;17;23m// Sort\u001b[0m\u001b[48;2;13;17;23m                                                           \u001b[0m\n",
       "\u001b[1;38;2;208;215;221;48;2;13;17;23m  \u001b[0m\u001b[38;2;78;83;89;48;2;13;17;23m17 \u001b[0m\u001b[38;2;110;118;129;48;2;13;17;23m    \u001b[0m\u001b[38;2;230;237;243;48;2;13;17;23mstd\u001b[0m\u001b[1;38;2;255;123;114;48;2;13;17;23m:\u001b[0m\u001b[1;38;2;255;123;114;48;2;13;17;23m:\u001b[0m\u001b[38;2;230;237;243;48;2;13;17;23msort\u001b[0m\u001b[38;2;230;237;243;48;2;13;17;23m(\u001b[0m\u001b[38;2;230;237;243;48;2;13;17;23mvec\u001b[0m\u001b[38;2;230;237;243;48;2;13;17;23m.\u001b[0m\u001b[38;2;230;237;243;48;2;13;17;23mbegin\u001b[0m\u001b[38;2;230;237;243;48;2;13;17;23m(\u001b[0m\u001b[38;2;230;237;243;48;2;13;17;23m)\u001b[0m\u001b[38;2;230;237;243;48;2;13;17;23m,\u001b[0m\u001b[38;2;110;118;129;48;2;13;17;23m \u001b[0m\u001b[38;2;230;237;243;48;2;13;17;23mvec\u001b[0m\u001b[38;2;230;237;243;48;2;13;17;23m.\u001b[0m\u001b[38;2;230;237;243;48;2;13;17;23mend\u001b[0m\u001b[38;2;230;237;243;48;2;13;17;23m(\u001b[0m\u001b[38;2;230;237;243;48;2;13;17;23m)\u001b[0m\u001b[38;2;230;237;243;48;2;13;17;23m)\u001b[0m\u001b[38;2;230;237;243;48;2;13;17;23m;\u001b[0m\u001b[48;2;13;17;23m                                \u001b[0m\n",
       "\u001b[1;38;2;208;215;221;48;2;13;17;23m  \u001b[0m\u001b[38;2;78;83;89;48;2;13;17;23m18 \u001b[0m\u001b[48;2;13;17;23m                                                                      \u001b[0m\n",
       "\u001b[1;38;2;208;215;221;48;2;13;17;23m  \u001b[0m\u001b[38;2;78;83;89;48;2;13;17;23m19 \u001b[0m\u001b[38;2;110;118;129;48;2;13;17;23m    \u001b[0m\u001b[3;38;2;139;148;158;48;2;13;17;23m// Print the sorted vector\u001b[0m\u001b[48;2;13;17;23m                                        \u001b[0m\n",
       "\u001b[1;38;2;208;215;221;48;2;13;17;23m  \u001b[0m\u001b[38;2;78;83;89;48;2;13;17;23m20 \u001b[0m\u001b[38;2;110;118;129;48;2;13;17;23m    \u001b[0m\u001b[38;2;230;237;243;48;2;13;17;23mstd\u001b[0m\u001b[1;38;2;255;123;114;48;2;13;17;23m:\u001b[0m\u001b[1;38;2;255;123;114;48;2;13;17;23m:\u001b[0m\u001b[38;2;230;237;243;48;2;13;17;23mcout\u001b[0m\u001b[38;2;110;118;129;48;2;13;17;23m \u001b[0m\u001b[1;38;2;255;123;114;48;2;13;17;23m<\u001b[0m\u001b[1;38;2;255;123;114;48;2;13;17;23m<\u001b[0m\u001b[38;2;110;118;129;48;2;13;17;23m \u001b[0m\u001b[38;2;165;214;255;48;2;13;17;23m\"\u001b[0m\u001b[38;2;165;214;255;48;2;13;17;23mSorted vector:\u001b[0m\u001b[38;2;165;214;255;48;2;13;17;23m\"\u001b[0m\u001b[38;2;230;237;243;48;2;13;17;23m;\u001b[0m\u001b[48;2;13;17;23m                                    \u001b[0m\n",
       "\u001b[1;38;2;208;215;221;48;2;13;17;23m  \u001b[0m\u001b[38;2;78;83;89;48;2;13;17;23m21 \u001b[0m\u001b[38;2;110;118;129;48;2;13;17;23m    \u001b[0m\u001b[38;2;255;123;114;48;2;13;17;23mfor\u001b[0m\u001b[38;2;110;118;129;48;2;13;17;23m \u001b[0m\u001b[38;2;230;237;243;48;2;13;17;23m(\u001b[0m\u001b[38;2;255;123;114;48;2;13;17;23mauto\u001b[0m\u001b[38;2;110;118;129;48;2;13;17;23m \u001b[0m\u001b[38;2;230;237;243;48;2;13;17;23mi\u001b[0m\u001b[38;2;110;118;129;48;2;13;17;23m \u001b[0m\u001b[1;38;2;255;123;114;48;2;13;17;23m=\u001b[0m\u001b[38;2;110;118;129;48;2;13;17;23m \u001b[0m\u001b[38;2;230;237;243;48;2;13;17;23mvec\u001b[0m\u001b[38;2;230;237;243;48;2;13;17;23m.\u001b[0m\u001b[38;2;230;237;243;48;2;13;17;23mbegin\u001b[0m\u001b[38;2;230;237;243;48;2;13;17;23m(\u001b[0m\u001b[38;2;230;237;243;48;2;13;17;23m)\u001b[0m\u001b[38;2;230;237;243;48;2;13;17;23m;\u001b[0m\u001b[38;2;110;118;129;48;2;13;17;23m \u001b[0m\u001b[38;2;230;237;243;48;2;13;17;23mi\u001b[0m\u001b[38;2;110;118;129;48;2;13;17;23m \u001b[0m\u001b[1;38;2;255;123;114;48;2;13;17;23m<\u001b[0m\u001b[38;2;110;118;129;48;2;13;17;23m \u001b[0m\u001b[38;2;230;237;243;48;2;13;17;23mvec\u001b[0m\u001b[38;2;230;237;243;48;2;13;17;23m.\u001b[0m\u001b[38;2;230;237;243;48;2;13;17;23mend\u001b[0m\u001b[38;2;230;237;243;48;2;13;17;23m(\u001b[0m\u001b[38;2;230;237;243;48;2;13;17;23m)\u001b[0m\u001b[38;2;230;237;243;48;2;13;17;23m;\u001b[0m\u001b[38;2;110;118;129;48;2;13;17;23m \u001b[0m\u001b[1;38;2;255;123;114;48;2;13;17;23m+\u001b[0m\u001b[1;38;2;255;123;114;48;2;13;17;23m+\u001b[0m\u001b[38;2;230;237;243;48;2;13;17;23mi\u001b[0m\u001b[38;2;230;237;243;48;2;13;17;23m)\u001b[0m\u001b[38;2;110;118;129;48;2;13;17;23m \u001b[0m\u001b[38;2;230;237;243;48;2;13;17;23m{\u001b[0m\u001b[48;2;13;17;23m                  \u001b[0m\n",
       "\u001b[1;38;2;208;215;221;48;2;13;17;23m  \u001b[0m\u001b[38;2;78;83;89;48;2;13;17;23m22 \u001b[0m\u001b[38;2;110;118;129;48;2;13;17;23m        \u001b[0m\u001b[38;2;230;237;243;48;2;13;17;23mstd\u001b[0m\u001b[1;38;2;255;123;114;48;2;13;17;23m:\u001b[0m\u001b[1;38;2;255;123;114;48;2;13;17;23m:\u001b[0m\u001b[38;2;230;237;243;48;2;13;17;23mcout\u001b[0m\u001b[38;2;110;118;129;48;2;13;17;23m \u001b[0m\u001b[1;38;2;255;123;114;48;2;13;17;23m<\u001b[0m\u001b[1;38;2;255;123;114;48;2;13;17;23m<\u001b[0m\u001b[38;2;110;118;129;48;2;13;17;23m \u001b[0m\u001b[38;2;165;214;255;48;2;13;17;23m\"\u001b[0m\u001b[38;2;165;214;255;48;2;13;17;23m \u001b[0m\u001b[38;2;165;214;255;48;2;13;17;23m\"\u001b[0m\u001b[38;2;110;118;129;48;2;13;17;23m \u001b[0m\u001b[1;38;2;255;123;114;48;2;13;17;23m<\u001b[0m\u001b[1;38;2;255;123;114;48;2;13;17;23m<\u001b[0m\u001b[38;2;110;118;129;48;2;13;17;23m \u001b[0m\u001b[1;38;2;255;123;114;48;2;13;17;23m*\u001b[0m\u001b[38;2;230;237;243;48;2;13;17;23mi\u001b[0m\u001b[38;2;230;237;243;48;2;13;17;23m;\u001b[0m\u001b[48;2;13;17;23m                                       \u001b[0m\n",
       "\u001b[1;38;2;208;215;221;48;2;13;17;23m  \u001b[0m\u001b[38;2;78;83;89;48;2;13;17;23m23 \u001b[0m\u001b[38;2;110;118;129;48;2;13;17;23m    \u001b[0m\u001b[38;2;230;237;243;48;2;13;17;23m}\u001b[0m\u001b[48;2;13;17;23m                                                                 \u001b[0m\n",
       "\u001b[1;38;2;208;215;221;48;2;13;17;23m  \u001b[0m\u001b[38;2;78;83;89;48;2;13;17;23m24 \u001b[0m\u001b[48;2;13;17;23m                                                                      \u001b[0m\n",
       "\u001b[1;38;2;208;215;221;48;2;13;17;23m  \u001b[0m\u001b[38;2;78;83;89;48;2;13;17;23m25 \u001b[0m\u001b[38;2;110;118;129;48;2;13;17;23m    \u001b[0m\u001b[38;2;255;123;114;48;2;13;17;23mreturn\u001b[0m\u001b[38;2;110;118;129;48;2;13;17;23m \u001b[0m\u001b[38;2;165;214;255;48;2;13;17;23m0\u001b[0m\u001b[38;2;230;237;243;48;2;13;17;23m;\u001b[0m\u001b[48;2;13;17;23m                                                         \u001b[0m\n",
       "\u001b[1;38;2;208;215;221;48;2;13;17;23m  \u001b[0m\u001b[38;2;78;83;89;48;2;13;17;23m26 \u001b[0m\u001b[38;2;230;237;243;48;2;13;17;23m}\u001b[0m\u001b[48;2;13;17;23m                                                                     \u001b[0m\n"
      ]
     },
     "metadata": {},
     "output_type": "display_data"
    }
   ],
   "source": [
    "from rich.syntax import Syntax\n",
    "from rich.console import Console\n",
    "\n",
    "# Create code\n",
    "code = \"\"\"#include <iostream>\n",
    "#include <vector>\n",
    "#include <algorithm>\n",
    "\n",
    "int main() {\n",
    "\t// Initialise the vector\n",
    "\tstd::vector<int> vec{3, 4, 2, 5, 1};\n",
    "\n",
    "    // Print the original vector\n",
    "\tstd::cout << \"Original vector:\";\n",
    "\tfor (auto i = vec.begin(); i < vec.end(); ++i) {\n",
    "\t\tstd::cout << \" \" << *i;\n",
    "\t}\n",
    "\tstd::cout << std::endl << std::endl;\n",
    "\n",
    "    // Sort\n",
    "\tstd::sort(vec.begin(), vec.end());\n",
    "\n",
    "    // Print the sorted vector\n",
    "\tstd::cout << \"Sorted vector:\";\n",
    "\tfor (auto i = vec.begin(); i < vec.end(); ++i) {\n",
    "\t\tstd::cout << \" \" << *i;\n",
    "\t}\n",
    "\n",
    "\treturn 0;\n",
    "}\"\"\"\n",
    "\n",
    "# Create syntax\n",
    "syntax = Syntax(code, \"c++\", line_numbers=True, theme=\"github-dark\")\n",
    "\n",
    "# Create console\n",
    "# console = Console()\n",
    "console = Console(record=True, width=75)\n",
    "\n",
    "# Print highlighted code\n",
    "console.print(syntax)\n",
    "\n",
    "# Save highlighted code\n",
    "console.save_svg(\"images/syntax_cpp.svg\", title=\"Syntax Highlighting -- C++\")"
   ]
  },
  {
   "cell_type": "markdown",
   "metadata": {},
   "source": [
    "## Available styles"
   ]
  },
  {
   "cell_type": "code",
   "execution_count": 119,
   "metadata": {},
   "outputs": [
    {
     "data": {
      "text/html": [
       "<pre style=\"white-space:pre;overflow-x:auto;line-height:normal;font-family:Menlo,'DejaVu Sans Mono',consolas,'Courier New',monospace\">abap, algol_nu, algol, arduino, autumn, borland, bw, colorful, default, dracula, emacs, friendly_grayscale, \n",
       "friendly, fruity, github-dark, gruvbox-dark, gruvbox-light, igor, inkpot, lightbulb, lilypond, lovelace, manni, \n",
       "material, monokai, murphy, native, nord-darker, nord, one-dark, paraiso-dark, paraiso-light, pastie, perldoc, \n",
       "rainbow_dash, rrt, sas, solarized-dark, solarized-light, staroffice, stata-dark, stata-light, stata, tango, trac, \n",
       "vim, vs, xcode, zenburn\n",
       "</pre>\n"
      ],
      "text/plain": [
       "abap, algol_nu, algol, arduino, autumn, borland, bw, colorful, default, dracula, emacs, friendly_grayscale, \n",
       "friendly, fruity, github-dark, gruvbox-dark, gruvbox-light, igor, inkpot, lightbulb, lilypond, lovelace, manni, \n",
       "material, monokai, murphy, native, nord-darker, nord, one-dark, paraiso-dark, paraiso-light, pastie, perldoc, \n",
       "rainbow_dash, rrt, sas, solarized-dark, solarized-light, staroffice, stata-dark, stata-light, stata, tango, trac, \n",
       "vim, vs, xcode, zenburn\n"
      ]
     },
     "metadata": {},
     "output_type": "display_data"
    }
   ],
   "source": [
    "from pygments.styles import get_all_styles\n",
    "\n",
    "# All available styles\n",
    "print(*get_all_styles(), sep=\", \")"
   ]
  },
  {
   "cell_type": "markdown",
   "metadata": {},
   "source": [
    "# Tables"
   ]
  },
  {
   "cell_type": "code",
   "execution_count": 31,
   "metadata": {},
   "outputs": [
    {
     "data": {
      "text/html": [
       "<pre style=\"white-space:pre;overflow-x:auto;line-height:normal;font-family:Menlo,'DejaVu Sans Mono',consolas,'Courier New',monospace\">┏━━━━┳━━━━━━━━━┳━━━━━┓\n",
       "┃<span style=\"color: #008000; text-decoration-color: #008000; font-weight: bold\"> ID </span>┃<span style=\"color: #008000; text-decoration-color: #008000; font-weight: bold\"> Name    </span>┃<span style=\"color: #008000; text-decoration-color: #008000; font-weight: bold\"> Age </span>┃\n",
       "┡━━━━╇━━━━━━━━━╇━━━━━┩\n",
       "│ 1  │ Alice   │ 9   │\n",
       "│ 2  │ Bob     │ 32  │\n",
       "│ 3  │ Charlie │ 24  │\n",
       "└────┴─────────┴─────┘\n",
       "</pre>\n"
      ],
      "text/plain": [
       "┏━━━━┳━━━━━━━━━┳━━━━━┓\n",
       "┃\u001b[1;32m \u001b[0m\u001b[1;32mID\u001b[0m\u001b[1;32m \u001b[0m┃\u001b[1;32m \u001b[0m\u001b[1;32mName   \u001b[0m\u001b[1;32m \u001b[0m┃\u001b[1;32m \u001b[0m\u001b[1;32mAge\u001b[0m\u001b[1;32m \u001b[0m┃\n",
       "┡━━━━╇━━━━━━━━━╇━━━━━┩\n",
       "│ 1  │ Alice   │ 9   │\n",
       "│ 2  │ Bob     │ 32  │\n",
       "│ 3  │ Charlie │ 24  │\n",
       "└────┴─────────┴─────┘\n"
      ]
     },
     "metadata": {},
     "output_type": "display_data"
    }
   ],
   "source": [
    "from rich.console import Console\n",
    "from rich.table import Table\n",
    "\n",
    "# Create table\n",
    "table = Table(show_header=True, header_style=\"bold green\")\n",
    "\n",
    "# Add columns\n",
    "table.add_column(\"ID\")\n",
    "table.add_column(\"Name\")\n",
    "table.add_column(\"Age\")\n",
    "\n",
    "# Add rows\n",
    "table.add_row(\"1\", \"Alice\", \"9\")\n",
    "table.add_row(\"2\", \"Bob\", \"32\")\n",
    "table.add_row(\"3\", \"Charlie\", \"24\")\n",
    "\n",
    "# Create console\n",
    "# console = Console()\n",
    "console = Console(record=True, width=22)\n",
    "\n",
    "# Print table\n",
    "console.print(table)\n",
    "\n",
    "# Save table\n",
    "console.save_svg(\"images/table.svg\", title=\"Table\")"
   ]
  },
  {
   "cell_type": "code",
   "execution_count": 35,
   "metadata": {},
   "outputs": [
    {
     "data": {
      "text/html": [
       "<pre style=\"white-space:pre;overflow-x:auto;line-height:normal;font-family:Menlo,'DejaVu Sans Mono',consolas,'Courier New',monospace\">┏━━━━━━━┳━━━━━━━━━┳━━━━━┓\n",
       "┃<span style=\"color: #008000; text-decoration-color: #008000; font-weight: bold\">  ID   </span>┃<span style=\"color: #008000; text-decoration-color: #008000; font-weight: bold\"> Name    </span>┃<span style=\"color: #008000; text-decoration-color: #008000; font-weight: bold\"> Age </span>┃\n",
       "┡━━━━━━━╇━━━━━━━━━╇━━━━━┩\n",
       "│<span style=\"color: #7f7f7f; text-decoration-color: #7f7f7f\">   1   </span>│<span style=\"color: #808000; text-decoration-color: #808000; font-style: italic\"> Alice   </span>│<span style=\"color: #008080; text-decoration-color: #008080; font-weight: bold\">   9 </span>│\n",
       "│<span style=\"color: #7f7f7f; text-decoration-color: #7f7f7f\">   2   </span>│<span style=\"color: #808000; text-decoration-color: #808000; font-style: italic\"> Bob     </span>│<span style=\"color: #008080; text-decoration-color: #008080; font-weight: bold\">  32 </span>│\n",
       "│<span style=\"color: #7f7f7f; text-decoration-color: #7f7f7f\">   3   </span>│<span style=\"color: #808000; text-decoration-color: #808000; font-style: italic\"> Charlie </span>│<span style=\"color: #008080; text-decoration-color: #008080; font-weight: bold\">  24 </span>│\n",
       "└───────┴─────────┴─────┘\n",
       "</pre>\n"
      ],
      "text/plain": [
       "┏━━━━━━━┳━━━━━━━━━┳━━━━━┓\n",
       "┃\u001b[1;32m \u001b[0m\u001b[1;32m ID  \u001b[0m\u001b[1;32m \u001b[0m┃\u001b[1;32m \u001b[0m\u001b[1;32mName   \u001b[0m\u001b[1;32m \u001b[0m┃\u001b[1;32m \u001b[0m\u001b[1;32mAge\u001b[0m\u001b[1;32m \u001b[0m┃\n",
       "┡━━━━━━━╇━━━━━━━━━╇━━━━━┩\n",
       "│\u001b[2m \u001b[0m\u001b[2m  1  \u001b[0m\u001b[2m \u001b[0m│\u001b[3;33m \u001b[0m\u001b[3;33mAlice  \u001b[0m\u001b[3;33m \u001b[0m│\u001b[1;36m \u001b[0m\u001b[1;36m  9\u001b[0m\u001b[1;36m \u001b[0m│\n",
       "│\u001b[2m \u001b[0m\u001b[2m  2  \u001b[0m\u001b[2m \u001b[0m│\u001b[3;33m \u001b[0m\u001b[3;33mBob    \u001b[0m\u001b[3;33m \u001b[0m│\u001b[1;36m \u001b[0m\u001b[1;36m 32\u001b[0m\u001b[1;36m \u001b[0m│\n",
       "│\u001b[2m \u001b[0m\u001b[2m  3  \u001b[0m\u001b[2m \u001b[0m│\u001b[3;33m \u001b[0m\u001b[3;33mCharlie\u001b[0m\u001b[3;33m \u001b[0m│\u001b[1;36m \u001b[0m\u001b[1;36m 24\u001b[0m\u001b[1;36m \u001b[0m│\n",
       "└───────┴─────────┴─────┘\n"
      ]
     },
     "metadata": {},
     "output_type": "display_data"
    }
   ],
   "source": [
    "from rich.console import Console\n",
    "from rich.table import Table\n",
    "\n",
    "# Create table\n",
    "table = Table(show_header=True, header_style=\"bold green\")\n",
    "\n",
    "# Add columns\n",
    "table.add_column(\"ID\", style=\"dim\", width=5, justify=\"center\")\n",
    "table.add_column(\"Name\", style=\"italic yellow\")\n",
    "table.add_column(\"Age\", style=\"bold cyan\", justify=\"right\")\n",
    "\n",
    "# Add rows\n",
    "table.add_row(\"1\", \"Alice\", \"9\")\n",
    "table.add_row(\"2\", \"Bob\", \"32\")\n",
    "table.add_row(\"3\", \"Charlie\", \"24\")\n",
    "\n",
    "# Create console\n",
    "# console = Console()\n",
    "console = Console(record=True, width=25)\n",
    "\n",
    "# Print table\n",
    "console.print(table)\n",
    "\n",
    "# Save table\n",
    "console.save_svg(\"images/table_justified.svg\", title=\"Table -- Justified\")"
   ]
  },
  {
   "cell_type": "code",
   "execution_count": 38,
   "metadata": {},
   "outputs": [
    {
     "data": {
      "text/html": [
       "<pre style=\"white-space:pre;overflow-x:auto;line-height:normal;font-family:Menlo,'DejaVu Sans Mono',consolas,'Courier New',monospace\">┏━━━━━━━┳━━━━━━━━━┳━━━━━┓\n",
       "┃<span style=\"color: #008000; text-decoration-color: #008000; font-weight: bold\">  ID   </span>┃<span style=\"color: #008000; text-decoration-color: #008000; font-weight: bold\"> Name    </span>┃<span style=\"color: #008000; text-decoration-color: #008000; font-weight: bold\"> Age </span>┃\n",
       "┡━━━━━━━╇━━━━━━━━━╇━━━━━┩\n",
       "│<span style=\"color: #d77fff; text-decoration-color: #d77fff\">   1   </span>│<span style=\"color: #af00ff; text-decoration-color: #af00ff; font-style: italic\"> Alice   </span>│<span style=\"color: #af00ff; text-decoration-color: #af00ff; font-weight: bold\">   9 </span>│\n",
       "│<span style=\"color: #7fffff; text-decoration-color: #7fffff\">   2   </span>│<span style=\"color: #00ffff; text-decoration-color: #00ffff; font-style: italic\"> Bob     </span>│<span style=\"color: #00ffff; text-decoration-color: #00ffff; font-weight: bold\">  32 </span>│\n",
       "│<span style=\"color: #bfbf7f; text-decoration-color: #bfbf7f\">   3   </span>│<span style=\"color: #808000; text-decoration-color: #808000; font-style: italic\"> Charlie </span>│<span style=\"color: #808000; text-decoration-color: #808000; font-weight: bold\">  24 </span>│\n",
       "└───────┴─────────┴─────┘\n",
       "</pre>\n"
      ],
      "text/plain": [
       "┏━━━━━━━┳━━━━━━━━━┳━━━━━┓\n",
       "┃\u001b[1;32m \u001b[0m\u001b[1;32m ID  \u001b[0m\u001b[1;32m \u001b[0m┃\u001b[1;32m \u001b[0m\u001b[1;32mName   \u001b[0m\u001b[1;32m \u001b[0m┃\u001b[1;32m \u001b[0m\u001b[1;32mAge\u001b[0m\u001b[1;32m \u001b[0m┃\n",
       "┡━━━━━━━╇━━━━━━━━━╇━━━━━┩\n",
       "│\u001b[2;38;2;175;0;255m \u001b[0m\u001b[2;38;2;175;0;255m  1  \u001b[0m\u001b[2;38;2;175;0;255m \u001b[0m│\u001b[3;38;2;175;0;255m \u001b[0m\u001b[3;38;2;175;0;255mAlice  \u001b[0m\u001b[3;38;2;175;0;255m \u001b[0m│\u001b[1;38;2;175;0;255m \u001b[0m\u001b[1;38;2;175;0;255m  9\u001b[0m\u001b[1;38;2;175;0;255m \u001b[0m│\n",
       "│\u001b[2;38;2;0;255;255m \u001b[0m\u001b[2;38;2;0;255;255m  2  \u001b[0m\u001b[2;38;2;0;255;255m \u001b[0m│\u001b[3;38;2;0;255;255m \u001b[0m\u001b[3;38;2;0;255;255mBob    \u001b[0m\u001b[3;38;2;0;255;255m \u001b[0m│\u001b[1;38;2;0;255;255m \u001b[0m\u001b[1;38;2;0;255;255m 32\u001b[0m\u001b[1;38;2;0;255;255m \u001b[0m│\n",
       "│\u001b[2;33m \u001b[0m\u001b[2;33m  3  \u001b[0m\u001b[2;33m \u001b[0m│\u001b[3;33m \u001b[0m\u001b[3;33mCharlie\u001b[0m\u001b[3;33m \u001b[0m│\u001b[1;33m \u001b[0m\u001b[1;33m 24\u001b[0m\u001b[1;33m \u001b[0m│\n",
       "└───────┴─────────┴─────┘\n"
      ]
     },
     "metadata": {},
     "output_type": "display_data"
    }
   ],
   "source": [
    "from rich.console import Console\n",
    "from rich.table import Table\n",
    "\n",
    "# Create table\n",
    "table = Table(show_header=True, header_style=\"bold green\")\n",
    "\n",
    "# Add columns\n",
    "table.add_column(\"ID\", style=\"dim\", width=5, justify=\"center\")\n",
    "table.add_column(\"Name\", style=\"italic\")\n",
    "table.add_column(\"Age\", style=\"bold\", justify=\"right\")\n",
    "\n",
    "# Add rows\n",
    "table.add_row(\"1\", \"Alice\", \"9\", style=\"#af00ff\")\n",
    "table.add_row(\"2\", \"Bob\", \"32\", style=\"rgb(0,255,255)\")\n",
    "table.add_row(\"3\", \"Charlie\", \"24\", style=\"yellow\")\n",
    "\n",
    "# Create console\n",
    "# console = Console()\n",
    "console = Console(record=True, width=28)\n",
    "\n",
    "# Print table\n",
    "console.print(table)\n",
    "\n",
    "# Save table\n",
    "console.save_svg(\"images/table_colored_rows.svg\", title=\"Table -- Colored Rows\")"
   ]
  },
  {
   "cell_type": "code",
   "execution_count": 94,
   "metadata": {},
   "outputs": [
    {
     "data": {
      "text/html": [
       "<pre style=\"white-space:pre;overflow-x:auto;line-height:normal;font-family:Menlo,'DejaVu Sans Mono',consolas,'Courier New',monospace\"><span style=\"font-style: italic\">Employee Information                                </span>\n",
       "┏━━━━━━━━━━━━━┳━━━━━┳━━━━━━━━━━━━━━━━━━━┳━━━━━━━━━━┓\n",
       "┃<span style=\"font-weight: bold\">    Name     </span>┃<span style=\"font-weight: bold\"> Age </span>┃<span style=\"font-weight: bold\">    Occupation     </span>┃<span style=\"font-weight: bold\">  Salary  </span>┃\n",
       "┡━━━━━━━━━━━━━╇━━━━━╇━━━━━━━━━━━━━━━━━━━╇━━━━━━━━━━┩\n",
       "│<span style=\"color: #008000; text-decoration-color: #008000\">  </span><span style=\"color: #008000; text-decoration-color: #008000; font-style: italic\">John Doe</span><span style=\"color: #008000; text-decoration-color: #008000\">   </span>│<span style=\"color: #808000; text-decoration-color: #808000\"> 30  </span>│<span style=\"color: #800080; text-decoration-color: #800080\">  Data Scientist   </span>│<span style=\"color: #008080; text-decoration-color: #008080\"> $100,000 </span>│\n",
       "│<span style=\"color: #008000; text-decoration-color: #008000\"> Jane </span><span style=\"color: #800000; text-decoration-color: #800000\">Smith</span><span style=\"color: #008000; text-decoration-color: #008000\">  </span>│<span style=\"color: #808000; text-decoration-color: #808000\"> 25  </span>│<span style=\"color: #800080; text-decoration-color: #800080\">  Project Manager  </span>│<span style=\"color: #008080; text-decoration-color: #008080\"> $120,000 </span>│\n",
       "│<span style=\"color: #008000; text-decoration-color: #008000\"> Bob Johnson </span>│<span style=\"color: #808000; text-decoration-color: #808000\"> 40  </span>│<span style=\"color: #800080; text-decoration-color: #800080\"> Software Engineer </span>│<span style=\"color: #008080; text-decoration-color: #008080\"> $80,000  </span>│\n",
       "└─────────────┴─────┴───────────────────┴──────────┘\n",
       "</pre>\n"
      ],
      "text/plain": [
       "\u001b[3mEmployee Information                                \u001b[0m\n",
       "┏━━━━━━━━━━━━━┳━━━━━┳━━━━━━━━━━━━━━━━━━━┳━━━━━━━━━━┓\n",
       "┃\u001b[1m \u001b[0m\u001b[1m   Name    \u001b[0m\u001b[1m \u001b[0m┃\u001b[1m \u001b[0m\u001b[1mAge\u001b[0m\u001b[1m \u001b[0m┃\u001b[1m \u001b[0m\u001b[1m   Occupation    \u001b[0m\u001b[1m \u001b[0m┃\u001b[1m \u001b[0m\u001b[1m Salary \u001b[0m\u001b[1m \u001b[0m┃\n",
       "┡━━━━━━━━━━━━━╇━━━━━╇━━━━━━━━━━━━━━━━━━━╇━━━━━━━━━━┩\n",
       "│\u001b[32m \u001b[0m\u001b[32m \u001b[0m\u001b[3;32mJohn Doe\u001b[0m\u001b[32m  \u001b[0m\u001b[32m \u001b[0m│\u001b[33m \u001b[0m\u001b[33m30 \u001b[0m\u001b[33m \u001b[0m│\u001b[35m \u001b[0m\u001b[35m Data Scientist  \u001b[0m\u001b[35m \u001b[0m│\u001b[36m \u001b[0m\u001b[36m$100,000\u001b[0m\u001b[36m \u001b[0m│\n",
       "│\u001b[32m \u001b[0m\u001b[32mJane \u001b[0m\u001b[31mSmith\u001b[0m\u001b[32m \u001b[0m\u001b[32m \u001b[0m│\u001b[33m \u001b[0m\u001b[33m25 \u001b[0m\u001b[33m \u001b[0m│\u001b[35m \u001b[0m\u001b[35m Project Manager \u001b[0m\u001b[35m \u001b[0m│\u001b[36m \u001b[0m\u001b[36m$120,000\u001b[0m\u001b[36m \u001b[0m│\n",
       "│\u001b[32m \u001b[0m\u001b[32mBob Johnson\u001b[0m\u001b[32m \u001b[0m│\u001b[33m \u001b[0m\u001b[33m40 \u001b[0m\u001b[33m \u001b[0m│\u001b[35m \u001b[0m\u001b[35mSoftware Engineer\u001b[0m\u001b[35m \u001b[0m│\u001b[36m \u001b[0m\u001b[36m$80,000 \u001b[0m\u001b[36m \u001b[0m│\n",
       "└─────────────┴─────┴───────────────────┴──────────┘\n"
      ]
     },
     "metadata": {},
     "output_type": "display_data"
    }
   ],
   "source": [
    "from rich.table import Table\n",
    "from rich.console import Console\n",
    "from rich.style import Style\n",
    "from rich.text import Text\n",
    "\n",
    "# Header style\n",
    "table = Table(show_header=True, title=\"Employee Information\", title_justify=\"left\")\n",
    "\n",
    "# Add columns\n",
    "table.add_column(\"Name\", justify=\"center\", style=\"green\")\n",
    "table.add_column(\"Age\", justify=\"center\", style=\"yellow\")\n",
    "table.add_column(\"Occupation\", justify=\"center\", style=\"magenta\")\n",
    "table.add_column(\"Salary\", justify=\"center\", style=\"cyan\")\n",
    "\n",
    "# Add rows\n",
    "table.add_row(\"[italic]John Doe[/italic]\", \"30\", \"Data Scientist\", \"$100,000\")\n",
    "table.add_row(\"Jane [red]Smith[/red]\", \"25\", \"Project Manager\", \"$120,000\")\n",
    "table.add_row(\"Bob Johnson\", \"40\", \"Software Engineer\", \"$80,000\")\n",
    "\n",
    "# Create console\n",
    "console = Console()\n",
    "\n",
    "# Print table\n",
    "console.print(table)"
   ]
  },
  {
   "cell_type": "markdown",
   "metadata": {},
   "source": [
    "# Progress Bars"
   ]
  },
  {
   "cell_type": "code",
   "execution_count": 50,
   "metadata": {},
   "outputs": [
    {
     "name": "stdout",
     "output_type": "stream",
     "text": [
      "\u001b[33mDEPRECATION: textract 1.6.5 has a non-standard dependency specifier extract-msg<=0.29.*. pip 23.3 will enforce this behaviour change. A possible replacement is to upgrade to a newer version of textract or contact the author to suggest that they release a version with a conforming dependency specifiers. Discussion can be found at https://github.com/pypa/pip/issues/12063\u001b[0m\u001b[33m\n",
      "\u001b[0m"
     ]
    }
   ],
   "source": [
    "!pip install -q -U ipywidgets"
   ]
  },
  {
   "cell_type": "code",
   "execution_count": null,
   "metadata": {},
   "outputs": [],
   "source": [
    "import time\n",
    "from rich.progress import track\n",
    "\n",
    "\n",
    "def do_something():\n",
    "    time.sleep(1)\n",
    "\n",
    "\n",
    "for i in track(range(4)):\n",
    "    do_something()"
   ]
  },
  {
   "cell_type": "code",
   "execution_count": null,
   "metadata": {},
   "outputs": [],
   "source": [
    "import time\n",
    "from rich.progress import (\n",
    "    Progress,\n",
    "    SpinnerColumn,\n",
    "    TextColumn,\n",
    "    BarColumn,\n",
    "    TaskProgressColumn,\n",
    "    TimeRemainingColumn,\n",
    "    TimeElapsedColumn,\n",
    ")\n",
    "\n",
    "with Progress(\n",
    "    SpinnerColumn(finished_text=\"🐍\"),\n",
    "    TextColumn(\"[progress.description]{task.description}\"),\n",
    "    BarColumn(bar_width=40),\n",
    "    TaskProgressColumn(),\n",
    "    TimeRemainingColumn(),\n",
    "    TimeElapsedColumn(),\n",
    ") as progress:\n",
    "    task1 = progress.add_task(\"[red]Downloading\", total=6)\n",
    "    task2 = progress.add_task(\"[green]Processing\", total=6)\n",
    "    task3 = progress.add_task(\"[cyan]Cooking\", total=6)\n",
    "\n",
    "    while not progress.finished:\n",
    "        progress.update(task1, advance=1.5)\n",
    "        progress.update(task2, advance=1)\n",
    "        progress.update(task3, advance=1.5)\n",
    "        time.sleep(1)"
   ]
  },
  {
   "cell_type": "markdown",
   "metadata": {},
   "source": [
    "# Emoji"
   ]
  },
  {
   "cell_type": "code",
   "execution_count": 98,
   "metadata": {},
   "outputs": [
    {
     "data": {
      "text/html": [
       "<pre style=\"white-space:pre;overflow-x:auto;line-height:normal;font-family:Menlo,'DejaVu Sans Mono',consolas,'Courier New',monospace\">😃 Hello, world! 👍✨\n",
       "</pre>\n"
      ],
      "text/plain": [
       "😃 Hello, world! 👍✨\n"
      ]
     },
     "metadata": {},
     "output_type": "display_data"
    }
   ],
   "source": [
    "import rich\n",
    "\n",
    "rich.print(\":smiley: Hello, world! :thumbs_up::sparkles:\")"
   ]
  },
  {
   "cell_type": "code",
   "execution_count": 145,
   "metadata": {},
   "outputs": [
    {
     "data": {
      "text/html": [
       "<pre style=\"white-space:pre;overflow-x:auto;line-height:normal;font-family:Menlo,'DejaVu Sans Mono',consolas,'Courier New',monospace\">⚠ Warning: Unauthorized access detected!\n",
       "</pre>\n"
      ],
      "text/plain": [
       "⚠ Warning: Unauthorized access detected!\n"
      ]
     },
     "metadata": {},
     "output_type": "display_data"
    }
   ],
   "source": [
    "import rich\n",
    "\n",
    "warning_message = \":warning: Warning: Unauthorized access detected!\"\n",
    "rich.print(warning_message)"
   ]
  },
  {
   "cell_type": "code",
   "execution_count": 29,
   "metadata": {},
   "outputs": [
    {
     "name": "stdout",
     "output_type": "stream",
     "text": [
      "1st_place_medal: 🥇\n",
      "2nd_place_medal: 🥈\n",
      "3rd_place_medal: 🥉\n",
      "ab_button_(blood_type): 🆎\n",
      "atm_sign: 🏧\n",
      "a_button_(blood_type): 🅰\n",
      "afghanistan: 🇦🇫\n",
      "albania: 🇦🇱\n",
      "algeria: 🇩🇿\n",
      "american_samoa: 🇦🇸\n"
     ]
    }
   ],
   "source": [
    "from rich.emoji import EMOJI\n",
    "\n",
    "# Uncomment to print all available emojis\n",
    "# for name, emoji in EMOJI.items():\n",
    "#     print(f\"{name}: {emoji}\")\n",
    "\n",
    "# Print the first N emojis\n",
    "N = 10\n",
    "for name, emoji in list(EMOJI.items())[:N]:\n",
    "    print(f\"{name}: {emoji}\")"
   ]
  },
  {
   "cell_type": "markdown",
   "metadata": {},
   "source": [
    "# Tree"
   ]
  },
  {
   "cell_type": "code",
   "execution_count": 11,
   "metadata": {},
   "outputs": [
    {
     "data": {
      "text/html": [
       "<pre style=\"white-space:pre;overflow-x:auto;line-height:normal;font-family:Menlo,'DejaVu Sans Mono',consolas,'Courier New',monospace\">Root\n",
       "├── child1 🧒\n",
       "├── child2 🧒🏿\n",
       "├── child3 🧒🏼\n",
       "│   ├── grand_child1 👶🏻\n",
       "│   └── grand_child2 👶\n",
       "└── child4 🧒🏾\n",
       "</pre>\n"
      ],
      "text/plain": [
       "Root\n",
       "├── child1 🧒\n",
       "├── child2 🧒🏿\n",
       "├── child3 🧒🏼\n",
       "│   ├── grand_child1 👶🏻\n",
       "│   └── grand_child2 👶\n",
       "└── child4 🧒🏾\n"
      ]
     },
     "metadata": {},
     "output_type": "display_data"
    }
   ],
   "source": [
    "from rich.console import Console\n",
    "from rich.tree import Tree\n",
    "\n",
    "# Create a tree structure\n",
    "tree = Tree(\"Root\")\n",
    "tree.add(\"child1 :child:\")\n",
    "tree.add(\"child2 :child_dark_skin_tone:\")\n",
    "\n",
    "child3 = tree.add(\"child3 :child_medium-light_skin_tone:\")\n",
    "child3.add(\"grand_child1 :baby_light_skin_tone:\")\n",
    "child3.add(\"grand_child2 :baby:\")\n",
    "\n",
    "tree.add(\"child4 :child_medium-dark_skin_tone:\")\n",
    "\n",
    "# Create console\n",
    "# console = Console()\n",
    "console = Console(record=True, width=25)\n",
    "\n",
    "# Print tree\n",
    "console.print(tree)\n",
    "\n",
    "# Save tree\n",
    "console.save_svg(\"images/tree.svg\", title=\"Tree\")"
   ]
  },
  {
   "cell_type": "code",
   "execution_count": 14,
   "metadata": {},
   "outputs": [
    {
     "data": {
      "text/html": [
       "<pre style=\"white-space:pre;overflow-x:auto;line-height:normal;font-family:Menlo,'DejaVu Sans Mono',consolas,'Courier New',monospace\">📁 Project Root\n",
       "<span style=\"color: #808000; text-decoration-color: #808000\">┣━━ </span><span style=\"color: #808000; text-decoration-color: #808000\">📁 src</span>\n",
       "<span style=\"color: #808000; text-decoration-color: #808000\">┃   </span><span style=\"color: #008000; text-decoration-color: #008000\">┣━━ </span><span style=\"color: #008000; text-decoration-color: #008000\">📄 main.py</span>\n",
       "<span style=\"color: #808000; text-decoration-color: #808000\">┃   </span><span style=\"color: #008000; text-decoration-color: #008000\">┗━━ </span><span style=\"color: #008000; text-decoration-color: #008000\">📄 utils.py</span>\n",
       "<span style=\"color: #808000; text-decoration-color: #808000\">┗━━ </span><span style=\"color: #808000; text-decoration-color: #808000\">📁 data</span>\n",
       "<span style=\"color: #808000; text-decoration-color: #808000\">    </span><span style=\"color: #008000; text-decoration-color: #008000\">┣━━ </span><span style=\"color: #008000; text-decoration-color: #008000\">📄 input.csv</span>\n",
       "<span style=\"color: #808000; text-decoration-color: #808000\">    </span><span style=\"color: #008000; text-decoration-color: #008000\">┗━━ </span><span style=\"color: #008000; text-decoration-color: #008000\">📄 output.csv</span>\n",
       "</pre>\n"
      ],
      "text/plain": [
       "📁 Project Root\n",
       "\u001b[33m┣━━ \u001b[0m\u001b[33m📁 src\u001b[0m\n",
       "\u001b[33m┃   \u001b[0m\u001b[32m┣━━ \u001b[0m\u001b[32m📄 main.py\u001b[0m\n",
       "\u001b[33m┃   \u001b[0m\u001b[32m┗━━ \u001b[0m\u001b[32m📄 utils.py\u001b[0m\n",
       "\u001b[33m┗━━ \u001b[0m\u001b[33m📁 data\u001b[0m\n",
       "\u001b[33m    \u001b[0m\u001b[32m┣━━ \u001b[0m\u001b[32m📄 input.csv\u001b[0m\n",
       "\u001b[33m    \u001b[0m\u001b[32m┗━━ \u001b[0m\u001b[32m📄 output.csv\u001b[0m\n"
      ]
     },
     "metadata": {},
     "output_type": "display_data"
    }
   ],
   "source": [
    "from rich.console import Console\n",
    "from rich.tree import Tree\n",
    "\n",
    "# Create a tree structure\n",
    "tree = Tree(\":file_folder: Project Root\", guide_style=\"bold yellow\")\n",
    "\n",
    "# src subdirectory\n",
    "src = tree.add(\":file_folder: src\", guide_style=\"bold green\", style=\"yellow\")\n",
    "src.add(\":page_facing_up: main.py\", style=\"green\")\n",
    "src.add(\":page_facing_up: utils.py\", style=\"green\")\n",
    "\n",
    "# data subdirectory\n",
    "data = tree.add(\":file_folder: data\", guide_style=\"bold green\", style=\"yellow\")\n",
    "data.add(\":page_facing_up: input.csv\", style=\"green\")\n",
    "data.add(\":page_facing_up: output.csv\", style=\"green\")\n",
    "\n",
    "# Create console\n",
    "# console = Console()\n",
    "console = Console(record=True, width=30)\n",
    "\n",
    "# Print tree\n",
    "console.print(tree)\n",
    "\n",
    "# Save tree\n",
    "console.save_svg(\"images/tree_colored.svg\", title=\"Tree -- Colored\")"
   ]
  },
  {
   "cell_type": "markdown",
   "metadata": {},
   "source": [
    "# Markdown"
   ]
  },
  {
   "cell_type": "code",
   "execution_count": 20,
   "metadata": {},
   "outputs": [
    {
     "data": {
      "text/html": [
       "<pre style=\"white-space:pre;overflow-x:auto;line-height:normal;font-family:Menlo,'DejaVu Sans Mono',consolas,'Courier New',monospace\">┏━━━━━━━━━━━━━━━━━━━━━━━━━━━━━━━━━━━━━━━━━━━━━━━━━━━━━━━━━━┓\n",
       "┃                   <span style=\"font-weight: bold\">My Markdown Document</span>                   ┃\n",
       "┗━━━━━━━━━━━━━━━━━━━━━━━━━━━━━━━━━━━━━━━━━━━━━━━━━━━━━━━━━━┛\n",
       "\n",
       "This is a <span style=\"font-weight: bold\">Markdown</span> document that will be displayed in the   \n",
       "console output.                                             \n",
       "\n",
       "\n",
       "                         <span style=\"font-weight: bold; text-decoration: underline\">Section 1</span>                          \n",
       "\n",
       "This is the <span style=\"font-style: italic\">first</span> section of the document. It contains a    \n",
       "list:                                                       \n",
       "\n",
       "<span style=\"color: #808000; text-decoration-color: #808000; font-weight: bold\"> • </span>Item 1                                                   \n",
       "<span style=\"color: #808000; text-decoration-color: #808000; font-weight: bold\"> • </span>Item 2                                                   \n",
       "<span style=\"color: #808000; text-decoration-color: #808000; font-weight: bold\"> • </span><a href=\"https://google.com\" target=\"_blank\"><span style=\"color: #000080; text-decoration-color: #000080; text-decoration: underline\">Link to Google.com</span></a>                                       \n",
       "\n",
       "\n",
       "                         <span style=\"font-weight: bold; text-decoration: underline\">Section 2</span>                          \n",
       "\n",
       "This is the second section of the document. It contains a   \n",
       "code block:                                                 \n",
       "\n",
       "<span style=\"background-color: #272822\">                                                            </span>\n",
       "<span style=\"background-color: #272822\"> </span><span style=\"color: #66d9ef; text-decoration-color: #66d9ef; background-color: #272822\">def</span><span style=\"color: #f8f8f2; text-decoration-color: #f8f8f2; background-color: #272822\"> </span><span style=\"color: #a6e22e; text-decoration-color: #a6e22e; background-color: #272822\">greet</span><span style=\"color: #f8f8f2; text-decoration-color: #f8f8f2; background-color: #272822\">(name):</span><span style=\"background-color: #272822\">                                           </span>\n",
       "<span style=\"background-color: #272822\"> </span><span style=\"color: #f8f8f2; text-decoration-color: #f8f8f2; background-color: #272822\">    </span><span style=\"color: #66d9ef; text-decoration-color: #66d9ef; background-color: #272822\">return</span><span style=\"color: #f8f8f2; text-decoration-color: #f8f8f2; background-color: #272822\"> </span><span style=\"color: #e6db74; text-decoration-color: #e6db74; background-color: #272822\">f\"Hello, {</span><span style=\"color: #f8f8f2; text-decoration-color: #f8f8f2; background-color: #272822\">name</span><span style=\"color: #e6db74; text-decoration-color: #e6db74; background-color: #272822\">}!\"</span><span style=\"background-color: #272822\">                               </span>\n",
       "<span style=\"background-color: #272822\">                                                            </span>\n",
       "</pre>\n"
      ],
      "text/plain": [
       "┏━━━━━━━━━━━━━━━━━━━━━━━━━━━━━━━━━━━━━━━━━━━━━━━━━━━━━━━━━━┓\n",
       "┃                   \u001b[1mMy Markdown Document\u001b[0m                   ┃\n",
       "┗━━━━━━━━━━━━━━━━━━━━━━━━━━━━━━━━━━━━━━━━━━━━━━━━━━━━━━━━━━┛\n",
       "\n",
       "This is a \u001b[1mMarkdown\u001b[0m document that will be displayed in the   \n",
       "console output.                                             \n",
       "\n",
       "\n",
       "                         \u001b[1;4mSection 1\u001b[0m                          \n",
       "\n",
       "This is the \u001b[3mfirst\u001b[0m section of the document. It contains a    \n",
       "list:                                                       \n",
       "\n",
       "\u001b[1;33m • \u001b[0mItem 1                                                   \n",
       "\u001b[1;33m • \u001b[0mItem 2                                                   \n",
       "\u001b[1;33m • \u001b[0m\u001b]8;id=614681;https://google.com\u001b\\\u001b[4;34mLink to Google.com\u001b[0m\u001b]8;;\u001b\\                                       \n",
       "\n",
       "\n",
       "                         \u001b[1;4mSection 2\u001b[0m                          \n",
       "\n",
       "This is the second section of the document. It contains a   \n",
       "code block:                                                 \n",
       "\n",
       "\u001b[48;2;39;40;34m                                                            \u001b[0m\n",
       "\u001b[48;2;39;40;34m \u001b[0m\u001b[38;2;102;217;239;48;2;39;40;34mdef\u001b[0m\u001b[38;2;248;248;242;48;2;39;40;34m \u001b[0m\u001b[38;2;166;226;46;48;2;39;40;34mgreet\u001b[0m\u001b[38;2;248;248;242;48;2;39;40;34m(\u001b[0m\u001b[38;2;248;248;242;48;2;39;40;34mname\u001b[0m\u001b[38;2;248;248;242;48;2;39;40;34m)\u001b[0m\u001b[38;2;248;248;242;48;2;39;40;34m:\u001b[0m\u001b[48;2;39;40;34m                                          \u001b[0m\u001b[48;2;39;40;34m \u001b[0m\n",
       "\u001b[48;2;39;40;34m \u001b[0m\u001b[38;2;248;248;242;48;2;39;40;34m    \u001b[0m\u001b[38;2;102;217;239;48;2;39;40;34mreturn\u001b[0m\u001b[38;2;248;248;242;48;2;39;40;34m \u001b[0m\u001b[38;2;230;219;116;48;2;39;40;34mf\u001b[0m\u001b[38;2;230;219;116;48;2;39;40;34m\"\u001b[0m\u001b[38;2;230;219;116;48;2;39;40;34mHello, \u001b[0m\u001b[38;2;230;219;116;48;2;39;40;34m{\u001b[0m\u001b[38;2;248;248;242;48;2;39;40;34mname\u001b[0m\u001b[38;2;230;219;116;48;2;39;40;34m}\u001b[0m\u001b[38;2;230;219;116;48;2;39;40;34m!\u001b[0m\u001b[38;2;230;219;116;48;2;39;40;34m\"\u001b[0m\u001b[48;2;39;40;34m                              \u001b[0m\u001b[48;2;39;40;34m \u001b[0m\n",
       "\u001b[48;2;39;40;34m                                                            \u001b[0m\n"
      ]
     },
     "metadata": {},
     "output_type": "display_data"
    }
   ],
   "source": [
    "from rich.console import Console\n",
    "from rich.markdown import Markdown\n",
    "\n",
    "# Markdown text\n",
    "markdown_text = \"\"\"\n",
    "# My Markdown Document\n",
    "\n",
    "This is a **Markdown** document that will be displayed in the console output.\n",
    "\n",
    "## Section 1\n",
    "\n",
    "This is the *first* section of the document. It contains a list:\n",
    "\n",
    "- Item 1\n",
    "- Item 2\n",
    "- [Link to Google.com](https://google.com)\n",
    "\n",
    "## Section 2\n",
    "\n",
    "This is the second section of the document. It contains a code block:\n",
    "\n",
    "```python\n",
    "def greet(name):\n",
    "    return f\"Hello, {name}!\"\n",
    "```\n",
    "\"\"\"\n",
    "\n",
    "# Convert the Markdown to a Rich object\n",
    "markdown = Markdown(markdown_text)\n",
    "\n",
    "# Create console\n",
    "# console = Console(width=60)\n",
    "console = Console(record=True, width=60)\n",
    "\n",
    "# Print the Markdown\n",
    "console.print(markdown)\n",
    "\n",
    "# Save the Markdown\n",
    "console.save_svg(\"images/markdown.svg\", title=\"Markdown\")"
   ]
  }
 ],
 "metadata": {
  "kernelspec": {
   "display_name": ".venv",
   "language": "python",
   "name": "python3"
  },
  "language_info": {
   "codemirror_mode": {
    "name": "ipython",
    "version": 3
   },
   "file_extension": ".py",
   "mimetype": "text/x-python",
   "name": "python",
   "nbconvert_exporter": "python",
   "pygments_lexer": "ipython3",
   "version": "3.11.4"
  },
  "orig_nbformat": 4
 },
 "nbformat": 4,
 "nbformat_minor": 2
}
