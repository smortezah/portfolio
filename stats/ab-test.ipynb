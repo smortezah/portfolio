{
 "cells": [
  {
   "cell_type": "markdown",
   "metadata": {},
   "source": [
    "Click [here](https://morihosseini.medium.com/unlocking-the-power-of-a-b-testing-65f3f3ee67d1) to access the associated Medium article."
   ]
  },
  {
   "attachments": {},
   "cell_type": "markdown",
   "metadata": {},
   "source": [
    "# A/B Testing\n",
    "\n",
    "We’ll start by importing the necessary libraries for this tutorial: numpy, pandas, scipy, and matplotlib. If you don’t have these libraries installed, you can install them by running the following commands in your command prompt:"
   ]
  },
  {
   "cell_type": "code",
   "execution_count": 15,
   "metadata": {},
   "outputs": [],
   "source": [
    "!python3 -m venv .venv\n",
    "\n",
    "!source .venv/bin/activate  # for macOS and Linux\n",
    "# !.venv\\Scripts\\activate.bat  # for Windows\n",
    "\n",
    "!pip install -q numpy pandas scipy matplotlib"
   ]
  },
  {
   "attachments": {},
   "cell_type": "markdown",
   "metadata": {},
   "source": [
    "Once you have the libraries installed, you can import them in your Python script as follows:"
   ]
  },
  {
   "cell_type": "code",
   "execution_count": 16,
   "metadata": {},
   "outputs": [],
   "source": [
    "import numpy as np\n",
    "import pandas as pd\n",
    "from scipy.stats import ttest_ind\n",
    "import matplotlib.pyplot as plt"
   ]
  },
  {
   "attachments": {},
   "cell_type": "markdown",
   "metadata": {},
   "source": [
    "Next, we’ll load the data that we will be using for our A/B test. For the purpose of this tutorial, we’ll be using a simulated dataset that contains information about 10000 website visitors (5000 for the control group and 5000 for the treatment group) and whether they made a purchase or not. We’ll load this dataset using pandas, and then split it into our control and treatment groups:"
   ]
  },
  {
   "cell_type": "code",
   "execution_count": 17,
   "metadata": {},
   "outputs": [],
   "source": [
    "# Create a simulated dataset with 5000 observations in each of the control\n",
    "# and treatment groups\n",
    "control_size = treatment_size = 5000\n",
    "np.random.seed(777)  # Set the seed for reproducibility\n",
    "data = pd.DataFrame(\n",
    "    {\n",
    "        \"group\": [\"control\"] * control_size + [\"treatment\"] * treatment_size,\n",
    "        \"purchased\": np.random.randint(0, 2, control_size + treatment_size),\n",
    "    }\n",
    ")\n",
    "\n",
    "# Split the data into the control and treatment groups\n",
    "control = data[data[\"group\"] == \"control\"]\n",
    "treatment = data[data[\"group\"] == \"treatment\"]"
   ]
  },
  {
   "attachments": {},
   "cell_type": "markdown",
   "metadata": {},
   "source": [
    "Now that we have our data loaded and split into our groups, we can start analyzing the results of our A/B test. In the next step, we’ll start by calculating the conversion rate for each group.\n",
    "\n",
    "## Performing t-test\n",
    "\n",
    "The conversion rate is the percentage of users who completed the desired action, in this case, making a purchase. We can calculate the conversion rate by dividing the number of purchases by the total number of visitors in each group."
   ]
  },
  {
   "cell_type": "code",
   "execution_count": 18,
   "metadata": {},
   "outputs": [
    {
     "name": "stdout",
     "output_type": "stream",
     "text": [
      "Control conversion rate: 0.5088\n",
      "Treatment conversion rate: 0.4912\n"
     ]
    }
   ],
   "source": [
    "# Calculate the conversion rate for the control group\n",
    "control_conversion_rate = control[\"purchased\"].mean()\n",
    "\n",
    "# Calculate the conversion rate for the treatment group\n",
    "treatment_conversion_rate = treatment[\"purchased\"].mean()\n",
    "\n",
    "print(\"Control conversion rate:\", control_conversion_rate)\n",
    "print(\"Treatment conversion rate:\", treatment_conversion_rate)"
   ]
  },
  {
   "attachments": {},
   "cell_type": "markdown",
   "metadata": {},
   "source": [
    "We can use these conversion rates to determine whether the changes made in the treatment group had a positive impact on the desired outcome.\n",
    "\n",
    "Now, we perform a hypothesis test to determine whether the observed difference in conversion rates between the control and treatment groups is statistically significant.\n",
    "\n",
    "The null hypothesis for our test is that there is no difference in conversion rates between the control and treatment groups. The alternative hypothesis is that there is a difference in conversion rates between the control and treatment groups.\n",
    "\n",
    "We’ll use a two-sample t-test to compare the means of the control and treatment groups. The t-test will calculate a p-value, which represents the probability of observing the difference in conversion rates between the two groups if the null hypothesis is true. If the p-value is less than our significance level (usually 0.05), we can reject the null hypothesis and conclude that the difference in conversion rates is statistically significant."
   ]
  },
  {
   "cell_type": "code",
   "execution_count": 19,
   "metadata": {},
   "outputs": [
    {
     "name": "stdout",
     "output_type": "stream",
     "text": [
      "t-statistic: 1.7600966160767242\n",
      "p-value: 0.07842200109645418\n"
     ]
    }
   ],
   "source": [
    "# Perform a two-sample t-test\n",
    "t_stat, p_val = ttest_ind(control[\"purchased\"], treatment[\"purchased\"])\n",
    "\n",
    "print(\"t-statistic:\", t_stat)\n",
    "print(\"p-value:\", p_val)"
   ]
  },
  {
   "attachments": {},
   "cell_type": "markdown",
   "metadata": {},
   "source": [
    "In the next step, we’ll visualize the results of our A/B test using a histogram and a confidence interval.\n",
    "\n",
    "## Analyzing the test results\n",
    "\n",
    "We’ll start by plotting histograms, using the matplotlib library, for the control and treatment groups to visualize the distribution of our data.\n",
    "\n",
    "This code bellow will create a histogram for each group and display them on the same plot. The alpha parameter controls the transparency of each histogram, and the label parameter adds a legend to the plot."
   ]
  },
  {
   "cell_type": "code",
   "execution_count": 20,
   "metadata": {},
   "outputs": [
    {
     "data": {
      "image/png": "[encoded data removed]",
      "text/plain": [
       "<Figure size 640x480 with 1 Axes>"
      ]
     },
     "metadata": {},
     "output_type": "display_data"
    }
   ],
   "source": [
    "# Plot histograms for the control and treatment groups\n",
    "plt.hist(control[\"purchased\"], alpha=0.5, label=\"Control\")\n",
    "plt.hist(treatment[\"purchased\"], alpha=0.5, label=\"Treatment\")\n",
    "plt.legend()\n",
    "plt.xlabel(\"Purchased\")\n",
    "plt.xticks([0, 1])\n",
    "plt.show()"
   ]
  },
  {
   "attachments": {},
   "cell_type": "markdown",
   "metadata": {},
   "source": [
    "Next, we’ll plot a confidence interval for the difference in means between the control and treatment groups. The confidence interval will give us a range of values that the true difference in means is likely to fall within."
   ]
  },
  {
   "cell_type": "code",
   "execution_count": 21,
   "metadata": {},
   "outputs": [
    {
     "data": {
      "image/png": "[encoded data removed]",
      "text/plain": [
       "<Figure size 640x480 with 1 Axes>"
      ]
     },
     "metadata": {},
     "output_type": "display_data"
    }
   ],
   "source": [
    "# Calculate the mean difference between the control and treatment groups\n",
    "mean_difference = treatment_conversion_rate - control_conversion_rate\n",
    "\n",
    "# Calculate the standard error of the mean difference\n",
    "se = np.sqrt(\n",
    "    (control[\"purchased\"].var() / len(control))\n",
    "    + (treatment[\"purchased\"].var() / len(treatment))\n",
    ")\n",
    "\n",
    "# Calculate the margin of error for a 95% confidence interval\n",
    "me = 1.96 * se\n",
    "\n",
    "# Calculate the lower and upper bounds of the confidence interval\n",
    "lower_bound = mean_difference - me\n",
    "upper_bound = mean_difference + me\n",
    "\n",
    "# Plot the confidence interval\n",
    "plt.errorbar(0, mean_difference, yerr=me, fmt=\"o\")\n",
    "plt.xlim(-0.5, 0.5)\n",
    "plt.xticks([0], [\"\"])\n",
    "plt.show()"
   ]
  },
  {
   "attachments": {},
   "cell_type": "markdown",
   "metadata": {},
   "source": [
    "This plot shows the mean difference between the two groups as a dot, with the confidence interval as vertical lines above and below the dot. If the confidence interval does not include zero, we can conclude that the difference in means between the two groups is statistically significant — which is clearly not the case here.\n",
    "\n",
    "## Drawing conclusions from the test results\n",
    "\n",
    "Now that we have visualized the results of our A/B test, let’s interpret our findings and draw conclusions.\n",
    "\n",
    "Based on our hypothesis test and visualization, we can conclude whether the changes made in the treatment group had a statistically significant impact on the conversion rate compared to the control group. If the p-value from our hypothesis test is less than our significance level (usually 0.05), and the confidence interval does not include zero, we can conclude that the difference in conversion rates between the control and treatment groups is statistically significant and that the changes made in the treatment group had a positive impact on the desired outcome.\n",
    "\n",
    "If the p-value is greater than our significance level, or the confidence interval includes zero, we cannot conclude that the difference in conversion rates between the control and treatment groups is statistically significant, and we cannot claim that the changes made in the treatment group had a positive impact on the desired outcome.\n",
    "\n",
    "Based on our experiment here, the p-value is ~0.08 > 0.05 and the confidence interval includes zero, therefore, the positive impact of the modifications made in the treatment group on the desired outcome cannot be claimed.\n",
    "\n",
    "It’s important to note that A/B testing is not a one-time process, and it may take several iterations to achieve statistically significant results. It’s also important to consider the practical significance of the observed difference in conversion rates, as even a statistically significant difference may not be meaningful in the context of the overall business goals."
   ]
  }
 ],
 "metadata": {
  "kernelspec": {
   "display_name": ".venv",
   "language": "python",
   "name": "python3"
  },
  "language_info": {
   "codemirror_mode": {
    "name": "ipython",
    "version": 3
   },
   "file_extension": ".py",
   "mimetype": "text/x-python",
   "name": "python",
   "nbconvert_exporter": "python",
   "pygments_lexer": "ipython3",
   "version": "3.11.2"
  },
  "orig_nbformat": 4
 },
 "nbformat": 4,
 "nbformat_minor": 2
}
