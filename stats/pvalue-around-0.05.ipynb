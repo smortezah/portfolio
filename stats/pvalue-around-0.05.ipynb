{
 "cells": [
  {
   "cell_type": "markdown",
   "metadata": {},
   "source": [
    "Click [here](https://medium.com/@morihosseini/to-reject-or-not-to-reject-navigating-p-values-near-0-05-2d2e68affd8c) to access the associated Medium article."
   ]
  },
  {
   "cell_type": "markdown",
   "metadata": {},
   "source": [
    "# Setup"
   ]
  },
  {
   "cell_type": "code",
   "execution_count": 132,
   "metadata": {},
   "outputs": [],
   "source": [
    "!pip install -q numpy scipy statsmodels"
   ]
  },
  {
   "cell_type": "code",
   "execution_count": 133,
   "metadata": {},
   "outputs": [],
   "source": [
    "import numpy as np\n",
    "import pandas as pd\n",
    "import scipy.stats as stats\n",
    "import statsmodels.api as sm\n",
    "\n",
    "# Set seed for reproducibility\n",
    "np.random.seed(7)"
   ]
  },
  {
   "cell_type": "markdown",
   "metadata": {},
   "source": [
    "# Experiment 1"
   ]
  },
  {
   "cell_type": "code",
   "execution_count": 86,
   "metadata": {},
   "outputs": [
    {
     "name": "stdout",
     "output_type": "stream",
     "text": [
      "p-value for normality: 0.5458837263512903\n"
     ]
    }
   ],
   "source": [
    "# Hypothetical test scores\n",
    "test_scores = np.random.normal(100, 10, 1000)\n",
    "\n",
    "# Check for normality\n",
    "_, p_value_norm = stats.normaltest(test_scores)\n",
    "print(f\"p-value for normality: {p_value_norm}\")"
   ]
  },
  {
   "cell_type": "code",
   "execution_count": 83,
   "metadata": {},
   "outputs": [
    {
     "name": "stdout",
     "output_type": "stream",
     "text": [
      "Fail to reject null hypothesis\n"
     ]
    }
   ],
   "source": [
    "alpha = 0.05\n",
    "\n",
    "if p_value_norm < alpha:\n",
    "    print(\"Null hypothesis is rejected\")\n",
    "elif p_value_norm == alpha:\n",
    "    print(\"p-value is on borderline, consider other factors!\")\n",
    "else:\n",
    "    print(\"Fail to reject null hypothesis\")"
   ]
  },
  {
   "cell_type": "markdown",
   "metadata": {},
   "source": [
    "# Experiment 2"
   ]
  },
  {
   "cell_type": "code",
   "execution_count": 84,
   "metadata": {},
   "outputs": [
    {
     "name": "stdout",
     "output_type": "stream",
     "text": [
      "p-value from the t-test: 0.0031876814729812518\n"
     ]
    }
   ],
   "source": [
    "group1_scores = np.random.normal(100, 10, 100)\n",
    "group2_scores = np.random.normal(105, 10, 100)\n",
    "\n",
    "_, p_value_ttest = stats.ttest_ind(group1_scores, group2_scores)\n",
    "print(f\"p-value from the t-test: {p_value_ttest}\")"
   ]
  },
  {
   "cell_type": "code",
   "execution_count": 87,
   "metadata": {},
   "outputs": [
    {
     "name": "stdout",
     "output_type": "stream",
     "text": [
      "Null hypothesis is rejected\n"
     ]
    }
   ],
   "source": [
    "alpha = 0.05\n",
    "\n",
    "if p_value_ttest < alpha:\n",
    "    print(\"Null hypothesis is rejected\")\n",
    "elif p_value_ttest == alpha:\n",
    "    print(\"p-value is on borderline, consider other factors!\")\n",
    "else:\n",
    "    print(\"Fail to reject null hypothesis\")"
   ]
  },
  {
   "cell_type": "markdown",
   "metadata": {},
   "source": [
    "# Experiment 3"
   ]
  },
  {
   "cell_type": "code",
   "execution_count": 89,
   "metadata": {},
   "outputs": [
    {
     "name": "stdout",
     "output_type": "stream",
     "text": [
      "Adjusted alpha: 0.0025\n"
     ]
    }
   ],
   "source": [
    "# Let's assume we are testing 20 hypotheses\n",
    "n_tests = 20\n",
    "\n",
    "# Original alpha value\n",
    "alpha = 0.05\n",
    "\n",
    "# Bonferroni correction\n",
    "alpha_new = alpha / n_tests\n",
    "print(f\"Adjusted alpha: {alpha_new}\")"
   ]
  },
  {
   "cell_type": "code",
   "execution_count": 91,
   "metadata": {},
   "outputs": [
    {
     "name": "stdout",
     "output_type": "stream",
     "text": [
      "Test 1: Fail to reject null hypothesis.\n",
      "Test 2: Fail to reject null hypothesis.\n",
      "Test 3: Fail to reject null hypothesis.\n",
      "Test 4: Fail to reject null hypothesis.\n",
      "Test 5: Null hypothesis is rejected.\n",
      "Test 6: Null hypothesis is rejected.\n"
     ]
    }
   ],
   "source": [
    "# List of dummy p-values for illustration\n",
    "p_values = [0.05, 0.03, 0.1, 0.01, 0.001, 0.0001]\n",
    "\n",
    "for index, p in enumerate(p_values):\n",
    "    if p < alpha_new:\n",
    "        print(f\"Test {index+1}: Null hypothesis is rejected.\")\n",
    "    elif p == alpha_new:\n",
    "        print(\n",
    "            f\"Test {index+1}: p-value is on borderline, consider other factors!\"\n",
    "        )\n",
    "    else:\n",
    "        print(f\"Test {index+1}: Fail to reject null hypothesis.\")"
   ]
  },
  {
   "cell_type": "markdown",
   "metadata": {},
   "source": [
    "# Experiment 4"
   ]
  },
  {
   "cell_type": "code",
   "execution_count": 153,
   "metadata": {},
   "outputs": [
    {
     "name": "stdout",
     "output_type": "stream",
     "text": [
      "                            OLS Regression Results                            \n",
      "==============================================================================\n",
      "Dep. Variable:        JobSatisfaction   R-squared:                       0.023\n",
      "Model:                            OLS   Adj. R-squared:                  0.013\n",
      "Method:                 Least Squares   F-statistic:                     2.274\n",
      "Date:                Tue, 05 Sep 2023   Prob (F-statistic):              0.135\n",
      "Time:                        09:59:44   Log-Likelihood:                -184.97\n",
      "No. Observations:                 100   AIC:                             373.9\n",
      "Df Residuals:                      98   BIC:                             379.2\n",
      "Df Model:                           1                                         \n",
      "Covariance Type:            nonrobust                                         \n",
      "==================================================================================\n",
      "                     coef    std err          t      P>|t|      [0.025      0.975]\n",
      "----------------------------------------------------------------------------------\n",
      "const              1.7245      0.288      5.990      0.000       1.153       2.296\n",
      "YearsAtCompany     0.0791      0.052      1.508      0.135      -0.025       0.183\n",
      "==============================================================================\n",
      "Omnibus:                      130.047   Durbin-Watson:                   2.303\n",
      "Prob(Omnibus):                  0.000   Jarque-Bera (JB):                8.823\n",
      "Skew:                          -0.103   Prob(JB):                       0.0121\n",
      "Kurtosis:                       1.559   Cond. No.                         10.4\n",
      "==============================================================================\n",
      "\n",
      "Notes:\n",
      "[1] Standard Errors assume that the covariance matrix of the errors is correctly specified.\n"
     ]
    }
   ],
   "source": [
    "# Synthetic dataset\n",
    "df = pd.DataFrame(\n",
    "    {\n",
    "        \"YearsAtCompany\": np.random.randint(0, 10, 100),\n",
    "        \"JobSatisfaction\": np.random.randint(0, 5, 100),\n",
    "    }\n",
    ")\n",
    "\n",
    "# Specify our independent and dependent variables\n",
    "X = df[\"YearsAtCompany\"]\n",
    "y = df[\"JobSatisfaction\"]\n",
    "\n",
    "# Add an intercept to the independent variable\n",
    "X = sm.add_constant(X)\n",
    "\n",
    "# Fit the Ordinary Least Squares Model (OLS)\n",
    "model = sm.OLS(y, X)\n",
    "results = model.fit()\n",
    "\n",
    "# Summary Statistics\n",
    "print(results.summary())"
   ]
  },
  {
   "cell_type": "code",
   "execution_count": 156,
   "metadata": {},
   "outputs": [
    {
     "data": {
      "text/plain": [
       "const             3.481591e-08\n",
       "YearsAtCompany    1.348070e-01\n",
       "dtype: float64"
      ]
     },
     "execution_count": 156,
     "metadata": {},
     "output_type": "execute_result"
    }
   ],
   "source": [
    "results.pvalues"
   ]
  },
  {
   "cell_type": "markdown",
   "metadata": {},
   "source": [
    "# Report"
   ]
  },
  {
   "cell_type": "code",
   "execution_count": 163,
   "metadata": {},
   "outputs": [
    {
     "name": "stdout",
     "output_type": "stream",
     "text": [
      "\n",
      "Our analysis yielded a p-value 0.051, which is close to our alpha level\n",
      "set at 0.05. Despite its borderline significance, a look at the effect size\n",
      "and confidence intervals reveals that our findings hold practical\n",
      "significance. Here, we discuss these findings in further depth--taking into\n",
      "account the practical implications and real-world context.\n",
      "\n"
     ]
    }
   ],
   "source": [
    "# Reporting example\n",
    "p_value = 0.051\n",
    "\n",
    "report = f\"\"\"\n",
    "Our analysis yielded a p-value {p_value:.3f}, which is close to our alpha level\n",
    "set at 0.05. Despite its borderline significance, a look at the effect size\n",
    "and confidence intervals reveals that our findings hold practical\n",
    "significance. Here, we discuss these findings in further depth--taking into\n",
    "account the practical implications and real-world context.\n",
    "\"\"\"\n",
    "\n",
    "print(report)"
   ]
  }
 ],
 "metadata": {
  "kernelspec": {
   "display_name": ".venv",
   "language": "python",
   "name": "python3"
  },
  "language_info": {
   "codemirror_mode": {
    "name": "ipython",
    "version": 3
   },
   "file_extension": ".py",
   "mimetype": "text/x-python",
   "name": "python",
   "nbconvert_exporter": "python",
   "pygments_lexer": "ipython3",
   "version": "3.11.5"
  },
  "orig_nbformat": 4
 },
 "nbformat": 4,
 "nbformat_minor": 2
}
