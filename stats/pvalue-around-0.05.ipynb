{
 "cells": [
  {
   "cell_type": "markdown",
   "metadata": {},
   "source": [
    "Click [here]() to access the associated Medium article."
   ]
  },
  {
   "cell_type": "markdown",
   "metadata": {},
   "source": [
    "# Setup"
   ]
  },
  {
   "cell_type": "code",
   "execution_count": 82,
   "metadata": {},
   "outputs": [
    {
     "name": "stdout",
     "output_type": "stream",
     "text": [
      "Requirement already satisfied: scipy in /Users/mori/Desktop/portfolio/.venv/lib/python3.11/site-packages (1.10.1)\n",
      "Requirement already satisfied: numpy in /Users/mori/Desktop/portfolio/.venv/lib/python3.11/site-packages (1.24.3)\n",
      "\u001b[33mDEPRECATION: textract 1.6.5 has a non-standard dependency specifier extract-msg<=0.29.*. pip 23.3 will enforce this behaviour change. A possible replacement is to upgrade to a newer version of textract or contact the author to suggest that they release a version with a conforming dependency specifiers. Discussion can be found at https://github.com/pypa/pip/issues/12063\u001b[0m\u001b[33m\n",
      "\u001b[0m"
     ]
    }
   ],
   "source": [
    "!pip install scipy numpy"
   ]
  },
  {
   "cell_type": "code",
   "execution_count": 85,
   "metadata": {},
   "outputs": [],
   "source": [
    "import scipy.stats as stats\n",
    "import numpy as np\n",
    "\n",
    "# Set seed for reproducibility\n",
    "np.random.seed(7)"
   ]
  },
  {
   "cell_type": "markdown",
   "metadata": {},
   "source": [
    "# Experiment 1"
   ]
  },
  {
   "cell_type": "code",
   "execution_count": 86,
   "metadata": {},
   "outputs": [
    {
     "name": "stdout",
     "output_type": "stream",
     "text": [
      "p-value for normality: 0.5458837263512903\n"
     ]
    }
   ],
   "source": [
    "# Hypothetical test scores\n",
    "test_scores = np.random.normal(100, 10, 1000)\n",
    "\n",
    "# Check for normality\n",
    "_, p_value_norm = stats.normaltest(test_scores)\n",
    "print(f\"p-value for normality: {p_value_norm}\")"
   ]
  },
  {
   "cell_type": "code",
   "execution_count": 83,
   "metadata": {},
   "outputs": [
    {
     "name": "stdout",
     "output_type": "stream",
     "text": [
      "Fail to reject null hypothesis\n"
     ]
    }
   ],
   "source": [
    "alpha = 0.05\n",
    "\n",
    "if p_value_norm < alpha:\n",
    "    print(\"Null hypothesis is rejected\")\n",
    "elif p_value_norm == alpha:\n",
    "    print(\"p-value is on borderline, consider other factors!\")\n",
    "else:\n",
    "    print(\"Fail to reject null hypothesis\")"
   ]
  },
  {
   "cell_type": "markdown",
   "metadata": {},
   "source": [
    "# Experiment 2"
   ]
  },
  {
   "cell_type": "code",
   "execution_count": 84,
   "metadata": {},
   "outputs": [
    {
     "name": "stdout",
     "output_type": "stream",
     "text": [
      "p-value from the t-test: 0.0031876814729812518\n"
     ]
    }
   ],
   "source": [
    "group1_scores = np.random.normal(100, 10, 100)\n",
    "group2_scores = np.random.normal(105, 10, 100)\n",
    "\n",
    "_, p_value_ttest = stats.ttest_ind(group1_scores, group2_scores)\n",
    "print(f\"p-value from the t-test: {p_value_ttest}\")"
   ]
  },
  {
   "cell_type": "code",
   "execution_count": 87,
   "metadata": {},
   "outputs": [
    {
     "name": "stdout",
     "output_type": "stream",
     "text": [
      "Null hypothesis is rejected\n"
     ]
    }
   ],
   "source": [
    "alpha = 0.05\n",
    "\n",
    "if p_value_ttest < alpha:\n",
    "    print(\"Null hypothesis is rejected\")\n",
    "elif p_value_ttest == alpha:\n",
    "    print(\"p-value is on borderline, consider other factors!\")\n",
    "else:\n",
    "    print(\"Fail to reject null hypothesis\")"
   ]
  },
  {
   "cell_type": "markdown",
   "metadata": {},
   "source": [
    "# Experiment 3"
   ]
  },
  {
   "cell_type": "code",
   "execution_count": 89,
   "metadata": {},
   "outputs": [
    {
     "name": "stdout",
     "output_type": "stream",
     "text": [
      "Adjusted alpha: 0.0025\n"
     ]
    }
   ],
   "source": [
    "# Let's assume we are testing 20 hypotheses\n",
    "n_tests = 20\n",
    "\n",
    "# Original alpha value\n",
    "alpha = 0.05\n",
    "\n",
    "# Bonferroni correction\n",
    "alpha_new = alpha / n_tests\n",
    "print(f\"Adjusted alpha: {alpha_new}\")"
   ]
  },
  {
   "cell_type": "code",
   "execution_count": 91,
   "metadata": {},
   "outputs": [
    {
     "name": "stdout",
     "output_type": "stream",
     "text": [
      "Test 1: Fail to reject null hypothesis.\n",
      "Test 2: Fail to reject null hypothesis.\n",
      "Test 3: Fail to reject null hypothesis.\n",
      "Test 4: Fail to reject null hypothesis.\n",
      "Test 5: Null hypothesis is rejected.\n",
      "Test 6: Null hypothesis is rejected.\n"
     ]
    }
   ],
   "source": [
    "# List of dummy p-values for illustration\n",
    "p_values = [0.05, 0.03, 0.1, 0.01, 0.001, 0.0001]\n",
    "\n",
    "for index, p in enumerate(p_values):\n",
    "    if p < alpha_new:\n",
    "        print(f\"Test {index+1}: Null hypothesis is rejected.\")\n",
    "    elif p == alpha_new:\n",
    "        print(\n",
    "            f\"Test {index+1}: p-value is on borderline, consider other factors!\"\n",
    "        )\n",
    "    else:\n",
    "        print(f\"Test {index+1}: Fail to reject null hypothesis.\")"
   ]
  },
  {
   "cell_type": "markdown",
   "metadata": {},
   "source": [
    "# Experiment 4"
   ]
  }
 ],
 "metadata": {
  "kernelspec": {
   "display_name": ".venv",
   "language": "python",
   "name": "python3"
  },
  "language_info": {
   "codemirror_mode": {
    "name": "ipython",
    "version": 3
   },
   "file_extension": ".py",
   "mimetype": "text/x-python",
   "name": "python",
   "nbconvert_exporter": "python",
   "pygments_lexer": "ipython3",
   "version": "3.11.2"
  },
  "orig_nbformat": 4
 },
 "nbformat": 4,
 "nbformat_minor": 2
}
