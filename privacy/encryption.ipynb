{
 "cells": [
  {
   "cell_type": "markdown",
   "metadata": {},
   "source": [
    "Click [here](https://medium.com/%2540morihosseini/a-beginners-guide-to-python-encryption-d51b88e298fb) to access the associated Medium article."
   ]
  },
  {
   "cell_type": "markdown",
   "metadata": {},
   "source": [
    "# Setup\n"
   ]
  },
  {
   "cell_type": "code",
   "execution_count": 1,
   "metadata": {},
   "outputs": [],
   "source": [
    "!pip install -q cryptography"
   ]
  },
  {
   "cell_type": "markdown",
   "metadata": {},
   "source": [
    "# Symmetric Encryption"
   ]
  },
  {
   "cell_type": "code",
   "execution_count": 2,
   "metadata": {},
   "outputs": [
    {
     "name": "stdout",
     "output_type": "stream",
     "text": [
      "b'gAAAAABlrkPnVn3AB93dok4s07sdTW_XUV_w_ZFOC3dDyNw89aHMOi4GfT8sCf0TZmhYUj1v76pHEeEeMpCnLpYgKeAao1bb2A=='\n"
     ]
    }
   ],
   "source": [
    "from cryptography.fernet import Fernet\n",
    "\n",
    "# Generate a key\n",
    "key = Fernet.generate_key()\n",
    "\n",
    "# Create a Fernet object with the key\n",
    "f = Fernet(key)\n",
    "\n",
    "# Encrypt the plaintext\n",
    "plaintext = b\"Hello, world!\"\n",
    "ciphertext = f.encrypt(plaintext)\n",
    "print(ciphertext)"
   ]
  },
  {
   "cell_type": "markdown",
   "metadata": {},
   "source": [
    "# Asymmetric Encryption"
   ]
  },
  {
   "cell_type": "code",
   "execution_count": 3,
   "metadata": {},
   "outputs": [
    {
     "name": "stdout",
     "output_type": "stream",
     "text": [
      "b't\\x83\\xf4*\\xf5x:\\x85\\xb2\\x93\\xb9\\xa2z\\xb8\\x08S\\xe7\\xa0~\\xb34\\xe6\\xd4\\xcc\\x0f\\'\\xdf\\xb8\\xc5\\xa3\\x88\\n@j\\xabg\\xe9\\x13B\\x95X(\\xe7\\xa9/zM\\xccnU:\\x05)\\xc0\\x13\\x03\\x9c}\\x92\\x060\\xd7\\xad\\x07F:\\x08\\xc8\\x91\\xea\\x13dMj8\\x01\\x0f5\\x03\\x7f<\\xd7NO2\\x03$y\\x98\\x87\\x98\\xa8\\xe4\\xdck\\xe0\\x07\\xfe\\xee\"\\xac\\x06\\xbd\\re\\x88\\x8b\\xbb\\x98\\xfc\\xd2\\xc6L$\\x18\\xf7\\x1ds\\xa4P\\x88L\\xa4@\\xb8Tw/\\xd5B \\xfc86\\xa9\\xdc<\\xf6F\\xf1\\xbf\\xb8!\\x05\\x84uu~%|\\x7f\\x82\\xc5\\xaa\\xe2\\xd05T\\xfa+(\\xfd\\xc1\\xc9\\xbd\\x1b\\xe2s\\xdf\\n\\xe7Y\\x06\\xd0\\x9f\\xe4\\xfe\\x8aCSoDg\\xd6l\\xb9\\xcf\\xff\\\\h6\\xf3\\xe9\\x9b\\x98Ii\\x19\\xbf\\xa0X\\x06\\x8cc\\xa2\\xa9B\\xf2\\x82\\x89\\xff\\x19x\\x08BX\\xb1\\x93.\\xf7\\xfa\\x00\\xde\\xce%\\xb3\\xa1\\xd3V\\x04\\x87P\\xe9\\xa0\\xff\\xfe\\x02\\xcd\\xcc\\xbau\\xd5R\\xae$\\'\\x1fr{\\x9f\\x88\\xcf\\x03\\x17\\xe8)'\n"
     ]
    }
   ],
   "source": [
    "from cryptography.hazmat.primitives.asymmetric import rsa, padding\n",
    "from cryptography.hazmat.primitives import hashes\n",
    "\n",
    "# Generate a private key\n",
    "private_key = rsa.generate_private_key(\n",
    "    public_exponent=65537, key_size=2048\n",
    ")\n",
    "\n",
    "# Get the public key\n",
    "public_key = private_key.public_key()\n",
    "\n",
    "# Encrypt the plaintext\n",
    "plaintext = b\"Hello, world!\"\n",
    "ciphertext = public_key.encrypt(\n",
    "    plaintext,\n",
    "    padding.OAEP(\n",
    "        mgf=padding.MGF1(algorithm=hashes.SHA256()),\n",
    "        algorithm=hashes.SHA256(),\n",
    "        label=None\n",
    "    )\n",
    ")\n",
    "print(ciphertext)"
   ]
  },
  {
   "cell_type": "markdown",
   "metadata": {},
   "source": [
    "# Symmetric Decryption"
   ]
  },
  {
   "cell_type": "code",
   "execution_count": 4,
   "metadata": {},
   "outputs": [
    {
     "name": "stdout",
     "output_type": "stream",
     "text": [
      "b'Hello, world!'\n"
     ]
    }
   ],
   "source": [
    "from cryptography.fernet import Fernet\n",
    "\n",
    "# Generate a key\n",
    "key = Fernet.generate_key()\n",
    "\n",
    "# Create a Fernet object with the key\n",
    "f = Fernet(key)\n",
    "\n",
    "# Encrypt the plaintext\n",
    "plaintext = b\"Hello, world!\"\n",
    "ciphertext = f.encrypt(plaintext)\n",
    "\n",
    "# Decrypt the ciphertext\n",
    "decrypted_plaintext = f.decrypt(ciphertext)\n",
    "print(decrypted_plaintext)"
   ]
  },
  {
   "cell_type": "markdown",
   "metadata": {},
   "source": [
    "# Asymmetric Decryption"
   ]
  },
  {
   "cell_type": "code",
   "execution_count": 5,
   "metadata": {},
   "outputs": [
    {
     "name": "stdout",
     "output_type": "stream",
     "text": [
      "b'Hello, world!'\n"
     ]
    }
   ],
   "source": [
    "from cryptography.hazmat.primitives.asymmetric import rsa, padding\n",
    "from cryptography.hazmat.primitives import hashes\n",
    "\n",
    "# Generate a private key\n",
    "private_key = rsa.generate_private_key(\n",
    "    public_exponent=65537, key_size=2048\n",
    ")\n",
    "\n",
    "# Get the public key\n",
    "public_key = private_key.public_key()\n",
    "\n",
    "# Encrypt the plaintext\n",
    "plaintext = b\"Hello, world!\"\n",
    "ciphertext = public_key.encrypt(\n",
    "    plaintext,\n",
    "    padding.OAEP(\n",
    "        mgf=padding.MGF1(algorithm=hashes.SHA256()),\n",
    "        algorithm=hashes.SHA256(),\n",
    "        label=None\n",
    "    )\n",
    ")\n",
    "\n",
    "# Decrypt the ciphertext\n",
    "decrypted_plaintext = private_key.decrypt(\n",
    "    ciphertext,\n",
    "    padding.OAEP(\n",
    "        mgf=padding.MGF1(algorithm=hashes.SHA256()),\n",
    "        algorithm=hashes.SHA256(),\n",
    "        label=None\n",
    "    )\n",
    ")\n",
    "print(decrypted_plaintext)"
   ]
  }
 ],
 "metadata": {
  "kernelspec": {
   "display_name": "Python 3 (ipykernel)",
   "language": "python",
   "name": "python3"
  },
  "language_info": {
   "codemirror_mode": {
    "name": "ipython",
    "version": 3
   },
   "file_extension": ".py",
   "mimetype": "text/x-python",
   "name": "python",
   "nbconvert_exporter": "python",
   "pygments_lexer": "ipython3",
   "version": "3.10.13"
  }
 },
 "nbformat": 4,
 "nbformat_minor": 2
}
