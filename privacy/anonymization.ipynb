{
 "cells": [
  {
   "cell_type": "markdown",
   "metadata": {},
   "source": [
    "Click [here](https://medium.com/@morihosseini/get-started-with-data-anonymization-40ee967152fd) to access the associated Medium article."
   ]
  },
  {
   "cell_type": "markdown",
   "metadata": {},
   "source": [
    "# Setup\n"
   ]
  },
  {
   "cell_type": "code",
   "execution_count": 30,
   "metadata": {},
   "outputs": [
    {
     "name": "stdout",
     "output_type": "stream",
     "text": [
      "\u001b[33mDEPRECATION: textract 1.6.5 has a non-standard dependency specifier extract-msg<=0.29.*. pip 24.0 will enforce this behaviour change. A possible replacement is to upgrade to a newer version of textract or contact the author to suggest that they release a version with a conforming dependency specifiers. Discussion can be found at https://github.com/pypa/pip/issues/12063\u001b[0m\u001b[33m\n",
      "\u001b[0m"
     ]
    }
   ],
   "source": [
    "!pip install -q pandas numpy cryptography"
   ]
  },
  {
   "cell_type": "markdown",
   "metadata": {},
   "source": [
    "# Randomization\n"
   ]
  },
  {
   "cell_type": "code",
   "execution_count": 10,
   "metadata": {},
   "outputs": [
    {
     "name": "stdout",
     "output_type": "stream",
     "text": [
      "      Name  Age  Salary Phone Number\n",
      "0    Ailec   25   50000     555-1234\n",
      "1      obB   35   60000     555-2345\n",
      "2  aClireh   45   70000     555-3456\n",
      "3    iadvD   55   80000     555-4567\n",
      "4      veE   65   90000     555-5678\n"
     ]
    }
   ],
   "source": [
    "import pandas as pd\n",
    "import numpy as np\n",
    "\n",
    "# Create a synthetic dataset\n",
    "df = pd.DataFrame(\n",
    "    {\n",
    "        \"Name\": [\"Alice\", \"Bob\", \"Charlie\", \"David\", \"Eve\"],\n",
    "        \"Age\": [25, 35, 45, 55, 65],\n",
    "        \"Salary\": [50000, 60000, 70000, 80000, 90000],\n",
    "        \"Phone Number\": [\n",
    "            \"555-1234\",\n",
    "            \"555-2345\",\n",
    "            \"555-3456\",\n",
    "            \"555-4567\",\n",
    "            \"555-5678\",\n",
    "        ],\n",
    "    }\n",
    ")\n",
    "\n",
    "\n",
    "# Define a function to randomize column values\n",
    "def randomize_values(col_values):\n",
    "    col_values_list = list(col_values)  # convert string to list\n",
    "    np.random.shuffle(col_values_list)\n",
    "    return \"\".join(col_values_list)  # convert list back to string\n",
    "\n",
    "\n",
    "# Apply the function to the desired column(s)\n",
    "column_to_randomize = \"Name\"\n",
    "df[column_to_randomize] = df[column_to_randomize].apply(randomize_values)\n",
    "\n",
    "# Print the anonymized dataset\n",
    "print(df)"
   ]
  },
  {
   "cell_type": "markdown",
   "metadata": {},
   "source": [
    "# Generalization\n"
   ]
  },
  {
   "cell_type": "code",
   "execution_count": 11,
   "metadata": {},
   "outputs": [
    {
     "name": "stdout",
     "output_type": "stream",
     "text": [
      "      Name    Age  Salary Phone Number\n",
      "0    Alice  20-29   50000     555-1234\n",
      "1      Bob  30-39   60000     555-2345\n",
      "2  Charlie  40-49   70000     555-3456\n",
      "3    David  50-59   80000     555-4567\n",
      "4      Eve  60-69   90000     555-5678\n"
     ]
    }
   ],
   "source": [
    "import pandas as pd\n",
    "\n",
    "# Create a synthetic dataset\n",
    "df = pd.DataFrame(\n",
    "    {\n",
    "        \"Name\": [\"Alice\", \"Bob\", \"Charlie\", \"David\", \"Eve\"],\n",
    "        \"Age\": [25, 35, 45, 55, 65],\n",
    "        \"Salary\": [50000, 60000, 70000, 80000, 90000],\n",
    "        \"Phone Number\": [\n",
    "            \"555-1234\",\n",
    "            \"555-2345\",\n",
    "            \"555-3456\",\n",
    "            \"555-4567\",\n",
    "            \"555-5678\",\n",
    "        ],\n",
    "    }\n",
    ")\n",
    "\n",
    "\n",
    "# Define a function to generalize column values\n",
    "def generalize_values(col_values):\n",
    "    return col_values.apply(\n",
    "        lambda x: str(int(x / 10) * 10) + \"-\" + str(int(x / 10) * 10 + 9)\n",
    "    )\n",
    "\n",
    "\n",
    "# Apply the function to the desired column(s)\n",
    "column_to_generalize = \"Age\"\n",
    "df[column_to_generalize] = generalize_values(df[column_to_generalize])\n",
    "\n",
    "# Print the anonymized dataset\n",
    "print(df)"
   ]
  },
  {
   "cell_type": "markdown",
   "metadata": {},
   "source": [
    "# Masking\n"
   ]
  },
  {
   "cell_type": "code",
   "execution_count": 12,
   "metadata": {},
   "outputs": [
    {
     "name": "stdout",
     "output_type": "stream",
     "text": [
      "      Name  Age  Salary Phone Number\n",
      "0    Alice   25   50000     555-****\n",
      "1      Bob   35   60000     555-****\n",
      "2  Charlie   45   70000     555-****\n",
      "3    David   55   80000     555-****\n",
      "4      Eve   65   90000     555-****\n"
     ]
    }
   ],
   "source": [
    "import pandas as pd\n",
    "\n",
    "# Create a synthetic dataset\n",
    "df = pd.DataFrame(\n",
    "    {\n",
    "        \"Name\": [\"Alice\", \"Bob\", \"Charlie\", \"David\", \"Eve\"],\n",
    "        \"Age\": [25, 35, 45, 55, 65],\n",
    "        \"Salary\": [50000, 60000, 70000, 80000, 90000],\n",
    "        \"Phone Number\": [\n",
    "            \"555-1234\",\n",
    "            \"555-2345\",\n",
    "            \"555-3456\",\n",
    "            \"555-4567\",\n",
    "            \"555-5678\",\n",
    "        ],\n",
    "    }\n",
    ")\n",
    "\n",
    "\n",
    "# Define a function to mask column values\n",
    "def mask_values(col_values):\n",
    "    return col_values.apply(lambda x: x[:-4] + \"****\")\n",
    "\n",
    "\n",
    "# Apply the function to the desired column(s)\n",
    "column_to_mask = \"Phone Number\"\n",
    "df[column_to_mask] = mask_values(df[column_to_mask])\n",
    "\n",
    "# Print the anonymized dataset\n",
    "print(df)"
   ]
  },
  {
   "cell_type": "markdown",
   "metadata": {},
   "source": [
    "# Perturbation\n"
   ]
  },
  {
   "cell_type": "code",
   "execution_count": 13,
   "metadata": {},
   "outputs": [
    {
     "name": "stdout",
     "output_type": "stream",
     "text": [
      "      Name  Age  Salary Phone Number\n",
      "0    Alice   25   50000     555-1234\n",
      "1      Bob   35   60000     555-2345\n",
      "2  Charlie   46   70000     555-3456\n",
      "3    David   58   80000     555-4567\n",
      "4      Eve   67   90000     555-5678\n"
     ]
    }
   ],
   "source": [
    "import pandas as pd\n",
    "import numpy as np\n",
    "\n",
    "# Create a synthetic dataset\n",
    "df = pd.DataFrame(\n",
    "    {\n",
    "        \"Name\": [\"Alice\", \"Bob\", \"Charlie\", \"David\", \"Eve\"],\n",
    "        \"Age\": [25, 35, 45, 55, 65],\n",
    "        \"Salary\": [50000, 60000, 70000, 80000, 90000],\n",
    "        \"Phone Number\": [\n",
    "            \"555-1234\",\n",
    "            \"555-2345\",\n",
    "            \"555-3456\",\n",
    "            \"555-4567\",\n",
    "            \"555-5678\",\n",
    "        ],\n",
    "    }\n",
    ")\n",
    "\n",
    "\n",
    "# Define a function to perturb column values\n",
    "def perturb_values(col_values):\n",
    "    return col_values.apply(lambda x: x + np.random.randint(0, 5))\n",
    "\n",
    "\n",
    "# Apply the function to the desired column(s)\n",
    "column_to_perturb = \"Age\"\n",
    "df[column_to_perturb] = perturb_values(df[column_to_perturb])\n",
    "\n",
    "# Print the anonymized dataset\n",
    "print(df)"
   ]
  },
  {
   "cell_type": "markdown",
   "metadata": {},
   "source": [
    "# Encryption\n"
   ]
  },
  {
   "cell_type": "code",
   "execution_count": 201,
   "metadata": {},
   "outputs": [
    {
     "name": "stdout",
     "output_type": "stream",
     "text": [
      "                                                Name  Age  Salary Phone Number\n",
      "0  gAAAAABlPtvAPJ2unH6ofQ4gIzyxmuODlSyxk70o7bH1bX...   25   50000     555-1234\n",
      "1  gAAAAABlPtvAZA4xYTcsp6H0PBrfZJUw1-gX1jd24keyp6...   35   60000     555-2345\n",
      "2  gAAAAABlPtvAD377dSN7-lwu8VFCTHhWyKe-rzyZvSyWNH...   45   70000     555-3456\n",
      "3  gAAAAABlPtvA_9rEOvFsHtdc1J_Hj9Rjmdeu9umdnUAJ6d...   55   80000     555-4567\n",
      "4  gAAAAABlPtvASkzkeIhovEAB8X96MDjpEEjdFdCmZrn-82...   65   90000     555-5678\n"
     ]
    }
   ],
   "source": [
    "import pandas as pd\n",
    "from cryptography.fernet import Fernet\n",
    "\n",
    "# Create a synthetic dataset\n",
    "df = pd.DataFrame(\n",
    "    {\n",
    "        \"Name\": [\"Alice\", \"Bob\", \"Charlie\", \"David\", \"Eve\"],\n",
    "        \"Age\": [25, 35, 45, 55, 65],\n",
    "        \"Salary\": [50000, 60000, 70000, 80000, 90000],\n",
    "        \"Phone Number\": [\n",
    "            \"555-1234\",\n",
    "            \"555-2345\",\n",
    "            \"555-3456\",\n",
    "            \"555-4567\",\n",
    "            \"555-5678\",\n",
    "        ],\n",
    "    }\n",
    ")\n",
    "\n",
    "\n",
    "# Define a function to encrypt column values\n",
    "def encrypt_values(col_values):\n",
    "    encrypted_col = []\n",
    "    for value in col_values.values:\n",
    "        key = Fernet.generate_key()\n",
    "        fernet = Fernet(key)\n",
    "        encrypted_value = fernet.encrypt(str(value).encode())\n",
    "        encrypted_col.append(encrypted_value.decode())\n",
    "    return encrypted_col\n",
    "\n",
    "\n",
    "# Apply the function to the desired column(s)\n",
    "column_to_encrypt = [\"Name\"]\n",
    "df[column_to_encrypt] = df[column_to_encrypt].apply(encrypt_values)\n",
    "\n",
    "# Print the anonymized dataset\n",
    "print(df)"
   ]
  }
 ],
 "metadata": {
  "kernelspec": {
   "display_name": ".venv",
   "language": "python",
   "name": "python3"
  },
  "language_info": {
   "codemirror_mode": {
    "name": "ipython",
    "version": 3
   },
   "file_extension": ".py",
   "mimetype": "text/x-python",
   "name": "python",
   "nbconvert_exporter": "python",
   "pygments_lexer": "ipython3",
   "version": "3.11.2"
  }
 },
 "nbformat": 4,
 "nbformat_minor": 2
}
