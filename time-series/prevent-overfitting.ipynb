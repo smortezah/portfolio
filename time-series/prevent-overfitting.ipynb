{
 "cells": [
  {
   "cell_type": "markdown",
   "metadata": {},
   "source": [
    "# Data"
   ]
  },
  {
   "cell_type": "code",
   "execution_count": 1,
   "metadata": {},
   "outputs": [
    {
     "data": {
      "text/html": [
       "<div>\n",
       "<style scoped>\n",
       "    .dataframe tbody tr th:only-of-type {\n",
       "        vertical-align: middle;\n",
       "    }\n",
       "\n",
       "    .dataframe tbody tr th {\n",
       "        vertical-align: top;\n",
       "    }\n",
       "\n",
       "    .dataframe thead th {\n",
       "        text-align: right;\n",
       "    }\n",
       "</style>\n",
       "<table border=\"1\" class=\"dataframe\">\n",
       "  <thead>\n",
       "    <tr style=\"text-align: right;\">\n",
       "      <th></th>\n",
       "      <th>open_USD</th>\n",
       "      <th>high_USD</th>\n",
       "      <th>low_USD</th>\n",
       "      <th>close_USD</th>\n",
       "      <th>volume</th>\n",
       "    </tr>\n",
       "    <tr>\n",
       "      <th>date</th>\n",
       "      <th></th>\n",
       "      <th></th>\n",
       "      <th></th>\n",
       "      <th></th>\n",
       "      <th></th>\n",
       "    </tr>\n",
       "  </thead>\n",
       "  <tbody>\n",
       "    <tr>\n",
       "      <th>2021-01-30</th>\n",
       "      <td>34246.28</td>\n",
       "      <td>34933.00</td>\n",
       "      <td>32825.00</td>\n",
       "      <td>34218.54</td>\n",
       "      <td>43072</td>\n",
       "    </tr>\n",
       "    <tr>\n",
       "      <th>2021-01-29</th>\n",
       "      <td>33368.18</td>\n",
       "      <td>38531.90</td>\n",
       "      <td>31915.40</td>\n",
       "      <td>34252.20</td>\n",
       "      <td>231827</td>\n",
       "    </tr>\n",
       "    <tr>\n",
       "      <th>2021-01-28</th>\n",
       "      <td>30362.19</td>\n",
       "      <td>33783.98</td>\n",
       "      <td>29842.10</td>\n",
       "      <td>33364.86</td>\n",
       "      <td>92621</td>\n",
       "    </tr>\n",
       "    <tr>\n",
       "      <th>2021-01-27</th>\n",
       "      <td>32464.01</td>\n",
       "      <td>32557.29</td>\n",
       "      <td>29241.72</td>\n",
       "      <td>30366.15</td>\n",
       "      <td>95911</td>\n",
       "    </tr>\n",
       "    <tr>\n",
       "      <th>2021-01-26</th>\n",
       "      <td>32254.19</td>\n",
       "      <td>32921.88</td>\n",
       "      <td>30837.37</td>\n",
       "      <td>32467.77</td>\n",
       "      <td>84972</td>\n",
       "    </tr>\n",
       "  </tbody>\n",
       "</table>\n",
       "</div>"
      ],
      "text/plain": [
       "            open_USD  high_USD   low_USD  close_USD  volume\n",
       "date                                                       \n",
       "2021-01-30  34246.28  34933.00  32825.00   34218.54   43072\n",
       "2021-01-29  33368.18  38531.90  31915.40   34252.20  231827\n",
       "2021-01-28  30362.19  33783.98  29842.10   33364.86   92621\n",
       "2021-01-27  32464.01  32557.29  29241.72   30366.15   95911\n",
       "2021-01-26  32254.19  32921.88  30837.37   32467.77   84972"
      ]
     },
     "execution_count": 1,
     "metadata": {},
     "output_type": "execute_result"
    }
   ],
   "source": [
    "import pandas as pd\n",
    "from sklearn.datasets import fetch_openml\n",
    "\n",
    "# Download the data\n",
    "digital_currency = fetch_openml(\n",
    "    \"Digital-currency---Time-series\", as_frame=True, parser=\"pandas\"\n",
    ")\n",
    "\n",
    "# Convert the data to a dataframe\n",
    "data = (\n",
    "    digital_currency\n",
    "    .frame\n",
    "    .drop(columns=[\"open_SAR\", \"high_SAR\", \"low_SAR\", \"close_SAR\"])\n",
    "    .rename(columns={\"Unnamed:_0\": \"date\"})\n",
    "    .set_index(\"date\")\n",
    ")\n",
    "\n",
    "# Separate features and target\n",
    "target = \"close_USD\"\n",
    "y = data[target]\n",
    "X = data.drop(target, axis=1)\n",
    "\n",
    "# Print full data\n",
    "data.head()"
   ]
  },
  {
   "cell_type": "markdown",
   "metadata": {},
   "source": [
    "# Feature Selection"
   ]
  },
  {
   "cell_type": "code",
   "execution_count": 2,
   "metadata": {},
   "outputs": [],
   "source": [
    "from sklearn.feature_selection import SelectKBest, f_regression\n",
    "\n",
    "# Select top k features using f_regression\n",
    "k = 2  # You can adjust this number based on your domain knowledge\n",
    "selector = SelectKBest(score_func=f_regression, k=k)\n",
    "X_selected = selector.fit_transform(X, y)"
   ]
  },
  {
   "cell_type": "code",
   "execution_count": 3,
   "metadata": {},
   "outputs": [
    {
     "name": "stdout",
     "output_type": "stream",
     "text": [
      "Feature    Score\n",
      "-------    ---------\n",
      "high_USD   343836.02\n",
      "low_USD    283910.10\n"
     ]
    }
   ],
   "source": [
    "# Indices of top k features\n",
    "top_indices = selector.get_support(indices=True)\n",
    "\n",
    "# Top k feature names\n",
    "top_features = selector.feature_names_in_[top_indices]\n",
    "\n",
    "# Top k scores\n",
    "top_scores = selector.scores_[top_indices]\n",
    "\n",
    "# Print the names and scores of top k features\n",
    "print(f\"{'Feature':<10} Score\")\n",
    "print(f\"{'-------':<10} ---------\")\n",
    "for feature, score in sorted(zip(top_features, top_scores)):\n",
    "    print(f\"{feature:<10} {score:.2f}\")"
   ]
  },
  {
   "cell_type": "markdown",
   "metadata": {},
   "source": [
    "# Cross-validation"
   ]
  },
  {
   "cell_type": "code",
   "execution_count": 4,
   "metadata": {},
   "outputs": [
    {
     "name": "stdout",
     "output_type": "stream",
     "text": [
      "RMSE\n",
      "Fold 1: 140.891\n",
      "Fold 2: 202.352\n",
      "Fold 3: 128.289\n",
      "Fold 4: 219.695\n",
      "Fold 5: 76.540\n",
      "Mean: 153.554\n"
     ]
    }
   ],
   "source": [
    "from sklearn.model_selection import TimeSeriesSplit, cross_validate\n",
    "from sklearn.linear_model import LinearRegression\n",
    "\n",
    "# Splitting the data into train and test sets\n",
    "train_size = int(X_selected.shape[0] * 0.8)\n",
    "X_train, y_train = X_selected[:train_size], y[:train_size]\n",
    "X_test, y_test = X_selected[train_size:], y[train_size:]\n",
    "\n",
    "# Splitting the train set into train and validation sets\n",
    "tscv = TimeSeriesSplit(n_splits=5)  # You can adjust the number of splits\n",
    "\n",
    "# Model\n",
    "model = LinearRegression()\n",
    "\n",
    "# Cross-validation\n",
    "cv = cross_validate(\n",
    "    model,\n",
    "    X_train,\n",
    "    y_train,\n",
    "    cv=tscv,\n",
    "    scoring=[\n",
    "        \"neg_root_mean_squared_error\",\n",
    "        \"r2\",\n",
    "        \"neg_mean_absolute_percentage_error\"\n",
    "    ],\n",
    ")\n",
    "\n",
    "# Printing the results\n",
    "print(\"RMSE\")\n",
    "for i, val in enumerate(cv[\"test_neg_root_mean_squared_error\"]):\n",
    "    print(f\"Fold {i+1}: {-val:.3f}\")\n",
    "print(f\"Mean: {-cv['test_neg_root_mean_squared_error'].mean():.3f}\")"
   ]
  },
  {
   "cell_type": "code",
   "execution_count": 5,
   "metadata": {},
   "outputs": [],
   "source": [
    "# from matplotlib import pyplot as plt\n",
    "\n",
    "# # Fit the model and predict\n",
    "# model.fit(X_train, y_train)\n",
    "# y_pred = model.predict(X_test)\n",
    "\n",
    "# # Plot the results\n",
    "# plt.plot(y_test, label='y_test')\n",
    "# plt.plot(y_pred, label='y_pred')\n",
    "# plt.legend()\n",
    "# plt.show()"
   ]
  },
  {
   "cell_type": "markdown",
   "metadata": {},
   "source": [
    "# Regularization"
   ]
  },
  {
   "cell_type": "code",
   "execution_count": 50,
   "metadata": {},
   "outputs": [
    {
     "name": "stdout",
     "output_type": "stream",
     "text": [
      "Lasso\n",
      "Coefficients: [0.53359161 0.4748104 ]\n",
      "Intercept: -56.7733\n",
      "\n",
      "Ridge\n",
      "Coefficients: [0.53359067 0.47481144]\n",
      "Intercept: -56.7737\n"
     ]
    }
   ],
   "source": [
    "from sklearn.linear_model import Lasso, Ridge\n",
    "\n",
    "# Create Lasso and Ridge models\n",
    "lasso = Lasso(alpha=0.1, max_iter=3000, random_state=42)\n",
    "ridge = Ridge(alpha=0.1, random_state=42)\n",
    "\n",
    "# Fit models to training data\n",
    "lasso.fit(X_train, y_train)\n",
    "ridge.fit(X_train, y_train)\n",
    "\n",
    "# Print the coefficients and intercepts from both models\n",
    "print(\"Lasso\")\n",
    "print(f\"Coefficients: {lasso.coef_}\")\n",
    "print(f\"Intercept: {lasso.intercept_:.4f}\\n\")\n",
    "\n",
    "print(\"Ridge\")\n",
    "print(f\"Coefficients: {ridge.coef_}\")\n",
    "print(f\"Intercept: {ridge.intercept_:.4f}\")"
   ]
  },
  {
   "cell_type": "code",
   "execution_count": 63,
   "metadata": {},
   "outputs": [
    {
     "name": "stdout",
     "output_type": "stream",
     "text": [
      "Best alpha: 0.1\n"
     ]
    }
   ],
   "source": [
    "import math\n",
    "import numpy as np\n",
    "from sklearn.metrics import mean_squared_error\n",
    "\n",
    "# Initializations\n",
    "best_alpha = 1.0\n",
    "best_mse = math.inf\n",
    "\n",
    "# Create a list of alphas to test against\n",
    "alpha_values = np.linspace(0.1, 1.0, 10)\n",
    "\n",
    "for alpha in alpha_values:\n",
    "    # Model\n",
    "    model = Ridge(alpha=alpha, random_state=42)\n",
    "    # Fit\n",
    "    model.fit(X_train, y_train)\n",
    "    # Predict\n",
    "    y_pred = model.predict(X_test)\n",
    "    # Evaluate\n",
    "    mse = mean_squared_error(y_test, y_pred)\n",
    "    # Update results if a better one is achieved\n",
    "    if mse < best_mse:\n",
    "        best_alpha = alpha\n",
    "        best_mse = mse\n",
    "\n",
    "print(f\"Best alpha: {best_alpha}\")"
   ]
  }
 ],
 "metadata": {
  "kernelspec": {
   "display_name": ".venv",
   "language": "python",
   "name": "python3"
  },
  "language_info": {
   "codemirror_mode": {
    "name": "ipython",
    "version": 3
   },
   "file_extension": ".py",
   "mimetype": "text/x-python",
   "name": "python",
   "nbconvert_exporter": "python",
   "pygments_lexer": "ipython3",
   "version": "3.11.2"
  },
  "orig_nbformat": 4
 },
 "nbformat": 4,
 "nbformat_minor": 2
}
