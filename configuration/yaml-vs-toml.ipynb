{
 "cells": [
  {
   "cell_type": "markdown",
   "metadata": {},
   "source": [
    "Click [here](https://morihosseini.medium.com/toml-vs-yaml-7ff0bb94e98f) to access the associated Medium article."
   ]
  },
  {
   "cell_type": "markdown",
   "metadata": {},
   "source": [
    "# Setup"
   ]
  },
  {
   "cell_type": "code",
   "execution_count": 1,
   "metadata": {},
   "outputs": [
    {
     "name": "stdout",
     "output_type": "stream",
     "text": [
      "\u001b[2mUsing Python 3.13.0 environment at /Users/mori/Desktop/portfolio/.venv3.13\u001b[0m\n",
      "\u001b[2mAudited \u001b[1m1 package\u001b[0m \u001b[2min 9ms\u001b[0m\u001b[0m\n"
     ]
    }
   ],
   "source": [
    "!uv pip install pyyaml"
   ]
  },
  {
   "cell_type": "markdown",
   "metadata": {},
   "source": [
    "# Syntax and Readability"
   ]
  },
  {
   "cell_type": "markdown",
   "metadata": {},
   "source": [
    "## Parsing YAML"
   ]
  },
  {
   "cell_type": "code",
   "execution_count": 2,
   "metadata": {},
   "outputs": [
    {
     "name": "stdout",
     "output_type": "stream",
     "text": [
      "localhost\n"
     ]
    }
   ],
   "source": [
    "import yaml\n",
    "\n",
    "yaml_content = \"\"\"\n",
    "database:\n",
    "  host: \"localhost\"\n",
    "  port: 5432\n",
    "\"\"\"\n",
    "\n",
    "data = yaml.safe_load(yaml_content)\n",
    "print(data['database']['host'])  # Output: localhost"
   ]
  },
  {
   "cell_type": "markdown",
   "metadata": {},
   "source": [
    "## Parsing TOML"
   ]
  },
  {
   "cell_type": "code",
   "execution_count": 3,
   "metadata": {},
   "outputs": [
    {
     "name": "stdout",
     "output_type": "stream",
     "text": [
      "localhost\n"
     ]
    }
   ],
   "source": [
    "import tomllib\n",
    "\n",
    "toml_content = \"\"\"\n",
    "[database]\n",
    "host = \"localhost\"\n",
    "port = 5432\n",
    "\"\"\"\n",
    "\n",
    "data = tomllib.loads(toml_content)\n",
    "print(data['database']['host'])  # Output: localhost"
   ]
  },
  {
   "cell_type": "markdown",
   "metadata": {},
   "source": [
    "# Performance and Compatibility"
   ]
  },
  {
   "cell_type": "code",
   "execution_count": 4,
   "metadata": {},
   "outputs": [
    {
     "name": "stdout",
     "output_type": "stream",
     "text": [
      "YAML Parsing Time: 0.000419 seconds\n",
      "TOML Parsing Time: 0.000068 seconds\n"
     ]
    }
   ],
   "source": [
    "import time\n",
    "import yaml\n",
    "import tomllib\n",
    "\n",
    "yaml_content = \"\"\"\n",
    "database:\n",
    "  host: \"localhost\"\n",
    "  port: 5432\n",
    "  user: \"admin\"\n",
    "  password: \"password123\"\n",
    "\"\"\"\n",
    "\n",
    "toml_content = \"\"\"\n",
    "[database]\n",
    "host = \"localhost\"\n",
    "port = 5432\n",
    "user = \"admin\"\n",
    "password = \"password123\"\n",
    "\"\"\"\n",
    "\n",
    "# Measure YAML parsing time\n",
    "start = time.time()\n",
    "yaml_data = yaml.safe_load(yaml_content)\n",
    "yaml_time = time.time() - start\n",
    "\n",
    "# Measure TOML parsing time\n",
    "start = time.time()\n",
    "toml_data = tomllib.loads(toml_content)\n",
    "toml_time = time.time() - start\n",
    "\n",
    "print(f\"YAML Parsing Time: {yaml_time:.6f} seconds\")\n",
    "print(f\"TOML Parsing Time: {toml_time:.6f} seconds\")"
   ]
  },
  {
   "cell_type": "markdown",
   "metadata": {},
   "source": [
    "# Practical Examples and Use Cases"
   ]
  },
  {
   "cell_type": "code",
   "execution_count": 5,
   "metadata": {},
   "outputs": [
    {
     "name": "stdout",
     "output_type": "stream",
     "text": [
      "127.0.0.1\n",
      "db_user\n"
     ]
    }
   ],
   "source": [
    "import yaml\n",
    "\n",
    "yaml_config = \"\"\"\n",
    "server:\n",
    "  host: \"127.0.0.1\"\n",
    "  port: 8080\n",
    "\n",
    "database:\n",
    "  name: \"app_db\"\n",
    "  user: \"db_user\"\n",
    "  password: \"secure_password\"\n",
    "\n",
    "logging:\n",
    "  level: \"DEBUG\"\n",
    "  file: \"/var/log/app.log\"\n",
    "\"\"\"\n",
    "\n",
    "# Load YAML configuration\n",
    "data = yaml.safe_load(yaml_config)\n",
    "print(data[\"server\"][\"host\"])  # Output: 127.0.0.1\n",
    "print(data[\"database\"][\"user\"])  # Output: db_user"
   ]
  },
  {
   "cell_type": "code",
   "execution_count": 6,
   "metadata": {},
   "outputs": [
    {
     "name": "stdout",
     "output_type": "stream",
     "text": [
      "127.0.0.1\n",
      "db_user\n"
     ]
    }
   ],
   "source": [
    "import tomllib\n",
    "\n",
    "toml_config = \"\"\"\n",
    "[server]\n",
    "host = \"127.0.0.1\"\n",
    "port = 8080\n",
    "\n",
    "[database]\n",
    "name = \"app_db\"\n",
    "user = \"db_user\"\n",
    "password = \"secure_password\"\n",
    "\n",
    "[logging]\n",
    "level = \"DEBUG\"\n",
    "file = \"/var/log/app.log\"\n",
    "\"\"\"\n",
    "\n",
    "# Load TOML configuration\n",
    "data = tomllib.loads(toml_config)\n",
    "print(data[\"server\"][\"host\"])  # Output: 127.0.0.1\n",
    "print(data[\"database\"][\"user\"])  # Output: db_user"
   ]
  },
  {
   "cell_type": "markdown",
   "metadata": {},
   "source": [
    "# Best Practices and Common Pitfalls"
   ]
  },
  {
   "cell_type": "markdown",
   "metadata": {},
   "source": [
    "## Validating YAML"
   ]
  },
  {
   "cell_type": "code",
   "execution_count": 7,
   "metadata": {},
   "outputs": [
    {
     "name": "stdout",
     "output_type": "stream",
     "text": [
      "YAML is valid!\n"
     ]
    }
   ],
   "source": [
    "import yaml\n",
    "\n",
    "yaml_content = \"\"\"\n",
    "server:\n",
    "  host: \"127.0.0.1\"\n",
    "  port: 8080\n",
    "\"\"\"\n",
    "\n",
    "try:\n",
    "    data = yaml.safe_load(yaml_content)\n",
    "    print(\"YAML is valid!\")\n",
    "except yaml.YAMLError as e:\n",
    "    print(\"YAML validation error:\", e)"
   ]
  },
  {
   "cell_type": "markdown",
   "metadata": {},
   "source": [
    "## Validating TOML"
   ]
  },
  {
   "cell_type": "code",
   "execution_count": 8,
   "metadata": {},
   "outputs": [
    {
     "name": "stdout",
     "output_type": "stream",
     "text": [
      "TOML is valid!\n"
     ]
    }
   ],
   "source": [
    "import tomllib\n",
    "\n",
    "toml_content = \"\"\"\n",
    "[server]\n",
    "host = \"127.0.0.1\"\n",
    "port = 8080\n",
    "\"\"\"\n",
    "\n",
    "try:\n",
    "    data = tomllib.loads(toml_content)\n",
    "    print(\"TOML is valid!\")\n",
    "except tomllib.TOMLDecodeError as e:\n",
    "    print(\"TOML validation error:\", e)"
   ]
  }
 ],
 "metadata": {
  "kernelspec": {
   "display_name": ".venv3.13",
   "language": "python",
   "name": "python3"
  },
  "language_info": {
   "codemirror_mode": {
    "name": "ipython",
    "version": 3
   },
   "file_extension": ".py",
   "mimetype": "text/x-python",
   "name": "python",
   "nbconvert_exporter": "python",
   "pygments_lexer": "ipython3",
   "version": "3.13.0"
  }
 },
 "nbformat": 4,
 "nbformat_minor": 2
}
