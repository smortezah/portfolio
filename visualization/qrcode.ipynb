{
 "cells": [
  {
   "cell_type": "markdown",
   "metadata": {},
   "source": [
    "Click [here](https://medium.com/@morihosseini/qr-code-mastery-with-python-qrcode-89641f53aca7) to access the associated Medium article."
   ]
  },
  {
   "cell_type": "markdown",
   "metadata": {},
   "source": [
    "# Setup"
   ]
  },
  {
   "cell_type": "code",
   "execution_count": 1,
   "metadata": {},
   "outputs": [
    {
     "name": "stdout",
     "output_type": "stream",
     "text": [
      "\u001b[33mDEPRECATION: textract 1.6.5 has a non-standard dependency specifier extract-msg<=0.29.*. pip 23.3 will enforce this behaviour change. A possible replacement is to upgrade to a newer version of textract or contact the author to suggest that they release a version with a conforming dependency specifiers. Discussion can be found at https://github.com/pypa/pip/issues/12063\u001b[0m\u001b[33m\n",
      "\u001b[0m"
     ]
    }
   ],
   "source": [
    "!pip install -q \"qrcode[pil]\""
   ]
  },
  {
   "cell_type": "code",
   "execution_count": 2,
   "metadata": {},
   "outputs": [],
   "source": [
    "import qrcode"
   ]
  },
  {
   "cell_type": "markdown",
   "metadata": {},
   "source": [
    "# Basic QR Code"
   ]
  },
  {
   "cell_type": "code",
   "execution_count": 3,
   "metadata": {},
   "outputs": [
    {
     "data": {
      "image/png": "[encoded data removed]",
      "text/plain": [
       "<qrcode.image.pil.PilImage at 0x1064afa50>"
      ]
     },
     "metadata": {},
     "output_type": "display_data"
    }
   ],
   "source": [
    "# Add data to the QR code\n",
    "img = qrcode.make(\"Hello, QR Code World!\")\n",
    "\n",
    "# Create the image and save it\n",
    "# img.save(\"basic_qr.png\")\n",
    "display(img)"
   ]
  },
  {
   "cell_type": "markdown",
   "metadata": {},
   "source": [
    "# Advanced QR Code"
   ]
  },
  {
   "cell_type": "code",
   "execution_count": 4,
   "metadata": {},
   "outputs": [
    {
     "data": {
      "image/png": "[encoded data removed]",
      "text/plain": [
       "<qrcode.image.pil.PilImage at 0x10ab33f50>"
      ]
     },
     "metadata": {},
     "output_type": "display_data"
    }
   ],
   "source": [
    "# Create the object\n",
    "qr = qrcode.QRCode(\n",
    "    version=1,  # Version of the QR code (1 to 40, higher values for more data)\n",
    "    error_correction=qrcode.constants.ERROR_CORRECT_L,  # Error correction level\n",
    "    box_size=10,  # Size of each \"box\" in the QR code\n",
    "    border=4,  # Width of the border around the QR code\n",
    ")\n",
    "\n",
    "# Add data to the QR code\n",
    "data = \"An advanced QR Code!\"\n",
    "qr.add_data(data)\n",
    "\n",
    "# Generate the QR code\n",
    "qr.make(fit=True)\n",
    "\n",
    "# Create an image from the QR code instance and save it\n",
    "img = qr.make_image(fill_color=\"black\", back_color=\"white\")\n",
    "# img.save(\"advanced_qr.png\")\n",
    "display(img)"
   ]
  },
  {
   "cell_type": "markdown",
   "metadata": {},
   "source": [
    "# Colorful QR Code"
   ]
  },
  {
   "cell_type": "code",
   "execution_count": 5,
   "metadata": {},
   "outputs": [
    {
     "data": {
      "image/png": "[encoded data removed]",
      "text/plain": [
       "<qrcode.image.pil.PilImage at 0x10ab32b50>"
      ]
     },
     "metadata": {},
     "output_type": "display_data"
    }
   ],
   "source": [
    "import qrcode\n",
    "\n",
    "# Create a QR code object\n",
    "qr = qrcode.QRCode(\n",
    "    version=1,\n",
    "    error_correction=qrcode.constants.ERROR_CORRECT_L,\n",
    "    box_size=10,\n",
    "    border=4,\n",
    ")\n",
    "\n",
    "data = \"Hello, Colorful QR Code!\"\n",
    "\n",
    "# Add data to the QR code\n",
    "qr.add_data(data)\n",
    "\n",
    "# Generate the QR code\n",
    "qr.make(fit=True)\n",
    "\n",
    "# Create an image with custom colors\n",
    "img = qr.make_image(fill_color=\"green\", back_color=\"lightyellow\")\n",
    "# img.save(\"colorful_qr.png\")\n",
    "display(img)"
   ]
  },
  {
   "cell_type": "markdown",
   "metadata": {},
   "source": [
    "# Customized QR Code"
   ]
  },
  {
   "cell_type": "code",
   "execution_count": 6,
   "metadata": {},
   "outputs": [
    {
     "data": {
      "image/png": "[encoded data removed]",
      "text/plain": [
       "<qrcode.image.pil.PilImage at 0x10ab32850>"
      ]
     },
     "metadata": {},
     "output_type": "display_data"
    }
   ],
   "source": [
    "import qrcode\n",
    "\n",
    "qr = qrcode.QRCode(\n",
    "    version=5,  # Larger version\n",
    "    error_correction=qrcode.constants.ERROR_CORRECT_L,\n",
    "    box_size=15,  # Larger boxes\n",
    "    border=3,  # Smaller border\n",
    ")\n",
    "\n",
    "data = \"Customized QR Code!\"\n",
    "qr.add_data(data)\n",
    "\n",
    "qr.make(fit=True)\n",
    "\n",
    "img = qr.make_image(fill_color=\"pink\", back_color=\"darkblue\")\n",
    "# img.save(\"customized_qr.png\")\n",
    "display(img)"
   ]
  }
 ],
 "metadata": {
  "kernelspec": {
   "display_name": ".venv",
   "language": "python",
   "name": "python3"
  },
  "language_info": {
   "codemirror_mode": {
    "name": "ipython",
    "version": 3
   },
   "file_extension": ".py",
   "mimetype": "text/x-python",
   "name": "python",
   "nbconvert_exporter": "python",
   "pygments_lexer": "ipython3",
   "version": "3.11.2"
  },
  "orig_nbformat": 4
 },
 "nbformat": 4,
 "nbformat_minor": 2
}
