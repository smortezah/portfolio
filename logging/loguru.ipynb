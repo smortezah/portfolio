{
 "cells": [
  {
   "cell_type": "markdown",
   "metadata": {},
   "source": [
    "Click [here]() to access the associated Medium article."
   ]
  },
  {
   "cell_type": "markdown",
   "metadata": {},
   "source": [
    "# Setup"
   ]
  },
  {
   "cell_type": "code",
   "execution_count": 1,
   "metadata": {},
   "outputs": [
    {
     "name": "stdout",
     "output_type": "stream",
     "text": [
      "\u001b[2mUsing Python 3.12.0 environment at /Users/mori/Desktop/portfolio/.venv3.12\u001b[0m\n",
      "\u001b[2mAudited \u001b[1m1 package\u001b[0m \u001b[2min 10ms\u001b[0m\u001b[0m\n"
     ]
    }
   ],
   "source": [
    "!uv pip install loguru"
   ]
  },
  {
   "cell_type": "markdown",
   "metadata": {},
   "source": [
    "# Getting Started with Loguru"
   ]
  },
  {
   "cell_type": "code",
   "execution_count": 2,
   "metadata": {},
   "outputs": [
    {
     "name": "stderr",
     "output_type": "stream",
     "text": [
      "\u001b[32m2024-12-01 15:53:20.032\u001b[0m | \u001b[1mINFO    \u001b[0m | \u001b[36m__main__\u001b[0m:\u001b[36m<module>\u001b[0m:\u001b[36m4\u001b[0m - \u001b[1mHello, Loguru!\u001b[0m\n"
     ]
    }
   ],
   "source": [
    "from loguru import logger\n",
    "\n",
    "# A simple log message\n",
    "logger.info(\"Hello, Loguru!\")"
   ]
  },
  {
   "cell_type": "code",
   "execution_count": 3,
   "metadata": {},
   "outputs": [
    {
     "name": "stdout",
     "output_type": "stream",
     "text": [
      "This is a standard print statement.\n",
      "2024-12-01T15:53:20.042745+0000 DEBUG And this is a debug log!\n"
     ]
    }
   ],
   "source": [
    "import sys\n",
    "from loguru import logger\n",
    "\n",
    "# Remove the previous logger\n",
    "logger.remove()\n",
    "\n",
    "# Redirect standard output to Loguru\n",
    "logger.add(sys.stdout, format=\"{time} {level} {message}\", level=\"DEBUG\")\n",
    "\n",
    "# Now, even print statements go through Loguru\n",
    "print(\"This is a standard print statement.\")\n",
    "logger.debug(\"And this is a debug log!\")"
   ]
  },
  {
   "cell_type": "markdown",
   "metadata": {},
   "source": [
    "**NOTE:** Uncommenting the followings will write to the \"app.log\" file"
   ]
  },
  {
   "cell_type": "code",
   "execution_count": 4,
   "metadata": {},
   "outputs": [],
   "source": [
    "# logger.remove()\n",
    "# logger.add(\"app.log\", rotation=\"1 MB\", retention=\"10 days\", compression=\"zip\")\n",
    "\n",
    "# logger.info(\"This log will be saved to 'app.log'!\")"
   ]
  },
  {
   "cell_type": "markdown",
   "metadata": {},
   "source": [
    "# Advanced Loguru Features"
   ]
  },
  {
   "cell_type": "markdown",
   "metadata": {},
   "source": [
    "## Structured Logging with Context"
   ]
  },
  {
   "cell_type": "code",
   "execution_count": 5,
   "metadata": {},
   "outputs": [
    {
     "name": "stderr",
     "output_type": "stream",
     "text": [
      "192.168.0.200 - First instance\n",
      "127.0.0.1 - Second instance\n",
      "127.0.0.1 - Second instance\n"
     ]
    }
   ],
   "source": [
    "logger.remove()\n",
    "logger.add(sys.stderr, format=\"{extra[ip]} - {message}\")\n",
    "\n",
    "class Server:\n",
    "    def __init__(self, ip):\n",
    "        self.ip = ip\n",
    "        self.logger = logger.bind(ip=ip)\n",
    "\n",
    "    def call(self, message):\n",
    "        self.logger.info(message)\n",
    "\n",
    "instance_1 = Server(\"192.168.0.200\")\n",
    "instance_2 = Server(\"127.0.0.1\")\n",
    "\n",
    "instance_1.call(\"First instance\")\n",
    "instance_2.call(\"Second instance\")"
   ]
  },
  {
   "cell_type": "code",
   "execution_count": 6,
   "metadata": {},
   "outputs": [
    {
     "name": "stderr",
     "output_type": "stream",
     "text": [
      "123 - This is a log message with context.\n",
      "123 - This is a debug message with context.\n",
      "123 - This is a debug message with context.\n"
     ]
    }
   ],
   "source": [
    "from loguru import logger\n",
    "\n",
    "logger.remove()\n",
    "logger.add(sys.stderr, format=\"{extra[id]} - {message}\")\n",
    "logger = logger.bind(id=123)\n",
    "\n",
    "logger.info(\"This is a log message with context.\")\n",
    "logger.debug(\"This is a debug message with context.\")"
   ]
  },
  {
   "cell_type": "markdown",
   "metadata": {},
   "source": [
    "## Logging to Files with Rotation and Retention\n",
    "\n",
    "**NOTE:** Uncommenting the followings will write to the \"logs/app.log\" file"
   ]
  },
  {
   "cell_type": "code",
   "execution_count": 7,
   "metadata": {},
   "outputs": [],
   "source": [
    "# logger.remove()\n",
    "# logger.add(\n",
    "#     \"logs/app.log\",\n",
    "#     rotation=\"500 MB\",    # Rotate after file reaches 500 MB\n",
    "#     retention=\"2 weeks\",  # Keep logs for 2 weeks\n",
    "#     compression=\"zip\",    # Compress old logs\n",
    "# )\n",
    "\n",
    "# logger.info(\"This will be written to a file with rotation and retention!\")"
   ]
  },
  {
   "cell_type": "markdown",
   "metadata": {},
   "source": [
    "## Customizing Log Formats"
   ]
  },
  {
   "cell_type": "code",
   "execution_count": 8,
   "metadata": {},
   "outputs": [
    {
     "name": "stdout",
     "output_type": "stream",
     "text": [
      "2024-12-01 at 15:53:20 | WARNING | This is a custom log format!\n"
     ]
    }
   ],
   "source": [
    "logger.remove()\n",
    "logger.add(sys.stdout, format=\"{time:YYYY-MM-DD at HH:mm:ss} | {level} | {message}\")\n",
    "\n",
    "logger.warning(\"This is a custom log format!\")"
   ]
  },
  {
   "cell_type": "markdown",
   "metadata": {},
   "source": [
    "## Async Logging\n",
    "\n",
    "**NOTE:** Uncommenting the followings will write to the \"async.log\" file"
   ]
  },
  {
   "cell_type": "code",
   "execution_count": 9,
   "metadata": {},
   "outputs": [],
   "source": [
    "# from loguru import logger\n",
    "# import asyncio\n",
    "\n",
    "# async def main():\n",
    "#     logger.remove()\n",
    "#     logger.add(\"async.log\")\n",
    "#     await asyncio.gather(\n",
    "#         asyncio.to_thread(logger.info, \"Log from thread 1\"),\n",
    "#         asyncio.to_thread(logger.info, \"Log from thread 2\"),\n",
    "#     )\n",
    "\n",
    "# await main()"
   ]
  },
  {
   "cell_type": "markdown",
   "metadata": {},
   "source": [
    "# Error Handling and Debugging with Loguru"
   ]
  },
  {
   "cell_type": "markdown",
   "metadata": {},
   "source": [
    "## Logging Exceptions with Decorators"
   ]
  },
  {
   "cell_type": "code",
   "execution_count": 10,
   "metadata": {},
   "outputs": [
    {
     "name": "stdout",
     "output_type": "stream",
     "text": [
      "2024-12-01 at 15:53:20 | ERROR | An error has been caught in function '<module>', process 'MainProcess' (71680), thread 'MainThread' (8559835200):\n",
      "\u001b[33m\u001b[1mTraceback (most recent call last):\u001b[0m\n",
      "\n",
      "  File \"<frozen runpy>\", line 198, in _run_module_as_main\n",
      "  File \"<frozen runpy>\", line 88, in _run_code\n",
      "  File \"/Users/mori/Desktop/portfolio/.venv3.12/lib/python3.12/site-packages/ipykernel_launcher.py\", line 18, in <module>\n",
      "    app.launch_new_instance()\n",
      "    │   └ <bound method Application.launch_instance of <class 'ipykernel.kernelapp.IPKernelApp'>>\n",
      "    └ <module 'ipykernel.kernelapp' from '/Users/mori/Desktop/portfolio/.venv3.12/lib/python3.12/site-packages/ipykernel/kernelapp....\n",
      "  File \"/Users/mori/Desktop/portfolio/.venv3.12/lib/python3.12/site-packages/traitlets/config/application.py\", line 1075, in launch_instance\n",
      "    app.start()\n",
      "    │   └ <function IPKernelApp.start at 0x107ebe700>\n",
      "    └ <ipykernel.kernelapp.IPKernelApp object at 0x1049ef5f0>\n",
      "  File \"/Users/mori/Desktop/portfolio/.venv3.12/lib/python3.12/site-packages/ipykernel/kernelapp.py\", line 739, in start\n",
      "    self.io_loop.start()\n",
      "    │    │       └ <function BaseAsyncIOLoop.start at 0x107ebf4c0>\n",
      "    │    └ <tornado.platform.asyncio.AsyncIOMainLoop object at 0x107ecda90>\n",
      "    └ <ipykernel.kernelapp.IPKernelApp object at 0x1049ef5f0>\n",
      "  File \"/Users/mori/Desktop/portfolio/.venv3.12/lib/python3.12/site-packages/tornado/platform/asyncio.py\", line 205, in start\n",
      "    self.asyncio_loop.run_forever()\n",
      "    │    │            └ <function BaseEventLoop.run_forever at 0x105fed260>\n",
      "    │    └ <_UnixSelectorEventLoop running=True closed=False debug=False>\n",
      "    └ <tornado.platform.asyncio.AsyncIOMainLoop object at 0x107ecda90>\n",
      "  File \"/Library/Frameworks/Python.framework/Versions/3.12/lib/python3.12/asyncio/base_events.py\", line 618, in run_forever\n",
      "    self._run_once()\n",
      "    │    └ <function BaseEventLoop._run_once at 0x105fef060>\n",
      "    └ <_UnixSelectorEventLoop running=True closed=False debug=False>\n",
      "  File \"/Library/Frameworks/Python.framework/Versions/3.12/lib/python3.12/asyncio/base_events.py\", line 1951, in _run_once\n",
      "    handle._run()\n",
      "    │      └ <function Handle._run at 0x10571eac0>\n",
      "    └ <Handle Task.task_wakeup(<Future finis...0B)>, ...],))>)>\n",
      "  File \"/Library/Frameworks/Python.framework/Versions/3.12/lib/python3.12/asyncio/events.py\", line 84, in _run\n",
      "    self._context.run(self._callback, *self._args)\n",
      "    │    │            │    │           │    └ <member '_args' of 'Handle' objects>\n",
      "    │    │            │    │           └ <Handle Task.task_wakeup(<Future finis...0B)>, ...],))>)>\n",
      "    │    │            │    └ <member '_callback' of 'Handle' objects>\n",
      "    │    │            └ <Handle Task.task_wakeup(<Future finis...0B)>, ...],))>)>\n",
      "    │    └ <member '_context' of 'Handle' objects>\n",
      "    └ <Handle Task.task_wakeup(<Future finis...0B)>, ...],))>)>\n",
      "  File \"/Users/mori/Desktop/portfolio/.venv3.12/lib/python3.12/site-packages/ipykernel/kernelbase.py\", line 545, in dispatch_queue\n",
      "    await self.process_one()\n",
      "          │    └ <function Kernel.process_one at 0x107e720c0>\n",
      "          └ <ipykernel.ipkernel.IPythonKernel object at 0x107ecd760>\n",
      "  File \"/Users/mori/Desktop/portfolio/.venv3.12/lib/python3.12/site-packages/ipykernel/kernelbase.py\", line 534, in process_one\n",
      "    await dispatch(*args)\n",
      "          │         └ ([<zmq.Frame(b'6479324a-0d2'...36B)>, <zmq.Frame(b'<IDS|MSG>')>, <zmq.Frame(b'08abcadd4e71'...64B)>, <zmq.Frame(b'{\"date\":\"20...\n",
      "          └ <bound method Kernel.dispatch_shell of <ipykernel.ipkernel.IPythonKernel object at 0x107ecd760>>\n",
      "  File \"/Users/mori/Desktop/portfolio/.venv3.12/lib/python3.12/site-packages/ipykernel/kernelbase.py\", line 437, in dispatch_shell\n",
      "    await result\n",
      "          └ <coroutine object IPythonKernel.execute_request at 0x11604c140>\n",
      "  File \"/Users/mori/Desktop/portfolio/.venv3.12/lib/python3.12/site-packages/ipykernel/ipkernel.py\", line 362, in execute_request\n",
      "    await super().execute_request(stream, ident, parent)\n",
      "                                  │       │      └ {'header': {'date': datetime.datetime(2024, 12, 1, 15, 53, 20, 147000, tzinfo=tzutc()), 'msg_id': '23411b63-82fa-498b-a4ab-fe...\n",
      "                                  │       └ [b'6479324a-0d2f-41e7-aef5-45741baf211b']\n",
      "                                  └ <zmq.eventloop.zmqstream.ZMQStream object at 0x107ecdd30>\n",
      "  File \"/Users/mori/Desktop/portfolio/.venv3.12/lib/python3.12/site-packages/ipykernel/kernelbase.py\", line 778, in execute_request\n",
      "    reply_content = await reply_content\n",
      "                          └ <coroutine object IPythonKernel.do_execute at 0x107ce59c0>\n",
      "  File \"/Users/mori/Desktop/portfolio/.venv3.12/lib/python3.12/site-packages/ipykernel/ipkernel.py\", line 449, in do_execute\n",
      "    res = shell.run_cell(\n",
      "          │     └ <function ZMQInteractiveShell.run_cell at 0x107ea2200>\n",
      "          └ <ipykernel.zmqshell.ZMQInteractiveShell object at 0x1104601d0>\n",
      "  File \"/Users/mori/Desktop/portfolio/.venv3.12/lib/python3.12/site-packages/ipykernel/zmqshell.py\", line 549, in run_cell\n",
      "    return super().run_cell(*args, **kwargs)\n",
      "                             │       └ {'store_history': True, 'silent': False, 'cell_id': 'vscode-notebook-cell:/Users/mori/Desktop/portfolio/python/loguru.ipynb#X...\n",
      "                             └ ('from loguru import logger\\n\\n@logger.catch\\ndef divide_numbers(a, b):\\n    return a / b\\n\\ndivide_numbers(10, 0)',)\n",
      "  File \"/Users/mori/Desktop/portfolio/.venv3.12/lib/python3.12/site-packages/IPython/core/interactiveshell.py\", line 3075, in run_cell\n",
      "    result = self._run_cell(\n",
      "             │    └ <function InteractiveShell._run_cell at 0x106d518a0>\n",
      "             └ <ipykernel.zmqshell.ZMQInteractiveShell object at 0x1104601d0>\n",
      "  File \"/Users/mori/Desktop/portfolio/.venv3.12/lib/python3.12/site-packages/IPython/core/interactiveshell.py\", line 3130, in _run_cell\n",
      "    result = runner(coro)\n",
      "             │      └ <coroutine object InteractiveShell.run_cell_async at 0x107e430b0>\n",
      "             └ <function _pseudo_sync_runner at 0x106d48a40>\n",
      "  File \"/Users/mori/Desktop/portfolio/.venv3.12/lib/python3.12/site-packages/IPython/core/async_helpers.py\", line 128, in _pseudo_sync_runner\n",
      "    coro.send(None)\n",
      "    │    └ <method 'send' of 'coroutine' objects>\n",
      "    └ <coroutine object InteractiveShell.run_cell_async at 0x107e430b0>\n",
      "  File \"/Users/mori/Desktop/portfolio/.venv3.12/lib/python3.12/site-packages/IPython/core/interactiveshell.py\", line 3334, in run_cell_async\n",
      "    has_raised = await self.run_ast_nodes(code_ast.body, cell_name,\n",
      "                       │    │             │        │     └ '/var/folders/fm/jq8h3yy15l123ytv72w5_sc40000gn/T/ipykernel_71680/1871288002.py'\n",
      "                       │    │             │        └ [<ast.ImportFrom object at 0x116062e50>, <ast.FunctionDef object at 0x116062dd0>, <ast.Expr object at 0x116062b50>]\n",
      "                       │    │             └ <ast.Module object at 0x116062e90>\n",
      "                       │    └ <function InteractiveShell.run_ast_nodes at 0x106d51bc0>\n",
      "                       └ <ipykernel.zmqshell.ZMQInteractiveShell object at 0x1104601d0>\n",
      "  File \"/Users/mori/Desktop/portfolio/.venv3.12/lib/python3.12/site-packages/IPython/core/interactiveshell.py\", line 3517, in run_ast_nodes\n",
      "    if await self.run_code(code, result, async_=asy):\n",
      "             │    │        │     │              └ False\n",
      "             │    │        │     └ <ExecutionResult object at 11605cb90, execution_count=10 error_before_exec=None error_in_exec=None info=<ExecutionInfo object...\n",
      "             │    │        └ <code object <module> at 0x1160117d0, file \"/var/folders/fm/jq8h3yy15l123ytv72w5_sc40000gn/T/ipykernel_71680/1871288002.py\", ...\n",
      "             │    └ <function InteractiveShell.run_code at 0x106d51c60>\n",
      "             └ <ipykernel.zmqshell.ZMQInteractiveShell object at 0x1104601d0>\n",
      "  File \"/Users/mori/Desktop/portfolio/.venv3.12/lib/python3.12/site-packages/IPython/core/interactiveshell.py\", line 3577, in run_code\n",
      "    exec(code_obj, self.user_global_ns, self.user_ns)\n",
      "         │         │    │               │    └ {'__name__': '__main__', '__doc__': 'Automatically created module for IPython interactive environment', '__package__': None, ...\n",
      "         │         │    │               └ <ipykernel.zmqshell.ZMQInteractiveShell object at 0x1104601d0>\n",
      "         │         │    └ <property object at 0x106d274c0>\n",
      "         │         └ <ipykernel.zmqshell.ZMQInteractiveShell object at 0x1104601d0>\n",
      "         └ <code object <module> at 0x1160117d0, file \"/var/folders/fm/jq8h3yy15l123ytv72w5_sc40000gn/T/ipykernel_71680/1871288002.py\", ...\n",
      "\n",
      "> File \"\u001b[32m/var/folders/fm/jq8h3yy15l123ytv72w5_sc40000gn/T/ipykernel_71680/\u001b[0m\u001b[32m\u001b[1m1871288002.py\u001b[0m\", line \u001b[33m7\u001b[0m, in \u001b[35m<module>\u001b[0m\n",
      "    \u001b[1mdivide_numbers\u001b[0m\u001b[1m(\u001b[0m\u001b[34m\u001b[1m10\u001b[0m\u001b[1m,\u001b[0m \u001b[34m\u001b[1m0\u001b[0m\u001b[1m)\u001b[0m\n",
      "    \u001b[36m└ \u001b[0m\u001b[36m\u001b[1m<function divide_numbers at 0x116043a60>\u001b[0m\n",
      "\n",
      "  File \"\u001b[32m/var/folders/fm/jq8h3yy15l123ytv72w5_sc40000gn/T/ipykernel_71680/\u001b[0m\u001b[32m\u001b[1m1871288002.py\u001b[0m\", line \u001b[33m5\u001b[0m, in \u001b[35mdivide_numbers\u001b[0m\n",
      "    \u001b[35m\u001b[1mreturn\u001b[0m \u001b[1ma\u001b[0m \u001b[35m\u001b[1m/\u001b[0m \u001b[1mb\u001b[0m\n",
      "    \u001b[36m       │   └ \u001b[0m\u001b[36m\u001b[1m0\u001b[0m\n",
      "    \u001b[36m       └ \u001b[0m\u001b[36m\u001b[1m10\u001b[0m\n",
      "\n",
      "\u001b[31m\u001b[1mZeroDivisionError\u001b[0m:\u001b[1m division by zero\u001b[0m\n"
     ]
    }
   ],
   "source": [
    "from loguru import logger\n",
    "\n",
    "@logger.catch\n",
    "def divide_numbers(a, b):\n",
    "    return a / b\n",
    "\n",
    "divide_numbers(10, 0)"
   ]
  },
  {
   "cell_type": "markdown",
   "metadata": {},
   "source": [
    "## Catching Uncaught Exceptions Globally"
   ]
  },
  {
   "cell_type": "code",
   "execution_count": 11,
   "metadata": {},
   "outputs": [
    {
     "ename": "ZeroDivisionError",
     "evalue": "division by zero",
     "output_type": "error",
     "traceback": [
      "\u001b[0;31m---------------------------------------------------------------------------\u001b[0m",
      "\u001b[0;31mZeroDivisionError\u001b[0m                         Traceback (most recent call last)",
      "Cell \u001b[0;32mIn[11], line 12\u001b[0m\n\u001b[1;32m      9\u001b[0m \u001b[38;5;28;01mdef\u001b[39;00m \u001b[38;5;21mmain\u001b[39m():\n\u001b[1;32m     10\u001b[0m     \u001b[38;5;241m1\u001b[39m \u001b[38;5;241m/\u001b[39m \u001b[38;5;241m0\u001b[39m  \u001b[38;5;66;03m# Intentional error\u001b[39;00m\n\u001b[0;32m---> 12\u001b[0m \u001b[43mmain\u001b[49m\u001b[43m(\u001b[49m\u001b[43m)\u001b[49m\n",
      "Cell \u001b[0;32mIn[11], line 10\u001b[0m, in \u001b[0;36mmain\u001b[0;34m()\u001b[0m\n\u001b[1;32m      9\u001b[0m \u001b[38;5;28;01mdef\u001b[39;00m \u001b[38;5;21mmain\u001b[39m():\n\u001b[0;32m---> 10\u001b[0m     \u001b[38;5;241;43m1\u001b[39;49m\u001b[43m \u001b[49m\u001b[38;5;241;43m/\u001b[39;49m\u001b[43m \u001b[49m\u001b[38;5;241;43m0\u001b[39;49m\n",
      "\u001b[0;31mZeroDivisionError\u001b[0m: division by zero"
     ]
    }
   ],
   "source": [
    "from loguru import logger\n",
    "import sys\n",
    "\n",
    "logger.remove()\n",
    "\n",
    "# Catch all uncaught exceptions\n",
    "logger.add(sys.stderr, backtrace=True, diagnose=True)\n",
    "\n",
    "def main():\n",
    "    1 / 0  # Intentional error\n",
    "\n",
    "main()"
   ]
  },
  {
   "cell_type": "markdown",
   "metadata": {},
   "source": [
    "## Adding Context to Exception Logs"
   ]
  },
  {
   "cell_type": "code",
   "execution_count": 12,
   "metadata": {},
   "outputs": [
    {
     "name": "stderr",
     "output_type": "stream",
     "text": [
      "42 - Starting data processing...\n",
      "42 - An error has been caught in function '<module>', process 'MainProcess' (71680), thread 'MainThread' (8559835200):\n",
      "\u001b[33m\u001b[1mTraceback (most recent call last):\u001b[0m\n",
      "\n",
      "  File \"<frozen runpy>\", line 198, in _run_module_as_main\n",
      "  File \"<frozen runpy>\", line 88, in _run_code\n",
      "  File \"/Users/mori/Desktop/portfolio/.venv3.12/lib/python3.12/site-packages/ipykernel_launcher.py\", line 18, in <module>\n",
      "    app.launch_new_instance()\n",
      "    │   └ <bound method Application.launch_instance of <class 'ipykernel.kernelapp.IPKernelApp'>>\n",
      "    └ <module 'ipykernel.kernelapp' from '/Users/mori/Desktop/portfolio/.venv3.12/lib/python3.12/site-packages/ipykernel/kernelapp....\n",
      "  File \"/Users/mori/Desktop/portfolio/.venv3.12/lib/python3.12/site-packages/traitlets/config/application.py\", line 1075, in launch_instance\n",
      "    app.start()\n",
      "    │   └ <function IPKernelApp.start at 0x107ebe700>\n",
      "    └ <ipykernel.kernelapp.IPKernelApp object at 0x1049ef5f0>\n",
      "  File \"/Users/mori/Desktop/portfolio/.venv3.12/lib/python3.12/site-packages/ipykernel/kernelapp.py\", line 739, in start\n",
      "    self.io_loop.start()\n",
      "    │    │       └ <function BaseAsyncIOLoop.start at 0x107ebf4c0>\n",
      "    │    └ <tornado.platform.asyncio.AsyncIOMainLoop object at 0x107ecda90>\n",
      "    └ <ipykernel.kernelapp.IPKernelApp object at 0x1049ef5f0>\n",
      "  File \"/Users/mori/Desktop/portfolio/.venv3.12/lib/python3.12/site-packages/tornado/platform/asyncio.py\", line 205, in start\n",
      "    self.asyncio_loop.run_forever()\n",
      "    │    │            └ <function BaseEventLoop.run_forever at 0x105fed260>\n",
      "    │    └ <_UnixSelectorEventLoop running=True closed=False debug=False>\n",
      "    └ <tornado.platform.asyncio.AsyncIOMainLoop object at 0x107ecda90>\n",
      "  File \"/Library/Frameworks/Python.framework/Versions/3.12/lib/python3.12/asyncio/base_events.py\", line 618, in run_forever\n",
      "    self._run_once()\n",
      "    │    └ <function BaseEventLoop._run_once at 0x105fef060>\n",
      "    └ <_UnixSelectorEventLoop running=True closed=False debug=False>\n",
      "  File \"/Library/Frameworks/Python.framework/Versions/3.12/lib/python3.12/asyncio/base_events.py\", line 1951, in _run_once\n",
      "    handle._run()\n",
      "    │      └ <function Handle._run at 0x10571eac0>\n",
      "    └ <Handle Task.task_wakeup(<Future finis...0B)>, ...],))>)>\n",
      "  File \"/Library/Frameworks/Python.framework/Versions/3.12/lib/python3.12/asyncio/events.py\", line 84, in _run\n",
      "    self._context.run(self._callback, *self._args)\n",
      "    │    │            │    │           │    └ <member '_args' of 'Handle' objects>\n",
      "    │    │            │    │           └ <Handle Task.task_wakeup(<Future finis...0B)>, ...],))>)>\n",
      "    │    │            │    └ <member '_callback' of 'Handle' objects>\n",
      "    │    │            └ <Handle Task.task_wakeup(<Future finis...0B)>, ...],))>)>\n",
      "    │    └ <member '_context' of 'Handle' objects>\n",
      "    └ <Handle Task.task_wakeup(<Future finis...0B)>, ...],))>)>\n",
      "  File \"/Users/mori/Desktop/portfolio/.venv3.12/lib/python3.12/site-packages/ipykernel/kernelbase.py\", line 545, in dispatch_queue\n",
      "    await self.process_one()\n",
      "          │    └ <function Kernel.process_one at 0x107e720c0>\n",
      "          └ <ipykernel.ipkernel.IPythonKernel object at 0x107ecd760>\n",
      "  File \"/Users/mori/Desktop/portfolio/.venv3.12/lib/python3.12/site-packages/ipykernel/kernelbase.py\", line 534, in process_one\n",
      "    await dispatch(*args)\n",
      "          │         └ ([<zmq.Frame(b'6479324a-0d2'...36B)>, <zmq.Frame(b'<IDS|MSG>')>, <zmq.Frame(b'793db60c8405'...64B)>, <zmq.Frame(b'{\"date\":\"20...\n",
      "          └ <bound method Kernel.dispatch_shell of <ipykernel.ipkernel.IPythonKernel object at 0x107ecd760>>\n",
      "  File \"/Users/mori/Desktop/portfolio/.venv3.12/lib/python3.12/site-packages/ipykernel/kernelbase.py\", line 437, in dispatch_shell\n",
      "    await result\n",
      "          └ <coroutine object IPythonKernel.execute_request at 0x11604d540>\n",
      "  File \"/Users/mori/Desktop/portfolio/.venv3.12/lib/python3.12/site-packages/ipykernel/ipkernel.py\", line 362, in execute_request\n",
      "    await super().execute_request(stream, ident, parent)\n",
      "                                  │       │      └ {'header': {'date': datetime.datetime(2024, 12, 1, 15, 53, 55, 988000, tzinfo=tzutc()), 'msg_id': '0600d40b-1753-4b1d-aea9-3a...\n",
      "                                  │       └ [b'6479324a-0d2f-41e7-aef5-45741baf211b']\n",
      "                                  └ <zmq.eventloop.zmqstream.ZMQStream object at 0x107ecdd30>\n",
      "  File \"/Users/mori/Desktop/portfolio/.venv3.12/lib/python3.12/site-packages/ipykernel/kernelbase.py\", line 778, in execute_request\n",
      "    reply_content = await reply_content\n",
      "                          └ <coroutine object IPythonKernel.do_execute at 0x107ce59c0>\n",
      "  File \"/Users/mori/Desktop/portfolio/.venv3.12/lib/python3.12/site-packages/ipykernel/ipkernel.py\", line 449, in do_execute\n",
      "    res = shell.run_cell(\n",
      "          │     └ <function ZMQInteractiveShell.run_cell at 0x107ea2200>\n",
      "          └ <ipykernel.zmqshell.ZMQInteractiveShell object at 0x1104601d0>\n",
      "  File \"/Users/mori/Desktop/portfolio/.venv3.12/lib/python3.12/site-packages/ipykernel/zmqshell.py\", line 549, in run_cell\n",
      "    return super().run_cell(*args, **kwargs)\n",
      "                             │       └ {'store_history': True, 'silent': False, 'cell_id': 'vscode-notebook-cell:/Users/mori/Desktop/portfolio/python/loguru.ipynb#X...\n",
      "                             └ ('from loguru import logger\\n\\nlogger.remove()\\nlogger.add(sys.stderr, format=\"{extra[user_id]} - {message}\")\\nlogger = logge...\n",
      "  File \"/Users/mori/Desktop/portfolio/.venv3.12/lib/python3.12/site-packages/IPython/core/interactiveshell.py\", line 3075, in run_cell\n",
      "    result = self._run_cell(\n",
      "             │    └ <function InteractiveShell._run_cell at 0x106d518a0>\n",
      "             └ <ipykernel.zmqshell.ZMQInteractiveShell object at 0x1104601d0>\n",
      "  File \"/Users/mori/Desktop/portfolio/.venv3.12/lib/python3.12/site-packages/IPython/core/interactiveshell.py\", line 3130, in _run_cell\n",
      "    result = runner(coro)\n",
      "             │      └ <coroutine object InteractiveShell.run_cell_async at 0x1165b8810>\n",
      "             └ <function _pseudo_sync_runner at 0x106d48a40>\n",
      "  File \"/Users/mori/Desktop/portfolio/.venv3.12/lib/python3.12/site-packages/IPython/core/async_helpers.py\", line 128, in _pseudo_sync_runner\n",
      "    coro.send(None)\n",
      "    │    └ <method 'send' of 'coroutine' objects>\n",
      "    └ <coroutine object InteractiveShell.run_cell_async at 0x1165b8810>\n",
      "  File \"/Users/mori/Desktop/portfolio/.venv3.12/lib/python3.12/site-packages/IPython/core/interactiveshell.py\", line 3334, in run_cell_async\n",
      "    has_raised = await self.run_ast_nodes(code_ast.body, cell_name,\n",
      "                       │    │             │        │     └ '/var/folders/fm/jq8h3yy15l123ytv72w5_sc40000gn/T/ipykernel_71680/1045737657.py'\n",
      "                       │    │             │        └ [<ast.ImportFrom object at 0x116659610>, <ast.Expr object at 0x11665a450>, <ast.Expr object at 0x11665ac50>, <ast.Assign obje...\n",
      "                       │    │             └ <ast.Module object at 0x116659f10>\n",
      "                       │    └ <function InteractiveShell.run_ast_nodes at 0x106d51bc0>\n",
      "                       └ <ipykernel.zmqshell.ZMQInteractiveShell object at 0x1104601d0>\n",
      "  File \"/Users/mori/Desktop/portfolio/.venv3.12/lib/python3.12/site-packages/IPython/core/interactiveshell.py\", line 3517, in run_ast_nodes\n",
      "    if await self.run_code(code, result, async_=asy):\n",
      "             │    │        │     │              └ False\n",
      "             │    │        │     └ <ExecutionResult object at 1161aaf90, execution_count=12 error_before_exec=None error_in_exec=None info=<ExecutionInfo object...\n",
      "             │    │        └ <code object <module> at 0x116167830, file \"/var/folders/fm/jq8h3yy15l123ytv72w5_sc40000gn/T/ipykernel_71680/1045737657.py\", ...\n",
      "             │    └ <function InteractiveShell.run_code at 0x106d51c60>\n",
      "             └ <ipykernel.zmqshell.ZMQInteractiveShell object at 0x1104601d0>\n",
      "  File \"/Users/mori/Desktop/portfolio/.venv3.12/lib/python3.12/site-packages/IPython/core/interactiveshell.py\", line 3577, in run_code\n",
      "    exec(code_obj, self.user_global_ns, self.user_ns)\n",
      "         │         │    │               │    └ {'__name__': '__main__', '__doc__': 'Automatically created module for IPython interactive environment', '__package__': None, ...\n",
      "         │         │    │               └ <ipykernel.zmqshell.ZMQInteractiveShell object at 0x1104601d0>\n",
      "         │         │    └ <property object at 0x106d274c0>\n",
      "         │         └ <ipykernel.zmqshell.ZMQInteractiveShell object at 0x1104601d0>\n",
      "         └ <code object <module> at 0x116167830, file \"/var/folders/fm/jq8h3yy15l123ytv72w5_sc40000gn/T/ipykernel_71680/1045737657.py\", ...\n",
      "\n",
      "> File \"\u001b[32m/var/folders/fm/jq8h3yy15l123ytv72w5_sc40000gn/T/ipykernel_71680/\u001b[0m\u001b[32m\u001b[1m1045737657.py\u001b[0m\", line \u001b[33m13\u001b[0m, in \u001b[35m<module>\u001b[0m\n",
      "    \u001b[1mprocess_data\u001b[0m\u001b[1m(\u001b[0m\u001b[1m[\u001b[0m\u001b[1m]\u001b[0m\u001b[1m)\u001b[0m\n",
      "    \u001b[36m└ \u001b[0m\u001b[36m\u001b[1m<function process_data at 0x116192f20>\u001b[0m\n",
      "\n",
      "  File \"\u001b[32m/var/folders/fm/jq8h3yy15l123ytv72w5_sc40000gn/T/ipykernel_71680/\u001b[0m\u001b[32m\u001b[1m1045737657.py\u001b[0m\", line \u001b[33m10\u001b[0m, in \u001b[35mprocess_data\u001b[0m\n",
      "    \u001b[35m\u001b[1mraise\u001b[0m \u001b[1mValueError\u001b[0m\u001b[1m(\u001b[0m\u001b[36m\"No data provided!\"\u001b[0m\u001b[1m)\u001b[0m\n",
      "\n",
      "\u001b[31m\u001b[1mValueError\u001b[0m:\u001b[1m No data provided!\u001b[0m\n",
      "42 - An error has been caught in function '<module>', process 'MainProcess' (71680), thread 'MainThread' (8559835200):\n",
      "\u001b[33m\u001b[1mTraceback (most recent call last):\u001b[0m\n",
      "\n",
      "  File \"<frozen runpy>\", line 198, in _run_module_as_main\n",
      "  File \"<frozen runpy>\", line 88, in _run_code\n",
      "  File \"/Users/mori/Desktop/portfolio/.venv3.12/lib/python3.12/site-packages/ipykernel_launcher.py\", line 18, in <module>\n",
      "    app.launch_new_instance()\n",
      "    │   └ <bound method Application.launch_instance of <class 'ipykernel.kernelapp.IPKernelApp'>>\n",
      "    └ <module 'ipykernel.kernelapp' from '/Users/mori/Desktop/portfolio/.venv3.12/lib/python3.12/site-packages/ipykernel/kernelapp....\n",
      "  File \"/Users/mori/Desktop/portfolio/.venv3.12/lib/python3.12/site-packages/traitlets/config/application.py\", line 1075, in launch_instance\n",
      "    app.start()\n",
      "    │   └ <function IPKernelApp.start at 0x107ebe700>\n",
      "    └ <ipykernel.kernelapp.IPKernelApp object at 0x1049ef5f0>\n",
      "  File \"/Users/mori/Desktop/portfolio/.venv3.12/lib/python3.12/site-packages/ipykernel/kernelapp.py\", line 739, in start\n",
      "    self.io_loop.start()\n",
      "    │    │       └ <function BaseAsyncIOLoop.start at 0x107ebf4c0>\n",
      "    │    └ <tornado.platform.asyncio.AsyncIOMainLoop object at 0x107ecda90>\n",
      "    └ <ipykernel.kernelapp.IPKernelApp object at 0x1049ef5f0>\n",
      "  File \"/Users/mori/Desktop/portfolio/.venv3.12/lib/python3.12/site-packages/tornado/platform/asyncio.py\", line 205, in start\n",
      "    self.asyncio_loop.run_forever()\n",
      "    │    │            └ <function BaseEventLoop.run_forever at 0x105fed260>\n",
      "    │    └ <_UnixSelectorEventLoop running=True closed=False debug=False>\n",
      "    └ <tornado.platform.asyncio.AsyncIOMainLoop object at 0x107ecda90>\n",
      "  File \"/Library/Frameworks/Python.framework/Versions/3.12/lib/python3.12/asyncio/base_events.py\", line 618, in run_forever\n",
      "    self._run_once()\n",
      "    │    └ <function BaseEventLoop._run_once at 0x105fef060>\n",
      "    └ <_UnixSelectorEventLoop running=True closed=False debug=False>\n",
      "  File \"/Library/Frameworks/Python.framework/Versions/3.12/lib/python3.12/asyncio/base_events.py\", line 1951, in _run_once\n",
      "    handle._run()\n",
      "    │      └ <function Handle._run at 0x10571eac0>\n",
      "    └ <Handle Task.task_wakeup(<Future finis...0B)>, ...],))>)>\n",
      "  File \"/Library/Frameworks/Python.framework/Versions/3.12/lib/python3.12/asyncio/events.py\", line 84, in _run\n",
      "    self._context.run(self._callback, *self._args)\n",
      "    │    │            │    │           │    └ <member '_args' of 'Handle' objects>\n",
      "    │    │            │    │           └ <Handle Task.task_wakeup(<Future finis...0B)>, ...],))>)>\n",
      "    │    │            │    └ <member '_callback' of 'Handle' objects>\n",
      "    │    │            └ <Handle Task.task_wakeup(<Future finis...0B)>, ...],))>)>\n",
      "    │    └ <member '_context' of 'Handle' objects>\n",
      "    └ <Handle Task.task_wakeup(<Future finis...0B)>, ...],))>)>\n",
      "  File \"/Users/mori/Desktop/portfolio/.venv3.12/lib/python3.12/site-packages/ipykernel/kernelbase.py\", line 545, in dispatch_queue\n",
      "    await self.process_one()\n",
      "          │    └ <function Kernel.process_one at 0x107e720c0>\n",
      "          └ <ipykernel.ipkernel.IPythonKernel object at 0x107ecd760>\n",
      "  File \"/Users/mori/Desktop/portfolio/.venv3.12/lib/python3.12/site-packages/ipykernel/kernelbase.py\", line 534, in process_one\n",
      "    await dispatch(*args)\n",
      "          │         └ ([<zmq.Frame(b'6479324a-0d2'...36B)>, <zmq.Frame(b'<IDS|MSG>')>, <zmq.Frame(b'793db60c8405'...64B)>, <zmq.Frame(b'{\"date\":\"20...\n",
      "          └ <bound method Kernel.dispatch_shell of <ipykernel.ipkernel.IPythonKernel object at 0x107ecd760>>\n",
      "  File \"/Users/mori/Desktop/portfolio/.venv3.12/lib/python3.12/site-packages/ipykernel/kernelbase.py\", line 437, in dispatch_shell\n",
      "    await result\n",
      "          └ <coroutine object IPythonKernel.execute_request at 0x11604d540>\n",
      "  File \"/Users/mori/Desktop/portfolio/.venv3.12/lib/python3.12/site-packages/ipykernel/ipkernel.py\", line 362, in execute_request\n",
      "    await super().execute_request(stream, ident, parent)\n",
      "                                  │       │      └ {'header': {'date': datetime.datetime(2024, 12, 1, 15, 53, 55, 988000, tzinfo=tzutc()), 'msg_id': '0600d40b-1753-4b1d-aea9-3a...\n",
      "                                  │       └ [b'6479324a-0d2f-41e7-aef5-45741baf211b']\n",
      "                                  └ <zmq.eventloop.zmqstream.ZMQStream object at 0x107ecdd30>\n",
      "  File \"/Users/mori/Desktop/portfolio/.venv3.12/lib/python3.12/site-packages/ipykernel/kernelbase.py\", line 778, in execute_request\n",
      "    reply_content = await reply_content\n",
      "                          └ <coroutine object IPythonKernel.do_execute at 0x107ce59c0>\n",
      "  File \"/Users/mori/Desktop/portfolio/.venv3.12/lib/python3.12/site-packages/ipykernel/ipkernel.py\", line 449, in do_execute\n",
      "    res = shell.run_cell(\n",
      "          │     └ <function ZMQInteractiveShell.run_cell at 0x107ea2200>\n",
      "          └ <ipykernel.zmqshell.ZMQInteractiveShell object at 0x1104601d0>\n",
      "  File \"/Users/mori/Desktop/portfolio/.venv3.12/lib/python3.12/site-packages/ipykernel/zmqshell.py\", line 549, in run_cell\n",
      "    return super().run_cell(*args, **kwargs)\n",
      "                             │       └ {'store_history': True, 'silent': False, 'cell_id': 'vscode-notebook-cell:/Users/mori/Desktop/portfolio/python/loguru.ipynb#X...\n",
      "                             └ ('from loguru import logger\\n\\nlogger.remove()\\nlogger.add(sys.stderr, format=\"{extra[user_id]} - {message}\")\\nlogger = logge...\n",
      "  File \"/Users/mori/Desktop/portfolio/.venv3.12/lib/python3.12/site-packages/IPython/core/interactiveshell.py\", line 3075, in run_cell\n",
      "    result = self._run_cell(\n",
      "             │    └ <function InteractiveShell._run_cell at 0x106d518a0>\n",
      "             └ <ipykernel.zmqshell.ZMQInteractiveShell object at 0x1104601d0>\n",
      "  File \"/Users/mori/Desktop/portfolio/.venv3.12/lib/python3.12/site-packages/IPython/core/interactiveshell.py\", line 3130, in _run_cell\n",
      "    result = runner(coro)\n",
      "             │      └ <coroutine object InteractiveShell.run_cell_async at 0x1165b8810>\n",
      "             └ <function _pseudo_sync_runner at 0x106d48a40>\n",
      "  File \"/Users/mori/Desktop/portfolio/.venv3.12/lib/python3.12/site-packages/IPython/core/async_helpers.py\", line 128, in _pseudo_sync_runner\n",
      "    coro.send(None)\n",
      "    │    └ <method 'send' of 'coroutine' objects>\n",
      "    └ <coroutine object InteractiveShell.run_cell_async at 0x1165b8810>\n",
      "  File \"/Users/mori/Desktop/portfolio/.venv3.12/lib/python3.12/site-packages/IPython/core/interactiveshell.py\", line 3334, in run_cell_async\n",
      "    has_raised = await self.run_ast_nodes(code_ast.body, cell_name,\n",
      "                       │    │             │        │     └ '/var/folders/fm/jq8h3yy15l123ytv72w5_sc40000gn/T/ipykernel_71680/1045737657.py'\n",
      "                       │    │             │        └ [<ast.ImportFrom object at 0x116659610>, <ast.Expr object at 0x11665a450>, <ast.Expr object at 0x11665ac50>, <ast.Assign obje...\n",
      "                       │    │             └ <ast.Module object at 0x116659f10>\n",
      "                       │    └ <function InteractiveShell.run_ast_nodes at 0x106d51bc0>\n",
      "                       └ <ipykernel.zmqshell.ZMQInteractiveShell object at 0x1104601d0>\n",
      "  File \"/Users/mori/Desktop/portfolio/.venv3.12/lib/python3.12/site-packages/IPython/core/interactiveshell.py\", line 3517, in run_ast_nodes\n",
      "    if await self.run_code(code, result, async_=asy):\n",
      "             │    │        │     │              └ False\n",
      "             │    │        │     └ <ExecutionResult object at 1161aaf90, execution_count=12 error_before_exec=None error_in_exec=None info=<ExecutionInfo object...\n",
      "             │    │        └ <code object <module> at 0x116167830, file \"/var/folders/fm/jq8h3yy15l123ytv72w5_sc40000gn/T/ipykernel_71680/1045737657.py\", ...\n",
      "             │    └ <function InteractiveShell.run_code at 0x106d51c60>\n",
      "             └ <ipykernel.zmqshell.ZMQInteractiveShell object at 0x1104601d0>\n",
      "  File \"/Users/mori/Desktop/portfolio/.venv3.12/lib/python3.12/site-packages/IPython/core/interactiveshell.py\", line 3577, in run_code\n",
      "    exec(code_obj, self.user_global_ns, self.user_ns)\n",
      "         │         │    │               │    └ {'__name__': '__main__', '__doc__': 'Automatically created module for IPython interactive environment', '__package__': None, ...\n",
      "         │         │    │               └ <ipykernel.zmqshell.ZMQInteractiveShell object at 0x1104601d0>\n",
      "         │         │    └ <property object at 0x106d274c0>\n",
      "         │         └ <ipykernel.zmqshell.ZMQInteractiveShell object at 0x1104601d0>\n",
      "         └ <code object <module> at 0x116167830, file \"/var/folders/fm/jq8h3yy15l123ytv72w5_sc40000gn/T/ipykernel_71680/1045737657.py\", ...\n",
      "\n",
      "> File \"\u001b[32m/var/folders/fm/jq8h3yy15l123ytv72w5_sc40000gn/T/ipykernel_71680/\u001b[0m\u001b[32m\u001b[1m1045737657.py\u001b[0m\", line \u001b[33m13\u001b[0m, in \u001b[35m<module>\u001b[0m\n",
      "    \u001b[1mprocess_data\u001b[0m\u001b[1m(\u001b[0m\u001b[1m[\u001b[0m\u001b[1m]\u001b[0m\u001b[1m)\u001b[0m\n",
      "    \u001b[36m└ \u001b[0m\u001b[36m\u001b[1m<function process_data at 0x116192f20>\u001b[0m\n",
      "\n",
      "  File \"\u001b[32m/var/folders/fm/jq8h3yy15l123ytv72w5_sc40000gn/T/ipykernel_71680/\u001b[0m\u001b[32m\u001b[1m1045737657.py\u001b[0m\", line \u001b[33m10\u001b[0m, in \u001b[35mprocess_data\u001b[0m\n",
      "    \u001b[35m\u001b[1mraise\u001b[0m \u001b[1mValueError\u001b[0m\u001b[1m(\u001b[0m\u001b[36m\"No data provided!\"\u001b[0m\u001b[1m)\u001b[0m\n",
      "\n",
      "\u001b[31m\u001b[1mValueError\u001b[0m:\u001b[1m No data provided!\u001b[0m\n"
     ]
    }
   ],
   "source": [
    "from loguru import logger\n",
    "\n",
    "logger.remove()\n",
    "logger.add(sys.stderr, format=\"{extra[user_id]} - {message}\")\n",
    "logger = logger.bind(user_id=42)\n",
    "\n",
    "@logger.catch\n",
    "def process_data(data):\n",
    "    if not data:\n",
    "        raise ValueError(\"No data provided!\")\n",
    "\n",
    "logger.info(\"Starting data processing...\")\n",
    "process_data([])"
   ]
  },
  {
   "cell_type": "markdown",
   "metadata": {},
   "source": [
    "# Performance Considerations"
   ]
  },
  {
   "cell_type": "markdown",
   "metadata": {},
   "source": [
    "## Asynchronous Logging for High Throughput\n",
    "\n",
    "**NOTE:** Uncommenting the followings will write to the \"async_performance.log\" file"
   ]
  },
  {
   "cell_type": "code",
   "execution_count": 13,
   "metadata": {},
   "outputs": [],
   "source": [
    "# from loguru import logger\n",
    "# import nest_asyncio\n",
    "\n",
    "# nest_asyncio.apply()\n",
    "\n",
    "# logger.remove()\n",
    "\n",
    "# # Add a log file for async logging\n",
    "# logger.add(\"async_performance.log\", enqueue=True)\n",
    "\n",
    "# async def log_messages():\n",
    "#     for i in range(10_000):\n",
    "#         logger.info(f\"Logging message {i}\")\n",
    "\n",
    "# await log_messages()"
   ]
  },
  {
   "cell_type": "markdown",
   "metadata": {},
   "source": [
    "## Log Rotation to Manage Disk Usage\n",
    "\n",
    "**NOTE:** Uncommenting the followings will write to the \"performance_logs.log\" file"
   ]
  },
  {
   "cell_type": "code",
   "execution_count": 14,
   "metadata": {},
   "outputs": [],
   "source": [
    "# logger.remove()\n",
    "\n",
    "# logger.add(\"performance_logs.log\", rotation=\"100 MB\")"
   ]
  },
  {
   "cell_type": "markdown",
   "metadata": {},
   "source": [
    "## Fine-Grained Control Over Logging Levels\n",
    "\n",
    "**NOTE:** Uncommenting the followings will write to the \"filtered.log\" file"
   ]
  },
  {
   "cell_type": "code",
   "execution_count": 15,
   "metadata": {},
   "outputs": [],
   "source": [
    "# logger.remove()\n",
    "\n",
    "# logger.add(\"filtered.log\", level=\"WARNING\")\n",
    "# logger.debug(\"This debug message won't be logged.\")\n",
    "# logger.warning(\"This warning message will be logged.\")"
   ]
  },
  {
   "cell_type": "markdown",
   "metadata": {},
   "source": [
    "## Profiling Loguru's Impact"
   ]
  },
  {
   "cell_type": "code",
   "execution_count": 16,
   "metadata": {},
   "outputs": [
    {
     "name": "stdout",
     "output_type": "stream",
     "text": [
      "Logging completed in 0.00 seconds.\n"
     ]
    }
   ],
   "source": [
    "import time\n",
    "from loguru import logger\n",
    "\n",
    "start_time = time.time()\n",
    "for _ in range(10_000):\n",
    "    logger.info(\"Performance test log message.\")\n",
    "print(f\"Logging completed in {time.time() - start_time:.2f} seconds.\")"
   ]
  },
  {
   "cell_type": "markdown",
   "metadata": {},
   "source": [
    "# Practical Tips for Using Loguru Effectively"
   ]
  },
  {
   "cell_type": "markdown",
   "metadata": {},
   "source": [
    "## Use Contextual Logging for Traceability"
   ]
  },
  {
   "cell_type": "code",
   "execution_count": 17,
   "metadata": {},
   "outputs": [
    {
     "name": "stderr",
     "output_type": "stream",
     "text": [
      "2024-12-01 at 15:53:56 | user_id=101, request_id=XYZ123 - Processing request...\n",
      "2024-12-01 at 15:53:56 | user_id=101, request_id=XYZ123 - Request completed.\n",
      "2024-12-01 at 15:53:56 | user_id=102, request_id=ABC456 - Processing request...\n",
      "2024-12-01 at 15:53:56 | user_id=102, request_id=ABC456 - Request completed.\n",
      "2024-12-01 at 15:53:56 | user_id=101, request_id=XYZ123 - Request completed.\n",
      "2024-12-01 at 15:53:56 | user_id=102, request_id=ABC456 - Processing request...\n",
      "2024-12-01 at 15:53:56 | user_id=102, request_id=ABC456 - Request completed.\n"
     ]
    }
   ],
   "source": [
    "from loguru import logger\n",
    "import sys\n",
    "\n",
    "def process_request(user_id, request_id):\n",
    "    logger.remove()\n",
    "    logger.add(\n",
    "        sys.stderr,\n",
    "        format=\"{time:YYYY-MM-DD at HH:mm:ss} | user_id={extra[user_id]}, request_id={extra[request_id]} - {message}\",\n",
    "    )\n",
    "    bound_logger = logger.bind(user_id=user_id, request_id=request_id)\n",
    "    \n",
    "    bound_logger.info(\"Processing request...\")\n",
    "    # Your processing logic here\n",
    "    bound_logger.info(\"Request completed.\")\n",
    "\n",
    "\n",
    "process_request(user_id=101, request_id=\"XYZ123\")\n",
    "process_request(user_id=102, request_id=\"ABC456\")"
   ]
  },
  {
   "cell_type": "markdown",
   "metadata": {},
   "source": [
    "## Use Filters for Fine-Grained Control"
   ]
  },
  {
   "cell_type": "code",
   "execution_count": 18,
   "metadata": {},
   "outputs": [
    {
     "name": "stderr",
     "output_type": "stream",
     "text": [
      "2024-12-01 at 15:53:56 | user_id=42 - This will be logged.\n"
     ]
    }
   ],
   "source": [
    "from loguru import logger\n",
    "import sys\n",
    "\n",
    "def my_filter(record):\n",
    "    return \"user_id\" in record[\"extra\"] and record[\"extra\"][\"user_id\"] == 42\n",
    "\n",
    "logger.remove()\n",
    "logger.add(\n",
    "    sys.stderr,\n",
    "    format=\"{time:YYYY-MM-DD at HH:mm:ss} | user_id={extra[user_id]} - {message}\",\n",
    "    filter=my_filter,\n",
    ")\n",
    "logger.bind(user_id=42).info(\"This will be logged.\")\n",
    "logger.bind(user_id=22).info(\"This won't be logged.\")"
   ]
  },
  {
   "cell_type": "markdown",
   "metadata": {},
   "source": [
    "## Secure Your Logs"
   ]
  },
  {
   "cell_type": "code",
   "execution_count": 19,
   "metadata": {},
   "outputs": [
    {
     "name": "stderr",
     "output_type": "stream",
     "text": [
      "\u001b[32m2024-12-01 15:53:56.162\u001b[0m | \u001b[1mINFO    \u001b[0m | \u001b[36m__main__\u001b[0m:\u001b[36m<module>\u001b[0m:\u001b[36m8\u001b[0m - \u001b[1mUser logged in with email: *****f@ghi.com\u001b[0m\n"
     ]
    }
   ],
   "source": [
    "from loguru import logger\n",
    "import sys\n",
    "\n",
    "logger.remove()\n",
    "logger.add(sys.stderr)\n",
    "\n",
    "email = \"abcdef@ghi.com\"\n",
    "logger.info(\"User logged in with email: {}\", email.replace(email[:5], \"*****\"))"
   ]
  },
  {
   "cell_type": "markdown",
   "metadata": {},
   "source": [
    "# Real-World Use Cases of Loguru"
   ]
  },
  {
   "cell_type": "markdown",
   "metadata": {},
   "source": [
    "## Monitoring Data Pipelines"
   ]
  },
  {
   "cell_type": "code",
   "execution_count": 20,
   "metadata": {},
   "outputs": [
    {
     "name": "stderr",
     "output_type": "stream",
     "text": [
      "\u001b[32m2024-12-01 15:53:56.176\u001b[0m | \u001b[1mINFO    \u001b[0m | \u001b[36m__main__\u001b[0m:\u001b[36mextract\u001b[0m:\u001b[36m4\u001b[0m - \u001b[1mExtracting data...\u001b[0m\n",
      "\u001b[32m2024-12-01 15:53:56.176\u001b[0m | \u001b[1mINFO    \u001b[0m | \u001b[36m__main__\u001b[0m:\u001b[36mtransform\u001b[0m:\u001b[36m9\u001b[0m - \u001b[1mTransforming data...\u001b[0m\n",
      "\u001b[32m2024-12-01 15:53:56.177\u001b[0m | \u001b[1mINFO    \u001b[0m | \u001b[36m__main__\u001b[0m:\u001b[36mload\u001b[0m:\u001b[36m13\u001b[0m - \u001b[1mLoading data...\u001b[0m\n",
      "\u001b[32m2024-12-01 15:53:56.177\u001b[0m | \u001b[1mINFO    \u001b[0m | \u001b[36m__main__\u001b[0m:\u001b[36mload\u001b[0m:\u001b[36m16\u001b[0m - \u001b[1mData loaded successfully: [2, 4, 6]\u001b[0m\n",
      "\u001b[32m2024-12-01 15:53:56.176\u001b[0m | \u001b[1mINFO    \u001b[0m | \u001b[36m__main__\u001b[0m:\u001b[36mtransform\u001b[0m:\u001b[36m9\u001b[0m - \u001b[1mTransforming data...\u001b[0m\n",
      "\u001b[32m2024-12-01 15:53:56.177\u001b[0m | \u001b[1mINFO    \u001b[0m | \u001b[36m__main__\u001b[0m:\u001b[36mload\u001b[0m:\u001b[36m13\u001b[0m - \u001b[1mLoading data...\u001b[0m\n",
      "\u001b[32m2024-12-01 15:53:56.177\u001b[0m | \u001b[1mINFO    \u001b[0m | \u001b[36m__main__\u001b[0m:\u001b[36mload\u001b[0m:\u001b[36m16\u001b[0m - \u001b[1mData loaded successfully: [2, 4, 6]\u001b[0m\n"
     ]
    }
   ],
   "source": [
    "from loguru import logger\n",
    "\n",
    "def extract():\n",
    "    logger.info(\"Extracting data...\")\n",
    "    # Simulate data extraction\n",
    "    return [1, 2, 3]\n",
    "\n",
    "def transform(data):\n",
    "    logger.info(\"Transforming data...\")\n",
    "    return [x * 2 for x in data]\n",
    "\n",
    "def load(data):\n",
    "    logger.info(\"Loading data...\")\n",
    "    if not data:\n",
    "        raise ValueError(\"No data to load!\")\n",
    "    logger.info(f\"Data loaded successfully: {data}\")\n",
    "\n",
    "try:\n",
    "    data = extract()\n",
    "    transformed_data = transform(data)\n",
    "    load(transformed_data)\n",
    "except Exception:\n",
    "    logger.exception(\"An error occurred in the ETL pipeline.\")"
   ]
  },
  {
   "cell_type": "markdown",
   "metadata": {},
   "source": [
    "## Handling Distributed Systems\n",
    "\n",
    "**NOTE:** Uncommenting the followings will write to the \"distributed_logs.json\" file"
   ]
  },
  {
   "cell_type": "code",
   "execution_count": 21,
   "metadata": {},
   "outputs": [],
   "source": [
    "# from loguru import logger\n",
    "\n",
    "# logger.remove()\n",
    "# logger.add(\n",
    "#     \"distributed_logs.json\",\n",
    "#     format=\"{time:MMMM D, YYYY > HH:mm:ss!UTC} | {level} | {message}\",\n",
    "#     serialize=True,\n",
    "# )\n",
    "# logger.debug(\"Happy logging with Loguru!\")"
   ]
  }
 ],
 "metadata": {
  "kernelspec": {
   "display_name": ".venv3.12",
   "language": "python",
   "name": "python3"
  },
  "language_info": {
   "codemirror_mode": {
    "name": "ipython",
    "version": 3
   },
   "file_extension": ".py",
   "mimetype": "text/x-python",
   "name": "python",
   "nbconvert_exporter": "python",
   "pygments_lexer": "ipython3",
   "version": "3.12.0"
  }
 },
 "nbformat": 4,
 "nbformat_minor": 2
}
