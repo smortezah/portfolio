{
 "cells": [
  {
   "cell_type": "markdown",
   "metadata": {},
   "source": [
    "Click [here]() to access the associated Medium article."
   ]
  },
  {
   "cell_type": "markdown",
   "metadata": {},
   "source": [
    "# Setup"
   ]
  },
  {
   "cell_type": "code",
   "execution_count": 4,
   "metadata": {},
   "outputs": [],
   "source": [
    "import math\n",
    "from tensor import Tensor\n",
    "from time import time_function\n",
    "from collections import List"
   ]
  },
  {
   "cell_type": "markdown",
   "metadata": {},
   "source": [
    "# Bloom Filter"
   ]
  },
  {
   "cell_type": "code",
   "execution_count": 5,
   "metadata": {},
   "outputs": [],
   "source": [
    "struct BloomFilter:\n",
    "    var items_count: Int\n",
    "    var fp_prob: Float32\n",
    "    var size: Int\n",
    "    var hash_count: Int\n",
    "    var bit_array: Tensor[DType.bool]\n",
    "\n",
    "    fn __init__(inout self, items_count: Int, fp_prob: Float32) -> NoneType:\n",
    "        \"\"\"Initialize Bloom filter.\n",
    "\n",
    "        Args:\n",
    "            items_count: Number of items expected to be stored in bloom filter.\n",
    "            fp_prob: False Positive probability in decimal.\n",
    "        \"\"\"\n",
    "        self.items_count = items_count\n",
    "        self.fp_prob = fp_prob\n",
    "        self.size = int(-items_count * math.log(fp_prob) / math.log(2.0) ** 2)\n",
    "        self.hash_count = int((self.size / items_count) * math.log(2.0))\n",
    "        self.bit_array = Tensor[DType.bool](self.size)\n",
    "\n",
    "    fn insert(inout self, item: String) -> NoneType:\n",
    "        \"\"\"Insert an item to the filter.\"\"\"\n",
    "        for i in range(self.hash_count):\n",
    "            var digest = int((hash(item) + i) % self.size)\n",
    "            self.bit_array[digest] = True\n",
    "\n",
    "    fn has(self, item: String) -> Bool:\n",
    "        \"\"\"Check for existence of an item in filter.\"\"\"\n",
    "        for i in range(self.hash_count):\n",
    "            var digest = int((hash(item) + i) % self.size)\n",
    "            # If any of the bits in the bit array is False, then the item\n",
    "            # is not present in the filter. Otherwise, there is a probability\n",
    "            # that it exists.\n",
    "            if self.bit_array[digest] == False:\n",
    "                return False\n",
    "        return True\n",
    "\n",
    "    fn get_load_factor(self) -> Float32:\n",
    "        \"\"\"Return the load factor of the filter.\"\"\"\n",
    "        return self.items_count / self.size\n"
   ]
  },
  {
   "cell_type": "markdown",
   "metadata": {},
   "source": [
    "# Benchmark"
   ]
  },
  {
   "cell_type": "code",
   "execution_count": 6,
   "metadata": {},
   "outputs": [],
   "source": [
    "fn benchmark1() capturing -> NoneType:\n",
    "    \"\"\"Benchmark 1: Insert 1,000,000 items.\"\"\"\n",
    "    var bloom = BloomFilter(items_count=1_000_000, fp_prob=0.01)\n",
    "\n",
    "    print(\"Size of bit array:\", bloom.size)\n",
    "    print(\"False positive Probability:\", bloom.fp_prob)\n",
    "    print(\"Number of hash functions:\", bloom.hash_count)\n",
    "    print(\"Load factor:\", bloom.get_load_factor())\n",
    "\n",
    "    for i in range(bloom.items_count):\n",
    "        bloom.insert(String(i))\n",
    "\n",
    "\n",
    "fn benchmark2() capturing -> NoneType:\n",
    "    \"\"\"Benchmark 2: Test the Bloom Filter with sample words.\"\"\"\n",
    "    var bloom = BloomFilter(items_count=7, fp_prob=0.2)\n",
    "\n",
    "    print(\"Size of bit array:\", bloom.size)\n",
    "    print(\"False positive Probability:\", bloom.fp_prob)\n",
    "    print(\"Number of hash functions:\", bloom.hash_count)\n",
    "    print(\"Load factor:\", bloom.get_load_factor(), \"\\n\")\n",
    "\n",
    "    # Insert word_present to Bloom Filter\n",
    "    var word_present = List(\n",
    "        \"abound\",\n",
    "        \"abounds\",\n",
    "        \"abundance\",\n",
    "        \"abundant\",\n",
    "        \"accessible\",\n",
    "        \"bloom\",\n",
    "        \"blossom\",\n",
    "    )\n",
    "    var word_absent = List(\"bluff\", \"cheater\", \"hate\")\n",
    "    for word in word_present:\n",
    "        bloom.insert(word[])\n",
    "\n",
    "    # Test presence of words\n",
    "    var definitely_not_present = List[String]()\n",
    "    var probably_present = List[String]()\n",
    "    var false_positive = List[String]()\n",
    "    var test_words = word_present + word_absent\n",
    "\n",
    "    for word in test_words:\n",
    "        if bloom.has(word[]):\n",
    "            if word[] in word_absent:\n",
    "                false_positive.append(word[])\n",
    "            else:\n",
    "                probably_present.append(word[])\n",
    "        else:\n",
    "            definitely_not_present.append(word[])\n",
    "\n",
    "    print(\"Definitely not present:\\t\", end=\" \")\n",
    "    for word in definitely_not_present:\n",
    "        print(word[], end=\", \")\n",
    "\n",
    "    print(\"\\nProbably present:\\t\", end=\" \")\n",
    "    for word in probably_present:\n",
    "        print(word[], end=\", \")\n",
    "\n",
    "    print(\"\\nFalse positive:\\t\\t\", end=\" \")\n",
    "    for word in false_positive:\n",
    "        print(word[], end=\", \")\n",
    "    print()\n"
   ]
  },
  {
   "cell_type": "code",
   "execution_count": 7,
   "metadata": {},
   "outputs": [
    {
     "name": "stdout",
     "output_type": "stream",
     "text": [
      "-----------------------------------\n",
      "Benchmark 1: Insert 1,000,000 items\n",
      "-----------------------------------\n",
      "Size of bit array: 9585058\n",
      "False positive Probability: 0.0099999997764825821\n",
      "Number of hash functions: 6\n",
      "Load factor: 0.10432904958724976\n",
      "Time taken: 0.14369109999999999 seconds\n",
      "\n",
      "\n",
      "----------------------------------------------------\n",
      "Benchmark 2: Test the Bloom Filter with sample words\n",
      "----------------------------------------------------\n",
      "Size of bit array: 23\n",
      "False positive Probability: 0.20000000298023224\n",
      "Number of hash functions: 2\n",
      "Load factor: 0.30434781312942505 \n",
      "\n",
      "Definitely not present:\t bluff, cheater, \n",
      "Probably present:\t abound, abounds, abundance, abundant, accessible, bloom, blossom, \n",
      "False positive:\t\t hate, \n"
     ]
    }
   ],
   "source": [
    "print(\"-----------------------------------\")\n",
    "print(\"Benchmark 1: Insert 1,000,000 items\")\n",
    "print(\"-----------------------------------\")\n",
    "var time_taken = time_function[benchmark1]() / 10e9\n",
    "print(\"Time taken:\", time_taken, \"seconds\")\n",
    "\n",
    "print(\"\\n\")\n",
    "\n",
    "print(\"----------------------------------------------------\")\n",
    "print(\"Benchmark 2: Test the Bloom Filter with sample words\")\n",
    "print(\"----------------------------------------------------\")\n",
    "benchmark2()\n"
   ]
  }
 ],
 "metadata": {
  "kernelspec": {
   "display_name": "Mojo",
   "language": "mojo",
   "name": "mojo-jupyter-kernel"
  },
  "language_info": {
   "codemirror_mode": {
    "name": "mojo"
   },
   "file_extension": ".mojo",
   "mimetype": "text/x-mojo",
   "name": "mojo"
  }
 },
 "nbformat": 4,
 "nbformat_minor": 2
}
