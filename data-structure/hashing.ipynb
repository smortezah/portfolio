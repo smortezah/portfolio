{
 "cells": [
  {
   "cell_type": "markdown",
   "metadata": {},
   "source": [
    "Click [here](https://morihosseini.medium.com/hashing-in-python-8c7265c0e619) to access the associated Medium article."
   ]
  },
  {
   "cell_type": "markdown",
   "metadata": {},
   "source": [
    "## Hashing Strings"
   ]
  },
  {
   "cell_type": "code",
   "execution_count": 2,
   "metadata": {},
   "outputs": [
    {
     "name": "stdout",
     "output_type": "stream",
     "text": [
      "SHA-256 hash of 'Hello, world!':\n",
      "315f5bdb76d078c43b8ac0064e4a0164612b1fce77c869345bfc94c75894edd3\n"
     ]
    }
   ],
   "source": [
    "import hashlib\n",
    "\n",
    "\n",
    "def compute_sha256_hash(data):\n",
    "    sha256_hash = hashlib.sha256(data.encode()).hexdigest()\n",
    "    return sha256_hash\n",
    "\n",
    "\n",
    "# Example usage\n",
    "message = \"Hello, world!\"\n",
    "hash_value = compute_sha256_hash(message)\n",
    "print(f\"SHA-256 hash of '{message}':\\n{hash_value}\")"
   ]
  },
  {
   "cell_type": "markdown",
   "metadata": {},
   "source": [
    "## Creating a Simple Hash Table"
   ]
  },
  {
   "cell_type": "code",
   "execution_count": 3,
   "metadata": {},
   "outputs": [
    {
     "name": "stdout",
     "output_type": "stream",
     "text": [
      "Value for 'apple': 42\n",
      "Value for 'banana': 17\n"
     ]
    }
   ],
   "source": [
    "class HashTable:\n",
    "    def __init__(self):\n",
    "        self.table = {}\n",
    "\n",
    "    def insert(self, key, value):\n",
    "        self.table[key] = value\n",
    "\n",
    "    def get(self, key):\n",
    "        return self.table.get(key, None)\n",
    "\n",
    "\n",
    "# Example usage\n",
    "my_table = HashTable()\n",
    "my_table.insert(\"apple\", 42)\n",
    "my_table.insert(\"banana\", 17)\n",
    "\n",
    "print(f\"Value for 'apple': {my_table.get('apple')}\")\n",
    "print(f\"Value for 'banana': {my_table.get('banana')}\")"
   ]
  },
  {
   "cell_type": "markdown",
   "metadata": {},
   "source": [
    "## Salting for Passwords"
   ]
  },
  {
   "cell_type": "code",
   "execution_count": 5,
   "metadata": {},
   "outputs": [
    {
     "name": "stdout",
     "output_type": "stream",
     "text": [
      "Hashed password (with salt):\n",
      "d86b76196689d6f3d548daafea207bd24cb71b4e54e75836d6e1ffaf3e84da7c\n"
     ]
    }
   ],
   "source": [
    "import hashlib\n",
    "import secrets\n",
    "\n",
    "\n",
    "def hash_password(password):\n",
    "    salt = secrets.token_bytes(16)  # Generate a random salt\n",
    "    salted_password = salt + password.encode()\n",
    "    hashed_password = hashlib.sha256(salted_password).hexdigest()\n",
    "    return hashed_password\n",
    "\n",
    "\n",
    "# Example usage\n",
    "user_password = \"my_secure_password\"\n",
    "hashed_password = hash_password(user_password)\n",
    "print(f\"Hashed password (with salt):\\n{hashed_password}\")"
   ]
  }
 ],
 "metadata": {
  "kernelspec": {
   "display_name": ".venv",
   "language": "python",
   "name": "python3"
  },
  "language_info": {
   "codemirror_mode": {
    "name": "ipython",
    "version": 3
   },
   "file_extension": ".py",
   "mimetype": "text/x-python",
   "name": "python",
   "nbconvert_exporter": "python",
   "pygments_lexer": "ipython3",
   "version": "3.12.2"
  }
 },
 "nbformat": 4,
 "nbformat_minor": 2
}
