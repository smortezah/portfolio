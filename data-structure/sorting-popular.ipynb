{
 "cells": [
  {
   "cell_type": "markdown",
   "metadata": {},
   "source": [
    "Click [here]() to access the associated Medium article."
   ]
  },
  {
   "cell_type": "markdown",
   "metadata": {},
   "source": [
    "# Bubble Sort\n"
   ]
  },
  {
   "cell_type": "code",
   "execution_count": 2,
   "metadata": {},
   "outputs": [
    {
     "name": "stdout",
     "output_type": "stream",
     "text": [
      "Sorted list: [1, 2, 5, 5, 6, 9]\n"
     ]
    }
   ],
   "source": [
    "def bubble_sort(arr):\n",
    "    n = len(arr)\n",
    "    for i in range(n):\n",
    "        # Last i elements are already sorted\n",
    "        for j in range(0, n - i - 1):\n",
    "            if arr[j] > arr[j + 1]:\n",
    "                # Swap adjacent elements\n",
    "                arr[j], arr[j + 1] = arr[j + 1], arr[j]\n",
    "\n",
    "\n",
    "# Example usage\n",
    "my_list = [5, 2, 9, 1, 5, 6]\n",
    "bubble_sort(my_list)\n",
    "print(\"Sorted list:\", my_list)"
   ]
  },
  {
   "cell_type": "markdown",
   "metadata": {},
   "source": [
    "# Merge Sort"
   ]
  },
  {
   "cell_type": "code",
   "execution_count": 3,
   "metadata": {},
   "outputs": [
    {
     "name": "stdout",
     "output_type": "stream",
     "text": [
      "Sorted list: [1, 2, 5, 5, 6, 9]\n"
     ]
    }
   ],
   "source": [
    "def merge_sort(arr):\n",
    "    if len(arr) <= 1:\n",
    "        return arr  # Already sorted or empty\n",
    "\n",
    "    # Divide: Split the list into halves\n",
    "    mid = len(arr) // 2\n",
    "    left_half = arr[:mid]\n",
    "    right_half = arr[mid:]\n",
    "\n",
    "    # Recursively sort each half\n",
    "    left_sorted = merge_sort(left_half)\n",
    "    right_sorted = merge_sort(right_half)\n",
    "\n",
    "    # Conquer: Merge the sorted halves\n",
    "    return merge(left_sorted, right_sorted)\n",
    "\n",
    "\n",
    "def merge(left, right):\n",
    "    result = []\n",
    "    left_idx, right_idx = 0, 0\n",
    "\n",
    "    while left_idx < len(left) and right_idx < len(right):\n",
    "        if left[left_idx] < right[right_idx]:\n",
    "            result.append(left[left_idx])\n",
    "            left_idx += 1\n",
    "        else:\n",
    "            result.append(right[right_idx])\n",
    "            right_idx += 1\n",
    "\n",
    "    # Handle remaining elements (if any)\n",
    "    result.extend(left[left_idx:])\n",
    "    result.extend(right[right_idx:])\n",
    "    return result\n",
    "\n",
    "\n",
    "# Example usage\n",
    "my_list = [5, 2, 9, 1, 5, 6]\n",
    "sorted_list = merge_sort(my_list)\n",
    "print(\"Sorted list:\", sorted_list)"
   ]
  },
  {
   "cell_type": "markdown",
   "metadata": {},
   "source": [
    "# Insertion Sort"
   ]
  },
  {
   "cell_type": "code",
   "execution_count": 4,
   "metadata": {},
   "outputs": [
    {
     "name": "stdout",
     "output_type": "stream",
     "text": [
      "Sorted cards: [1, 2, 5, 5, 6, 9]\n"
     ]
    }
   ],
   "source": [
    "def insertion_sort(arr):\n",
    "    for i in range(1, len(arr)):\n",
    "        key = arr[i]  # The card we're inserting\n",
    "        j = i - 1\n",
    "\n",
    "        # Compare with cards in the sorted part\n",
    "        while j >= 0 and arr[j] > key:\n",
    "            arr[j + 1] = arr[j]  # Shift larger cards to the right\n",
    "            j -= 1\n",
    "\n",
    "        arr[j + 1] = key  # Insert the card in its correct position\n",
    "\n",
    "\n",
    "# Example usage\n",
    "my_cards = [5, 2, 9, 1, 5, 6]\n",
    "insertion_sort(my_cards)\n",
    "print(\"Sorted cards:\", my_cards)"
   ]
  },
  {
   "cell_type": "markdown",
   "metadata": {},
   "source": [
    "# Quick Sort"
   ]
  },
  {
   "cell_type": "code",
   "execution_count": 5,
   "metadata": {},
   "outputs": [
    {
     "name": "stdout",
     "output_type": "stream",
     "text": [
      "Sorted list: [1, 3, 4, 6, 7, 8]\n"
     ]
    }
   ],
   "source": [
    "def quick_sort(arr):\n",
    "    if len(arr) <= 1:\n",
    "        return arr  # Already sorted or empty\n",
    "\n",
    "    pivot = arr[len(arr) // 2]  # Choose a pivot\n",
    "    left, equal, right = [], [], []\n",
    "\n",
    "    for element in arr:\n",
    "        if element < pivot:\n",
    "            left.append(element)\n",
    "        elif element == pivot:\n",
    "            equal.append(element)\n",
    "        else:\n",
    "            right.append(element)\n",
    "\n",
    "    # Recursively sort the partitions\n",
    "    return quick_sort(left) + equal + quick_sort(right)\n",
    "\n",
    "\n",
    "# Example usage\n",
    "my_list = [8, 3, 1, 6, 4, 7]\n",
    "sorted_list = quick_sort(my_list)\n",
    "print(\"Sorted list:\", sorted_list)"
   ]
  },
  {
   "cell_type": "markdown",
   "metadata": {},
   "source": [
    "# Heap Sort"
   ]
  },
  {
   "cell_type": "code",
   "execution_count": 6,
   "metadata": {},
   "outputs": [
    {
     "name": "stdout",
     "output_type": "stream",
     "text": [
      "Sorted list: [5, 6, 7, 11, 12, 13]\n"
     ]
    }
   ],
   "source": [
    "def heapify(arr, n, root):\n",
    "    largest = root\n",
    "    left_child = 2 * root + 1\n",
    "    right_child = 2 * root + 2\n",
    "\n",
    "    if left_child < n and arr[left_child] > arr[largest]:\n",
    "        largest = left_child\n",
    "\n",
    "    if right_child < n and arr[right_child] > arr[largest]:\n",
    "        largest = right_child\n",
    "\n",
    "    if largest != root:\n",
    "        arr[root], arr[largest] = arr[largest], arr[root]\n",
    "        heapify(arr, n, largest)\n",
    "\n",
    "\n",
    "def heap_sort(arr):\n",
    "    n = len(arr)\n",
    "\n",
    "    # Build a max heap\n",
    "    for i in range(n // 2 - 1, -1, -1):\n",
    "        heapify(arr, n, i)\n",
    "\n",
    "    # Extract elements one by one\n",
    "    for i in range(n - 1, 0, -1):\n",
    "        arr[i], arr[0] = arr[0], arr[i]  # Swap root with last element\n",
    "        heapify(arr, i, 0)\n",
    "\n",
    "\n",
    "# Example usage\n",
    "my_list = [12, 11, 13, 5, 6, 7]\n",
    "heap_sort(my_list)\n",
    "print(\"Sorted list:\", my_list)"
   ]
  },
  {
   "cell_type": "markdown",
   "metadata": {},
   "source": [
    "# Tim Sort"
   ]
  },
  {
   "cell_type": "code",
   "execution_count": 7,
   "metadata": {},
   "outputs": [
    {
     "name": "stdout",
     "output_type": "stream",
     "text": [
      "Sorted list: [1, 3, 5, 7, 8, 10]\n"
     ]
    }
   ],
   "source": [
    "def tim_sort(arr):\n",
    "    min_run = 32  # Minimum size of a run\n",
    "    n = len(arr)\n",
    "\n",
    "    # Create runs\n",
    "    for start in range(0, n, min_run):\n",
    "        end = min(start + min_run, n)\n",
    "        insertion_sort(arr, start, end)\n",
    "\n",
    "    # Merge runs\n",
    "    size = min_run\n",
    "    while size < n:\n",
    "        for start in range(0, n, 2 * size):\n",
    "            mid = min(start + size, n)\n",
    "            end = min(start + 2 * size, n)\n",
    "            merge(arr, start, mid, end)\n",
    "        size *= 2\n",
    "\n",
    "\n",
    "def insertion_sort(arr, start, end):\n",
    "    # Insertion Sort within a run\n",
    "    for i in range(start + 1, end):\n",
    "        key = arr[i]\n",
    "        j = i - 1\n",
    "        while j >= start and arr[j] > key:\n",
    "            arr[j + 1] = arr[j]\n",
    "            j -= 1\n",
    "        arr[j + 1] = key\n",
    "\n",
    "\n",
    "def merge(arr, start, mid, end):\n",
    "    # Merge two runs\n",
    "    left, right = arr[start:mid], arr[mid:end]\n",
    "    i, j, k = 0, 0, start\n",
    "\n",
    "    while i < len(left) and j < len(right):\n",
    "        if left[i] <= right[j]:\n",
    "            arr[k] = left[i]\n",
    "            i += 1\n",
    "        else:\n",
    "            arr[k] = right[j]\n",
    "            j += 1\n",
    "        k += 1\n",
    "\n",
    "    arr[k:end] = left[i:] + right[j:]\n",
    "\n",
    "\n",
    "# Example usage\n",
    "my_list = [10, 7, 3, 8, 5, 1]\n",
    "tim_sort(my_list)\n",
    "print(\"Sorted list:\", my_list)"
   ]
  },
  {
   "cell_type": "markdown",
   "metadata": {},
   "source": [
    "# Radix Sort"
   ]
  },
  {
   "cell_type": "code",
   "execution_count": 8,
   "metadata": {},
   "outputs": [
    {
     "name": "stdout",
     "output_type": "stream",
     "text": [
      "Sorted numbers: [12, 45, 123, 567, 789, 890]\n"
     ]
    }
   ],
   "source": [
    "def radix_sort(arr):\n",
    "    max_digit_count = len(str(max(arr)))  # Maximum number of digits\n",
    "\n",
    "    for digit_position in range(max_digit_count):\n",
    "        buckets = [[] for _ in range(10)]  # Create 10 magical buckets\n",
    "\n",
    "        for num in arr:\n",
    "            digit = (num // 10**digit_position) % 10\n",
    "            buckets[digit].append(num)\n",
    "\n",
    "        arr = [num for bucket in buckets for num in bucket]\n",
    "\n",
    "    return arr\n",
    "\n",
    "\n",
    "# Example usage\n",
    "my_numbers = [123, 45, 789, 12, 567, 890]\n",
    "sorted_numbers = radix_sort(my_numbers)\n",
    "print(\"Sorted numbers:\", sorted_numbers)"
   ]
  }
 ],
 "metadata": {
  "kernelspec": {
   "display_name": ".venv",
   "language": "python",
   "name": "python3"
  },
  "language_info": {
   "codemirror_mode": {
    "name": "ipython",
    "version": 3
   },
   "file_extension": ".py",
   "mimetype": "text/x-python",
   "name": "python",
   "nbconvert_exporter": "python",
   "pygments_lexer": "ipython3",
   "version": "3.11.2"
  }
 },
 "nbformat": 4,
 "nbformat_minor": 2
}
