{
 "cells": [
  {
   "cell_type": "markdown",
   "metadata": {},
   "source": [
    "Click [here]() to access the associated Medium article."
   ]
  },
  {
   "cell_type": "markdown",
   "metadata": {},
   "source": [
    "# Setup"
   ]
  },
  {
   "cell_type": "code",
   "execution_count": 1,
   "metadata": {},
   "outputs": [
    {
     "name": "stdout",
     "output_type": "stream",
     "text": [
      "\u001b[33mDEPRECATION: textract 1.6.5 has a non-standard dependency specifier extract-msg<=0.29.*. pip 24.1 will enforce this behaviour change. A possible replacement is to upgrade to a newer version of textract or contact the author to suggest that they release a version with a conforming dependency specifiers. Discussion can be found at https://github.com/pypa/pip/issues/12063\u001b[0m\u001b[33m\n",
      "\u001b[0m"
     ]
    }
   ],
   "source": [
    "!pip install -q pandas matplotlib"
   ]
  },
  {
   "cell_type": "code",
   "execution_count": 18,
   "metadata": {},
   "outputs": [],
   "source": [
    "import pandas as pd\n",
    "import matplotlib.pyplot as plt"
   ]
  },
  {
   "cell_type": "markdown",
   "metadata": {},
   "source": [
    "# Understanding Pivot Tables"
   ]
  },
  {
   "cell_type": "code",
   "execution_count": 8,
   "metadata": {},
   "outputs": [
    {
     "name": "stdout",
     "output_type": "stream",
     "text": [
      "         Date Region Product  Sales\n",
      "0  2023-01-01  North       A    100\n",
      "1  2023-01-01  South       A    150\n",
      "2  2023-01-02  North       B    200\n",
      "3  2023-01-02  South       B    250\n",
      "4  2023-01-03  North       A    300\n",
      "5  2023-01-03  South       A    350\n"
     ]
    }
   ],
   "source": [
    "# Sample DataFrame\n",
    "data = {\n",
    "    \"Date\": [\n",
    "        \"2023-01-01\",\n",
    "        \"2023-01-01\",\n",
    "        \"2023-01-02\",\n",
    "        \"2023-01-02\",\n",
    "        \"2023-01-03\",\n",
    "        \"2023-01-03\",\n",
    "    ],\n",
    "    \"Region\": [\"North\", \"South\", \"North\", \"South\", \"North\", \"South\"],\n",
    "    \"Product\": [\"A\", \"A\", \"B\", \"B\", \"A\", \"A\"],\n",
    "    \"Sales\": [100, 150, 200, 250, 300, 350],\n",
    "}\n",
    "\n",
    "df = pd.DataFrame(data)\n",
    "print(df)"
   ]
  },
  {
   "cell_type": "markdown",
   "metadata": {},
   "source": [
    "## Creating Your First Pivot Table"
   ]
  },
  {
   "cell_type": "code",
   "execution_count": 3,
   "metadata": {},
   "outputs": [
    {
     "name": "stdout",
     "output_type": "stream",
     "text": [
      "Product    A    B\n",
      "Region           \n",
      "North    400  200\n",
      "South    500  250\n"
     ]
    }
   ],
   "source": [
    "pivot_table = pd.pivot_table(\n",
    "    df, values=\"Sales\", index=\"Region\", columns=\"Product\", aggfunc=\"sum\"\n",
    ")\n",
    "print(pivot_table)"
   ]
  },
  {
   "cell_type": "markdown",
   "metadata": {},
   "source": [
    "## Customizing Aggregation Functions"
   ]
  },
  {
   "cell_type": "code",
   "execution_count": 4,
   "metadata": {},
   "outputs": [
    {
     "name": "stdout",
     "output_type": "stream",
     "text": [
      "Product    A    B\n",
      "Region           \n",
      "North    200  200\n",
      "South    250  250\n"
     ]
    }
   ],
   "source": [
    "pivot_table_avg = pd.pivot_table(\n",
    "    df, values=\"Sales\", index=\"Region\", columns=\"Product\", aggfunc=\"mean\"\n",
    ")\n",
    "print(pivot_table_avg)"
   ]
  },
  {
   "cell_type": "markdown",
   "metadata": {},
   "source": [
    "## Tips for Working with Pivot Tables"
   ]
  },
  {
   "cell_type": "code",
   "execution_count": 6,
   "metadata": {},
   "outputs": [
    {
     "name": "stdout",
     "output_type": "stream",
     "text": [
      "                 sum  mean\n",
      "               Sales Sales\n",
      "Region Product            \n",
      "North  A         400   200\n",
      "       B         200   200\n",
      "South  A         500   250\n",
      "       B         250   250\n"
     ]
    }
   ],
   "source": [
    "pivot_table_multi = pd.pivot_table(\n",
    "    df, values=\"Sales\", index=[\"Region\", \"Product\"], aggfunc=[\"sum\", \"mean\"]\n",
    ")\n",
    "print(pivot_table_multi)"
   ]
  },
  {
   "cell_type": "markdown",
   "metadata": {},
   "source": [
    "# Advanced Pivot Table Techniques"
   ]
  },
  {
   "cell_type": "code",
   "execution_count": 9,
   "metadata": {},
   "outputs": [
    {
     "name": "stdout",
     "output_type": "stream",
     "text": [
      "         Date Region Product     Category  Sales\n",
      "0  2023-01-01  North       A  Electronics    100\n",
      "1  2023-01-01  South       A  Electronics    150\n",
      "2  2023-01-02  North       B    Furniture    200\n",
      "3  2023-01-02  South       B    Furniture    250\n",
      "4  2023-01-03  North       A  Electronics    300\n",
      "5  2023-01-03  South       A  Electronics    350\n"
     ]
    }
   ],
   "source": [
    "# Expanded sample DataFrame\n",
    "data = {\n",
    "    \"Date\": [\n",
    "        \"2023-01-01\",\n",
    "        \"2023-01-01\",\n",
    "        \"2023-01-02\",\n",
    "        \"2023-01-02\",\n",
    "        \"2023-01-03\",\n",
    "        \"2023-01-03\",\n",
    "    ],\n",
    "    \"Region\": [\"North\", \"South\", \"North\", \"South\", \"North\", \"South\"],\n",
    "    \"Product\": [\"A\", \"A\", \"B\", \"B\", \"A\", \"A\"],\n",
    "    \"Category\": [\n",
    "        \"Electronics\",\n",
    "        \"Electronics\",\n",
    "        \"Furniture\",\n",
    "        \"Furniture\",\n",
    "        \"Electronics\",\n",
    "        \"Electronics\",\n",
    "    ],\n",
    "    \"Sales\": [100, 150, 200, 250, 300, 350],\n",
    "}\n",
    "\n",
    "df = pd.DataFrame(data)\n",
    "print(df)"
   ]
  },
  {
   "cell_type": "markdown",
   "metadata": {},
   "source": [
    "## Multi-Level Indexing"
   ]
  },
  {
   "cell_type": "code",
   "execution_count": 11,
   "metadata": {},
   "outputs": [
    {
     "name": "stdout",
     "output_type": "stream",
     "text": [
      "Product                 A      B\n",
      "Region Category                 \n",
      "North  Electronics  400.0    NaN\n",
      "       Furniture      NaN  200.0\n",
      "South  Electronics  500.0    NaN\n",
      "       Furniture      NaN  250.0\n"
     ]
    }
   ],
   "source": [
    "pivot_table_multi = pd.pivot_table(\n",
    "    df,\n",
    "    values=\"Sales\",\n",
    "    index=[\"Region\", \"Category\"],\n",
    "    columns=\"Product\",\n",
    "    aggfunc=\"sum\",\n",
    ")\n",
    "print(pivot_table_multi)"
   ]
  },
  {
   "cell_type": "markdown",
   "metadata": {},
   "source": [
    "## Handling Missing Data"
   ]
  },
  {
   "cell_type": "code",
   "execution_count": 12,
   "metadata": {},
   "outputs": [
    {
     "name": "stdout",
     "output_type": "stream",
     "text": [
      "Product               A    B\n",
      "Region Category             \n",
      "North  Electronics  400    0\n",
      "       Furniture      0  200\n",
      "South  Electronics  500    0\n",
      "       Furniture      0  250\n"
     ]
    }
   ],
   "source": [
    "pivot_table_filled = pd.pivot_table(\n",
    "    df,\n",
    "    values=\"Sales\",\n",
    "    index=[\"Region\", \"Category\"],\n",
    "    columns=\"Product\",\n",
    "    aggfunc=\"sum\",\n",
    "    fill_value=0,\n",
    ")\n",
    "print(pivot_table_filled)"
   ]
  },
  {
   "cell_type": "markdown",
   "metadata": {},
   "source": [
    "## Applying Multiple Aggregation Functions"
   ]
  },
  {
   "cell_type": "code",
   "execution_count": 13,
   "metadata": {},
   "outputs": [
    {
     "name": "stdout",
     "output_type": "stream",
     "text": [
      "                    sum      mean     \n",
      "Product               A    B    A    B\n",
      "Region Category                       \n",
      "North  Electronics  400    0  200    0\n",
      "       Furniture      0  200    0  200\n",
      "South  Electronics  500    0  250    0\n",
      "       Furniture      0  250    0  250\n"
     ]
    }
   ],
   "source": [
    "pivot_table_multi_agg = pd.pivot_table(\n",
    "    df,\n",
    "    values=\"Sales\",\n",
    "    index=[\"Region\", \"Category\"],\n",
    "    columns=\"Product\",\n",
    "    aggfunc=[\"sum\", \"mean\"],\n",
    "    fill_value=0,\n",
    ")\n",
    "print(pivot_table_multi_agg)"
   ]
  },
  {
   "cell_type": "markdown",
   "metadata": {},
   "source": [
    "## Customizing the Display"
   ]
  },
  {
   "cell_type": "code",
   "execution_count": 14,
   "metadata": {},
   "outputs": [
    {
     "name": "stdout",
     "output_type": "stream",
     "text": [
      "Product               A    B  Total\n",
      "Region Category                    \n",
      "North  Electronics  400    0    400\n",
      "       Furniture      0  200    200\n",
      "South  Electronics  500    0    500\n",
      "       Furniture      0  250    250\n",
      "Total               900  450   1350\n"
     ]
    }
   ],
   "source": [
    "pivot_table_margins = pd.pivot_table(\n",
    "    df,\n",
    "    values=\"Sales\",\n",
    "    index=[\"Region\", \"Category\"],\n",
    "    columns=\"Product\",\n",
    "    aggfunc=\"sum\",\n",
    "    fill_value=0,\n",
    "    margins=True,\n",
    "    margins_name=\"Total\",\n",
    ")\n",
    "print(pivot_table_margins)"
   ]
  },
  {
   "cell_type": "markdown",
   "metadata": {},
   "source": [
    "## Tips for Effective Use of Pivot Tables"
   ]
  },
  {
   "cell_type": "code",
   "execution_count": 15,
   "metadata": {},
   "outputs": [
    {
     "data": {
      "image/png": "[encoded data removed]",
      "text/plain": [
       "<Figure size 640x480 with 1 Axes>"
      ]
     },
     "metadata": {},
     "output_type": "display_data"
    }
   ],
   "source": [
    "# Example of visualizing the pivot table\n",
    "pivot_table_margins.plot(kind=\"bar\")\n",
    "plt.title(\"Sales by Region and Product Category\")\n",
    "plt.ylabel(\"Sales\")\n",
    "plt.show()"
   ]
  },
  {
   "cell_type": "markdown",
   "metadata": {},
   "source": [
    "# Real-World Examples and Case Studies\n",
    "\n",
    "## Example 1: Sales Analysis by Region and Product"
   ]
  },
  {
   "cell_type": "code",
   "execution_count": 19,
   "metadata": {},
   "outputs": [
    {
     "name": "stdout",
     "output_type": "stream",
     "text": [
      "         Date Region Product     Category  Sales\n",
      "0  2023-01-01  North       A  Electronics    100\n",
      "1  2023-01-01  South       A  Electronics    150\n",
      "2  2023-01-02  North       B    Furniture    200\n",
      "3  2023-01-02  South       B    Furniture    250\n",
      "4  2023-01-03  North       A  Electronics    300\n",
      "5  2023-01-03  South       A  Electronics    350\n",
      "6  2023-01-04  North       B    Furniture    400\n",
      "7  2023-01-04  South       B    Furniture    450\n"
     ]
    }
   ],
   "source": [
    "data = {\n",
    "    \"Date\": [\n",
    "        \"2023-01-01\",\n",
    "        \"2023-01-01\",\n",
    "        \"2023-01-02\",\n",
    "        \"2023-01-02\",\n",
    "        \"2023-01-03\",\n",
    "        \"2023-01-03\",\n",
    "        \"2023-01-04\",\n",
    "        \"2023-01-04\",\n",
    "    ],\n",
    "    \"Region\": [\n",
    "        \"North\",\n",
    "        \"South\",\n",
    "        \"North\",\n",
    "        \"South\",\n",
    "        \"North\",\n",
    "        \"South\",\n",
    "        \"North\",\n",
    "        \"South\",\n",
    "    ],\n",
    "    \"Product\": [\"A\", \"A\", \"B\", \"B\", \"A\", \"A\", \"B\", \"B\"],\n",
    "    \"Category\": [\n",
    "        \"Electronics\",\n",
    "        \"Electronics\",\n",
    "        \"Furniture\",\n",
    "        \"Furniture\",\n",
    "        \"Electronics\",\n",
    "        \"Electronics\",\n",
    "        \"Furniture\",\n",
    "        \"Furniture\",\n",
    "    ],\n",
    "    \"Sales\": [100, 150, 200, 250, 300, 350, 400, 450],\n",
    "}\n",
    "\n",
    "df = pd.DataFrame(data)\n",
    "print(df)"
   ]
  },
  {
   "cell_type": "markdown",
   "metadata": {},
   "source": [
    "### Step 1: Summarize Total Sales by Region and Product"
   ]
  },
  {
   "cell_type": "code",
   "execution_count": 20,
   "metadata": {},
   "outputs": [
    {
     "name": "stdout",
     "output_type": "stream",
     "text": [
      "Product    A    B\n",
      "Region           \n",
      "North    400  600\n",
      "South    500  700\n"
     ]
    }
   ],
   "source": [
    "pivot_table_sales = pd.pivot_table(\n",
    "    df, values=\"Sales\", index=\"Region\", columns=\"Product\", aggfunc=\"sum\"\n",
    ")\n",
    "print(pivot_table_sales)"
   ]
  },
  {
   "cell_type": "markdown",
   "metadata": {},
   "source": [
    "### Step 2: Analyzing Sales Performance"
   ]
  },
  {
   "cell_type": "code",
   "execution_count": 21,
   "metadata": {},
   "outputs": [
    {
     "name": "stdout",
     "output_type": "stream",
     "text": [
      "Product    A     B  Total\n",
      "Region                   \n",
      "North    400   600   1000\n",
      "South    500   700   1200\n",
      "Total    900  1300   2200\n"
     ]
    }
   ],
   "source": [
    "pivot_table_sales_margins = pd.pivot_table(\n",
    "    df,\n",
    "    values=\"Sales\",\n",
    "    index=\"Region\",\n",
    "    columns=\"Product\",\n",
    "    aggfunc=\"sum\",\n",
    "    margins=True,\n",
    "    margins_name=\"Total\",\n",
    ")\n",
    "print(pivot_table_sales_margins)"
   ]
  },
  {
   "cell_type": "markdown",
   "metadata": {},
   "source": [
    "### Step 3: Visualizing the Data"
   ]
  },
  {
   "cell_type": "code",
   "execution_count": 22,
   "metadata": {},
   "outputs": [
    {
     "data": {
      "image/png": "[encoded data removed]",
      "text/plain": [
       "<Figure size 640x480 with 1 Axes>"
      ]
     },
     "metadata": {},
     "output_type": "display_data"
    }
   ],
   "source": [
    "pivot_table_sales_margins.plot(kind=\"bar\")\n",
    "plt.title(\"Sales by Region and Product\")\n",
    "plt.xlabel(\"Region\")\n",
    "plt.ylabel(\"Sales\")\n",
    "plt.show()"
   ]
  },
  {
   "cell_type": "markdown",
   "metadata": {},
   "source": [
    "## Example 2: Customer Purchase Behavior Analysis"
   ]
  },
  {
   "cell_type": "code",
   "execution_count": 23,
   "metadata": {},
   "outputs": [
    {
     "name": "stdout",
     "output_type": "stream",
     "text": [
      "   CustomerID PurchaseDate     Category  Amount\n",
      "0           1   2023-01-01  Electronics     120\n",
      "1           2   2023-01-01  Electronics     150\n",
      "2           1   2023-01-02    Furniture     200\n",
      "3           3   2023-01-02    Furniture     250\n",
      "4           2   2023-01-03  Electronics     300\n",
      "5           3   2023-01-03  Electronics     350\n",
      "6           1   2023-01-04    Furniture     400\n",
      "7           2   2023-01-04    Furniture     450\n"
     ]
    }
   ],
   "source": [
    "data = {\n",
    "    \"CustomerID\": [1, 2, 1, 3, 2, 3, 1, 2],\n",
    "    \"PurchaseDate\": [\n",
    "        \"2023-01-01\",\n",
    "        \"2023-01-01\",\n",
    "        \"2023-01-02\",\n",
    "        \"2023-01-02\",\n",
    "        \"2023-01-03\",\n",
    "        \"2023-01-03\",\n",
    "        \"2023-01-04\",\n",
    "        \"2023-01-04\",\n",
    "    ],\n",
    "    \"Category\": [\n",
    "        \"Electronics\",\n",
    "        \"Electronics\",\n",
    "        \"Furniture\",\n",
    "        \"Furniture\",\n",
    "        \"Electronics\",\n",
    "        \"Electronics\",\n",
    "        \"Furniture\",\n",
    "        \"Furniture\",\n",
    "    ],\n",
    "    \"Amount\": [120, 150, 200, 250, 300, 350, 400, 450],\n",
    "}\n",
    "\n",
    "df = pd.DataFrame(data)\n",
    "print(df)"
   ]
  },
  {
   "cell_type": "markdown",
   "metadata": {},
   "source": [
    "### Step 1: Summarize Total Amount Spent by Customer and Category"
   ]
  },
  {
   "cell_type": "code",
   "execution_count": 24,
   "metadata": {},
   "outputs": [
    {
     "name": "stdout",
     "output_type": "stream",
     "text": [
      "Category    Electronics  Furniture\n",
      "CustomerID                        \n",
      "1                   120        600\n",
      "2                   450        450\n",
      "3                   350        250\n"
     ]
    }
   ],
   "source": [
    "pivot_table_customer = pd.pivot_table(\n",
    "    df,\n",
    "    values=\"Amount\",\n",
    "    index=\"CustomerID\",\n",
    "    columns=\"Category\",\n",
    "    aggfunc=\"sum\",\n",
    "    fill_value=0,\n",
    ")\n",
    "print(pivot_table_customer)"
   ]
  },
  {
   "cell_type": "markdown",
   "metadata": {},
   "source": [
    "### Step 2: Analyzing Purchase Patterns"
   ]
  },
  {
   "cell_type": "code",
   "execution_count": 25,
   "metadata": {},
   "outputs": [
    {
     "name": "stdout",
     "output_type": "stream",
     "text": [
      "Category    Electronics  Furniture  Total\n",
      "CustomerID                               \n",
      "1                   120        600    720\n",
      "2                   450        450    900\n",
      "3                   350        250    600\n",
      "Total               920       1300   2220\n"
     ]
    }
   ],
   "source": [
    "pivot_table_customer_margins = pd.pivot_table(\n",
    "    df,\n",
    "    values=\"Amount\",\n",
    "    index=\"CustomerID\",\n",
    "    columns=\"Category\",\n",
    "    aggfunc=\"sum\",\n",
    "    fill_value=0,\n",
    "    margins=True,\n",
    "    margins_name=\"Total\",\n",
    ")\n",
    "print(pivot_table_customer_margins)"
   ]
  },
  {
   "cell_type": "markdown",
   "metadata": {},
   "source": [
    "### Step 3: Visualizing Customer Purchase Behavior"
   ]
  },
  {
   "cell_type": "code",
   "execution_count": 26,
   "metadata": {},
   "outputs": [
    {
     "data": {
      "image/png": "[encoded data removed]",
      "text/plain": [
       "<Figure size 640x480 with 1 Axes>"
      ]
     },
     "metadata": {},
     "output_type": "display_data"
    }
   ],
   "source": [
    "pivot_table_customer_margins.plot(kind=\"bar\")\n",
    "plt.title(\"Customer Spending by Category\")\n",
    "plt.xlabel(\"Customer ID\")\n",
    "plt.ylabel(\"Amount\")\n",
    "plt.show()"
   ]
  }
 ],
 "metadata": {
  "kernelspec": {
   "display_name": ".venv",
   "language": "python",
   "name": "python3"
  },
  "language_info": {
   "codemirror_mode": {
    "name": "ipython",
    "version": 3
   },
   "file_extension": ".py",
   "mimetype": "text/x-python",
   "name": "python",
   "nbconvert_exporter": "python",
   "pygments_lexer": "ipython3",
   "version": "3.11.2"
  }
 },
 "nbformat": 4,
 "nbformat_minor": 2
}
