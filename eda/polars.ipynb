{
 "cells": [
  {
   "cell_type": "markdown",
   "metadata": {},
   "source": [
    "Click [here]() to access the associated Medium article."
   ]
  },
  {
   "cell_type": "markdown",
   "metadata": {},
   "source": [
    "# Setup"
   ]
  },
  {
   "cell_type": "code",
   "execution_count": 1,
   "metadata": {},
   "outputs": [],
   "source": [
    "!pip install -q polars"
   ]
  },
  {
   "cell_type": "code",
   "execution_count": 2,
   "metadata": {},
   "outputs": [
    {
     "data": {
      "text/plain": [
       "'0.19.3'"
      ]
     },
     "execution_count": 2,
     "metadata": {},
     "output_type": "execute_result"
    }
   ],
   "source": [
    "import polars as pl\n",
    "\n",
    "pl.__version__"
   ]
  },
  {
   "cell_type": "markdown",
   "metadata": {},
   "source": [
    "# Dataset"
   ]
  },
  {
   "cell_type": "code",
   "execution_count": 3,
   "metadata": {},
   "outputs": [],
   "source": [
    "import random\n",
    "import string\n",
    "\n",
    "import polars as pl\n",
    "\n",
    "# Defining the size of our dataset\n",
    "size = 1000000\n",
    "\n",
    "# Setting a seed for reproducibility\n",
    "random.seed(777)\n",
    "\n",
    "# Creating a DataFrame\n",
    "df = pl.DataFrame(\n",
    "    {\n",
    "        \"age\": [random.randint(20, 70) for _ in range(size)],\n",
    "        \"city\": [\n",
    "            random.choice([\"New York\", \"London\", \"Berlin\", \"Tokyo\"])\n",
    "            for _ in range(size)\n",
    "        ],\n",
    "        \"is_married\": [random.choice([True, False]) for _ in range(size)],\n",
    "        \"bmi\": [round(random.uniform(17.0, 27.0), 2) for _ in range(size)],\n",
    "    }\n",
    ")"
   ]
  },
  {
   "cell_type": "markdown",
   "metadata": {},
   "source": [
    "## Inspecting the Dataset"
   ]
  },
  {
   "cell_type": "code",
   "execution_count": 4,
   "metadata": {},
   "outputs": [
    {
     "data": {
      "text/plain": [
       "(1000000, 4)"
      ]
     },
     "execution_count": 4,
     "metadata": {},
     "output_type": "execute_result"
    }
   ],
   "source": [
    "df.shape"
   ]
  },
  {
   "cell_type": "code",
   "execution_count": 5,
   "metadata": {},
   "outputs": [
    {
     "data": {
      "text/html": [
       "<div><style>\n",
       ".dataframe > thead > tr > th,\n",
       ".dataframe > tbody > tr > td {\n",
       "  text-align: right;\n",
       "  white-space: pre-wrap;\n",
       "}\n",
       "</style>\n",
       "<small>shape: (5, 4)</small><table border=\"1\" class=\"dataframe\"><thead><tr><th>age</th><th>city</th><th>is_married</th><th>bmi</th></tr><tr><td>i64</td><td>str</td><td>bool</td><td>f64</td></tr></thead><tbody><tr><td>34</td><td>&quot;New York&quot;</td><td>false</td><td>17.62</td></tr><tr><td>48</td><td>&quot;Tokyo&quot;</td><td>true</td><td>25.62</td></tr><tr><td>48</td><td>&quot;Tokyo&quot;</td><td>false</td><td>18.25</td></tr><tr><td>43</td><td>&quot;London&quot;</td><td>true</td><td>17.73</td></tr><tr><td>56</td><td>&quot;Berlin&quot;</td><td>false</td><td>21.42</td></tr></tbody></table></div>"
      ],
      "text/plain": [
       "shape: (5, 4)\n",
       "┌─────┬──────────┬────────────┬───────┐\n",
       "│ age ┆ city     ┆ is_married ┆ bmi   │\n",
       "│ --- ┆ ---      ┆ ---        ┆ ---   │\n",
       "│ i64 ┆ str      ┆ bool       ┆ f64   │\n",
       "╞═════╪══════════╪════════════╪═══════╡\n",
       "│ 34  ┆ New York ┆ false      ┆ 17.62 │\n",
       "│ 48  ┆ Tokyo    ┆ true       ┆ 25.62 │\n",
       "│ 48  ┆ Tokyo    ┆ false      ┆ 18.25 │\n",
       "│ 43  ┆ London   ┆ true       ┆ 17.73 │\n",
       "│ 56  ┆ Berlin   ┆ false      ┆ 21.42 │\n",
       "└─────┴──────────┴────────────┴───────┘"
      ]
     },
     "execution_count": 5,
     "metadata": {},
     "output_type": "execute_result"
    }
   ],
   "source": [
    "df.head()"
   ]
  },
  {
   "cell_type": "code",
   "execution_count": 6,
   "metadata": {},
   "outputs": [
    {
     "data": {
      "text/html": [
       "<div><style>\n",
       ".dataframe > thead > tr > th,\n",
       ".dataframe > tbody > tr > td {\n",
       "  text-align: right;\n",
       "  white-space: pre-wrap;\n",
       "}\n",
       "</style>\n",
       "<small>shape: (9, 5)</small><table border=\"1\" class=\"dataframe\"><thead><tr><th>describe</th><th>age</th><th>city</th><th>is_married</th><th>bmi</th></tr><tr><td>str</td><td>f64</td><td>str</td><td>f64</td><td>f64</td></tr></thead><tbody><tr><td>&quot;count&quot;</td><td>1e6</td><td>&quot;1000000&quot;</td><td>1e6</td><td>1e6</td></tr><tr><td>&quot;null_count&quot;</td><td>0.0</td><td>&quot;0&quot;</td><td>0.0</td><td>0.0</td></tr><tr><td>&quot;mean&quot;</td><td>45.007378</td><td>null</td><td>0.498941</td><td>21.998514</td></tr><tr><td>&quot;std&quot;</td><td>14.714038</td><td>null</td><td>0.499999</td><td>2.885383</td></tr><tr><td>&quot;min&quot;</td><td>20.0</td><td>&quot;Berlin&quot;</td><td>0.0</td><td>17.0</td></tr><tr><td>&quot;25%&quot;</td><td>32.0</td><td>null</td><td>null</td><td>19.5</td></tr><tr><td>&quot;50%&quot;</td><td>45.0</td><td>null</td><td>null</td><td>22.0</td></tr><tr><td>&quot;75%&quot;</td><td>58.0</td><td>null</td><td>null</td><td>24.5</td></tr><tr><td>&quot;max&quot;</td><td>70.0</td><td>&quot;Tokyo&quot;</td><td>1.0</td><td>27.0</td></tr></tbody></table></div>"
      ],
      "text/plain": [
       "shape: (9, 5)\n",
       "┌────────────┬───────────┬─────────┬────────────┬───────────┐\n",
       "│ describe   ┆ age       ┆ city    ┆ is_married ┆ bmi       │\n",
       "│ ---        ┆ ---       ┆ ---     ┆ ---        ┆ ---       │\n",
       "│ str        ┆ f64       ┆ str     ┆ f64        ┆ f64       │\n",
       "╞════════════╪═══════════╪═════════╪════════════╪═══════════╡\n",
       "│ count      ┆ 1e6       ┆ 1000000 ┆ 1e6        ┆ 1e6       │\n",
       "│ null_count ┆ 0.0       ┆ 0       ┆ 0.0        ┆ 0.0       │\n",
       "│ mean       ┆ 45.007378 ┆ null    ┆ 0.498941   ┆ 21.998514 │\n",
       "│ std        ┆ 14.714038 ┆ null    ┆ 0.499999   ┆ 2.885383  │\n",
       "│ min        ┆ 20.0      ┆ Berlin  ┆ 0.0        ┆ 17.0      │\n",
       "│ 25%        ┆ 32.0      ┆ null    ┆ null       ┆ 19.5      │\n",
       "│ 50%        ┆ 45.0      ┆ null    ┆ null       ┆ 22.0      │\n",
       "│ 75%        ┆ 58.0      ┆ null    ┆ null       ┆ 24.5      │\n",
       "│ max        ┆ 70.0      ┆ Tokyo   ┆ 1.0        ┆ 27.0      │\n",
       "└────────────┴───────────┴─────────┴────────────┴───────────┘"
      ]
     },
     "execution_count": 6,
     "metadata": {},
     "output_type": "execute_result"
    }
   ],
   "source": [
    "df.describe()"
   ]
  },
  {
   "cell_type": "markdown",
   "metadata": {},
   "source": [
    "# Data Cleaning"
   ]
  },
  {
   "cell_type": "markdown",
   "metadata": {},
   "source": [
    "## Missing Values"
   ]
  },
  {
   "cell_type": "code",
   "execution_count": 7,
   "metadata": {},
   "outputs": [],
   "source": [
    "# Create some missing data.\n",
    "# Whenever 'age' is over 68, corresponding 'bmi' becomes 'null'\n",
    "df = df.with_columns(\n",
    "    pl.when(pl.col(\"age\") > 68).then(None).otherwise(pl.col(\"bmi\")).alias(\n",
    "        \"bmi\"\n",
    "    )\n",
    ")"
   ]
  },
  {
   "cell_type": "code",
   "execution_count": 8,
   "metadata": {},
   "outputs": [
    {
     "data": {
      "text/html": [
       "<div><style>\n",
       ".dataframe > thead > tr > th,\n",
       ".dataframe > tbody > tr > td {\n",
       "  text-align: right;\n",
       "  white-space: pre-wrap;\n",
       "}\n",
       "</style>\n",
       "<small>shape: (1, 4)</small><table border=\"1\" class=\"dataframe\"><thead><tr><th>age</th><th>city</th><th>is_married</th><th>bmi</th></tr><tr><td>u32</td><td>u32</td><td>u32</td><td>u32</td></tr></thead><tbody><tr><td>0</td><td>0</td><td>0</td><td>39283</td></tr></tbody></table></div>"
      ],
      "text/plain": [
       "shape: (1, 4)\n",
       "┌─────┬──────┬────────────┬───────┐\n",
       "│ age ┆ city ┆ is_married ┆ bmi   │\n",
       "│ --- ┆ ---  ┆ ---        ┆ ---   │\n",
       "│ u32 ┆ u32  ┆ u32        ┆ u32   │\n",
       "╞═════╪══════╪════════════╪═══════╡\n",
       "│ 0   ┆ 0    ┆ 0          ┆ 39283 │\n",
       "└─────┴──────┴────────────┴───────┘"
      ]
     },
     "execution_count": 8,
     "metadata": {},
     "output_type": "execute_result"
    }
   ],
   "source": [
    "# Counting missing values\n",
    "df.null_count()"
   ]
  },
  {
   "cell_type": "code",
   "execution_count": 9,
   "metadata": {},
   "outputs": [
    {
     "data": {
      "text/html": [
       "<div><style>\n",
       ".dataframe > thead > tr > th,\n",
       ".dataframe > tbody > tr > td {\n",
       "  text-align: right;\n",
       "  white-space: pre-wrap;\n",
       "}\n",
       "</style>\n",
       "<small>shape: (1, 4)</small><table border=\"1\" class=\"dataframe\"><thead><tr><th>age</th><th>city</th><th>is_married</th><th>bmi</th></tr><tr><td>u32</td><td>u32</td><td>u32</td><td>u32</td></tr></thead><tbody><tr><td>0</td><td>0</td><td>0</td><td>0</td></tr></tbody></table></div>"
      ],
      "text/plain": [
       "shape: (1, 4)\n",
       "┌─────┬──────┬────────────┬─────┐\n",
       "│ age ┆ city ┆ is_married ┆ bmi │\n",
       "│ --- ┆ ---  ┆ ---        ┆ --- │\n",
       "│ u32 ┆ u32  ┆ u32        ┆ u32 │\n",
       "╞═════╪══════╪════════════╪═════╡\n",
       "│ 0   ┆ 0    ┆ 0          ┆ 0   │\n",
       "└─────┴──────┴────────────┴─────┘"
      ]
     },
     "execution_count": 9,
     "metadata": {},
     "output_type": "execute_result"
    }
   ],
   "source": [
    "# Imputing missing values with the median of the column 'bmi'\n",
    "df = df.with_columns(pl.col(\"bmi\").fill_null(pl.median(\"bmi\")))\n",
    "\n",
    "# Counting missing values again\n",
    "df.null_count()"
   ]
  },
  {
   "cell_type": "markdown",
   "metadata": {},
   "source": [
    "## Type Casting"
   ]
  },
  {
   "cell_type": "code",
   "execution_count": 10,
   "metadata": {},
   "outputs": [
    {
     "data": {
      "text/html": [
       "<div><style>\n",
       ".dataframe > thead > tr > th,\n",
       ".dataframe > tbody > tr > td {\n",
       "  text-align: right;\n",
       "  white-space: pre-wrap;\n",
       "}\n",
       "</style>\n",
       "<small>shape: (1_000_000, 1)</small><table border=\"1\" class=\"dataframe\"><thead><tr><th>bmi</th></tr><tr><td>i32</td></tr></thead><tbody><tr><td>17</td></tr><tr><td>25</td></tr><tr><td>18</td></tr><tr><td>17</td></tr><tr><td>21</td></tr><tr><td>26</td></tr><tr><td>18</td></tr><tr><td>17</td></tr><tr><td>25</td></tr><tr><td>26</td></tr><tr><td>17</td></tr><tr><td>23</td></tr><tr><td>&hellip;</td></tr><tr><td>25</td></tr><tr><td>20</td></tr><tr><td>19</td></tr><tr><td>18</td></tr><tr><td>18</td></tr><tr><td>18</td></tr><tr><td>23</td></tr><tr><td>26</td></tr><tr><td>17</td></tr><tr><td>22</td></tr><tr><td>24</td></tr><tr><td>22</td></tr></tbody></table></div>"
      ],
      "text/plain": [
       "shape: (1_000_000, 1)\n",
       "┌─────┐\n",
       "│ bmi │\n",
       "│ --- │\n",
       "│ i32 │\n",
       "╞═════╡\n",
       "│ 17  │\n",
       "│ 25  │\n",
       "│ 18  │\n",
       "│ 17  │\n",
       "│ …   │\n",
       "│ 17  │\n",
       "│ 22  │\n",
       "│ 24  │\n",
       "│ 22  │\n",
       "└─────┘"
      ]
     },
     "execution_count": 10,
     "metadata": {},
     "output_type": "execute_result"
    }
   ],
   "source": [
    "# Casting 'bmi' to integer (show only).\n",
    "df.select(pl.col('bmi').cast(pl.Int32))"
   ]
  },
  {
   "cell_type": "code",
   "execution_count": 11,
   "metadata": {},
   "outputs": [
    {
     "data": {
      "text/html": [
       "<div><style>\n",
       ".dataframe > thead > tr > th,\n",
       ".dataframe > tbody > tr > td {\n",
       "  text-align: right;\n",
       "  white-space: pre-wrap;\n",
       "}\n",
       "</style>\n",
       "<small>shape: (1_000_000, 1)</small><table border=\"1\" class=\"dataframe\"><thead><tr><th>bmi</th></tr><tr><td>f64</td></tr></thead><tbody><tr><td>17.62</td></tr><tr><td>25.62</td></tr><tr><td>18.25</td></tr><tr><td>17.73</td></tr><tr><td>21.42</td></tr><tr><td>26.79</td></tr><tr><td>18.74</td></tr><tr><td>17.66</td></tr><tr><td>25.02</td></tr><tr><td>26.9</td></tr><tr><td>17.74</td></tr><tr><td>23.34</td></tr><tr><td>&hellip;</td></tr><tr><td>25.26</td></tr><tr><td>20.29</td></tr><tr><td>19.13</td></tr><tr><td>18.48</td></tr><tr><td>18.44</td></tr><tr><td>18.45</td></tr><tr><td>23.17</td></tr><tr><td>26.89</td></tr><tr><td>17.25</td></tr><tr><td>22.0</td></tr><tr><td>24.87</td></tr><tr><td>22.77</td></tr></tbody></table></div>"
      ],
      "text/plain": [
       "shape: (1_000_000, 1)\n",
       "┌───────┐\n",
       "│ bmi   │\n",
       "│ ---   │\n",
       "│ f64   │\n",
       "╞═══════╡\n",
       "│ 17.62 │\n",
       "│ 25.62 │\n",
       "│ 18.25 │\n",
       "│ 17.73 │\n",
       "│ …     │\n",
       "│ 17.25 │\n",
       "│ 22.0  │\n",
       "│ 24.87 │\n",
       "│ 22.77 │\n",
       "└───────┘"
      ]
     },
     "execution_count": 11,
     "metadata": {},
     "output_type": "execute_result"
    }
   ],
   "source": [
    "# Original 'bmi'\n",
    "df.select(pl.col('bmi'))"
   ]
  },
  {
   "cell_type": "markdown",
   "metadata": {},
   "source": [
    "## Creating New Columns"
   ]
  },
  {
   "cell_type": "code",
   "execution_count": 12,
   "metadata": {},
   "outputs": [
    {
     "data": {
      "text/html": [
       "<div><style>\n",
       ".dataframe > thead > tr > th,\n",
       ".dataframe > tbody > tr > td {\n",
       "  text-align: right;\n",
       "  white-space: pre-wrap;\n",
       "}\n",
       "</style>\n",
       "<small>shape: (1_000_000, 5)</small><table border=\"1\" class=\"dataframe\"><thead><tr><th>age</th><th>city</th><th>is_married</th><th>bmi</th><th>age_in_months</th></tr><tr><td>i64</td><td>str</td><td>bool</td><td>f64</td><td>i64</td></tr></thead><tbody><tr><td>34</td><td>&quot;New York&quot;</td><td>false</td><td>17.62</td><td>408</td></tr><tr><td>48</td><td>&quot;Tokyo&quot;</td><td>true</td><td>25.62</td><td>576</td></tr><tr><td>48</td><td>&quot;Tokyo&quot;</td><td>false</td><td>18.25</td><td>576</td></tr><tr><td>43</td><td>&quot;London&quot;</td><td>true</td><td>17.73</td><td>516</td></tr><tr><td>56</td><td>&quot;Berlin&quot;</td><td>false</td><td>21.42</td><td>672</td></tr><tr><td>37</td><td>&quot;London&quot;</td><td>false</td><td>26.79</td><td>444</td></tr><tr><td>41</td><td>&quot;Berlin&quot;</td><td>true</td><td>18.74</td><td>492</td></tr><tr><td>54</td><td>&quot;Tokyo&quot;</td><td>true</td><td>17.66</td><td>648</td></tr><tr><td>68</td><td>&quot;London&quot;</td><td>false</td><td>25.02</td><td>816</td></tr><tr><td>22</td><td>&quot;Berlin&quot;</td><td>true</td><td>26.9</td><td>264</td></tr><tr><td>48</td><td>&quot;Berlin&quot;</td><td>false</td><td>17.74</td><td>576</td></tr><tr><td>62</td><td>&quot;New York&quot;</td><td>true</td><td>23.34</td><td>744</td></tr><tr><td>&hellip;</td><td>&hellip;</td><td>&hellip;</td><td>&hellip;</td><td>&hellip;</td></tr><tr><td>51</td><td>&quot;Berlin&quot;</td><td>true</td><td>25.26</td><td>612</td></tr><tr><td>56</td><td>&quot;Berlin&quot;</td><td>true</td><td>20.29</td><td>672</td></tr><tr><td>48</td><td>&quot;London&quot;</td><td>false</td><td>19.13</td><td>576</td></tr><tr><td>63</td><td>&quot;London&quot;</td><td>true</td><td>18.48</td><td>756</td></tr><tr><td>62</td><td>&quot;New York&quot;</td><td>false</td><td>18.44</td><td>744</td></tr><tr><td>42</td><td>&quot;Berlin&quot;</td><td>false</td><td>18.45</td><td>504</td></tr><tr><td>49</td><td>&quot;Berlin&quot;</td><td>false</td><td>23.17</td><td>588</td></tr><tr><td>25</td><td>&quot;London&quot;</td><td>true</td><td>26.89</td><td>300</td></tr><tr><td>62</td><td>&quot;Berlin&quot;</td><td>false</td><td>17.25</td><td>744</td></tr><tr><td>70</td><td>&quot;Tokyo&quot;</td><td>true</td><td>22.0</td><td>840</td></tr><tr><td>63</td><td>&quot;Tokyo&quot;</td><td>true</td><td>24.87</td><td>756</td></tr><tr><td>33</td><td>&quot;Berlin&quot;</td><td>true</td><td>22.77</td><td>396</td></tr></tbody></table></div>"
      ],
      "text/plain": [
       "shape: (1_000_000, 5)\n",
       "┌─────┬──────────┬────────────┬───────┬───────────────┐\n",
       "│ age ┆ city     ┆ is_married ┆ bmi   ┆ age_in_months │\n",
       "│ --- ┆ ---      ┆ ---        ┆ ---   ┆ ---           │\n",
       "│ i64 ┆ str      ┆ bool       ┆ f64   ┆ i64           │\n",
       "╞═════╪══════════╪════════════╪═══════╪═══════════════╡\n",
       "│ 34  ┆ New York ┆ false      ┆ 17.62 ┆ 408           │\n",
       "│ 48  ┆ Tokyo    ┆ true       ┆ 25.62 ┆ 576           │\n",
       "│ 48  ┆ Tokyo    ┆ false      ┆ 18.25 ┆ 576           │\n",
       "│ 43  ┆ London   ┆ true       ┆ 17.73 ┆ 516           │\n",
       "│ …   ┆ …        ┆ …          ┆ …     ┆ …             │\n",
       "│ 62  ┆ Berlin   ┆ false      ┆ 17.25 ┆ 744           │\n",
       "│ 70  ┆ Tokyo    ┆ true       ┆ 22.0  ┆ 840           │\n",
       "│ 63  ┆ Tokyo    ┆ true       ┆ 24.87 ┆ 756           │\n",
       "│ 33  ┆ Berlin   ┆ true       ┆ 22.77 ┆ 396           │\n",
       "└─────┴──────────┴────────────┴───────┴───────────────┘"
      ]
     },
     "execution_count": 12,
     "metadata": {},
     "output_type": "execute_result"
    }
   ],
   "source": [
    "# Create a new column 'age_in_months' (show only)\n",
    "df.with_columns((pl.col(\"age\") * 12).alias(\"age_in_months\"))"
   ]
  },
  {
   "cell_type": "markdown",
   "metadata": {},
   "source": [
    "## Removing Duplicates"
   ]
  },
  {
   "cell_type": "code",
   "execution_count": 13,
   "metadata": {},
   "outputs": [],
   "source": [
    "# Save only unique values in the dataset\n",
    "df = df.unique()"
   ]
  },
  {
   "cell_type": "markdown",
   "metadata": {},
   "source": [
    "# Data Visualization"
   ]
  },
  {
   "cell_type": "code",
   "execution_count": 14,
   "metadata": {},
   "outputs": [
    {
     "data": {
      "text/html": [
       "\n",
       "            <div id=\"uExLIm\"></div>\n",
       "            <script type=\"text/javascript\" data-lets-plot-script=\"library\">\n",
       "                if(!window.letsPlotCallQueue) {\n",
       "                    window.letsPlotCallQueue = [];\n",
       "                }; \n",
       "                window.letsPlotCall = function(f) {\n",
       "                    window.letsPlotCallQueue.push(f);\n",
       "                };\n",
       "                (function() {\n",
       "                    var script = document.createElement(\"script\");\n",
       "                    script.type = \"text/javascript\";\n",
       "                    script.src = \"https://cdn.jsdelivr.net/gh/JetBrains/lets-plot@v4.0.0/js-package/distr/lets-plot.min.js\";\n",
       "                    script.onload = function() {\n",
       "                        window.letsPlotCall = function(f) {f();};\n",
       "                        window.letsPlotCallQueue.forEach(function(f) {f();});\n",
       "                        window.letsPlotCallQueue = [];\n",
       "                        \n",
       "                    };\n",
       "                    script.onerror = function(event) {\n",
       "                        window.letsPlotCall = function(f) {};    // noop\n",
       "                        window.letsPlotCallQueue = [];\n",
       "                        var div = document.createElement(\"div\");\n",
       "                        div.style.color = 'darkred';\n",
       "                        div.textContent = 'Error loading Lets-Plot JS';\n",
       "                        document.getElementById(\"uExLIm\").appendChild(div);\n",
       "                    };\n",
       "                    var e = document.getElementById(\"uExLIm\");\n",
       "                    e.appendChild(script);\n",
       "                })()\n",
       "            </script>\n",
       "            "
      ]
     },
     "metadata": {},
     "output_type": "display_data"
    }
   ],
   "source": [
    "import plotly.express as px\n",
    "\n",
    "import matplotlib.pyplot as plt"
   ]
  },
  {
   "cell_type": "code",
   "execution_count": 15,
   "metadata": {},
   "outputs": [],
   "source": [
    "sample_df = df.sample(1000)"
   ]
  },
  {
   "cell_type": "markdown",
   "metadata": {},
   "source": [
    "## Histogram"
   ]
  },
  {
   "cell_type": "code",
   "execution_count": 16,
   "metadata": {},
   "outputs": [],
   "source": [
    "fig=px.histogram(sample_df, x=\"bmi\", nbins=10)\n",
    "\n",
    "# save to file\n",
    "# fig.write_image(\"histogram.png\")"
   ]
  },
  {
   "cell_type": "code",
   "execution_count": 17,
   "metadata": {},
   "outputs": [
    {
     "data": {
      "image/png": "[encoded data removed]",
      "text/plain": [
       "<Figure size 640x480 with 1 Axes>"
      ]
     },
     "metadata": {},
     "output_type": "display_data"
    }
   ],
   "source": [
    "plt.hist(sample_df['bmi'], bins=10, color = \"skyblue\")\n",
    "plt.title('Histogram of Ages')\n",
    "plt.ylabel('Frequency')\n",
    "plt.show()"
   ]
  },
  {
   "cell_type": "markdown",
   "metadata": {},
   "source": [
    "## Box Plot"
   ]
  },
  {
   "cell_type": "code",
   "execution_count": 18,
   "metadata": {},
   "outputs": [],
   "source": [
    "# px.box(df, y=\"age\")"
   ]
  },
  {
   "cell_type": "markdown",
   "metadata": {},
   "source": [
    "## Scatter Plot"
   ]
  },
  {
   "cell_type": "code",
   "execution_count": 19,
   "metadata": {},
   "outputs": [],
   "source": [
    "# px.scatter(df.sample(100), x=\"age\", y=\"bmi\")"
   ]
  },
  {
   "cell_type": "markdown",
   "metadata": {},
   "source": [
    "## Bar Chart"
   ]
  },
  {
   "cell_type": "code",
   "execution_count": 20,
   "metadata": {},
   "outputs": [],
   "source": [
    "# px.bar(df, y=\"city\")"
   ]
  }
 ],
 "metadata": {
  "kernelspec": {
   "display_name": ".venv",
   "language": "python",
   "name": "python3"
  },
  "language_info": {
   "codemirror_mode": {
    "name": "ipython",
    "version": 3
   },
   "file_extension": ".py",
   "mimetype": "text/x-python",
   "name": "python",
   "nbconvert_exporter": "python",
   "pygments_lexer": "ipython3",
   "version": "3.11.5"
  },
  "orig_nbformat": 4
 },
 "nbformat": 4,
 "nbformat_minor": 2
}
