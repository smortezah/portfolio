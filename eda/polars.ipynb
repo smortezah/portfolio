{
 "cells": [
  {
   "cell_type": "markdown",
   "metadata": {},
   "source": [
    "Click [here]() to access the associated Medium article."
   ]
  },
  {
   "cell_type": "markdown",
   "metadata": {},
   "source": [
    "# Setup"
   ]
  },
  {
   "cell_type": "code",
   "execution_count": 2,
   "metadata": {},
   "outputs": [
    {
     "name": "stdout",
     "output_type": "stream",
     "text": [
      "\u001b[33mDEPRECATION: textract 1.6.5 has a non-standard dependency specifier extract-msg<=0.29.*. pip 23.3 will enforce this behaviour change. A possible replacement is to upgrade to a newer version of textract or contact the author to suggest that they release a version with a conforming dependency specifiers. Discussion can be found at https://github.com/pypa/pip/issues/12063\u001b[0m\u001b[33m\n",
      "\u001b[0m"
     ]
    }
   ],
   "source": [
    "!pip install -q polars matplotlib"
   ]
  },
  {
   "cell_type": "code",
   "execution_count": 3,
   "metadata": {},
   "outputs": [],
   "source": [
    "import random\n",
    "import string\n",
    "\n",
    "import matplotlib.pyplot as plt\n",
    "\n",
    "import polars as pl\n",
    "\n",
    "\n",
    "SEED = 777  # for reproducibility\n",
    "plt.style.use(\"ggplot_classic.mplstyle\")  # a custom plot style"
   ]
  },
  {
   "cell_type": "markdown",
   "metadata": {},
   "source": [
    "# Dataset"
   ]
  },
  {
   "cell_type": "code",
   "execution_count": 4,
   "metadata": {},
   "outputs": [],
   "source": [
    "# Setting the seed for reproducibility\n",
    "random.seed(SEED)\n",
    "\n",
    "# Defining the size of our dataset\n",
    "size = 1000000\n",
    "\n",
    "# Creating a DataFrame\n",
    "df = pl.DataFrame(\n",
    "    {\n",
    "        \"age\": [random.randint(20, 70) for _ in range(size)],\n",
    "        \"city\": [\n",
    "            random.choice([\"New York\", \"London\", \"Berlin\", \"Tokyo\"])\n",
    "            for _ in range(size)\n",
    "        ],\n",
    "        \"is_married\": [random.choice([True, False]) for _ in range(size)],\n",
    "        \"bmi\": [round(random.uniform(17.0, 27.0), 2) for _ in range(size)],\n",
    "    }\n",
    ")"
   ]
  },
  {
   "cell_type": "markdown",
   "metadata": {},
   "source": [
    "## Inspecting the Dataset"
   ]
  },
  {
   "cell_type": "code",
   "execution_count": 5,
   "metadata": {},
   "outputs": [
    {
     "data": {
      "text/plain": [
       "(1000000, 4)"
      ]
     },
     "execution_count": 5,
     "metadata": {},
     "output_type": "execute_result"
    }
   ],
   "source": [
    "df.shape"
   ]
  },
  {
   "cell_type": "code",
   "execution_count": 6,
   "metadata": {},
   "outputs": [
    {
     "data": {
      "text/html": [
       "<div><style>\n",
       ".dataframe > thead > tr > th,\n",
       ".dataframe > tbody > tr > td {\n",
       "  text-align: right;\n",
       "}\n",
       "</style>\n",
       "<small>shape: (5, 4)</small><table border=\"1\" class=\"dataframe\"><thead><tr><th>age</th><th>city</th><th>is_married</th><th>bmi</th></tr><tr><td>i64</td><td>str</td><td>bool</td><td>f64</td></tr></thead><tbody><tr><td>34</td><td>&quot;New York&quot;</td><td>false</td><td>17.62</td></tr><tr><td>48</td><td>&quot;Tokyo&quot;</td><td>true</td><td>25.62</td></tr><tr><td>48</td><td>&quot;Tokyo&quot;</td><td>false</td><td>18.25</td></tr><tr><td>43</td><td>&quot;London&quot;</td><td>true</td><td>17.73</td></tr><tr><td>56</td><td>&quot;Berlin&quot;</td><td>false</td><td>21.42</td></tr></tbody></table></div>"
      ],
      "text/plain": [
       "shape: (5, 4)\n",
       "┌─────┬──────────┬────────────┬───────┐\n",
       "│ age ┆ city     ┆ is_married ┆ bmi   │\n",
       "│ --- ┆ ---      ┆ ---        ┆ ---   │\n",
       "│ i64 ┆ str      ┆ bool       ┆ f64   │\n",
       "╞═════╪══════════╪════════════╪═══════╡\n",
       "│ 34  ┆ New York ┆ false      ┆ 17.62 │\n",
       "│ 48  ┆ Tokyo    ┆ true       ┆ 25.62 │\n",
       "│ 48  ┆ Tokyo    ┆ false      ┆ 18.25 │\n",
       "│ 43  ┆ London   ┆ true       ┆ 17.73 │\n",
       "│ 56  ┆ Berlin   ┆ false      ┆ 21.42 │\n",
       "└─────┴──────────┴────────────┴───────┘"
      ]
     },
     "execution_count": 6,
     "metadata": {},
     "output_type": "execute_result"
    }
   ],
   "source": [
    "df.head()"
   ]
  },
  {
   "cell_type": "code",
   "execution_count": 7,
   "metadata": {},
   "outputs": [
    {
     "data": {
      "text/html": [
       "<div><style>\n",
       ".dataframe > thead > tr > th,\n",
       ".dataframe > tbody > tr > td {\n",
       "  text-align: right;\n",
       "}\n",
       "</style>\n",
       "<small>shape: (9, 5)</small><table border=\"1\" class=\"dataframe\"><thead><tr><th>describe</th><th>age</th><th>city</th><th>is_married</th><th>bmi</th></tr><tr><td>str</td><td>f64</td><td>str</td><td>f64</td><td>f64</td></tr></thead><tbody><tr><td>&quot;count&quot;</td><td>1e6</td><td>&quot;1000000&quot;</td><td>1e6</td><td>1e6</td></tr><tr><td>&quot;null_count&quot;</td><td>0.0</td><td>&quot;0&quot;</td><td>0.0</td><td>0.0</td></tr><tr><td>&quot;mean&quot;</td><td>45.007378</td><td>null</td><td>0.498941</td><td>21.998514</td></tr><tr><td>&quot;std&quot;</td><td>14.714038</td><td>null</td><td>0.499998</td><td>2.885383</td></tr><tr><td>&quot;min&quot;</td><td>20.0</td><td>&quot;Berlin&quot;</td><td>0.0</td><td>17.0</td></tr><tr><td>&quot;max&quot;</td><td>70.0</td><td>&quot;Tokyo&quot;</td><td>1.0</td><td>27.0</td></tr><tr><td>&quot;median&quot;</td><td>45.0</td><td>null</td><td>0.0</td><td>22.0</td></tr><tr><td>&quot;25%&quot;</td><td>32.0</td><td>null</td><td>null</td><td>19.5</td></tr><tr><td>&quot;75%&quot;</td><td>58.0</td><td>null</td><td>null</td><td>24.5</td></tr></tbody></table></div>"
      ],
      "text/plain": [
       "shape: (9, 5)\n",
       "┌────────────┬───────────┬─────────┬────────────┬───────────┐\n",
       "│ describe   ┆ age       ┆ city    ┆ is_married ┆ bmi       │\n",
       "│ ---        ┆ ---       ┆ ---     ┆ ---        ┆ ---       │\n",
       "│ str        ┆ f64       ┆ str     ┆ f64        ┆ f64       │\n",
       "╞════════════╪═══════════╪═════════╪════════════╪═══════════╡\n",
       "│ count      ┆ 1e6       ┆ 1000000 ┆ 1e6        ┆ 1e6       │\n",
       "│ null_count ┆ 0.0       ┆ 0       ┆ 0.0        ┆ 0.0       │\n",
       "│ mean       ┆ 45.007378 ┆ null    ┆ 0.498941   ┆ 21.998514 │\n",
       "│ std        ┆ 14.714038 ┆ null    ┆ 0.499998   ┆ 2.885383  │\n",
       "│ min        ┆ 20.0      ┆ Berlin  ┆ 0.0        ┆ 17.0      │\n",
       "│ max        ┆ 70.0      ┆ Tokyo   ┆ 1.0        ┆ 27.0      │\n",
       "│ median     ┆ 45.0      ┆ null    ┆ 0.0        ┆ 22.0      │\n",
       "│ 25%        ┆ 32.0      ┆ null    ┆ null       ┆ 19.5      │\n",
       "│ 75%        ┆ 58.0      ┆ null    ┆ null       ┆ 24.5      │\n",
       "└────────────┴───────────┴─────────┴────────────┴───────────┘"
      ]
     },
     "execution_count": 7,
     "metadata": {},
     "output_type": "execute_result"
    }
   ],
   "source": [
    "df.describe()"
   ]
  },
  {
   "cell_type": "markdown",
   "metadata": {},
   "source": [
    "# Data Cleaning"
   ]
  },
  {
   "cell_type": "markdown",
   "metadata": {},
   "source": [
    "## Missing Values"
   ]
  },
  {
   "cell_type": "code",
   "execution_count": 8,
   "metadata": {},
   "outputs": [],
   "source": [
    "# Create some missing data.\n",
    "# Whenever 'age' is over 68, corresponding 'bmi' becomes 'null'\n",
    "df = df.with_columns(\n",
    "    pl.when(pl.col(\"age\") > 68).then(None).otherwise(pl.col(\"bmi\")).alias(\"bmi\")\n",
    ")"
   ]
  },
  {
   "cell_type": "code",
   "execution_count": 9,
   "metadata": {},
   "outputs": [
    {
     "data": {
      "text/html": [
       "<div><style>\n",
       ".dataframe > thead > tr > th,\n",
       ".dataframe > tbody > tr > td {\n",
       "  text-align: right;\n",
       "}\n",
       "</style>\n",
       "<small>shape: (1, 4)</small><table border=\"1\" class=\"dataframe\"><thead><tr><th>age</th><th>city</th><th>is_married</th><th>bmi</th></tr><tr><td>u32</td><td>u32</td><td>u32</td><td>u32</td></tr></thead><tbody><tr><td>0</td><td>0</td><td>0</td><td>39283</td></tr></tbody></table></div>"
      ],
      "text/plain": [
       "shape: (1, 4)\n",
       "┌─────┬──────┬────────────┬───────┐\n",
       "│ age ┆ city ┆ is_married ┆ bmi   │\n",
       "│ --- ┆ ---  ┆ ---        ┆ ---   │\n",
       "│ u32 ┆ u32  ┆ u32        ┆ u32   │\n",
       "╞═════╪══════╪════════════╪═══════╡\n",
       "│ 0   ┆ 0    ┆ 0          ┆ 39283 │\n",
       "└─────┴──────┴────────────┴───────┘"
      ]
     },
     "execution_count": 9,
     "metadata": {},
     "output_type": "execute_result"
    }
   ],
   "source": [
    "# Counting missing values\n",
    "df.null_count()"
   ]
  },
  {
   "cell_type": "code",
   "execution_count": 10,
   "metadata": {},
   "outputs": [
    {
     "data": {
      "text/html": [
       "<div><style>\n",
       ".dataframe > thead > tr > th,\n",
       ".dataframe > tbody > tr > td {\n",
       "  text-align: right;\n",
       "}\n",
       "</style>\n",
       "<small>shape: (1, 4)</small><table border=\"1\" class=\"dataframe\"><thead><tr><th>age</th><th>city</th><th>is_married</th><th>bmi</th></tr><tr><td>u32</td><td>u32</td><td>u32</td><td>u32</td></tr></thead><tbody><tr><td>0</td><td>0</td><td>0</td><td>0</td></tr></tbody></table></div>"
      ],
      "text/plain": [
       "shape: (1, 4)\n",
       "┌─────┬──────┬────────────┬─────┐\n",
       "│ age ┆ city ┆ is_married ┆ bmi │\n",
       "│ --- ┆ ---  ┆ ---        ┆ --- │\n",
       "│ u32 ┆ u32  ┆ u32        ┆ u32 │\n",
       "╞═════╪══════╪════════════╪═════╡\n",
       "│ 0   ┆ 0    ┆ 0          ┆ 0   │\n",
       "└─────┴──────┴────────────┴─────┘"
      ]
     },
     "execution_count": 10,
     "metadata": {},
     "output_type": "execute_result"
    }
   ],
   "source": [
    "# Imputing missing values with the median of the column 'bmi'\n",
    "df = df.with_columns(pl.col(\"bmi\").fill_null(pl.median(\"bmi\")))\n",
    "\n",
    "# Counting missing values again\n",
    "df.null_count()"
   ]
  },
  {
   "cell_type": "markdown",
   "metadata": {},
   "source": [
    "## Type Casting"
   ]
  },
  {
   "cell_type": "code",
   "execution_count": 11,
   "metadata": {},
   "outputs": [
    {
     "data": {
      "text/html": [
       "<div><style>\n",
       ".dataframe > thead > tr > th,\n",
       ".dataframe > tbody > tr > td {\n",
       "  text-align: right;\n",
       "}\n",
       "</style>\n",
       "<small>shape: (5, 1)</small><table border=\"1\" class=\"dataframe\"><thead><tr><th>bmi</th></tr><tr><td>i32</td></tr></thead><tbody><tr><td>17</td></tr><tr><td>25</td></tr><tr><td>18</td></tr><tr><td>17</td></tr><tr><td>21</td></tr></tbody></table></div>"
      ],
      "text/plain": [
       "shape: (5, 1)\n",
       "┌─────┐\n",
       "│ bmi │\n",
       "│ --- │\n",
       "│ i32 │\n",
       "╞═════╡\n",
       "│ 17  │\n",
       "│ 25  │\n",
       "│ 18  │\n",
       "│ 17  │\n",
       "│ 21  │\n",
       "└─────┘"
      ]
     },
     "execution_count": 11,
     "metadata": {},
     "output_type": "execute_result"
    }
   ],
   "source": [
    "# Casting 'bmi' to integer (show only).\n",
    "df.select(pl.col(\"bmi\").cast(pl.Int32)).head()"
   ]
  },
  {
   "cell_type": "code",
   "execution_count": 12,
   "metadata": {},
   "outputs": [
    {
     "data": {
      "text/html": [
       "<div><style>\n",
       ".dataframe > thead > tr > th,\n",
       ".dataframe > tbody > tr > td {\n",
       "  text-align: right;\n",
       "}\n",
       "</style>\n",
       "<small>shape: (5, 1)</small><table border=\"1\" class=\"dataframe\"><thead><tr><th>bmi</th></tr><tr><td>f64</td></tr></thead><tbody><tr><td>17.62</td></tr><tr><td>25.62</td></tr><tr><td>18.25</td></tr><tr><td>17.73</td></tr><tr><td>21.42</td></tr></tbody></table></div>"
      ],
      "text/plain": [
       "shape: (5, 1)\n",
       "┌───────┐\n",
       "│ bmi   │\n",
       "│ ---   │\n",
       "│ f64   │\n",
       "╞═══════╡\n",
       "│ 17.62 │\n",
       "│ 25.62 │\n",
       "│ 18.25 │\n",
       "│ 17.73 │\n",
       "│ 21.42 │\n",
       "└───────┘"
      ]
     },
     "execution_count": 12,
     "metadata": {},
     "output_type": "execute_result"
    }
   ],
   "source": [
    "# Original 'bmi'\n",
    "df.select(pl.col(\"bmi\")).head()"
   ]
  },
  {
   "cell_type": "markdown",
   "metadata": {},
   "source": [
    "## Creating New Columns"
   ]
  },
  {
   "cell_type": "code",
   "execution_count": 13,
   "metadata": {},
   "outputs": [
    {
     "data": {
      "text/html": [
       "<div><style>\n",
       ".dataframe > thead > tr > th,\n",
       ".dataframe > tbody > tr > td {\n",
       "  text-align: right;\n",
       "}\n",
       "</style>\n",
       "<small>shape: (5, 5)</small><table border=\"1\" class=\"dataframe\"><thead><tr><th>age</th><th>city</th><th>is_married</th><th>bmi</th><th>age_in_months</th></tr><tr><td>i64</td><td>str</td><td>bool</td><td>f64</td><td>i64</td></tr></thead><tbody><tr><td>34</td><td>&quot;New York&quot;</td><td>false</td><td>17.62</td><td>408</td></tr><tr><td>48</td><td>&quot;Tokyo&quot;</td><td>true</td><td>25.62</td><td>576</td></tr><tr><td>48</td><td>&quot;Tokyo&quot;</td><td>false</td><td>18.25</td><td>576</td></tr><tr><td>43</td><td>&quot;London&quot;</td><td>true</td><td>17.73</td><td>516</td></tr><tr><td>56</td><td>&quot;Berlin&quot;</td><td>false</td><td>21.42</td><td>672</td></tr></tbody></table></div>"
      ],
      "text/plain": [
       "shape: (5, 5)\n",
       "┌─────┬──────────┬────────────┬───────┬───────────────┐\n",
       "│ age ┆ city     ┆ is_married ┆ bmi   ┆ age_in_months │\n",
       "│ --- ┆ ---      ┆ ---        ┆ ---   ┆ ---           │\n",
       "│ i64 ┆ str      ┆ bool       ┆ f64   ┆ i64           │\n",
       "╞═════╪══════════╪════════════╪═══════╪═══════════════╡\n",
       "│ 34  ┆ New York ┆ false      ┆ 17.62 ┆ 408           │\n",
       "│ 48  ┆ Tokyo    ┆ true       ┆ 25.62 ┆ 576           │\n",
       "│ 48  ┆ Tokyo    ┆ false      ┆ 18.25 ┆ 576           │\n",
       "│ 43  ┆ London   ┆ true       ┆ 17.73 ┆ 516           │\n",
       "│ 56  ┆ Berlin   ┆ false      ┆ 21.42 ┆ 672           │\n",
       "└─────┴──────────┴────────────┴───────┴───────────────┘"
      ]
     },
     "execution_count": 13,
     "metadata": {},
     "output_type": "execute_result"
    }
   ],
   "source": [
    "# Create a new column 'age_in_months' (show only)\n",
    "df.with_columns((pl.col(\"age\") * 12).alias(\"age_in_months\")).head()"
   ]
  },
  {
   "cell_type": "markdown",
   "metadata": {},
   "source": [
    "## Removing Duplicates"
   ]
  },
  {
   "cell_type": "code",
   "execution_count": 14,
   "metadata": {},
   "outputs": [],
   "source": [
    "# Save only unique values in the dataset\n",
    "df = df.unique()"
   ]
  },
  {
   "cell_type": "markdown",
   "metadata": {},
   "source": [
    "# Data Visualization"
   ]
  },
  {
   "cell_type": "code",
   "execution_count": 15,
   "metadata": {},
   "outputs": [],
   "source": [
    "# Sample 1000 rows from the dataset\n",
    "sample_df = df.sample(1000)"
   ]
  },
  {
   "cell_type": "markdown",
   "metadata": {},
   "source": [
    "## Histogram"
   ]
  },
  {
   "cell_type": "code",
   "execution_count": 53,
   "metadata": {},
   "outputs": [
    {
     "data": {
      "image/png": "[encoded data removed]",
      "text/plain": [
       "<Figure size 600x400 with 1 Axes>"
      ]
     },
     "metadata": {},
     "output_type": "display_data"
    }
   ],
   "source": [
    "# Create a figure\n",
    "plt.figure(figsize=(6, 4), layout=\"tight\")\n",
    "\n",
    "# Plot\n",
    "plt.hist(sample_df[\"age\"], bins=15, rwidth=0.9, color=\"dimgray\")\n",
    "\n",
    "# Add a title and axis labels\n",
    "plt.title(\"Histogram of Ages\")\n",
    "plt.xlabel(\"Age\")\n",
    "plt.ylabel(\"Frequency\")\n",
    "\n",
    "# Save the plot\n",
    "plt.savefig(\"histogram.png\", dpi=100)\n",
    "\n",
    "# Show the plot\n",
    "plt.show()"
   ]
  },
  {
   "cell_type": "markdown",
   "metadata": {},
   "source": [
    "## Box Plot"
   ]
  },
  {
   "cell_type": "code",
   "execution_count": 104,
   "metadata": {},
   "outputs": [
    {
     "data": {
      "image/png": "[encoded data removed]",
      "text/plain": [
       "<Figure size 500x200 with 1 Axes>"
      ]
     },
     "metadata": {},
     "output_type": "display_data"
    }
   ],
   "source": [
    "# Data\n",
    "married = sample_df.filter(pl.col(\"is_married\") == True)\n",
    "not_married = sample_df.filter(pl.col(\"is_married\") == False)\n",
    "\n",
    "# Create a figure\n",
    "plt.figure(figsize=(5, 2), layout=\"tight\")\n",
    "\n",
    "# Plot\n",
    "bplot = plt.boxplot(\n",
    "    [married[\"age\"], not_married[\"age\"]],\n",
    "    notch=True,\n",
    "    labels=[\"Married\", \"Not Married\"],\n",
    "    vert=False,\n",
    "    widths=0.5,\n",
    "    patch_artist=True,\n",
    ")\n",
    "\n",
    "bplot[\"boxes\"][0].set_facecolor(\"lightblue\")\n",
    "bplot[\"boxes\"][1].set_facecolor(\"pink\")\n",
    "\n",
    "# Add a title and axis labels\n",
    "plt.title(\"Boxplot of Ages\")\n",
    "plt.xlabel(\"Age\")\n",
    "\n",
    "# Save the plot\n",
    "plt.savefig(\"boxplot.png\", dpi=100)\n",
    "\n",
    "# Show the plot\n",
    "plt.show()"
   ]
  },
  {
   "cell_type": "markdown",
   "metadata": {},
   "source": [
    "## Scatter Plot"
   ]
  },
  {
   "cell_type": "code",
   "execution_count": 22,
   "metadata": {},
   "outputs": [
    {
     "data": {
      "image/png": "[encoded data removed]",
      "text/plain": [
       "<Figure size 640x480 with 1 Axes>"
      ]
     },
     "metadata": {},
     "output_type": "display_data"
    }
   ],
   "source": [
    "plt.scatter(sample_df[\"age\"], sample_df[\"bmi\"], color=\"skyblue\")\n",
    "plt.title(\"Scatter Plot of Age vs Income\")\n",
    "plt.xlabel(\"Age\")\n",
    "plt.ylabel(\"Income\")\n",
    "plt.show()"
   ]
  },
  {
   "cell_type": "markdown",
   "metadata": {},
   "source": [
    "## Bar Chart"
   ]
  },
  {
   "cell_type": "code",
   "execution_count": 23,
   "metadata": {},
   "outputs": [
    {
     "data": {
      "image/png": "[encoded data removed]",
      "text/plain": [
       "<Figure size 640x480 with 1 Axes>"
      ]
     },
     "metadata": {},
     "output_type": "display_data"
    }
   ],
   "source": [
    "plt.bar(sample_df[\"city\"], sample_df[\"bmi\"], color=\"skyblue\")\n",
    "plt.show()"
   ]
  },
  {
   "cell_type": "markdown",
   "metadata": {},
   "source": [
    "# Descriptive Statistics and Insights"
   ]
  },
  {
   "cell_type": "markdown",
   "metadata": {},
   "source": [
    "## Mean, Median, and Standard Deviation"
   ]
  },
  {
   "cell_type": "code",
   "execution_count": 24,
   "metadata": {},
   "outputs": [
    {
     "name": "stdout",
     "output_type": "stream",
     "text": [
      "Average age is 44.01\n",
      "Median age is 44.0\n",
      "Standard deviation of age is 14.14\n"
     ]
    }
   ],
   "source": [
    "# Mean\n",
    "mean_age = df[\"age\"].mean()\n",
    "print(f\"Average age is {mean_age:.2f}\")\n",
    "\n",
    "# Median\n",
    "median_age = df[\"age\"].median()\n",
    "print(f\"Median age is {median_age}\")\n",
    "\n",
    "# Standard deviation\n",
    "std_age = df[\"age\"].std()\n",
    "print(f\"Standard deviation of age is {std_age:.2f}\")"
   ]
  },
  {
   "cell_type": "markdown",
   "metadata": {},
   "source": [
    "## Correlation"
   ]
  },
  {
   "cell_type": "code",
   "execution_count": 25,
   "metadata": {},
   "outputs": [
    {
     "data": {
      "text/html": [
       "<div><style>\n",
       ".dataframe > thead > tr > th,\n",
       ".dataframe > tbody > tr > td {\n",
       "  text-align: right;\n",
       "}\n",
       "</style>\n",
       "<small>shape: (1, 1)</small><table border=\"1\" class=\"dataframe\"><thead><tr><th>correlation</th></tr><tr><td>f64</td></tr></thead><tbody><tr><td>0.000711</td></tr></tbody></table></div>"
      ],
      "text/plain": [
       "shape: (1, 1)\n",
       "┌─────────────┐\n",
       "│ correlation │\n",
       "│ ---         │\n",
       "│ f64         │\n",
       "╞═════════════╡\n",
       "│ 0.000711    │\n",
       "└─────────────┘"
      ]
     },
     "execution_count": 25,
     "metadata": {},
     "output_type": "execute_result"
    }
   ],
   "source": [
    "df.select(pl.corr(\"age\", \"bmi\").alias(\"correlation\"))"
   ]
  },
  {
   "cell_type": "markdown",
   "metadata": {},
   "source": [
    "# Advanced EDA Techniques"
   ]
  },
  {
   "cell_type": "markdown",
   "metadata": {},
   "source": [
    "## Grouping Data"
   ]
  },
  {
   "cell_type": "code",
   "execution_count": 26,
   "metadata": {},
   "outputs": [
    {
     "data": {
      "text/html": [
       "<div><style>\n",
       ".dataframe > thead > tr > th,\n",
       ".dataframe > tbody > tr > td {\n",
       "  text-align: right;\n",
       "}\n",
       "</style>\n",
       "<small>shape: (4, 3)</small><table border=\"1\" class=\"dataframe\"><thead><tr><th>city</th><th>average_age</th><th>median_bmi</th></tr><tr><td>str</td><td>f64</td><td>f64</td></tr></thead><tbody><tr><td>&quot;Tokyo&quot;</td><td>44.01207</td><td>22.0</td></tr><tr><td>&quot;New York&quot;</td><td>44.017753</td><td>22.01</td></tr><tr><td>&quot;London&quot;</td><td>44.001051</td><td>21.99</td></tr><tr><td>&quot;Berlin&quot;</td><td>44.009009</td><td>22.01</td></tr></tbody></table></div>"
      ],
      "text/plain": [
       "shape: (4, 3)\n",
       "┌──────────┬─────────────┬────────────┐\n",
       "│ city     ┆ average_age ┆ median_bmi │\n",
       "│ ---      ┆ ---         ┆ ---        │\n",
       "│ str      ┆ f64         ┆ f64        │\n",
       "╞══════════╪═════════════╪════════════╡\n",
       "│ Tokyo    ┆ 44.01207    ┆ 22.0       │\n",
       "│ New York ┆ 44.017753   ┆ 22.01      │\n",
       "│ London   ┆ 44.001051   ┆ 21.99      │\n",
       "│ Berlin   ┆ 44.009009   ┆ 22.01      │\n",
       "└──────────┴─────────────┴────────────┘"
      ]
     },
     "execution_count": 26,
     "metadata": {},
     "output_type": "execute_result"
    }
   ],
   "source": [
    "df.groupby(\"city\").agg(\n",
    "    [\n",
    "        pl.col(\"age\").mean().alias(\"average_age\"),\n",
    "        pl.col(\"bmi\").median().alias(\"median_bmi\"),\n",
    "    ]\n",
    ")"
   ]
  },
  {
   "cell_type": "markdown",
   "metadata": {},
   "source": [
    "## Apply Custom Functions"
   ]
  },
  {
   "cell_type": "code",
   "execution_count": 27,
   "metadata": {},
   "outputs": [
    {
     "data": {
      "text/html": [
       "<div><style>\n",
       ".dataframe > thead > tr > th,\n",
       ".dataframe > tbody > tr > td {\n",
       "  text-align: right;\n",
       "}\n",
       "</style>\n",
       "<small>shape: (5, 5)</small><table border=\"1\" class=\"dataframe\"><thead><tr><th>age</th><th>city</th><th>is_married</th><th>bmi</th><th>age_group</th></tr><tr><td>i64</td><td>str</td><td>bool</td><td>f64</td><td>str</td></tr></thead><tbody><tr><td>48</td><td>&quot;Berlin&quot;</td><td>false</td><td>17.74</td><td>&quot;Adult&quot;</td></tr><tr><td>59</td><td>&quot;London&quot;</td><td>true</td><td>20.04</td><td>&quot;Adult&quot;</td></tr><tr><td>60</td><td>&quot;London&quot;</td><td>true</td><td>20.96</td><td>&quot;Senior&quot;</td></tr><tr><td>52</td><td>&quot;Berlin&quot;</td><td>false</td><td>21.51</td><td>&quot;Adult&quot;</td></tr><tr><td>22</td><td>&quot;London&quot;</td><td>false</td><td>23.24</td><td>&quot;Young&quot;</td></tr></tbody></table></div>"
      ],
      "text/plain": [
       "shape: (5, 5)\n",
       "┌─────┬────────┬────────────┬───────┬───────────┐\n",
       "│ age ┆ city   ┆ is_married ┆ bmi   ┆ age_group │\n",
       "│ --- ┆ ---    ┆ ---        ┆ ---   ┆ ---       │\n",
       "│ i64 ┆ str    ┆ bool       ┆ f64   ┆ str       │\n",
       "╞═════╪════════╪════════════╪═══════╪═══════════╡\n",
       "│ 48  ┆ Berlin ┆ false      ┆ 17.74 ┆ Adult     │\n",
       "│ 59  ┆ London ┆ true       ┆ 20.04 ┆ Adult     │\n",
       "│ 60  ┆ London ┆ true       ┆ 20.96 ┆ Senior    │\n",
       "│ 52  ┆ Berlin ┆ false      ┆ 21.51 ┆ Adult     │\n",
       "│ 22  ┆ London ┆ false      ┆ 23.24 ┆ Young     │\n",
       "└─────┴────────┴────────────┴───────┴───────────┘"
      ]
     },
     "execution_count": 27,
     "metadata": {},
     "output_type": "execute_result"
    }
   ],
   "source": [
    "def age_group(age):\n",
    "    if age < 30:\n",
    "        return \"Young\"\n",
    "    elif age < 60:\n",
    "        return \"Adult\"\n",
    "    else:\n",
    "        return \"Senior\"\n",
    "\n",
    "\n",
    "df.with_columns(pl.col(\"age\").apply(age_group).alias(\"age_group\")).head()"
   ]
  },
  {
   "cell_type": "markdown",
   "metadata": {},
   "source": [
    "## Pivot Tables"
   ]
  },
  {
   "cell_type": "code",
   "execution_count": 28,
   "metadata": {},
   "outputs": [
    {
     "data": {
      "text/html": [
       "<div><style>\n",
       ".dataframe > thead > tr > th,\n",
       ".dataframe > tbody > tr > td {\n",
       "  text-align: right;\n",
       "}\n",
       "</style>\n",
       "<small>shape: (2, 5)</small><table border=\"1\" class=\"dataframe\"><thead><tr><th>is_married</th><th>Berlin</th><th>London</th><th>New York</th><th>Tokyo</th></tr><tr><td>bool</td><td>f64</td><td>f64</td><td>f64</td><td>f64</td></tr></thead><tbody><tr><td>false</td><td>22.003328</td><td>21.99395</td><td>22.009592</td><td>21.997339</td></tr><tr><td>true</td><td>22.004602</td><td>21.996581</td><td>22.004004</td><td>21.995983</td></tr></tbody></table></div>"
      ],
      "text/plain": [
       "shape: (2, 5)\n",
       "┌────────────┬───────────┬───────────┬───────────┬───────────┐\n",
       "│ is_married ┆ Berlin    ┆ London    ┆ New York  ┆ Tokyo     │\n",
       "│ ---        ┆ ---       ┆ ---       ┆ ---       ┆ ---       │\n",
       "│ bool       ┆ f64       ┆ f64       ┆ f64       ┆ f64       │\n",
       "╞════════════╪═══════════╪═══════════╪═══════════╪═══════════╡\n",
       "│ false      ┆ 22.003328 ┆ 21.99395  ┆ 22.009592 ┆ 21.997339 │\n",
       "│ true       ┆ 22.004602 ┆ 21.996581 ┆ 22.004004 ┆ 21.995983 │\n",
       "└────────────┴───────────┴───────────┴───────────┴───────────┘"
      ]
     },
     "execution_count": 28,
     "metadata": {},
     "output_type": "execute_result"
    }
   ],
   "source": [
    "# Average 'bmi', by 'is_married' and 'city'\n",
    "df.pivot(\n",
    "    index=\"is_married\",\n",
    "    columns=\"city\",\n",
    "    values=\"bmi\",\n",
    "    aggregate_function=\"mean\",\n",
    ")"
   ]
  }
 ],
 "metadata": {
  "kernelspec": {
   "display_name": ".venv",
   "language": "python",
   "name": "python3"
  },
  "language_info": {
   "codemirror_mode": {
    "name": "ipython",
    "version": 3
   },
   "file_extension": ".py",
   "mimetype": "text/x-python",
   "name": "python",
   "nbconvert_exporter": "python",
   "pygments_lexer": "ipython3",
   "version": "3.11.2"
  },
  "orig_nbformat": 4
 },
 "nbformat": 4,
 "nbformat_minor": 2
}
