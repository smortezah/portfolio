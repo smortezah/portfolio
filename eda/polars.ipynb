{
 "cells": [
  {
   "cell_type": "markdown",
   "metadata": {},
   "source": [
    "Click [here](https://medium.com/@morihosseini/data-mastery-polars-unpacked-c9718261aa15) to access the associated Medium article."
   ]
  },
  {
   "cell_type": "markdown",
   "metadata": {},
   "source": [
    "# Setup"
   ]
  },
  {
   "cell_type": "code",
   "execution_count": 1,
   "metadata": {},
   "outputs": [
    {
     "name": "stdout",
     "output_type": "stream",
     "text": [
      "\u001b[33mDEPRECATION: textract 1.6.5 has a non-standard dependency specifier extract-msg<=0.29.*. pip 23.3 will enforce this behaviour change. A possible replacement is to upgrade to a newer version of textract or contact the author to suggest that they release a version with a conforming dependency specifiers. Discussion can be found at https://github.com/pypa/pip/issues/12063\u001b[0m\u001b[33m\n",
      "\u001b[0m"
     ]
    }
   ],
   "source": [
    "!pip install -q polars matplotlib"
   ]
  },
  {
   "cell_type": "code",
   "execution_count": 2,
   "metadata": {},
   "outputs": [],
   "source": [
    "import random\n",
    "import string\n",
    "\n",
    "import matplotlib.pyplot as plt\n",
    "\n",
    "import polars as pl\n",
    "\n",
    "\n",
    "SEED = 777  # for reproducibility\n",
    "plt.style.use(\"ggplot_classic.mplstyle\")  # a custom plot style"
   ]
  },
  {
   "cell_type": "markdown",
   "metadata": {},
   "source": [
    "# Dataset"
   ]
  },
  {
   "cell_type": "code",
   "execution_count": 3,
   "metadata": {},
   "outputs": [],
   "source": [
    "# Defining the size of our dataset\n",
    "size = 1000000\n",
    "\n",
    "# Setting the seed for reproducibility\n",
    "random.seed(SEED)\n",
    "\n",
    "# Creating a DataFrame\n",
    "age = random.choices(range(20, 40), k=size // 2) + random.choices(\n",
    "    range(40, 71), k=size - size // 2\n",
    ")\n",
    "city = random.choices(\n",
    "    [\"New York\", \"London\", \"Paris\", \"Tokyo\"],\n",
    "    weights=[1.0, 0.9, 0.3, 1.5],\n",
    "    k=size,\n",
    ")\n",
    "is_married = random.choices([True, False], weights=[1.0, 1.5], k=size)\n",
    "bmi = [round(random.uniform(17.0, 27.0), 2) for _ in range(size)]\n",
    "\n",
    "df = pl.DataFrame(\n",
    "    {\"age\": age, \"city\": city, \"is_married\": is_married, \"bmi\": bmi}\n",
    ")"
   ]
  },
  {
   "cell_type": "markdown",
   "metadata": {},
   "source": [
    "## Inspecting the Dataset"
   ]
  },
  {
   "cell_type": "code",
   "execution_count": 4,
   "metadata": {},
   "outputs": [
    {
     "data": {
      "text/plain": [
       "(1000000, 4)"
      ]
     },
     "execution_count": 4,
     "metadata": {},
     "output_type": "execute_result"
    }
   ],
   "source": [
    "df.shape"
   ]
  },
  {
   "cell_type": "code",
   "execution_count": 5,
   "metadata": {},
   "outputs": [
    {
     "data": {
      "text/html": [
       "<div><style>\n",
       ".dataframe > thead > tr > th,\n",
       ".dataframe > tbody > tr > td {\n",
       "  text-align: right;\n",
       "  white-space: pre-wrap;\n",
       "}\n",
       "</style>\n",
       "<small>shape: (5, 4)</small><table border=\"1\" class=\"dataframe\"><thead><tr><th>age</th><th>city</th><th>is_married</th><th>bmi</th></tr><tr><td>i64</td><td>str</td><td>bool</td><td>f64</td></tr></thead><tbody><tr><td>24</td><td>&quot;New York&quot;</td><td>true</td><td>21.84</td></tr><tr><td>28</td><td>&quot;Tokyo&quot;</td><td>false</td><td>24.37</td></tr><tr><td>27</td><td>&quot;Tokyo&quot;</td><td>false</td><td>20.84</td></tr><tr><td>25</td><td>&quot;London&quot;</td><td>true</td><td>24.02</td></tr><tr><td>26</td><td>&quot;Paris&quot;</td><td>true</td><td>25.41</td></tr></tbody></table></div>"
      ],
      "text/plain": [
       "shape: (5, 4)\n",
       "┌─────┬──────────┬────────────┬───────┐\n",
       "│ age ┆ city     ┆ is_married ┆ bmi   │\n",
       "│ --- ┆ ---      ┆ ---        ┆ ---   │\n",
       "│ i64 ┆ str      ┆ bool       ┆ f64   │\n",
       "╞═════╪══════════╪════════════╪═══════╡\n",
       "│ 24  ┆ New York ┆ true       ┆ 21.84 │\n",
       "│ 28  ┆ Tokyo    ┆ false      ┆ 24.37 │\n",
       "│ 27  ┆ Tokyo    ┆ false      ┆ 20.84 │\n",
       "│ 25  ┆ London   ┆ true       ┆ 24.02 │\n",
       "│ 26  ┆ Paris    ┆ true       ┆ 25.41 │\n",
       "└─────┴──────────┴────────────┴───────┘"
      ]
     },
     "execution_count": 5,
     "metadata": {},
     "output_type": "execute_result"
    }
   ],
   "source": [
    "df.head()"
   ]
  },
  {
   "cell_type": "code",
   "execution_count": 6,
   "metadata": {},
   "outputs": [
    {
     "data": {
      "text/html": [
       "<div><style>\n",
       ".dataframe > thead > tr > th,\n",
       ".dataframe > tbody > tr > td {\n",
       "  text-align: right;\n",
       "  white-space: pre-wrap;\n",
       "}\n",
       "</style>\n",
       "<small>shape: (9, 5)</small><table border=\"1\" class=\"dataframe\"><thead><tr><th>describe</th><th>age</th><th>city</th><th>is_married</th><th>bmi</th></tr><tr><td>str</td><td>f64</td><td>str</td><td>f64</td><td>f64</td></tr></thead><tbody><tr><td>&quot;count&quot;</td><td>1e6</td><td>&quot;1000000&quot;</td><td>1e6</td><td>1e6</td></tr><tr><td>&quot;null_count&quot;</td><td>0.0</td><td>&quot;0&quot;</td><td>0.0</td><td>0.0</td></tr><tr><td>&quot;mean&quot;</td><td>42.258076</td><td>null</td><td>0.399538</td><td>21.998547</td></tr><tr><td>&quot;std&quot;</td><td>14.804733</td><td>null</td><td>0.489804</td><td>2.88818</td></tr><tr><td>&quot;min&quot;</td><td>20.0</td><td>&quot;London&quot;</td><td>0.0</td><td>17.0</td></tr><tr><td>&quot;25%&quot;</td><td>30.0</td><td>null</td><td>null</td><td>19.5</td></tr><tr><td>&quot;50%&quot;</td><td>40.0</td><td>null</td><td>null</td><td>22.0</td></tr><tr><td>&quot;75%&quot;</td><td>55.0</td><td>null</td><td>null</td><td>24.5</td></tr><tr><td>&quot;max&quot;</td><td>70.0</td><td>&quot;Tokyo&quot;</td><td>1.0</td><td>27.0</td></tr></tbody></table></div>"
      ],
      "text/plain": [
       "shape: (9, 5)\n",
       "┌────────────┬───────────┬─────────┬────────────┬───────────┐\n",
       "│ describe   ┆ age       ┆ city    ┆ is_married ┆ bmi       │\n",
       "│ ---        ┆ ---       ┆ ---     ┆ ---        ┆ ---       │\n",
       "│ str        ┆ f64       ┆ str     ┆ f64        ┆ f64       │\n",
       "╞════════════╪═══════════╪═════════╪════════════╪═══════════╡\n",
       "│ count      ┆ 1e6       ┆ 1000000 ┆ 1e6        ┆ 1e6       │\n",
       "│ null_count ┆ 0.0       ┆ 0       ┆ 0.0        ┆ 0.0       │\n",
       "│ mean       ┆ 42.258076 ┆ null    ┆ 0.399538   ┆ 21.998547 │\n",
       "│ std        ┆ 14.804733 ┆ null    ┆ 0.489804   ┆ 2.88818   │\n",
       "│ min        ┆ 20.0      ┆ London  ┆ 0.0        ┆ 17.0      │\n",
       "│ 25%        ┆ 30.0      ┆ null    ┆ null       ┆ 19.5      │\n",
       "│ 50%        ┆ 40.0      ┆ null    ┆ null       ┆ 22.0      │\n",
       "│ 75%        ┆ 55.0      ┆ null    ┆ null       ┆ 24.5      │\n",
       "│ max        ┆ 70.0      ┆ Tokyo   ┆ 1.0        ┆ 27.0      │\n",
       "└────────────┴───────────┴─────────┴────────────┴───────────┘"
      ]
     },
     "execution_count": 6,
     "metadata": {},
     "output_type": "execute_result"
    }
   ],
   "source": [
    "df.describe()"
   ]
  },
  {
   "cell_type": "markdown",
   "metadata": {},
   "source": [
    "# Data Cleaning"
   ]
  },
  {
   "cell_type": "markdown",
   "metadata": {},
   "source": [
    "## Missing Values"
   ]
  },
  {
   "cell_type": "code",
   "execution_count": 7,
   "metadata": {},
   "outputs": [],
   "source": [
    "# Create some missing data.\n",
    "# Whenever 'age' is over 68, corresponding 'bmi' becomes 'null'\n",
    "df = df.with_columns(\n",
    "    pl.when(pl.col(\"age\") > 68).then(None).otherwise(pl.col(\"bmi\")).alias(\n",
    "        \"bmi\"\n",
    "    )\n",
    ")"
   ]
  },
  {
   "cell_type": "code",
   "execution_count": 8,
   "metadata": {},
   "outputs": [
    {
     "data": {
      "text/html": [
       "<div><style>\n",
       ".dataframe > thead > tr > th,\n",
       ".dataframe > tbody > tr > td {\n",
       "  text-align: right;\n",
       "  white-space: pre-wrap;\n",
       "}\n",
       "</style>\n",
       "<small>shape: (1, 4)</small><table border=\"1\" class=\"dataframe\"><thead><tr><th>age</th><th>city</th><th>is_married</th><th>bmi</th></tr><tr><td>u32</td><td>u32</td><td>u32</td><td>u32</td></tr></thead><tbody><tr><td>0</td><td>0</td><td>0</td><td>32143</td></tr></tbody></table></div>"
      ],
      "text/plain": [
       "shape: (1, 4)\n",
       "┌─────┬──────┬────────────┬───────┐\n",
       "│ age ┆ city ┆ is_married ┆ bmi   │\n",
       "│ --- ┆ ---  ┆ ---        ┆ ---   │\n",
       "│ u32 ┆ u32  ┆ u32        ┆ u32   │\n",
       "╞═════╪══════╪════════════╪═══════╡\n",
       "│ 0   ┆ 0    ┆ 0          ┆ 32143 │\n",
       "└─────┴──────┴────────────┴───────┘"
      ]
     },
     "execution_count": 8,
     "metadata": {},
     "output_type": "execute_result"
    }
   ],
   "source": [
    "# Counting missing values\n",
    "df.null_count()"
   ]
  },
  {
   "cell_type": "code",
   "execution_count": 9,
   "metadata": {},
   "outputs": [
    {
     "data": {
      "text/html": [
       "<div><style>\n",
       ".dataframe > thead > tr > th,\n",
       ".dataframe > tbody > tr > td {\n",
       "  text-align: right;\n",
       "  white-space: pre-wrap;\n",
       "}\n",
       "</style>\n",
       "<small>shape: (1, 4)</small><table border=\"1\" class=\"dataframe\"><thead><tr><th>age</th><th>city</th><th>is_married</th><th>bmi</th></tr><tr><td>u32</td><td>u32</td><td>u32</td><td>u32</td></tr></thead><tbody><tr><td>0</td><td>0</td><td>0</td><td>0</td></tr></tbody></table></div>"
      ],
      "text/plain": [
       "shape: (1, 4)\n",
       "┌─────┬──────┬────────────┬─────┐\n",
       "│ age ┆ city ┆ is_married ┆ bmi │\n",
       "│ --- ┆ ---  ┆ ---        ┆ --- │\n",
       "│ u32 ┆ u32  ┆ u32        ┆ u32 │\n",
       "╞═════╪══════╪════════════╪═════╡\n",
       "│ 0   ┆ 0    ┆ 0          ┆ 0   │\n",
       "└─────┴──────┴────────────┴─────┘"
      ]
     },
     "execution_count": 9,
     "metadata": {},
     "output_type": "execute_result"
    }
   ],
   "source": [
    "# Imputing missing values with the median of the column 'bmi'\n",
    "df = df.with_columns(pl.col(\"bmi\").fill_null(pl.median(\"bmi\")))\n",
    "\n",
    "# Counting missing values again\n",
    "df.null_count()"
   ]
  },
  {
   "cell_type": "markdown",
   "metadata": {},
   "source": [
    "## Type Casting"
   ]
  },
  {
   "cell_type": "code",
   "execution_count": 10,
   "metadata": {},
   "outputs": [
    {
     "data": {
      "text/html": [
       "<div><style>\n",
       ".dataframe > thead > tr > th,\n",
       ".dataframe > tbody > tr > td {\n",
       "  text-align: right;\n",
       "  white-space: pre-wrap;\n",
       "}\n",
       "</style>\n",
       "<small>shape: (5, 1)</small><table border=\"1\" class=\"dataframe\"><thead><tr><th>bmi</th></tr><tr><td>i32</td></tr></thead><tbody><tr><td>21</td></tr><tr><td>24</td></tr><tr><td>20</td></tr><tr><td>24</td></tr><tr><td>25</td></tr></tbody></table></div>"
      ],
      "text/plain": [
       "shape: (5, 1)\n",
       "┌─────┐\n",
       "│ bmi │\n",
       "│ --- │\n",
       "│ i32 │\n",
       "╞═════╡\n",
       "│ 21  │\n",
       "│ 24  │\n",
       "│ 20  │\n",
       "│ 24  │\n",
       "│ 25  │\n",
       "└─────┘"
      ]
     },
     "execution_count": 10,
     "metadata": {},
     "output_type": "execute_result"
    }
   ],
   "source": [
    "# Casting 'bmi' to integer (show only).\n",
    "df.select(pl.col(\"bmi\").cast(pl.Int32)).head()"
   ]
  },
  {
   "cell_type": "code",
   "execution_count": 11,
   "metadata": {},
   "outputs": [
    {
     "data": {
      "text/html": [
       "<div><style>\n",
       ".dataframe > thead > tr > th,\n",
       ".dataframe > tbody > tr > td {\n",
       "  text-align: right;\n",
       "  white-space: pre-wrap;\n",
       "}\n",
       "</style>\n",
       "<small>shape: (5, 1)</small><table border=\"1\" class=\"dataframe\"><thead><tr><th>bmi</th></tr><tr><td>f64</td></tr></thead><tbody><tr><td>21.84</td></tr><tr><td>24.37</td></tr><tr><td>20.84</td></tr><tr><td>24.02</td></tr><tr><td>25.41</td></tr></tbody></table></div>"
      ],
      "text/plain": [
       "shape: (5, 1)\n",
       "┌───────┐\n",
       "│ bmi   │\n",
       "│ ---   │\n",
       "│ f64   │\n",
       "╞═══════╡\n",
       "│ 21.84 │\n",
       "│ 24.37 │\n",
       "│ 20.84 │\n",
       "│ 24.02 │\n",
       "│ 25.41 │\n",
       "└───────┘"
      ]
     },
     "execution_count": 11,
     "metadata": {},
     "output_type": "execute_result"
    }
   ],
   "source": [
    "# Original 'bmi'\n",
    "df.select(pl.col(\"bmi\")).head()"
   ]
  },
  {
   "cell_type": "markdown",
   "metadata": {},
   "source": [
    "## Creating New Columns"
   ]
  },
  {
   "cell_type": "code",
   "execution_count": 12,
   "metadata": {},
   "outputs": [
    {
     "data": {
      "text/html": [
       "<div><style>\n",
       ".dataframe > thead > tr > th,\n",
       ".dataframe > tbody > tr > td {\n",
       "  text-align: right;\n",
       "  white-space: pre-wrap;\n",
       "}\n",
       "</style>\n",
       "<small>shape: (5, 5)</small><table border=\"1\" class=\"dataframe\"><thead><tr><th>age</th><th>city</th><th>is_married</th><th>bmi</th><th>age_in_months</th></tr><tr><td>i64</td><td>str</td><td>bool</td><td>f64</td><td>i64</td></tr></thead><tbody><tr><td>24</td><td>&quot;New York&quot;</td><td>true</td><td>21.84</td><td>288</td></tr><tr><td>28</td><td>&quot;Tokyo&quot;</td><td>false</td><td>24.37</td><td>336</td></tr><tr><td>27</td><td>&quot;Tokyo&quot;</td><td>false</td><td>20.84</td><td>324</td></tr><tr><td>25</td><td>&quot;London&quot;</td><td>true</td><td>24.02</td><td>300</td></tr><tr><td>26</td><td>&quot;Paris&quot;</td><td>true</td><td>25.41</td><td>312</td></tr></tbody></table></div>"
      ],
      "text/plain": [
       "shape: (5, 5)\n",
       "┌─────┬──────────┬────────────┬───────┬───────────────┐\n",
       "│ age ┆ city     ┆ is_married ┆ bmi   ┆ age_in_months │\n",
       "│ --- ┆ ---      ┆ ---        ┆ ---   ┆ ---           │\n",
       "│ i64 ┆ str      ┆ bool       ┆ f64   ┆ i64           │\n",
       "╞═════╪══════════╪════════════╪═══════╪═══════════════╡\n",
       "│ 24  ┆ New York ┆ true       ┆ 21.84 ┆ 288           │\n",
       "│ 28  ┆ Tokyo    ┆ false      ┆ 24.37 ┆ 336           │\n",
       "│ 27  ┆ Tokyo    ┆ false      ┆ 20.84 ┆ 324           │\n",
       "│ 25  ┆ London   ┆ true       ┆ 24.02 ┆ 300           │\n",
       "│ 26  ┆ Paris    ┆ true       ┆ 25.41 ┆ 312           │\n",
       "└─────┴──────────┴────────────┴───────┴───────────────┘"
      ]
     },
     "execution_count": 12,
     "metadata": {},
     "output_type": "execute_result"
    }
   ],
   "source": [
    "# Create a new column 'age_in_months' (show only)\n",
    "df.with_columns((pl.col(\"age\") * 12).alias(\"age_in_months\")).head()"
   ]
  },
  {
   "cell_type": "markdown",
   "metadata": {},
   "source": [
    "## Removing Duplicates"
   ]
  },
  {
   "cell_type": "code",
   "execution_count": 13,
   "metadata": {},
   "outputs": [],
   "source": [
    "# Save only unique values in the dataset\n",
    "df = df.unique()"
   ]
  },
  {
   "cell_type": "markdown",
   "metadata": {},
   "source": [
    "# Data Visualization"
   ]
  },
  {
   "cell_type": "code",
   "execution_count": 14,
   "metadata": {},
   "outputs": [],
   "source": [
    "# Sample 1000 rows from the dataset\n",
    "sample_df = df.sample(1000, seed=SEED)"
   ]
  },
  {
   "cell_type": "markdown",
   "metadata": {},
   "source": [
    "## Histogram"
   ]
  },
  {
   "cell_type": "code",
   "execution_count": 15,
   "metadata": {},
   "outputs": [
    {
     "data": {
      "image/png": "[encoded data removed]",
      "text/plain": [
       "<Figure size 500x400 with 1 Axes>"
      ]
     },
     "metadata": {},
     "output_type": "display_data"
    }
   ],
   "source": [
    "# Create a figure\n",
    "plt.figure(figsize=(5, 4), layout=\"tight\")\n",
    "\n",
    "# Plot\n",
    "plt.hist(sample_df[\"age\"], bins=15, rwidth=0.9, color=\"dimgray\")\n",
    "\n",
    "# Add a title and axis labels\n",
    "plt.title(\"Histogram of Ages\")\n",
    "plt.xlabel(\"Age\")\n",
    "plt.ylabel(\"Count\")\n",
    "\n",
    "# Save the plot\n",
    "# plt.savefig(\"histogram.png\", dpi=120)\n",
    "\n",
    "# Show the plot\n",
    "plt.show()"
   ]
  },
  {
   "cell_type": "markdown",
   "metadata": {},
   "source": [
    "## Box Plot"
   ]
  },
  {
   "cell_type": "code",
   "execution_count": 16,
   "metadata": {},
   "outputs": [
    {
     "data": {
      "image/png": "[encoded data removed]",
      "text/plain": [
       "<Figure size 500x220 with 1 Axes>"
      ]
     },
     "metadata": {},
     "output_type": "display_data"
    }
   ],
   "source": [
    "# Create a figure\n",
    "plt.figure(figsize=(5, 2.2), layout=\"tight\")\n",
    "\n",
    "# Plot\n",
    "cities_list = sample_df[\"city\"].unique().sort().to_list()\n",
    "\n",
    "bplot = plt.boxplot(\n",
    "    [sample_df.filter(pl.col(\"city\") == ct)[\"bmi\"] for ct in cities_list],\n",
    "    notch=True,\n",
    "    labels=cities_list,\n",
    "    vert=False,\n",
    "    widths=0.5,\n",
    "    patch_artist=True,\n",
    ")\n",
    "\n",
    "for i, color in enumerate(plt.cm.Dark2.colors[: len(cities_list)]):\n",
    "    bplot[\"boxes\"][i].set(facecolor=color, alpha=0.9)\n",
    "    bplot[\"medians\"][i].set(color=\"black\")\n",
    "\n",
    "# Add a title and axis labels\n",
    "plt.title(\"Boxplot of BMIs by City\")\n",
    "plt.xlabel(\"BMI\")\n",
    "\n",
    "# Save the plot\n",
    "# plt.savefig(\"boxplot.png\", dpi=110)\n",
    "\n",
    "# Show the plot\n",
    "plt.show()"
   ]
  },
  {
   "cell_type": "markdown",
   "metadata": {},
   "source": [
    "## Scatter Plot"
   ]
  },
  {
   "cell_type": "code",
   "execution_count": 17,
   "metadata": {},
   "outputs": [
    {
     "data": {
      "image/png": "[encoded data removed]",
      "text/plain": [
       "<Figure size 400x400 with 1 Axes>"
      ]
     },
     "metadata": {},
     "output_type": "display_data"
    }
   ],
   "source": [
    "# Create a figure\n",
    "plt.figure(figsize=(4, 4), layout=\"tight\")\n",
    "\n",
    "# Plot\n",
    "plt.scatter(sample_df[\"age\"][:100], sample_df[\"bmi\"][:100], color=\"deeppink\", s=15)\n",
    "\n",
    "# Add a title and axis labels\n",
    "plt.title(\"Scatter Plot of BMI vs Age\")\n",
    "plt.xlabel(\"Age\")\n",
    "plt.ylabel(\"BMI\")\n",
    "\n",
    "# Save the plot\n",
    "# plt.savefig(\"scatter.png\", dpi=110)\n",
    "\n",
    "# Show the plot\n",
    "plt.show()"
   ]
  },
  {
   "cell_type": "markdown",
   "metadata": {},
   "source": [
    "## Bar Chart"
   ]
  },
  {
   "cell_type": "code",
   "execution_count": 18,
   "metadata": {},
   "outputs": [
    {
     "data": {
      "image/png": "[encoded data removed]",
      "text/plain": [
       "<Figure size 600x400 with 1 Axes>"
      ]
     },
     "metadata": {},
     "output_type": "display_data"
    }
   ],
   "source": [
    "# Create a figure\n",
    "plt.figure(figsize=(6, 4), layout=\"tight\")\n",
    "\n",
    "# Plot\n",
    "grouped_df = (\n",
    "    sample_df.group_by(\"city\")\n",
    "    .agg(\n",
    "        pl.col(\"age\").min().alias(\"min_age\"),\n",
    "        pl.col(\"age\").mean().alias(\"mean_age\"),\n",
    "        pl.col(\"age\").max().alias(\"max_age\"),\n",
    "    )\n",
    "    .sort(\"city\")\n",
    ")\n",
    "\n",
    "cities_list = grouped_df[\"city\"].to_list()\n",
    "\n",
    "bar_width = 0.25\n",
    "_width = [-bar_width, 0, bar_width]\n",
    "_column = [\"min_age\", \"mean_age\", \"max_age\"]\n",
    "_label = [\"Min\", \"Mean\", \"Max\"]\n",
    "\n",
    "for i, (width, column, label) in enumerate(zip(_width, _column, _label)):\n",
    "    plt.bar(\n",
    "        [x + width for x in range(len(cities_list))],\n",
    "        grouped_df[column],\n",
    "        width=bar_width,\n",
    "        label=label,\n",
    "        color=plt.cm.Set2.colors[i],\n",
    "    )\n",
    "\n",
    "# Add a title and axis labels\n",
    "plt.xticks(range(len(cities_list)), cities_list)\n",
    "plt.title(\"Bar Plot of Age by City\")\n",
    "plt.ylabel(\"Age\")\n",
    "plt.legend(loc=\"upper left\")\n",
    "\n",
    "# Save the plot\n",
    "# plt.savefig(\"barplot.png\", dpi=100)\n",
    "\n",
    "# Show the plot\n",
    "plt.show()"
   ]
  },
  {
   "cell_type": "markdown",
   "metadata": {},
   "source": [
    "# Descriptive Statistics and Insights"
   ]
  },
  {
   "cell_type": "markdown",
   "metadata": {},
   "source": [
    "## Mean, Median, and Standard Deviation"
   ]
  },
  {
   "cell_type": "code",
   "execution_count": 19,
   "metadata": {},
   "outputs": [
    {
     "name": "stdout",
     "output_type": "stream",
     "text": [
      "Average age is 43.34\n",
      "Median age is 43.0\n",
      "Standard deviation of age is 14.20\n"
     ]
    }
   ],
   "source": [
    "# Mean\n",
    "mean_age = df[\"age\"].mean()\n",
    "print(f\"Average age is {mean_age:.2f}\")\n",
    "\n",
    "# Median\n",
    "median_age = df[\"age\"].median()\n",
    "print(f\"Median age is {median_age}\")\n",
    "\n",
    "# Standard deviation\n",
    "std_age = df[\"age\"].std()\n",
    "print(f\"Standard deviation of age is {std_age:.2f}\")"
   ]
  },
  {
   "cell_type": "markdown",
   "metadata": {},
   "source": [
    "## Correlation"
   ]
  },
  {
   "cell_type": "code",
   "execution_count": 20,
   "metadata": {},
   "outputs": [
    {
     "data": {
      "text/html": [
       "<div><style>\n",
       ".dataframe > thead > tr > th,\n",
       ".dataframe > tbody > tr > td {\n",
       "  text-align: right;\n",
       "  white-space: pre-wrap;\n",
       "}\n",
       "</style>\n",
       "<small>shape: (1, 1)</small><table border=\"1\" class=\"dataframe\"><thead><tr><th>correlation</th></tr><tr><td>f64</td></tr></thead><tbody><tr><td>0.000631</td></tr></tbody></table></div>"
      ],
      "text/plain": [
       "shape: (1, 1)\n",
       "┌─────────────┐\n",
       "│ correlation │\n",
       "│ ---         │\n",
       "│ f64         │\n",
       "╞═════════════╡\n",
       "│ 0.000631    │\n",
       "└─────────────┘"
      ]
     },
     "execution_count": 20,
     "metadata": {},
     "output_type": "execute_result"
    }
   ],
   "source": [
    "df.select(pl.corr(\"age\", \"bmi\").alias(\"correlation\"))"
   ]
  },
  {
   "cell_type": "markdown",
   "metadata": {},
   "source": [
    "# Advanced EDA Techniques"
   ]
  },
  {
   "cell_type": "markdown",
   "metadata": {},
   "source": [
    "## Grouping Data"
   ]
  },
  {
   "cell_type": "code",
   "execution_count": 21,
   "metadata": {},
   "outputs": [
    {
     "data": {
      "text/html": [
       "<div><style>\n",
       ".dataframe > thead > tr > th,\n",
       ".dataframe > tbody > tr > td {\n",
       "  text-align: right;\n",
       "  white-space: pre-wrap;\n",
       "}\n",
       "</style>\n",
       "<small>shape: (4, 3)</small><table border=\"1\" class=\"dataframe\"><thead><tr><th>city</th><th>average_age</th><th>median_bmi</th></tr><tr><td>str</td><td>f64</td><td>f64</td></tr></thead><tbody><tr><td>&quot;London&quot;</td><td>43.368799</td><td>22.01</td></tr><tr><td>&quot;Paris&quot;</td><td>42.299786</td><td>22.0</td></tr><tr><td>&quot;Tokyo&quot;</td><td>43.775188</td><td>22.0</td></tr><tr><td>&quot;New York&quot;</td><td>43.479802</td><td>22.0</td></tr></tbody></table></div>"
      ],
      "text/plain": [
       "shape: (4, 3)\n",
       "┌──────────┬─────────────┬────────────┐\n",
       "│ city     ┆ average_age ┆ median_bmi │\n",
       "│ ---      ┆ ---         ┆ ---        │\n",
       "│ str      ┆ f64         ┆ f64        │\n",
       "╞══════════╪═════════════╪════════════╡\n",
       "│ London   ┆ 43.368799   ┆ 22.01      │\n",
       "│ Paris    ┆ 42.299786   ┆ 22.0       │\n",
       "│ Tokyo    ┆ 43.775188   ┆ 22.0       │\n",
       "│ New York ┆ 43.479802   ┆ 22.0       │\n",
       "└──────────┴─────────────┴────────────┘"
      ]
     },
     "execution_count": 21,
     "metadata": {},
     "output_type": "execute_result"
    }
   ],
   "source": [
    "df.group_by(\"city\").agg(\n",
    "    [\n",
    "        pl.col(\"age\").mean().alias(\"average_age\"),\n",
    "        pl.col(\"bmi\").median().alias(\"median_bmi\"),\n",
    "    ]\n",
    ")"
   ]
  },
  {
   "cell_type": "markdown",
   "metadata": {},
   "source": [
    "## Apply Custom Functions"
   ]
  },
  {
   "cell_type": "code",
   "execution_count": 22,
   "metadata": {},
   "outputs": [
    {
     "data": {
      "text/html": [
       "<div><style>\n",
       ".dataframe > thead > tr > th,\n",
       ".dataframe > tbody > tr > td {\n",
       "  text-align: right;\n",
       "  white-space: pre-wrap;\n",
       "}\n",
       "</style>\n",
       "<small>shape: (5, 5)</small><table border=\"1\" class=\"dataframe\"><thead><tr><th>age</th><th>city</th><th>is_married</th><th>bmi</th><th>age_group</th></tr><tr><td>i64</td><td>str</td><td>bool</td><td>f64</td><td>str</td></tr></thead><tbody><tr><td>33</td><td>&quot;Tokyo&quot;</td><td>true</td><td>19.55</td><td>&quot;Adult&quot;</td></tr><tr><td>20</td><td>&quot;Tokyo&quot;</td><td>true</td><td>26.15</td><td>&quot;Young&quot;</td></tr><tr><td>30</td><td>&quot;New York&quot;</td><td>false</td><td>22.84</td><td>&quot;Adult&quot;</td></tr><tr><td>30</td><td>&quot;London&quot;</td><td>true</td><td>23.15</td><td>&quot;Adult&quot;</td></tr><tr><td>38</td><td>&quot;Tokyo&quot;</td><td>false</td><td>19.41</td><td>&quot;Adult&quot;</td></tr></tbody></table></div>"
      ],
      "text/plain": [
       "shape: (5, 5)\n",
       "┌─────┬──────────┬────────────┬───────┬───────────┐\n",
       "│ age ┆ city     ┆ is_married ┆ bmi   ┆ age_group │\n",
       "│ --- ┆ ---      ┆ ---        ┆ ---   ┆ ---       │\n",
       "│ i64 ┆ str      ┆ bool       ┆ f64   ┆ str       │\n",
       "╞═════╪══════════╪════════════╪═══════╪═══════════╡\n",
       "│ 33  ┆ Tokyo    ┆ true       ┆ 19.55 ┆ Adult     │\n",
       "│ 20  ┆ Tokyo    ┆ true       ┆ 26.15 ┆ Young     │\n",
       "│ 30  ┆ New York ┆ false      ┆ 22.84 ┆ Adult     │\n",
       "│ 30  ┆ London   ┆ true       ┆ 23.15 ┆ Adult     │\n",
       "│ 38  ┆ Tokyo    ┆ false      ┆ 19.41 ┆ Adult     │\n",
       "└─────┴──────────┴────────────┴───────┴───────────┘"
      ]
     },
     "execution_count": 22,
     "metadata": {},
     "output_type": "execute_result"
    }
   ],
   "source": [
    "def age_group(age):\n",
    "    if age < 30:\n",
    "        return \"Young\"\n",
    "    elif age < 60:\n",
    "        return \"Adult\"\n",
    "    else:\n",
    "        return \"Senior\"\n",
    "\n",
    "\n",
    "df.with_columns(\n",
    "    pl.col(\"age\").map_elements(age_group).alias(\"age_group\")\n",
    ").head()"
   ]
  },
  {
   "cell_type": "markdown",
   "metadata": {},
   "source": [
    "## Pivot Tables"
   ]
  },
  {
   "cell_type": "code",
   "execution_count": 23,
   "metadata": {},
   "outputs": [
    {
     "data": {
      "text/html": [
       "<div><style>\n",
       ".dataframe > thead > tr > th,\n",
       ".dataframe > tbody > tr > td {\n",
       "  text-align: right;\n",
       "  white-space: pre-wrap;\n",
       "}\n",
       "</style>\n",
       "<small>shape: (2, 5)</small><table border=\"1\" class=\"dataframe\"><thead><tr><th>is_married</th><th>Tokyo</th><th>New York</th><th>London</th><th>Paris</th></tr><tr><td>bool</td><td>f64</td><td>f64</td><td>f64</td><td>f64</td></tr></thead><tbody><tr><td>true</td><td>21.999968</td><td>21.992436</td><td>22.003721</td><td>22.019422</td></tr><tr><td>false</td><td>21.999371</td><td>22.002251</td><td>22.001244</td><td>21.985739</td></tr></tbody></table></div>"
      ],
      "text/plain": [
       "shape: (2, 5)\n",
       "┌────────────┬───────────┬───────────┬───────────┬───────────┐\n",
       "│ is_married ┆ Tokyo     ┆ New York  ┆ London    ┆ Paris     │\n",
       "│ ---        ┆ ---       ┆ ---       ┆ ---       ┆ ---       │\n",
       "│ bool       ┆ f64       ┆ f64       ┆ f64       ┆ f64       │\n",
       "╞════════════╪═══════════╪═══════════╪═══════════╪═══════════╡\n",
       "│ true       ┆ 21.999968 ┆ 21.992436 ┆ 22.003721 ┆ 22.019422 │\n",
       "│ false      ┆ 21.999371 ┆ 22.002251 ┆ 22.001244 ┆ 21.985739 │\n",
       "└────────────┴───────────┴───────────┴───────────┴───────────┘"
      ]
     },
     "execution_count": 23,
     "metadata": {},
     "output_type": "execute_result"
    }
   ],
   "source": [
    "# Average 'bmi', by 'is_married' and 'city'\n",
    "df.pivot(\n",
    "    index=\"is_married\",\n",
    "    columns=\"city\",\n",
    "    values=\"bmi\",\n",
    "    aggregate_function=\"mean\",\n",
    ")"
   ]
  }
 ],
 "metadata": {
  "kernelspec": {
   "display_name": ".venv",
   "language": "python",
   "name": "python3"
  },
  "language_info": {
   "codemirror_mode": {
    "name": "ipython",
    "version": 3
   },
   "file_extension": ".py",
   "mimetype": "text/x-python",
   "name": "python",
   "nbconvert_exporter": "python",
   "pygments_lexer": "ipython3",
   "version": "3.11.2"
  },
  "orig_nbformat": 4
 },
 "nbformat": 4,
 "nbformat_minor": 2
}
