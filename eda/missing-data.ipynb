{
 "cells": [
  {
   "cell_type": "markdown",
   "metadata": {},
   "source": [
    "Click [here](https://morihosseini.medium.com/dealing-with-missing-data-like-a-pro-an-adventure-in-python-c37e90ff118f) to access the associated Medium article."
   ]
  },
  {
   "cell_type": "markdown",
   "metadata": {},
   "source": [
    "# Setup"
   ]
  },
  {
   "cell_type": "code",
   "execution_count": 309,
   "metadata": {},
   "outputs": [],
   "source": [
    "!pip install -q pandas scikit-learn matplotlib"
   ]
  },
  {
   "cell_type": "markdown",
   "metadata": {},
   "source": [
    "# Detecting Missing Data"
   ]
  },
  {
   "cell_type": "code",
   "execution_count": 275,
   "metadata": {},
   "outputs": [
    {
     "name": "stdout",
     "output_type": "stream",
     "text": [
      "Original dataset:\n",
      "     A    B     C   D\n",
      "0  1.0  5.0   NaN  12\n",
      "1  2.0  NaN   9.0   8\n",
      "2  NaN  7.0   NaN  14\n",
      "3  4.0  NaN  11.0  15\n"
     ]
    }
   ],
   "source": [
    "import pandas as pd\n",
    "\n",
    "# Load your dataset\n",
    "data = pd.DataFrame(\n",
    "    {\n",
    "        \"A\": [1, 2, None, 4],\n",
    "        \"B\": [5, None, 7, None],\n",
    "        \"C\": [None, 9, None, 11],\n",
    "        \"D\": [12, 8, 14, 15],\n",
    "    }\n",
    ")\n",
    "\n",
    "# Print the dataset\n",
    "print(\"Original dataset:\")\n",
    "print(data)"
   ]
  },
  {
   "cell_type": "code",
   "execution_count": 47,
   "metadata": {},
   "outputs": [
    {
     "name": "stdout",
     "output_type": "stream",
     "text": [
      "\n",
      "Missing values in the entire dataset:\n",
      "A    1\n",
      "B    2\n",
      "C    2\n",
      "D    0\n",
      "dtype: int64\n",
      "\n",
      "Columns with missing values:\n",
      "['A', 'B', 'C']\n"
     ]
    }
   ],
   "source": [
    "# Check for missing values in the entire dataset\n",
    "print(\"\\nMissing values in the entire dataset:\")\n",
    "print(data.isnull().sum())\n",
    "\n",
    "# Identify columns with missing values\n",
    "print(\"\\nColumns with missing values:\")\n",
    "print(data.columns[data.isnull().any()].tolist())"
   ]
  },
  {
   "cell_type": "markdown",
   "metadata": {},
   "source": [
    "# Strategies for Handling Missing Data"
   ]
  },
  {
   "cell_type": "markdown",
   "metadata": {},
   "source": [
    "## Mean Imputation"
   ]
  },
  {
   "cell_type": "code",
   "execution_count": 48,
   "metadata": {},
   "outputs": [
    {
     "name": "stdout",
     "output_type": "stream",
     "text": [
      "\n",
      "Original column A:\n",
      "0    1.0\n",
      "1    2.0\n",
      "2    NaN\n",
      "3    4.0\n",
      "Name: A, dtype: float64\n",
      "\n",
      "Imputed column A:\n",
      "0    1.000000\n",
      "1    2.000000\n",
      "2    2.333333\n",
      "3    4.000000\n",
      "Name: A, dtype: float64\n"
     ]
    }
   ],
   "source": [
    "# Print the original column A\n",
    "print(\"\\nOriginal column A:\")\n",
    "print(data[\"A\"])\n",
    "\n",
    "# Impute missing values with the column A's mean\n",
    "data_imputed = data[\"A\"].fillna(data[\"A\"].mean())\n",
    "\n",
    "# Print the imputed column A\n",
    "print(\"\\nImputed column A:\")\n",
    "print(data_imputed)"
   ]
  },
  {
   "cell_type": "markdown",
   "metadata": {},
   "source": [
    "## Forward and Backward Fill"
   ]
  },
  {
   "cell_type": "code",
   "execution_count": 49,
   "metadata": {},
   "outputs": [
    {
     "name": "stdout",
     "output_type": "stream",
     "text": [
      "\n",
      "Original column B:\n",
      "0    5.0\n",
      "1    NaN\n",
      "2    7.0\n",
      "3    NaN\n",
      "Name: B, dtype: float64\n",
      "\n",
      "Forward-filled column B:\n",
      "0    5.0\n",
      "1    5.0\n",
      "2    7.0\n",
      "3    7.0\n",
      "Name: B, dtype: float64\n",
      "\n",
      "Backward-filled column B:\n",
      "0    5.0\n",
      "1    7.0\n",
      "2    7.0\n",
      "3    NaN\n",
      "Name: B, dtype: float64\n"
     ]
    }
   ],
   "source": [
    "# Print the original column B\n",
    "print(\"\\nOriginal column B:\")\n",
    "print(data[\"B\"])\n",
    "\n",
    "# Forward-fill missing values in column B\n",
    "data_imputed = data[\"B\"].fillna(method=\"ffill\")\n",
    "\n",
    "# Print the forward-filled column B\n",
    "print(\"\\nForward-filled column B:\")\n",
    "print(data_imputed)\n",
    "\n",
    "# Backward-fill missing values\n",
    "data_imputed = data[\"B\"].fillna(method=\"bfill\")\n",
    "\n",
    "# Print the backward-filled column B\n",
    "print(\"\\nBackward-filled column B:\")\n",
    "print(data_imputed)"
   ]
  },
  {
   "cell_type": "markdown",
   "metadata": {},
   "source": [
    "## Predictive Imputation"
   ]
  },
  {
   "cell_type": "code",
   "execution_count": 50,
   "metadata": {},
   "outputs": [
    {
     "name": "stdout",
     "output_type": "stream",
     "text": [
      "Before imputing column C:\n",
      "          A    B     C   D\n",
      "0  1.000000  5.0   NaN  12\n",
      "1  2.000000  6.0   9.0   8\n",
      "2  2.333333  7.0   NaN  14\n",
      "3  4.000000  6.0  11.0  15\n",
      "\n",
      "After imputing column C:\n",
      "          A    B      C   D\n",
      "0  1.000000  5.0   9.92  12\n",
      "1  2.000000  6.0   9.00   8\n",
      "2  2.333333  7.0   9.92  14\n",
      "3  4.000000  6.0  11.00  15\n"
     ]
    }
   ],
   "source": [
    "from sklearn.ensemble import RandomForestRegressor\n",
    "\n",
    "\n",
    "def impute_with_random_forest(df, target_column):\n",
    "    # Split data into two sets: with and without missing values in the\n",
    "    # target column\n",
    "    known = df[df[target_column].notnull()]\n",
    "    unknown = df[df[target_column].isnull()]\n",
    "\n",
    "    # Create the Random Forest model\n",
    "    model = RandomForestRegressor()\n",
    "\n",
    "    # Train the model on known data to predict missing values\n",
    "    X = known.drop(columns=[target_column])\n",
    "    y = known[target_column]\n",
    "    model.fit(X, y)\n",
    "\n",
    "    # Predict missing values\n",
    "    predicted_values = model.predict(unknown.drop(columns=[target_column]))\n",
    "\n",
    "    # Assign predicted values to missing entries\n",
    "    df.loc[df[target_column].isnull(), target_column] = predicted_values\n",
    "\n",
    "\n",
    "# Impute missing values of all columns except C\n",
    "data_imputed = data.copy()\n",
    "data_imputed[[\"A\", \"B\"]] = data_imputed[[\"A\", \"B\"]].fillna(\n",
    "    data_imputed[[\"A\", \"B\"]].mean()\n",
    ")\n",
    "\n",
    "# Print the dataset before imputing column C\n",
    "print(\"Before imputing column C:\")\n",
    "print(data_imputed)\n",
    "\n",
    "# Impute the column C\n",
    "impute_with_random_forest(data_imputed, \"C\")\n",
    "\n",
    "# Print the dataset after imputing column C\n",
    "print(\"\\nAfter imputing column C:\")\n",
    "print(data_imputed)"
   ]
  },
  {
   "cell_type": "markdown",
   "metadata": {},
   "source": [
    "## K-Nearest Neighbors (KNN)"
   ]
  },
  {
   "cell_type": "code",
   "execution_count": 131,
   "metadata": {},
   "outputs": [
    {
     "name": "stdout",
     "output_type": "stream",
     "text": [
      "Before imputation:\n",
      "     A    B     C   D\n",
      "0  1.0  5.0   NaN  12\n",
      "1  2.0  NaN   9.0   8\n",
      "2  NaN  7.0   NaN  14\n",
      "3  4.0  NaN  11.0  15\n",
      "\n",
      "After imputation:\n",
      "     A    B     C     D\n",
      "0  1.0  5.0  10.0  12.0\n",
      "1  2.0  6.0   9.0   8.0\n",
      "2  2.5  7.0  10.0  14.0\n",
      "3  4.0  6.0  11.0  15.0\n"
     ]
    }
   ],
   "source": [
    "from sklearn.impute import KNNImputer\n",
    "\n",
    "# Create KNN imputer\n",
    "knn_imputer = KNNImputer(n_neighbors=2)\n",
    "\n",
    "# Perform imputation on all columns with missing values\n",
    "array_imputed = knn_imputer.fit_transform(data)\n",
    "data_imputed = pd.DataFrame(array_imputed, columns=data.columns)\n",
    "\n",
    "# Print the original dataset\n",
    "print(\"Before imputation:\")\n",
    "print(data)\n",
    "\n",
    "# Print the imputed dataset\n",
    "print(\"\\nAfter imputation:\")\n",
    "print(data_imputed)"
   ]
  },
  {
   "cell_type": "markdown",
   "metadata": {},
   "source": [
    "# Verifying Imputations"
   ]
  },
  {
   "cell_type": "markdown",
   "metadata": {},
   "source": [
    "## Check for Remaining Missing Values"
   ]
  },
  {
   "cell_type": "code",
   "execution_count": 228,
   "metadata": {},
   "outputs": [
    {
     "name": "stdout",
     "output_type": "stream",
     "text": [
      "A    0\n",
      "B    0\n",
      "C    0\n",
      "D    0\n",
      "dtype: int64\n"
     ]
    }
   ],
   "source": [
    "# Verify if any missing values remain\n",
    "print(data_imputed.isnull().sum())"
   ]
  },
  {
   "cell_type": "markdown",
   "metadata": {},
   "source": [
    "## Compare Distributions"
   ]
  },
  {
   "cell_type": "code",
   "execution_count": 241,
   "metadata": {},
   "outputs": [
    {
     "data": {
      "image/png": "[encoded data removed]",
      "text/plain": [
       "<Figure size 400x200 with 1 Axes>"
      ]
     },
     "metadata": {},
     "output_type": "display_data"
    },
    {
     "data": {
      "image/png": "[encoded data removed]",
      "text/plain": [
       "<Figure size 400x200 with 1 Axes>"
      ]
     },
     "metadata": {},
     "output_type": "display_data"
    }
   ],
   "source": [
    "# Visualize the distribution of the original and imputed data\n",
    "data.plot(kind=\"density\", title=\"Original data\", ylim=(0, 1), figsize=(4, 2))\n",
    "\n",
    "data_imputed.plot(\n",
    "    kind=\"density\", title=\"Imputed data\", ylim=(0, 1), figsize=(4, 2)\n",
    ");"
   ]
  },
  {
   "cell_type": "markdown",
   "metadata": {},
   "source": [
    "# Domain-Specific Imputation"
   ]
  },
  {
   "cell_type": "markdown",
   "metadata": {},
   "source": [
    "## Time-Series Imputation"
   ]
  },
  {
   "cell_type": "code",
   "execution_count": 290,
   "metadata": {},
   "outputs": [
    {
     "name": "stdout",
     "output_type": "stream",
     "text": [
      "Before interpolation:\n",
      "     A    B     C   D\n",
      "0  1.0  5.0   NaN  12\n",
      "1  2.0  NaN   9.0   8\n",
      "2  NaN  7.0   NaN  14\n",
      "3  4.0  NaN  11.0  15\n",
      "\n",
      "After interpolation:\n",
      "     A    B     C   D\n",
      "0  1.0  5.0   NaN  12\n",
      "1  2.0  6.0   9.0   8\n",
      "2  3.0  7.0  10.0  14\n",
      "3  4.0  7.0  11.0  15\n"
     ]
    }
   ],
   "source": [
    "# Print the dataset before interpolation\n",
    "print(\"Before interpolation:\")\n",
    "print(data)\n",
    "\n",
    "# Print the dataset after interpolation\n",
    "print(\"\\nAfter interpolation:\")\n",
    "print(data.interpolate())"
   ]
  },
  {
   "cell_type": "markdown",
   "metadata": {},
   "source": [
    "## Categorical Data Imputation"
   ]
  },
  {
   "cell_type": "code",
   "execution_count": 307,
   "metadata": {},
   "outputs": [
    {
     "name": "stdout",
     "output_type": "stream",
     "text": [
      "Before imputation:\n",
      "0       a\n",
      "1       b\n",
      "2    None\n",
      "3       d\n",
      "4       a\n",
      "5       b\n",
      "6    None\n",
      "7       d\n",
      "8       b\n",
      "dtype: object\n",
      "\n",
      "Most frequent category: b\n",
      "\n",
      "After imputation:\n",
      "0    a\n",
      "1    b\n",
      "2    b\n",
      "3    d\n",
      "4    a\n",
      "5    b\n",
      "6    b\n",
      "7    d\n",
      "8    b\n",
      "dtype: object\n"
     ]
    }
   ],
   "source": [
    "# Dataset\n",
    "data_cat = pd.Series([\"a\", \"b\", None, \"d\"] * 2 + [\"b\"])\n",
    "\n",
    "# Print the dataset before imputation\n",
    "print(\"Before imputation:\")\n",
    "print(data_cat)\n",
    "\n",
    "# Find the most frequent category\n",
    "most_frequent = data_cat.mode()[0]\n",
    "print(\"\\nMost frequent category:\", most_frequent)\n",
    "\n",
    "# Replace missing values with the most frequent category\n",
    "data_cat.fillna(most_frequent, inplace=True)\n",
    "\n",
    "# Print the dataset after imputation\n",
    "print(\"\\nAfter imputation:\")\n",
    "print(data_cat)"
   ]
  }
 ],
 "metadata": {
  "kernelspec": {
   "display_name": "Python 3",
   "language": "python",
   "name": "python3"
  },
  "language_info": {
   "codemirror_mode": {
    "name": "ipython",
    "version": 3
   },
   "file_extension": ".py",
   "mimetype": "text/x-python",
   "name": "python",
   "nbconvert_exporter": "python",
   "pygments_lexer": "ipython3",
   "version": "3.11.2"
  },
  "orig_nbformat": 4
 },
 "nbformat": 4,
 "nbformat_minor": 2
}
