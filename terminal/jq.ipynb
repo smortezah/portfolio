{
 "cells": [
  {
   "cell_type": "markdown",
   "metadata": {},
   "source": [
    "Click [here]() to access the associated Medium article."
   ]
  },
  {
   "cell_type": "markdown",
   "metadata": {},
   "source": [
    "# Setup"
   ]
  },
  {
   "cell_type": "code",
   "execution_count": 1,
   "metadata": {},
   "outputs": [],
   "source": [
    "!brew install -q jq"
   ]
  },
  {
   "cell_type": "code",
   "execution_count": 2,
   "metadata": {},
   "outputs": [
    {
     "name": "stdout",
     "output_type": "stream",
     "text": [
      "jq-1.7.1\n"
     ]
    }
   ],
   "source": [
    "!jq --version"
   ]
  },
  {
   "cell_type": "markdown",
   "metadata": {},
   "source": [
    "## Basic Queries\n",
    "\n",
    "### Selecting fields"
   ]
  },
  {
   "cell_type": "code",
   "execution_count": 11,
   "metadata": {},
   "outputs": [
    {
     "name": "stdout",
     "output_type": "stream",
     "text": [
      "\u001b[0;32m\"Alice\"\u001b[0m\n"
     ]
    }
   ],
   "source": [
    "!echo '{\"name\": \"Alice\", \"age\": 30, \"city\": \"Wonderland\"}' | jq '.name'"
   ]
  },
  {
   "cell_type": "markdown",
   "metadata": {},
   "source": [
    "### Filtering data"
   ]
  },
  {
   "cell_type": "code",
   "execution_count": 39,
   "metadata": {},
   "outputs": [
    {
     "name": "stdout",
     "output_type": "stream",
     "text": [
      "\u001b[1;39m{\n",
      "  \u001b[0m\u001b[1;34m\"title\"\u001b[0m\u001b[1;39m: \u001b[0m\u001b[0;32m\"The Hitchhikers Guide to the Galaxy\"\u001b[0m\u001b[1;39m,\n",
      "  \u001b[0m\u001b[1;34m\"author\"\u001b[0m\u001b[1;39m: \u001b[0m\u001b[0;32m\"Douglas Adams\"\u001b[0m\u001b[1;39m,\n",
      "  \u001b[0m\u001b[1;34m\"genre\"\u001b[0m\u001b[1;39m: \u001b[0m\u001b[0;32m\"Science Fiction\"\u001b[0m\u001b[1;39m\n",
      "\u001b[1;39m}\u001b[0m\n"
     ]
    }
   ],
   "source": [
    "!echo '[{\"title\": \"The Hitchhikers Guide to the Galaxy\", \"author\": \"Douglas Adams\", \"genre\": \"Science Fiction\"}, {\"title\": \"Pride and Prejudice\", \"author\": \"Jane Austen\", \"genre\": \"Romance\"}]' | jq '.[] | select(.genre == \"Science Fiction\")'"
   ]
  },
  {
   "cell_type": "markdown",
   "metadata": {},
   "source": [
    "### Renaming keys"
   ]
  },
  {
   "cell_type": "code",
   "execution_count": 40,
   "metadata": {},
   "outputs": [
    {
     "name": "stdout",
     "output_type": "stream",
     "text": [
      "\u001b[1;39m{\n",
      "  \u001b[0m\u001b[1;34m\"name\"\u001b[0m\u001b[1;39m: \u001b[0m\u001b[0;32m\"Alice\"\u001b[0m\u001b[1;39m,\n",
      "  \u001b[0m\u001b[1;34m\"age\"\u001b[0m\u001b[1;39m: \u001b[0m\u001b[0;39m30\u001b[0m\u001b[1;39m,\n",
      "  \u001b[0m\u001b[1;34m\"wonderland_city\"\u001b[0m\u001b[1;39m: \u001b[0m\u001b[0;32m\"Wonderland\"\u001b[0m\u001b[1;39m\n",
      "\u001b[1;39m}\u001b[0m\n"
     ]
    }
   ],
   "source": [
    "!echo '{\"name\": \"Alice\", \"age\": 30, \"city\": \"Wonderland\"}' | jq '. | {name, age, wonderland_city: .city}'"
   ]
  },
  {
   "cell_type": "markdown",
   "metadata": {},
   "source": [
    "### Extracting arrays"
   ]
  },
  {
   "cell_type": "code",
   "execution_count": 42,
   "metadata": {},
   "outputs": [
    {
     "name": "stdout",
     "output_type": "stream",
     "text": [
      "\u001b[0;32m\"banana\"\u001b[0m\n"
     ]
    }
   ],
   "source": [
    "!echo '[\"apple\", \"banana\", \"cherry\"]' | jq '.[1]'"
   ]
  },
  {
   "cell_type": "markdown",
   "metadata": {},
   "source": [
    "## Advanced Techniques\n",
    "\n",
    "### Conditional logic"
   ]
  },
  {
   "cell_type": "code",
   "execution_count": 55,
   "metadata": {},
   "outputs": [
    {
     "name": "stdout",
     "output_type": "stream",
     "text": [
      "\u001b[1;39m[\n",
      "  \u001b[1;39m{\n",
      "    \u001b[0m\u001b[1;34m\"category\"\u001b[0m\u001b[1;39m: \u001b[0m\u001b[0;32m\"Entertainment\"\u001b[0m\u001b[1;39m,\n",
      "    \u001b[0m\u001b[1;34m\"total_amount\"\u001b[0m\u001b[1;39m: \u001b[0m\u001b[0;39m50\u001b[0m\u001b[1;39m\n",
      "  \u001b[1;39m}\u001b[0m\u001b[1;39m,\n",
      "  \u001b[1;39m{\n",
      "    \u001b[0m\u001b[1;34m\"category\"\u001b[0m\u001b[1;39m: \u001b[0m\u001b[0;32m\"Groceries\"\u001b[0m\u001b[1;39m,\n",
      "    \u001b[0m\u001b[1;34m\"total_amount\"\u001b[0m\u001b[1;39m: \u001b[0m\u001b[0;39m120\u001b[0m\u001b[1;39m\n",
      "  \u001b[1;39m}\u001b[0m\u001b[1;39m,\n",
      "  \u001b[1;39m{\n",
      "    \u001b[0m\u001b[1;34m\"category\"\u001b[0m\u001b[1;39m: \u001b[0m\u001b[0;32m\"Travel\"\u001b[0m\u001b[1;39m,\n",
      "    \u001b[0m\u001b[1;34m\"total_amount\"\u001b[0m\u001b[1;39m: \u001b[0m\u001b[0;39m200\u001b[0m\u001b[1;39m\n",
      "  \u001b[1;39m}\u001b[0m\u001b[1;39m\n",
      "\u001b[1;39m]\u001b[0m\n"
     ]
    }
   ],
   "source": [
    "!echo '[{\"id\": 1, \"amount\": 100, \"category\": \"Groceries\"}, {\"id\": 2, \"amount\": 50, \"category\": \"Entertainment\"}, {\"id\": 3, \"amount\": 200, \"category\": \"Travel\"}, {\"id\": 4, \"amount\": 20, \"category\": \"Groceries\"}]' | jq 'group_by(.category) | map({category: .[0].category, total_amount: map(.amount) | add})'"
   ]
  },
  {
   "cell_type": "markdown",
   "metadata": {},
   "source": [
    "### Combining filters"
   ]
  },
  {
   "cell_type": "code",
   "execution_count": 56,
   "metadata": {},
   "outputs": [
    {
     "name": "stdout",
     "output_type": "stream",
     "text": [
      "\u001b[1;39m{\n",
      "  \u001b[0m\u001b[1;34m\"Bob\"\u001b[0m\u001b[1;39m: \u001b[0m\u001b[1;39m{\n",
      "    \u001b[0m\u001b[1;34m\"role\"\u001b[0m\u001b[1;39m: \u001b[0m\u001b[0;32m\"Machine Learning Engineer\"\u001b[0m\u001b[1;39m,\n",
      "    \u001b[0m\u001b[1;34m\"experience\"\u001b[0m\u001b[1;39m: \u001b[0m\u001b[0;39m5\u001b[0m\u001b[1;39m\n",
      "  \u001b[1;39m}\u001b[0m\u001b[1;39m\n",
      "\u001b[1;39m}\u001b[0m\n"
     ]
    }
   ],
   "source": [
    "!echo '{\"Alice\": {\"role\": \"Data Scientist\", \"experience\": 3}, \"Bob\": {\"role\": \"Machine Learning Engineer\", \"experience\": 5}, \"Charlie\": {\"role\": \"Researcher\", \"experience\": 2}}' | jq 'to_entries | map(select(.value.experience > 3)) | from_entries'"
   ]
  },
  {
   "cell_type": "markdown",
   "metadata": {},
   "source": [
    "### Aggregating data"
   ]
  },
  {
   "cell_type": "code",
   "execution_count": 63,
   "metadata": {},
   "outputs": [
    {
     "name": "stdout",
     "output_type": "stream",
     "text": [
      "\u001b[1;39m[\n",
      "  \u001b[1;39m{\n",
      "    \u001b[0m\u001b[1;34m\"product\"\u001b[0m\u001b[1;39m: \u001b[0m\u001b[0;32m\"Widget A\"\u001b[0m\u001b[1;39m,\n",
      "    \u001b[0m\u001b[1;34m\"total_revenue\"\u001b[0m\u001b[1;39m: \u001b[0m\u001b[0;39m220\u001b[0m\u001b[1;39m\n",
      "  \u001b[1;39m}\u001b[0m\u001b[1;39m,\n",
      "  \u001b[1;39m{\n",
      "    \u001b[0m\u001b[1;34m\"product\"\u001b[0m\u001b[1;39m: \u001b[0m\u001b[0;32m\"Widget B\"\u001b[0m\u001b[1;39m,\n",
      "    \u001b[0m\u001b[1;34m\"total_revenue\"\u001b[0m\u001b[1;39m: \u001b[0m\u001b[0;39m150\u001b[0m\u001b[1;39m\n",
      "  \u001b[1;39m}\u001b[0m\u001b[1;39m\n",
      "\u001b[1;39m]\u001b[0m\n"
     ]
    }
   ],
   "source": [
    "!echo '[{\"product\": \"Widget A\", \"revenue\": 100}, {\"product\": \"Widget B\", \"revenue\": 150}, {\"product\": \"Widget A\", \"revenue\": 120}]' | jq 'group_by(.product) | map({product: .[0].product, total_revenue: map(.revenue) | add})'"
   ]
  },
  {
   "cell_type": "markdown",
   "metadata": {},
   "source": [
    "### Custom functions"
   ]
  },
  {
   "cell_type": "code",
   "execution_count": 79,
   "metadata": {},
   "outputs": [
    {
     "name": "stdout",
     "output_type": "stream",
     "text": [
      "\u001b[0;32m\"HELLO, WORLD\"\u001b[0m\n"
     ]
    }
   ],
   "source": [
    "!echo '\"hello, world\"' | jq 'def capitalize: . | ascii_upcase; capitalize'"
   ]
  },
  {
   "cell_type": "markdown",
   "metadata": {},
   "source": [
    "## Practical Examples\n",
    "\n",
    "### Parsing API responses"
   ]
  },
  {
   "cell_type": "code",
   "execution_count": 82,
   "metadata": {},
   "outputs": [
    {
     "name": "stdout",
     "output_type": "stream",
     "text": [
      "Writing file.json\n"
     ]
    }
   ],
   "source": [
    "%%writefile file.json\n",
    "{\n",
    "  \"status\": \"success\",\n",
    "  \"data\": {\n",
    "    \"movies\": [\n",
    "      {\n",
    "        \"title\": \"Inception\",\n",
    "        \"year\": 2010,\n",
    "        \"director\": \"Christopher Nolan\",\n",
    "        \"genres\": [\"Action\", \"Sci-Fi\", \"Thriller\"]\n",
    "      },\n",
    "      {\n",
    "        \"title\": \"The Shawshank Redemption\",\n",
    "        \"year\": 1994,\n",
    "        \"director\": \"Frank Darabont\",\n",
    "        \"genres\": [\"Drama\"]\n",
    "      },\n",
    "      {\n",
    "        \"title\": \"Pulp Fiction\",\n",
    "        \"year\": 1994,\n",
    "        \"director\": \"Quentin Tarantino\",\n",
    "        \"genres\": [\"Crime\", \"Drama\"]\n",
    "      }\n",
    "    ]\n",
    "  }\n",
    "}"
   ]
  },
  {
   "cell_type": "code",
   "execution_count": 83,
   "metadata": {},
   "outputs": [
    {
     "name": "stdout",
     "output_type": "stream",
     "text": [
      "\u001b[0;32m\"Inception\"\u001b[0m\n",
      "\u001b[0;32m\"The Shawshank Redemption\"\u001b[0m\n",
      "\u001b[0;32m\"Pulp Fiction\"\u001b[0m\n"
     ]
    }
   ],
   "source": [
    "!cat file.json | jq '.data.movies[].title'"
   ]
  },
  {
   "cell_type": "markdown",
   "metadata": {},
   "source": [
    "### Cleaning messy data"
   ]
  },
  {
   "cell_type": "code",
   "execution_count": 88,
   "metadata": {},
   "outputs": [
    {
     "name": "stdout",
     "output_type": "stream",
     "text": [
      "\u001b[1;39m[\n",
      "  \u001b[1;39m{\n",
      "    \u001b[0m\u001b[1;34m\"order_id\"\u001b[0m\u001b[1;39m: \u001b[0m\u001b[0;39m123\u001b[0m\u001b[1;39m,\n",
      "    \u001b[0m\u001b[1;34m\"customer\"\u001b[0m\u001b[1;39m: \u001b[0m\u001b[0;32m\"Alice\"\u001b[0m\u001b[1;39m,\n",
      "    \u001b[0m\u001b[1;34m\"total_amount\"\u001b[0m\u001b[1;39m: \u001b[0m\u001b[0;39m100\u001b[0m\u001b[1;39m\n",
      "  \u001b[1;39m}\u001b[0m\u001b[1;39m,\n",
      "  \u001b[1;39m{\n",
      "    \u001b[0m\u001b[1;34m\"customer\"\u001b[0m\u001b[1;39m: \u001b[0m\u001b[0;32m\"Bob\"\u001b[0m\u001b[1;39m,\n",
      "    \u001b[0m\u001b[1;34m\"order_id\"\u001b[0m\u001b[1;39m: \u001b[0m\u001b[0;39m124\u001b[0m\u001b[1;39m,\n",
      "    \u001b[0m\u001b[1;34m\"amount\"\u001b[0m\u001b[1;39m: \u001b[0m\u001b[0;39m150\u001b[0m\u001b[1;39m\n",
      "  \u001b[1;39m}\u001b[0m\u001b[1;39m,\n",
      "  \u001b[1;39m{\n",
      "    \u001b[0m\u001b[1;34m\"order_id\"\u001b[0m\u001b[1;39m: \u001b[0m\u001b[0;39m125\u001b[0m\u001b[1;39m,\n",
      "    \u001b[0m\u001b[1;34m\"customer\"\u001b[0m\u001b[1;39m: \u001b[0m\u001b[0;32m\"Charlie\"\u001b[0m\u001b[1;39m\n",
      "  \u001b[1;39m}\u001b[0m\u001b[1;39m\n",
      "\u001b[1;39m]\u001b[0m\n"
     ]
    }
   ],
   "source": [
    "!echo '[{\"order_id\": 123, \"customer\": \"Alice\", \"total_amount\": 100}, {\"order_id\": 124, \"customer_name\": \"Bob\", \"amount\": 150}, {\"order_id\": 125, \"customer\": \"Charlie\"}]' | jq 'map(if .customer_name then {customer: .customer_name} + del(.customer_name) else . end)'"
   ]
  },
  {
   "cell_type": "markdown",
   "metadata": {},
   "source": [
    "### Creating custom reports"
   ]
  },
  {
   "cell_type": "code",
   "execution_count": 110,
   "metadata": {},
   "outputs": [
    {
     "name": "stdout",
     "output_type": "stream",
     "text": [
      "\u001b[1;39m[\n",
      "  \u001b[1;39m{\n",
      "    \u001b[0m\u001b[1;34m\"page\"\u001b[0m\u001b[1;39m: \u001b[0m\u001b[0;32m\"/about\"\u001b[0m\u001b[1;39m,\n",
      "    \u001b[0m\u001b[1;34m\"total_visits\"\u001b[0m\u001b[1;39m: \u001b[0m\u001b[0;39m1\u001b[0m\u001b[1;39m\n",
      "  \u001b[1;39m}\u001b[0m\u001b[1;39m,\n",
      "  \u001b[1;39m{\n",
      "    \u001b[0m\u001b[1;34m\"page\"\u001b[0m\u001b[1;39m: \u001b[0m\u001b[0;32m\"/home\"\u001b[0m\u001b[1;39m,\n",
      "    \u001b[0m\u001b[1;34m\"total_visits\"\u001b[0m\u001b[1;39m: \u001b[0m\u001b[0;39m1\u001b[0m\u001b[1;39m\n",
      "  \u001b[1;39m}\u001b[0m\u001b[1;39m,\n",
      "  \u001b[1;39m{\n",
      "    \u001b[0m\u001b[1;34m\"page\"\u001b[0m\u001b[1;39m: \u001b[0m\u001b[0;32m\"/products\"\u001b[0m\u001b[1;39m,\n",
      "    \u001b[0m\u001b[1;34m\"total_visits\"\u001b[0m\u001b[1;39m: \u001b[0m\u001b[0;39m2\u001b[0m\u001b[1;39m\n",
      "  \u001b[1;39m}\u001b[0m\u001b[1;39m\n",
      "\u001b[1;39m]\u001b[0m\n"
     ]
    }
   ],
   "source": [
    "!echo '[{\"user_id\": 101, \"timestamp\": \"2024-02-10T14:30:00Z\", \"page\": \"/home\"}, {\"user_id\": 102, \"timestamp\": \"2024-02-10T15:00:00Z\", \"page\": \"/products\"}, {\"user_id\": 103, \"timestamp\": \"2024-02-10T15:15:00Z\", \"page\": \"/products\"}, {\"user_id\": 101, \"timestamp\": \"2024-02-10T15:30:00Z\", \"page\": \"/about\"}]' | jq 'group_by(.page) | map({page: .[0].page, total_visits: length})'"
   ]
  },
  {
   "cell_type": "markdown",
   "metadata": {},
   "source": [
    "## Tips and Tricks\n",
    "\n",
    "### Pipe operators"
   ]
  },
  {
   "cell_type": "code",
   "execution_count": 111,
   "metadata": {},
   "outputs": [
    {
     "name": "stdout",
     "output_type": "stream",
     "text": [
      "\u001b[0;39m2\u001b[0m\n",
      "\u001b[0;39m4\u001b[0m\n",
      "\u001b[0;39m6\u001b[0m\n",
      "\u001b[0;39m8\u001b[0m\n",
      "\u001b[0;39m10\u001b[0m\n"
     ]
    }
   ],
   "source": [
    "!echo '[1, 2, 3, 4, 5]' | jq '.[] | . * 2'"
   ]
  },
  {
   "cell_type": "markdown",
   "metadata": {},
   "source": [
    "### Compact printing"
   ]
  },
  {
   "cell_type": "code",
   "execution_count": 115,
   "metadata": {},
   "outputs": [
    {
     "name": "stdout",
     "output_type": "stream",
     "text": [
      "\u001b[1;39m{\u001b[0m\u001b[1;34m\"name\"\u001b[0m\u001b[1;39m:\u001b[0m\u001b[0;32m\"Alice\"\u001b[0m\u001b[1;39m,\u001b[0m\u001b[1;34m\"age\"\u001b[0m\u001b[1;39m:\u001b[0m\u001b[0;39m30\u001b[0m\u001b[1;39m,\u001b[0m\u001b[1;34m\"city\"\u001b[0m\u001b[1;39m:\u001b[0m\u001b[0;32m\"Wonderland\"\u001b[0m\u001b[1;39m\u001b[1;39m}\u001b[0m\n"
     ]
    }
   ],
   "source": [
    "!echo '{\"name\": \"Alice\", \"age\": 30, \"city\": \"Wonderland\"}' | jq -c"
   ]
  },
  {
   "cell_type": "markdown",
   "metadata": {},
   "source": [
    "### Error handling"
   ]
  },
  {
   "cell_type": "code",
   "execution_count": 116,
   "metadata": {},
   "outputs": [
    {
     "name": "stdout",
     "output_type": "stream",
     "text": [
      "\u001b[0;90mnull\u001b[0m\n"
     ]
    }
   ],
   "source": [
    "!echo '{\"name\": \"Alice\", \"age\": 30}' | jq '.city'"
   ]
  }
 ],
 "metadata": {
  "kernelspec": {
   "display_name": ".venv",
   "language": "python",
   "name": "python3"
  },
  "language_info": {
   "codemirror_mode": {
    "name": "ipython",
    "version": 3
   },
   "file_extension": ".py",
   "mimetype": "text/x-python",
   "name": "python",
   "nbconvert_exporter": "python",
   "pygments_lexer": "ipython3",
   "version": "3.11.2"
  }
 },
 "nbformat": 4,
 "nbformat_minor": 2
}
